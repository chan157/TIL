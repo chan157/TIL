{
 "cells": [
  {
   "cell_type": "code",
   "execution_count": 1,
   "metadata": {},
   "outputs": [],
   "source": [
    "from tensorflow.keras.applications.vgg16 import VGG16, decode_predictions"
   ]
  },
  {
   "cell_type": "code",
   "execution_count": 2,
   "metadata": {},
   "outputs": [
    {
     "name": "stdout",
     "output_type": "stream",
     "text": [
      "WARNING:tensorflow:From C:\\Users\\chan\\AppData\\Roaming\\Python\\Python37\\site-packages\\tensorflow_core\\python\\ops\\resource_variable_ops.py:1630: calling BaseResourceVariable.__init__ (from tensorflow.python.ops.resource_variable_ops) with constraint is deprecated and will be removed in a future version.\n",
      "Instructions for updating:\n",
      "If using Keras pass *_constraint arguments to layers.\n",
      "Downloading data from https://github.com/fchollet/deep-learning-models/releases/download/v0.1/vgg16_weights_tf_dim_ordering_tf_kernels.h5\n",
      "553467904/553467096 [==============================] - 185s 0us/step\n",
      "Model: \"vgg16\"\n",
      "_________________________________________________________________\n",
      "Layer (type)                 Output Shape              Param #   \n",
      "=================================================================\n",
      "input_1 (InputLayer)         [(None, 224, 224, 3)]     0         \n",
      "_________________________________________________________________\n",
      "block1_conv1 (Conv2D)        (None, 224, 224, 64)      1792      \n",
      "_________________________________________________________________\n",
      "block1_conv2 (Conv2D)        (None, 224, 224, 64)      36928     \n",
      "_________________________________________________________________\n",
      "block1_pool (MaxPooling2D)   (None, 112, 112, 64)      0         \n",
      "_________________________________________________________________\n",
      "block2_conv1 (Conv2D)        (None, 112, 112, 128)     73856     \n",
      "_________________________________________________________________\n",
      "block2_conv2 (Conv2D)        (None, 112, 112, 128)     147584    \n",
      "_________________________________________________________________\n",
      "block2_pool (MaxPooling2D)   (None, 56, 56, 128)       0         \n",
      "_________________________________________________________________\n",
      "block3_conv1 (Conv2D)        (None, 56, 56, 256)       295168    \n",
      "_________________________________________________________________\n",
      "block3_conv2 (Conv2D)        (None, 56, 56, 256)       590080    \n",
      "_________________________________________________________________\n",
      "block3_conv3 (Conv2D)        (None, 56, 56, 256)       590080    \n",
      "_________________________________________________________________\n",
      "block3_pool (MaxPooling2D)   (None, 28, 28, 256)       0         \n",
      "_________________________________________________________________\n",
      "block4_conv1 (Conv2D)        (None, 28, 28, 512)       1180160   \n",
      "_________________________________________________________________\n",
      "block4_conv2 (Conv2D)        (None, 28, 28, 512)       2359808   \n",
      "_________________________________________________________________\n",
      "block4_conv3 (Conv2D)        (None, 28, 28, 512)       2359808   \n",
      "_________________________________________________________________\n",
      "block4_pool (MaxPooling2D)   (None, 14, 14, 512)       0         \n",
      "_________________________________________________________________\n",
      "block5_conv1 (Conv2D)        (None, 14, 14, 512)       2359808   \n",
      "_________________________________________________________________\n",
      "block5_conv2 (Conv2D)        (None, 14, 14, 512)       2359808   \n",
      "_________________________________________________________________\n",
      "block5_conv3 (Conv2D)        (None, 14, 14, 512)       2359808   \n",
      "_________________________________________________________________\n",
      "block5_pool (MaxPooling2D)   (None, 7, 7, 512)         0         \n",
      "_________________________________________________________________\n",
      "flatten (Flatten)            (None, 25088)             0         \n",
      "_________________________________________________________________\n",
      "fc1 (Dense)                  (None, 4096)              102764544 \n",
      "_________________________________________________________________\n",
      "fc2 (Dense)                  (None, 4096)              16781312  \n",
      "_________________________________________________________________\n",
      "predictions (Dense)          (None, 1000)              4097000   \n",
      "=================================================================\n",
      "Total params: 138,357,544\n",
      "Trainable params: 138,357,544\n",
      "Non-trainable params: 0\n",
      "_________________________________________________________________\n"
     ]
    }
   ],
   "source": [
    "vgg=VGG16()\n",
    "vgg.summary()"
   ]
  },
  {
   "cell_type": "code",
   "execution_count": 3,
   "metadata": {},
   "outputs": [],
   "source": [
    "import tensorflow as tf\n",
    "from tensorflow import keras"
   ]
  },
  {
   "cell_type": "code",
   "execution_count": 4,
   "metadata": {},
   "outputs": [],
   "source": [
    "import numpy as np\n",
    "import matplotlib.pyplot as plt"
   ]
  },
  {
   "cell_type": "code",
   "execution_count": 6,
   "metadata": {},
   "outputs": [],
   "source": [
    "fm = keras.datasets.fashion_mnist\n",
    "(trnImg, trnLbl), (tstImg, tstLbl) = fm.load_data()"
   ]
  },
  {
   "cell_type": "code",
   "execution_count": 7,
   "metadata": {},
   "outputs": [],
   "source": [
    "classNames = ['T-shirt','Trouser','Pullover','Dress','Coat',\n",
    "             'Sandal','Shirt','Sneaker','Bag','Ankle Boot']"
   ]
  },
  {
   "cell_type": "code",
   "execution_count": 10,
   "metadata": {},
   "outputs": [
    {
     "name": "stdout",
     "output_type": "stream",
     "text": [
      "(60000, 28, 28) (60000,)\n",
      "(10000, 28, 28) (10000,)\n"
     ]
    }
   ],
   "source": [
    "print(trnImg.shape, trnLbl.shape)\n",
    "print(tstImg.shape, tstLbl.shape)"
   ]
  },
  {
   "cell_type": "code",
   "execution_count": 14,
   "metadata": {
    "scrolled": true
   },
   "outputs": [
    {
     "data": {
      "text/plain": [
       "<matplotlib.image.AxesImage at 0x25658a84848>"
      ]
     },
     "execution_count": 14,
     "metadata": {},
     "output_type": "execute_result"
    },
    {
     "data": {
      "image/png": "[encoded data removed]",
      "text/plain": [
       "<Figure size 432x288 with 1 Axes>"
      ]
     },
     "metadata": {
      "needs_background": "light"
     },
     "output_type": "display_data"
    }
   ],
   "source": [
    "plt.figure()\n",
    "plt.imshow(trnImg[10], 'Greys')"
   ]
  },
  {
   "cell_type": "code",
   "execution_count": 16,
   "metadata": {},
   "outputs": [],
   "source": [
    "trnImg = trnImg/255.0\n",
    "tstImg = tstImg/255.0"
   ]
  },
  {
   "cell_type": "code",
   "execution_count": 17,
   "metadata": {},
   "outputs": [
    {
     "data": {
      "image/png": "[encoded data removed]",
      "text/plain": [
       "<Figure size 720x720 with 25 Axes>"
      ]
     },
     "metadata": {
      "needs_background": "light"
     },
     "output_type": "display_data"
    }
   ],
   "source": [
    "plt.figure(figsize=(10,10))\n",
    "for i in range(25):\n",
    "    plt.subplot(5,5,i+1)\n",
    "    plt.imshow(trnImg[i], cmap=plt.cm.binary)\n",
    "    plt.xlabel(classNames[trnLbl[i]])"
   ]
  },
  {
   "cell_type": "code",
   "execution_count": 25,
   "metadata": {},
   "outputs": [],
   "source": [
    "trnImg.shape\n",
    "trnImg = trnImg.reshape(-1,28,28,1)\n",
    "tstImg = tstImg.reshape(-1,28,28,1)"
   ]
  },
  {
   "cell_type": "code",
   "execution_count": 63,
   "metadata": {},
   "outputs": [],
   "source": [
    "from tensorflow.keras import Sequential\n",
    "from tensorflow.keras.layers import *\n",
    "\n",
    "model = Sequential()\n",
    "model.add(Conv2D(64, (3,3), input_shape=(28,28,1), activation='relu'))\n",
    "model.add(MaxPooling2D(pool_size=2))\n",
    "model.add(Dropout(0.3))\n",
    "\n",
    "model.add(Conv2D(128, (3,3),activation='relu'))\n",
    "model.add(MaxPooling2D(pool_size=2))\n",
    "model.add(Dropout(0.3))\n",
    "\n",
    "model.add(Conv2D(256, (2,2),activation='relu'))\n",
    "model.add(MaxPooling2D(pool_size=2))\n",
    "model.add(Dropout(0.3))\n",
    "\n",
    "model.add(Conv2D(512, (2,2),padding='same',activation='relu'))\n",
    "model.add(MaxPooling2D(pool_size=2))\n",
    "model.add(Dropout(0.3))\n",
    "\n",
    "model.add(Flatten())\n",
    "model.add(Dense(1024, activation='relu'))\n",
    "model.add(Dense(10, activation='softmax'))"
   ]
  },
  {
   "cell_type": "code",
   "execution_count": 64,
   "metadata": {},
   "outputs": [
    {
     "name": "stdout",
     "output_type": "stream",
     "text": [
      "Model: \"sequential_22\"\n",
      "_________________________________________________________________\n",
      "Layer (type)                 Output Shape              Param #   \n",
      "=================================================================\n",
      "conv2d_62 (Conv2D)           (None, 26, 26, 64)        640       \n",
      "_________________________________________________________________\n",
      "max_pooling2d_59 (MaxPooling (None, 13, 13, 64)        0         \n",
      "_________________________________________________________________\n",
      "dropout_53 (Dropout)         (None, 13, 13, 64)        0         \n",
      "_________________________________________________________________\n",
      "conv2d_63 (Conv2D)           (None, 11, 11, 128)       73856     \n",
      "_________________________________________________________________\n",
      "max_pooling2d_60 (MaxPooling (None, 5, 5, 128)         0         \n",
      "_________________________________________________________________\n",
      "dropout_54 (Dropout)         (None, 5, 5, 128)         0         \n",
      "_________________________________________________________________\n",
      "conv2d_64 (Conv2D)           (None, 4, 4, 256)         131328    \n",
      "_________________________________________________________________\n",
      "max_pooling2d_61 (MaxPooling (None, 2, 2, 256)         0         \n",
      "_________________________________________________________________\n",
      "dropout_55 (Dropout)         (None, 2, 2, 256)         0         \n",
      "_________________________________________________________________\n",
      "conv2d_65 (Conv2D)           (None, 2, 2, 512)         524800    \n",
      "_________________________________________________________________\n",
      "max_pooling2d_62 (MaxPooling (None, 1, 1, 512)         0         \n",
      "_________________________________________________________________\n",
      "dropout_56 (Dropout)         (None, 1, 1, 512)         0         \n",
      "_________________________________________________________________\n",
      "flatten_10 (Flatten)         (None, 512)               0         \n",
      "_________________________________________________________________\n",
      "dense_11 (Dense)             (None, 1024)              525312    \n",
      "_________________________________________________________________\n",
      "dense_12 (Dense)             (None, 10)                10250     \n",
      "=================================================================\n",
      "Total params: 1,266,186\n",
      "Trainable params: 1,266,186\n",
      "Non-trainable params: 0\n",
      "_________________________________________________________________\n"
     ]
    }
   ],
   "source": [
    "model.summary()"
   ]
  },
  {
   "cell_type": "code",
   "execution_count": 77,
   "metadata": {},
   "outputs": [],
   "source": [
    "#모델 학습 설정\n",
    "model.compile(loss='sparse_categorical_crossentropy',\n",
    "             optimizer='adam',\n",
    "             metrics=['accuracy'])"
   ]
  },
  {
   "cell_type": "code",
   "execution_count": 78,
   "metadata": {},
   "outputs": [],
   "source": [
    "from keras.callbacks import EarlyStopping\n",
    "es=EarlyStopping(monitor='val_loss', patience=20)"
   ]
  },
  {
   "cell_type": "code",
   "execution_count": 79,
   "metadata": {
    "collapsed": true
   },
   "outputs": [
    {
     "name": "stdout",
     "output_type": "stream",
     "text": [
      "Train on 48000 samples, validate on 12000 samples\n",
      "Epoch 1/100\n",
      "48000/48000 [==============================] - 16s 341us/sample - loss: 0.2975 - acc: 0.8895 - val_loss: 0.2777 - val_acc: 0.8978\n",
      "Epoch 2/100\n",
      "48000/48000 [==============================] - 16s 331us/sample - loss: 0.2833 - acc: 0.8954 - val_loss: 0.2695 - val_acc: 0.8982\n",
      "Epoch 3/100\n",
      "48000/48000 [==============================] - 16s 330us/sample - loss: 0.2702 - acc: 0.8988 - val_loss: 0.2535 - val_acc: 0.9062\n",
      "Epoch 4/100\n",
      "48000/48000 [==============================] - 16s 330us/sample - loss: 0.2617 - acc: 0.9024 - val_loss: 0.2579 - val_acc: 0.9046\n",
      "Epoch 5/100\n",
      "48000/48000 [==============================] - 16s 329us/sample - loss: 0.2579 - acc: 0.9024 - val_loss: 0.2421 - val_acc: 0.9112\n",
      "Epoch 6/100\n",
      "48000/48000 [==============================] - 16s 329us/sample - loss: 0.2470 - acc: 0.9074 - val_loss: 0.2458 - val_acc: 0.9058\n",
      "Epoch 7/100\n",
      "48000/48000 [==============================] - 16s 331us/sample - loss: 0.2426 - acc: 0.9088 - val_loss: 0.2679 - val_acc: 0.8972\n",
      "Epoch 8/100\n",
      "48000/48000 [==============================] - 16s 330us/sample - loss: 0.2363 - acc: 0.9105 - val_loss: 0.2482 - val_acc: 0.9105\n",
      "Epoch 9/100\n",
      "48000/48000 [==============================] - 16s 332us/sample - loss: 0.2269 - acc: 0.9137 - val_loss: 0.2413 - val_acc: 0.9103\n",
      "Epoch 10/100\n",
      "48000/48000 [==============================] - 16s 331us/sample - loss: 0.2266 - acc: 0.9144 - val_loss: 0.2357 - val_acc: 0.9133\n",
      "Epoch 11/100\n",
      "48000/48000 [==============================] - 16s 331us/sample - loss: 0.2249 - acc: 0.9159 - val_loss: 0.2276 - val_acc: 0.9172\n",
      "Epoch 12/100\n",
      "48000/48000 [==============================] - 16s 330us/sample - loss: 0.2175 - acc: 0.9182 - val_loss: 0.2372 - val_acc: 0.9141\n",
      "Epoch 13/100\n",
      "48000/48000 [==============================] - 16s 330us/sample - loss: 0.2145 - acc: 0.9197 - val_loss: 0.2304 - val_acc: 0.9172\n",
      "Epoch 14/100\n",
      "48000/48000 [==============================] - 16s 328us/sample - loss: 0.2074 - acc: 0.9224 - val_loss: 0.2308 - val_acc: 0.9127\n",
      "Epoch 15/100\n",
      "48000/48000 [==============================] - 16s 328us/sample - loss: 0.2083 - acc: 0.9222 - val_loss: 0.2302 - val_acc: 0.9178\n",
      "Epoch 16/100\n",
      "48000/48000 [==============================] - 16s 328us/sample - loss: 0.2082 - acc: 0.9220 - val_loss: 0.2249 - val_acc: 0.9194\n",
      "Epoch 17/100\n",
      "48000/48000 [==============================] - 16s 329us/sample - loss: 0.2027 - acc: 0.9228 - val_loss: 0.2311 - val_acc: 0.9170\n",
      "Epoch 18/100\n",
      "48000/48000 [==============================] - 16s 330us/sample - loss: 0.1984 - acc: 0.9257 - val_loss: 0.2350 - val_acc: 0.9163\n",
      "Epoch 19/100\n",
      "48000/48000 [==============================] - 16s 328us/sample - loss: 0.1901 - acc: 0.9268 - val_loss: 0.2205 - val_acc: 0.9212\n",
      "Epoch 20/100\n",
      "48000/48000 [==============================] - 16s 328us/sample - loss: 0.1966 - acc: 0.9256 - val_loss: 0.2435 - val_acc: 0.9156\n",
      "Epoch 21/100\n",
      "48000/48000 [==============================] - 16s 328us/sample - loss: 0.1912 - acc: 0.9273 - val_loss: 0.2227 - val_acc: 0.9193\n",
      "Epoch 22/100\n",
      "48000/48000 [==============================] - 16s 329us/sample - loss: 0.1923 - acc: 0.9267 - val_loss: 0.2200 - val_acc: 0.9210\n",
      "Epoch 23/100\n",
      "48000/48000 [==============================] - 16s 329us/sample - loss: 0.1854 - acc: 0.9294 - val_loss: 0.2232 - val_acc: 0.9210\n",
      "Epoch 24/100\n",
      "48000/48000 [==============================] - 16s 329us/sample - loss: 0.1843 - acc: 0.9295 - val_loss: 0.2192 - val_acc: 0.9214\n",
      "Epoch 25/100\n",
      "48000/48000 [==============================] - 16s 329us/sample - loss: 0.1816 - acc: 0.9304 - val_loss: 0.2245 - val_acc: 0.9226\n",
      "Epoch 26/100\n",
      "48000/48000 [==============================] - 16s 329us/sample - loss: 0.1803 - acc: 0.9311 - val_loss: 0.2222 - val_acc: 0.9222\n",
      "Epoch 27/100\n",
      "48000/48000 [==============================] - 16s 328us/sample - loss: 0.1829 - acc: 0.9311 - val_loss: 0.2363 - val_acc: 0.9177\n",
      "Epoch 28/100\n",
      "48000/48000 [==============================] - 16s 328us/sample - loss: 0.1794 - acc: 0.9304 - val_loss: 0.2236 - val_acc: 0.9233\n",
      "Epoch 29/100\n",
      "48000/48000 [==============================] - 16s 330us/sample - loss: 0.1781 - acc: 0.9323 - val_loss: 0.2161 - val_acc: 0.9223\n",
      "Epoch 30/100\n",
      "48000/48000 [==============================] - 16s 329us/sample - loss: 0.1764 - acc: 0.9323 - val_loss: 0.2276 - val_acc: 0.9202\n",
      "Epoch 31/100\n",
      "48000/48000 [==============================] - 16s 329us/sample - loss: 0.1743 - acc: 0.9342 - val_loss: 0.2287 - val_acc: 0.9216\n",
      "Epoch 32/100\n",
      "48000/48000 [==============================] - 16s 329us/sample - loss: 0.1722 - acc: 0.9346 - val_loss: 0.2177 - val_acc: 0.9230\n",
      "Epoch 33/100\n",
      "48000/48000 [==============================] - 16s 329us/sample - loss: 0.1689 - acc: 0.9350 - val_loss: 0.2233 - val_acc: 0.9229\n",
      "Epoch 34/100\n",
      "48000/48000 [==============================] - 16s 329us/sample - loss: 0.1670 - acc: 0.9356 - val_loss: 0.2201 - val_acc: 0.9237\n",
      "Epoch 35/100\n",
      "48000/48000 [==============================] - 16s 328us/sample - loss: 0.1696 - acc: 0.9346 - val_loss: 0.2188 - val_acc: 0.9256\n",
      "Epoch 36/100\n",
      "48000/48000 [==============================] - 16s 329us/sample - loss: 0.1644 - acc: 0.9386 - val_loss: 0.2208 - val_acc: 0.9254\n",
      "Epoch 37/100\n",
      "48000/48000 [==============================] - 16s 328us/sample - loss: 0.1681 - acc: 0.9356 - val_loss: 0.2245 - val_acc: 0.9212\n",
      "Epoch 38/100\n",
      "48000/48000 [==============================] - 16s 329us/sample - loss: 0.1636 - acc: 0.9381 - val_loss: 0.2279 - val_acc: 0.9214\n",
      "Epoch 39/100\n",
      "48000/48000 [==============================] - 16s 328us/sample - loss: 0.1670 - acc: 0.9360 - val_loss: 0.2239 - val_acc: 0.9221\n",
      "Epoch 40/100\n",
      "48000/48000 [==============================] - 16s 329us/sample - loss: 0.1611 - acc: 0.9378 - val_loss: 0.2302 - val_acc: 0.9228\n",
      "Epoch 41/100\n",
      "48000/48000 [==============================] - 16s 329us/sample - loss: 0.1614 - acc: 0.9384 - val_loss: 0.2173 - val_acc: 0.9238\n",
      "Epoch 42/100\n",
      "48000/48000 [==============================] - 16s 328us/sample - loss: 0.1620 - acc: 0.9375 - val_loss: 0.2174 - val_acc: 0.9237\n",
      "Epoch 43/100\n",
      "48000/48000 [==============================] - 16s 329us/sample - loss: 0.1577 - acc: 0.9387 - val_loss: 0.2283 - val_acc: 0.9239\n",
      "Epoch 44/100\n",
      "48000/48000 [==============================] - 16s 329us/sample - loss: 0.1575 - acc: 0.9402 - val_loss: 0.2319 - val_acc: 0.9237\n",
      "Epoch 45/100\n",
      "48000/48000 [==============================] - 16s 329us/sample - loss: 0.1569 - acc: 0.9408 - val_loss: 0.2295 - val_acc: 0.9202\n",
      "Epoch 46/100\n",
      "48000/48000 [==============================] - 16s 330us/sample - loss: 0.1567 - acc: 0.9404 - val_loss: 0.2397 - val_acc: 0.9173\n",
      "Epoch 47/100\n",
      "48000/48000 [==============================] - 16s 329us/sample - loss: 0.1563 - acc: 0.9403 - val_loss: 0.2277 - val_acc: 0.9219\n",
      "Epoch 48/100\n",
      "48000/48000 [==============================] - 16s 330us/sample - loss: 0.1537 - acc: 0.9410 - val_loss: 0.2279 - val_acc: 0.9207\n",
      "Epoch 49/100\n",
      "48000/48000 [==============================] - 16s 329us/sample - loss: 0.1553 - acc: 0.9410 - val_loss: 0.2397 - val_acc: 0.9222\n"
     ]
    }
   ],
   "source": [
    "history = model.fit(trnImg, trnLbl, validation_split=0.2,\n",
    "                         epochs=100, batch_size=128, callbacks=[es])"
   ]
  },
  {
   "cell_type": "code",
   "execution_count": 81,
   "metadata": {},
   "outputs": [
    {
     "name": "stdout",
     "output_type": "stream",
     "text": [
      "10000/10000 [==============================] - 2s 167us/sample - loss: 0.2570 - acc: 0.9182\n"
     ]
    },
    {
     "data": {
      "text/plain": [
       "[0.25703640514612197, 0.9182]"
      ]
     },
     "execution_count": 81,
     "metadata": {},
     "output_type": "execute_result"
    }
   ],
   "source": [
    "model.evaluate(tstImg, tstLbl)"
   ]
  },
  {
   "cell_type": "markdown",
   "metadata": {},
   "source": [
    "# 다른것"
   ]
  },
  {
   "cell_type": "code",
   "execution_count": 82,
   "metadata": {},
   "outputs": [],
   "source": [
    "from PIL import Image"
   ]
  },
  {
   "cell_type": "code",
   "execution_count": 111,
   "metadata": {},
   "outputs": [
    {
     "data": {
      "image/png": "[encoded data removed]",
      "text/plain": [
       "<PIL.Image.Image image mode=RGB size=224x224 at 0x2567B64E5C8>"
      ]
     },
     "execution_count": 111,
     "metadata": {},
     "output_type": "execute_result"
    }
   ],
   "source": [
    "img = Image.open(r\"Q:\\Python_Data\\dogs-vs-cats\\train\\cat.5259.jpg\").resize((224,224))\n",
    "img"
   ]
  },
  {
   "cell_type": "code",
   "execution_count": 103,
   "metadata": {},
   "outputs": [
    {
     "data": {
      "text/plain": [
       "(224, 224, 3)"
      ]
     },
     "execution_count": 103,
     "metadata": {},
     "output_type": "execute_result"
    }
   ],
   "source": [
    "np.array(img).shape"
   ]
  },
  {
   "cell_type": "code",
   "execution_count": 104,
   "metadata": {},
   "outputs": [
    {
     "data": {
      "text/plain": [
       "array([[2.11313886e-06, 2.41500733e-04, 5.34658056e-06, 2.30212627e-05,\n",
       "        1.32921459e-05, 1.37449533e-04, 4.41735574e-06, 2.04561529e-05,\n",
       "        4.19029857e-05, 4.51321575e-05, 5.50512641e-06, 1.03300147e-06,\n",
       "        1.86739589e-06, 4.38586858e-06, 2.92333971e-05, 1.59182073e-05,\n",
       "        1.51528070e-06, 4.23723104e-04, 1.19440540e-06, 4.98735062e-06,\n",
       "        6.95490553e-06, 7.06573992e-05, 3.94417930e-06, 2.61287350e-05,\n",
       "        2.67513933e-05, 3.72228242e-05, 5.08548750e-04, 2.80892826e-04,\n",
       "        1.24823651e-04, 7.45292637e-04, 2.65191775e-05, 1.17104544e-04,\n",
       "        2.01003844e-04, 5.45816401e-05, 3.78043158e-04, 6.86805070e-05,\n",
       "        1.49908825e-03, 1.94106342e-05, 1.77310035e-03, 2.18406017e-03,\n",
       "        4.77573805e-04, 8.80786218e-04, 3.28612817e-03, 1.59774383e-04,\n",
       "        1.18710985e-03, 7.83821233e-05, 1.09129613e-02, 6.56058721e-04,\n",
       "        5.76723032e-05, 4.02012711e-06, 8.12611688e-06, 1.84485634e-05,\n",
       "        4.09026907e-05, 5.48134267e-06, 2.88245064e-05, 1.02460644e-05,\n",
       "        1.12932339e-05, 3.29294526e-05, 2.73222631e-05, 1.38945179e-05,\n",
       "        4.94388587e-05, 3.63802792e-06, 5.03909951e-06, 2.60135166e-05,\n",
       "        5.85917369e-05, 1.01844953e-05, 6.63086597e-04, 1.20672269e-06,\n",
       "        4.64230943e-05, 1.36873962e-06, 6.34960670e-05, 5.70169796e-05,\n",
       "        1.55840156e-04, 1.86237012e-04, 1.28797445e-04, 2.56047442e-05,\n",
       "        1.67638900e-05, 7.96284658e-05, 7.82041316e-05, 4.96222201e-05,\n",
       "        1.05672429e-04, 6.73914255e-05, 1.29072068e-05, 6.70265363e-05,\n",
       "        8.07730132e-04, 9.70060228e-06, 8.82270888e-06, 4.27452214e-05,\n",
       "        6.67309068e-05, 7.66579542e-05, 6.46396711e-06, 3.74526962e-06,\n",
       "        1.14861768e-06, 7.80024152e-07, 9.68330824e-06, 1.31106719e-06,\n",
       "        1.15853754e-06, 6.90503100e-07, 2.56357026e-07, 1.44810365e-05,\n",
       "        1.15080729e-06, 9.74148620e-08, 1.33471542e-06, 7.74262207e-06,\n",
       "        3.91066314e-05, 5.20134636e-05, 3.39014543e-04, 4.29672327e-05,\n",
       "        3.03801244e-05, 2.49394293e-06, 7.98786641e-04, 3.69004876e-04,\n",
       "        8.55973223e-04, 1.45323356e-05, 1.67756923e-04, 9.45344975e-04,\n",
       "        2.09816244e-06, 5.98683619e-06, 1.18576827e-06, 6.04961360e-06,\n",
       "        2.92453979e-06, 5.07162042e-07, 1.21274127e-06, 2.03469926e-06,\n",
       "        1.91159095e-04, 4.30655236e-05, 3.89171437e-05, 4.24005265e-07,\n",
       "        3.29743870e-07, 3.34366450e-06, 5.99572331e-07, 1.37941888e-05,\n",
       "        4.33586538e-05, 3.89042907e-06, 4.03649619e-06, 3.86521634e-07,\n",
       "        4.71300291e-06, 2.32682396e-06, 2.41377318e-04, 2.33558666e-07,\n",
       "        1.38048802e-06, 1.89977948e-06, 1.27237598e-07, 1.20378127e-06,\n",
       "        4.23661913e-06, 7.42860811e-06, 3.72488576e-05, 9.12045562e-06,\n",
       "        1.46851039e-06, 1.58078929e-05, 1.54244757e-04, 1.19379279e-03,\n",
       "        6.15231911e-05, 1.02308672e-03, 8.25081370e-05, 2.80601507e-05,\n",
       "        1.45235927e-05, 2.10157523e-04, 3.02386179e-04, 4.95630559e-07,\n",
       "        3.11295457e-06, 2.87788976e-06, 3.84992518e-06, 2.57508782e-06,\n",
       "        6.00400563e-06, 1.39844701e-06, 8.22594393e-06, 8.62568584e-07,\n",
       "        5.98286942e-06, 4.12215832e-06, 3.74636988e-06, 1.00754507e-04,\n",
       "        1.45370759e-05, 1.53997535e-04, 5.08727171e-05, 1.01325531e-06,\n",
       "        1.05166182e-05, 2.57252259e-06, 2.55742634e-05, 8.21367576e-06,\n",
       "        4.61013997e-06, 6.59142897e-05, 8.64667618e-06, 2.27466335e-05,\n",
       "        2.84059570e-06, 4.37760973e-05, 3.78612858e-05, 6.17751793e-04,\n",
       "        1.77923284e-04, 1.00382513e-05, 5.05835706e-05, 7.68730115e-06,\n",
       "        8.55893995e-06, 9.09167065e-05, 1.68224960e-06, 1.47662635e-04,\n",
       "        4.06651598e-05, 8.54529480e-06, 2.77016279e-05, 1.33643180e-05,\n",
       "        5.81835002e-06, 3.59563855e-05, 1.89762377e-05, 3.59870231e-04,\n",
       "        1.12629459e-05, 1.32505947e-05, 5.56928285e-07, 3.03710726e-06,\n",
       "        1.73628159e-05, 2.66151488e-07, 1.37278289e-06, 3.11580584e-06,\n",
       "        1.68244624e-05, 1.33908213e-06, 2.43160753e-06, 1.97632762e-05,\n",
       "        7.25610971e-06, 8.79853542e-06, 2.71448607e-06, 2.29101420e-06,\n",
       "        3.22055911e-07, 1.52225098e-07, 6.92687681e-05, 5.28772180e-05,\n",
       "        1.02806353e-05, 2.96787357e-06, 2.78225548e-06, 7.83435371e-06,\n",
       "        3.01371642e-06, 1.67734361e-05, 5.51133553e-06, 7.67950405e-06,\n",
       "        2.94382407e-05, 5.26688291e-06, 2.95821769e-06, 4.64546019e-06,\n",
       "        1.34217689e-05, 3.10647185e-04, 4.05339597e-06, 1.81355506e-06,\n",
       "        7.03231308e-06, 2.23353140e-06, 1.72364562e-05, 2.00563704e-06,\n",
       "        1.15947705e-06, 1.26034458e-04, 1.67586950e-05, 1.85649162e-06,\n",
       "        6.97307929e-04, 4.30096261e-05, 2.14428233e-04, 3.54712043e-04,\n",
       "        1.10490619e-05, 8.31362267e-05, 3.64723564e-05, 3.86044974e-07,\n",
       "        1.16083027e-06, 2.08994788e-05, 2.59362074e-04, 7.06033825e-05,\n",
       "        9.61820206e-06, 4.11489236e-06, 1.74573725e-05, 8.03814964e-06,\n",
       "        1.63638761e-05, 1.45003505e-04, 2.16022963e-05, 3.77606261e-06,\n",
       "        1.65090649e-04, 2.70911369e-05, 4.80611925e-04, 8.93456127e-06,\n",
       "        4.27140476e-05, 1.68604729e-05, 9.55718770e-06, 8.80634559e-07,\n",
       "        1.51166723e-05, 8.73883109e-05, 8.26194009e-04, 3.70490644e-03,\n",
       "        5.79121348e-04, 1.47891296e-02, 2.32012244e-03, 1.48882309e-03,\n",
       "        1.78512209e-03, 2.47947365e-01, 4.11159330e-04, 1.03578204e-02,\n",
       "        3.34799173e-04, 3.05228494e-03, 9.26134671e-05, 3.82379585e-06,\n",
       "        1.06582453e-03, 6.32534920e-06, 5.21961738e-07, 3.85020076e-06,\n",
       "        1.57637682e-04, 4.71453131e-06, 6.74851588e-04, 6.08192699e-04,\n",
       "        7.27055203e-06, 3.59053491e-04, 3.87117279e-06, 1.38908217e-05,\n",
       "        8.39453969e-06, 9.59231102e-07, 2.98467530e-05, 7.60850116e-06,\n",
       "        4.55459449e-05, 4.96848734e-05, 8.63428286e-05, 8.08672412e-05,\n",
       "        6.77633434e-05, 7.68654936e-05, 1.83590182e-05, 6.70156325e-04,\n",
       "        9.99139156e-05, 2.34347288e-04, 6.47332286e-04, 2.19531867e-04,\n",
       "        9.29101370e-05, 2.81205750e-04, 1.32451055e-03, 2.79768901e-05,\n",
       "        1.02378698e-02, 4.91620194e-05, 8.38673033e-04, 1.81186025e-03,\n",
       "        4.77604090e-06, 2.35727020e-05, 8.20965855e-04, 1.22384345e-02,\n",
       "        1.12763268e-03, 3.05941049e-03, 8.44323495e-06, 6.75016735e-03,\n",
       "        1.00888647e-04, 3.49674083e-05, 5.14269086e-05, 5.90689012e-07,\n",
       "        8.51910590e-05, 1.39909862e-05, 2.03423360e-06, 6.34158505e-06,\n",
       "        3.40596284e-06, 2.16768981e-07, 8.22481354e-08, 6.26698551e-08,\n",
       "        2.65142080e-06, 1.15725663e-06, 1.83210104e-05, 1.47460685e-06,\n",
       "        2.26294151e-06, 7.35106551e-06, 1.98734938e-06, 7.00321616e-05,\n",
       "        2.55168706e-01, 1.82698444e-02, 1.15472004e-02, 9.22336802e-03,\n",
       "        1.37011099e-04, 3.82367958e-04, 1.64880141e-04, 2.45171777e-05,\n",
       "        7.69651433e-06, 1.05736890e-05, 3.52161987e-05, 4.47753009e-05,\n",
       "        1.37895458e-05, 2.70550663e-05, 1.24123608e-05, 4.92678628e-05,\n",
       "        9.33993306e-07, 8.89972853e-06, 8.59915235e-06, 2.39889800e-06,\n",
       "        4.15845670e-06, 6.21829604e-05, 1.35185637e-05, 8.51480581e-06,\n",
       "        4.51441229e-05, 3.46352704e-06, 2.07531793e-05, 1.24686689e-03,\n",
       "        8.07922799e-04, 3.77272727e-07, 4.21251627e-07, 3.11638105e-05,\n",
       "        4.15286104e-06, 1.78611226e-05, 3.83637584e-04, 2.76052324e-05,\n",
       "        9.17860325e-06, 2.99814769e-06, 2.05207889e-05, 1.10068777e-05,\n",
       "        1.26248533e-05, 7.60175972e-05, 1.32744799e-06, 2.67085034e-06,\n",
       "        5.54223504e-07, 2.67683134e-07, 1.83916893e-06, 7.90715774e-07,\n",
       "        1.82253632e-06, 3.42151134e-06, 3.18365346e-06, 2.23459764e-07,\n",
       "        2.63667317e-07, 5.19117020e-06, 8.58445617e-07, 2.89937561e-05,\n",
       "        1.80105242e-04, 4.44579172e-07, 1.18349362e-05, 5.79868492e-06,\n",
       "        9.45645206e-06, 4.13692305e-06, 5.36814950e-05, 7.97715911e-04,\n",
       "        2.74185163e-06, 2.84548150e-06, 6.68108783e-07, 4.32320974e-07,\n",
       "        1.39677422e-06, 3.39170214e-07, 4.22945732e-06, 2.42761180e-05,\n",
       "        2.55449504e-06, 5.58073862e-06, 2.12422677e-07, 6.00920233e-04,\n",
       "        6.51986966e-07, 9.74567683e-06, 2.30554745e-01, 2.32525563e-04,\n",
       "        1.77672732e-07, 4.75292836e-07, 6.34555036e-05, 3.93898426e-06,\n",
       "        2.36286087e-05, 1.88032081e-05, 3.40073228e-07, 3.37498030e-04,\n",
       "        5.35574607e-08, 1.19009892e-05, 1.31741108e-05, 5.92294191e-06,\n",
       "        8.30241515e-06, 2.29877699e-08, 1.82425435e-06, 8.64917456e-06,\n",
       "        1.23197865e-03, 6.06888207e-05, 1.59109447e-06, 2.02644478e-05,\n",
       "        7.42730117e-05, 1.94722658e-03, 1.97041163e-06, 2.54751911e-04,\n",
       "        4.45251499e-06, 1.88265531e-05, 1.70733474e-05, 1.71891239e-03,\n",
       "        1.74664001e-05, 2.91308243e-06, 4.65562294e-07, 5.44504132e-07,\n",
       "        1.87512853e-06, 1.48811177e-05, 1.68058358e-03, 2.88855119e-07,\n",
       "        1.02774784e-07, 6.72142369e-06, 6.94717965e-05, 5.23179051e-06,\n",
       "        1.38569555e-06, 1.91499930e-06, 8.73947749e-04, 6.31078638e-06,\n",
       "        1.42274962e-06, 1.02176300e-05, 1.22556776e-06, 3.60308218e-06,\n",
       "        4.28210524e-06, 5.43994929e-07, 1.88363202e-07, 3.59572477e-05,\n",
       "        2.25016374e-05, 3.61210514e-05, 2.27784554e-07, 1.54674876e-06,\n",
       "        3.51134477e-05, 3.45619219e-06, 8.01497026e-06, 2.30928663e-06,\n",
       "        2.35168473e-03, 4.24702330e-06, 4.04521870e-07, 7.15446777e-06,\n",
       "        5.28249984e-07, 7.48744642e-05, 7.46488804e-05, 3.20302388e-05,\n",
       "        2.37506771e-04, 3.71402093e-05, 1.96391775e-05, 1.06684797e-06,\n",
       "        2.74487484e-05, 6.35632546e-07, 1.51988215e-05, 3.88527539e-08,\n",
       "        1.98643988e-06, 3.31195821e-07, 7.33484456e-04, 2.50808334e-05,\n",
       "        4.35589027e-04, 1.56667181e-06, 1.75448042e-06, 9.74471095e-06,\n",
       "        2.82032797e-05, 3.91713365e-06, 2.01933375e-07, 7.99956410e-07,\n",
       "        1.33626031e-06, 6.93758636e-07, 1.01236185e-06, 7.81633844e-06,\n",
       "        3.03624984e-06, 2.40569096e-03, 2.56533112e-05, 8.04567208e-06,\n",
       "        2.63721404e-07, 4.53608081e-05, 7.79269467e-05, 6.45082491e-06,\n",
       "        2.06499158e-06, 2.64107121e-06, 2.95088330e-06, 1.28797314e-04,\n",
       "        8.34039213e-07, 3.70774774e-06, 2.21570517e-05, 2.06331533e-05,\n",
       "        4.19402056e-07, 2.08590372e-05, 6.27116515e-06, 2.21244278e-07,\n",
       "        9.71555437e-06, 1.33485992e-05, 3.68230360e-07, 5.91797925e-06,\n",
       "        6.23123138e-04, 3.89066281e-06, 8.90258452e-05, 1.27725727e-07,\n",
       "        2.36698379e-05, 7.84700569e-06, 3.73522812e-06, 8.34421940e-07,\n",
       "        1.93788674e-06, 4.35551783e-07, 1.53924557e-04, 1.23742557e-05,\n",
       "        3.01576938e-06, 4.87050670e-07, 7.60080979e-07, 3.80516326e-06,\n",
       "        1.91896543e-05, 1.81241751e-06, 2.43605573e-05, 2.12458119e-07,\n",
       "        1.86210906e-04, 5.61259164e-08, 4.27981877e-06, 4.15367651e-08,\n",
       "        1.34271957e-07, 8.10734093e-07, 4.63588949e-05, 1.03513173e-06,\n",
       "        3.93599521e-06, 1.89256156e-07, 7.94416451e-07, 4.75659220e-07,\n",
       "        6.52457893e-05, 3.11634249e-05, 1.69956436e-07, 3.45841290e-05,\n",
       "        2.30922087e-04, 6.25849862e-06, 1.37802645e-05, 3.70614324e-03,\n",
       "        3.57082126e-06, 2.18777277e-05, 1.26133837e-05, 1.15414245e-07,\n",
       "        1.22988185e-05, 1.29151858e-05, 4.89578179e-06, 7.34124342e-06,\n",
       "        1.95976725e-04, 1.15619387e-05, 3.56665369e-05, 7.20745277e-08,\n",
       "        7.51333619e-06, 2.86688701e-05, 7.10813692e-05, 2.50435596e-06,\n",
       "        5.43314032e-03, 4.39688051e-07, 2.50868852e-05, 4.67987047e-05,\n",
       "        1.72006978e-08, 1.09755783e-05, 3.07091723e-05, 2.91476259e-04,\n",
       "        1.11129496e-03, 2.60382858e-05, 1.22188058e-05, 2.28321333e-05,\n",
       "        1.36476356e-05, 3.93565159e-07, 5.66809264e-04, 3.81784739e-05,\n",
       "        1.00511409e-06, 1.81222219e-06, 1.45822938e-03, 1.30824262e-07,\n",
       "        9.09412120e-06, 3.33633689e-05, 3.29175987e-06, 3.50861264e-05,\n",
       "        1.31423121e-05, 1.13791484e-05, 1.53756204e-07, 2.64190226e-06,\n",
       "        2.82199762e-04, 4.09438417e-06, 1.43488578e-05, 9.71393365e-06,\n",
       "        1.37463405e-06, 4.26438964e-06, 5.43423795e-08, 1.44354883e-04,\n",
       "        7.90381891e-05, 2.16107742e-06, 3.38755012e-06, 9.91224260e-06,\n",
       "        2.04399657e-05, 3.89908892e-05, 4.19626713e-06, 1.17374057e-05,\n",
       "        8.79556012e-07, 5.36498119e-05, 8.52039364e-08, 9.19648573e-06,\n",
       "        1.38817302e-06, 2.24223891e-06, 3.96470446e-03, 3.39934813e-05,\n",
       "        1.74447408e-07, 2.84883495e-08, 1.98413954e-06, 5.14897749e-07,\n",
       "        6.82070749e-05, 2.72005906e-07, 7.44465506e-05, 7.14328007e-06,\n",
       "        7.56704821e-07, 2.13930456e-04, 1.34031256e-06, 2.03982722e-07,\n",
       "        2.28139569e-07, 2.63041475e-05, 3.48601141e-04, 1.93258344e-07,\n",
       "        2.35215466e-05, 4.40742260e-05, 4.57725264e-06, 3.32060845e-05,\n",
       "        7.17742427e-04, 1.02302965e-05, 1.48806776e-05, 2.89348236e-06,\n",
       "        2.60762259e-04, 4.57920635e-07, 7.74377349e-06, 4.32898190e-07,\n",
       "        8.66983646e-06, 1.11341169e-05, 1.44616648e-08, 2.19784397e-05,\n",
       "        9.41807084e-05, 7.70716042e-07, 7.33702876e-08, 1.08586701e-05,\n",
       "        7.60955809e-05, 2.65006354e-04, 2.62136922e-07, 1.08722643e-05,\n",
       "        9.17070732e-03, 4.86619319e-05, 1.86779071e-05, 1.35452956e-06,\n",
       "        2.43785234e-05, 1.31041389e-07, 5.30797195e-07, 1.41445514e-06,\n",
       "        1.09771485e-04, 1.58969910e-04, 4.60381088e-05, 1.04515137e-04,\n",
       "        7.84113308e-06, 9.86393297e-06, 1.65750153e-05, 6.04137995e-06,\n",
       "        1.36589180e-04, 1.76997105e-07, 3.97547819e-06, 2.65479903e-04,\n",
       "        5.38952991e-05, 1.12781872e-03, 4.30140972e-05, 1.28705346e-04,\n",
       "        9.76645765e-07, 5.83892805e-04, 1.58347646e-07, 2.34831063e-07,\n",
       "        3.24156531e-03, 4.70687201e-06, 2.90293627e-07, 1.01918886e-05,\n",
       "        2.31181184e-06, 8.88720933e-06, 2.92453819e-07, 6.29723490e-06,\n",
       "        4.91032665e-07, 2.62345020e-05, 1.73753811e-04, 1.79170536e-06,\n",
       "        6.26987912e-06, 1.87022888e-05, 1.20421118e-05, 2.49282863e-07,\n",
       "        3.23732183e-06, 1.77850995e-06, 6.05704327e-06, 3.37256934e-05,\n",
       "        9.40164609e-04, 9.35889781e-04, 9.63470084e-05, 2.76045739e-07,\n",
       "        6.99670750e-07, 8.46204988e-04, 3.89507704e-06, 1.97000782e-06,\n",
       "        8.69728974e-05, 1.96856064e-07, 2.27026499e-06, 1.02934382e-05,\n",
       "        1.02417080e-05, 7.35410897e-04, 5.37503624e-08, 5.72779527e-06,\n",
       "        5.21657739e-07, 4.28441717e-06, 1.58292082e-07, 8.26715026e-04,\n",
       "        3.11437384e-06, 1.09721928e-04, 2.87004950e-04, 1.04226172e-06,\n",
       "        4.89845115e-05, 5.42832888e-04, 4.30611090e-06, 5.01815011e-05,\n",
       "        2.90397338e-06, 4.05204355e-06, 4.94650521e-06, 1.78893856e-07,\n",
       "        5.57488238e-06, 3.26104953e-07, 2.65506998e-04, 4.66568163e-05,\n",
       "        2.05743636e-05, 2.15120417e-05, 2.17355009e-05, 1.47428057e-06,\n",
       "        8.49180310e-07, 1.46429766e-05, 7.43229248e-06, 5.10832524e-06,\n",
       "        6.08010578e-06, 2.59058637e-04, 1.53063249e-03, 2.31166741e-05,\n",
       "        3.20205727e-04, 3.50831368e-04, 1.85645615e-06, 4.38924098e-06,\n",
       "        5.05651371e-07, 7.35183960e-07, 1.18826210e-06, 7.14095086e-06,\n",
       "        3.22144566e-04, 4.25505050e-06, 1.55187007e-02, 4.06822267e-07,\n",
       "        5.58874854e-06, 1.21815974e-05, 1.08341283e-06, 1.96327182e-05,\n",
       "        1.36275285e-05, 9.18500336e-06, 1.03693981e-06, 5.74442784e-05,\n",
       "        1.15001903e-05, 3.53117372e-07, 6.11120413e-05, 1.74652234e-06,\n",
       "        8.85937254e-07, 2.95157434e-07, 8.56387956e-08, 4.37905001e-05,\n",
       "        8.07544857e-05, 1.10303995e-06, 4.06931122e-06, 2.26822408e-06,\n",
       "        2.54593815e-05, 1.69316436e-07, 1.06071741e-06, 3.42645399e-05,\n",
       "        1.49665050e-06, 1.44753960e-06, 7.88796387e-06, 2.07150952e-05,\n",
       "        1.06687753e-06, 3.90337345e-06, 6.99696757e-05, 4.95926542e-07,\n",
       "        1.99760092e-04, 2.50785990e-04, 5.44582581e-05, 4.42081955e-06,\n",
       "        9.97067473e-05, 7.88062825e-05, 1.21725043e-05, 1.19795928e-07,\n",
       "        2.45994420e-06, 9.84919898e-05, 4.66659636e-04, 2.00660535e-04,\n",
       "        5.62261303e-05, 2.56468624e-08, 2.10384701e-06, 8.19301524e-04,\n",
       "        1.00825297e-07, 8.56526003e-06, 3.63594336e-06, 6.95485323e-06,\n",
       "        3.23496550e-07, 6.69365836e-05, 1.54077890e-04, 5.77472883e-06,\n",
       "        5.75652564e-07, 1.48239985e-06, 7.99536508e-08, 1.20715072e-06,\n",
       "        2.62922481e-06, 5.18959632e-06, 7.56615350e-07, 3.40428710e-06,\n",
       "        1.60296338e-06, 9.25558084e-07, 1.07003885e-07, 3.07713776e-07,\n",
       "        1.47165940e-03, 2.75783151e-07, 6.08545690e-07, 2.05258784e-05,\n",
       "        2.32077173e-06, 4.90734863e-07, 3.37336201e-06, 6.05408917e-04,\n",
       "        2.13113890e-06, 5.24300442e-04, 6.28922521e-07, 7.09230881e-06,\n",
       "        1.07668177e-06, 6.75637875e-06, 5.82859911e-07, 4.40948639e-07,\n",
       "        3.23699146e-06, 1.62255034e-04, 2.20520305e-05, 4.63775359e-06,\n",
       "        1.79955605e-04, 2.47803604e-04, 1.98298192e-04, 1.06844782e-04,\n",
       "        4.25183174e-07, 3.89370643e-06, 2.24971773e-05, 6.89141052e-06,\n",
       "        2.32512155e-03, 5.93006589e-05, 8.85699119e-05, 2.34570980e-05,\n",
       "        1.66983637e-06, 5.86508804e-07, 6.24680324e-05, 1.81636962e-04,\n",
       "        1.14749928e-05, 1.03302364e-05, 2.17682646e-06, 7.17323516e-08,\n",
       "        2.31966078e-06, 2.12697250e-06, 5.03593355e-06, 1.42300746e-06,\n",
       "        2.28977342e-06, 4.28756084e-06, 4.78350231e-08, 1.21747053e-06,\n",
       "        5.10775999e-06, 2.34886716e-06, 1.00331597e-07, 1.24473354e-06,\n",
       "        8.33230006e-05, 2.91439705e-04, 2.97715724e-06, 1.63087475e-06,\n",
       "        1.26971900e-05, 2.22634441e-07, 9.94223501e-06, 6.39798191e-06,\n",
       "        1.51459653e-05, 1.79902170e-04, 1.53304209e-05, 1.57741451e-05,\n",
       "        6.62937964e-07, 7.54387599e-07, 5.65294476e-06, 4.99200723e-05,\n",
       "        3.66446397e-06, 1.11326199e-05, 8.19124762e-06, 1.59142360e-06,\n",
       "        2.07235416e-06, 4.80172312e-05, 6.68354505e-06, 3.58309444e-06,\n",
       "        4.36890741e-06, 1.25787992e-05, 1.59490228e-05, 4.91522201e-07,\n",
       "        1.86729267e-06, 1.21407322e-06, 1.04383298e-05, 4.14047321e-07,\n",
       "        2.84076646e-06, 1.27689564e-05, 2.86848149e-07, 1.74257508e-07,\n",
       "        7.28355360e-07, 7.89810292e-06, 2.63343031e-06, 2.43685167e-06,\n",
       "        2.30128900e-03, 2.57102056e-05, 1.71885586e-05, 8.50223296e-05,\n",
       "        1.14456839e-06, 1.42770596e-05, 3.19509782e-05, 6.28379382e-07,\n",
       "        2.62882600e-06, 1.99807710e-06, 1.30061699e-05, 7.56187546e-07,\n",
       "        1.17028731e-06, 2.76705077e-06, 4.68364578e-06, 2.68955046e-06,\n",
       "        1.01942605e-05, 4.23214624e-05, 3.71587521e-06, 5.33531165e-05,\n",
       "        7.85868815e-06, 7.96871100e-05, 1.10452106e-06, 2.12009400e-05,\n",
       "        2.62184062e-06, 4.39739665e-07, 5.09056008e-06, 3.70171547e-05,\n",
       "        1.91649360e-06, 3.80325275e-07, 7.98242516e-04, 2.45629670e-03]],\n",
       "      dtype=float32)"
      ]
     },
     "execution_count": 104,
     "metadata": {},
     "output_type": "execute_result"
    }
   ],
   "source": [
    "img_ = np.array(img).reshape(-1,224,224,3)\n",
    "yhat = vgg.predict(img_)\n",
    "yhat"
   ]
  },
  {
   "cell_type": "code",
   "execution_count": 106,
   "metadata": {},
   "outputs": [
    {
     "data": {
      "text/plain": [
       "356"
      ]
     },
     "execution_count": 106,
     "metadata": {},
     "output_type": "execute_result"
    }
   ],
   "source": [
    "np.argmax(yhat)"
   ]
  },
  {
   "cell_type": "code",
   "execution_count": 107,
   "metadata": {},
   "outputs": [],
   "source": [
    "labelIdx = np.argmax(yhat)"
   ]
  },
  {
   "cell_type": "code",
   "execution_count": 108,
   "metadata": {
    "scrolled": false
   },
   "outputs": [
    {
     "name": "stdout",
     "output_type": "stream",
     "text": [
      "Downloading data from https://storage.googleapis.com/download.tensorflow.org/data/imagenet_class_index.json\n",
      "40960/35363 [==================================] - 0s 1us/step\n"
     ]
    },
    {
     "data": {
      "text/plain": [
       "[[('n02441942', 'weasel', 0.2551687),\n",
       "  ('n02124075', 'Egyptian_cat', 0.24794737),\n",
       "  ('n02808304', 'bath_towel', 0.23055474),\n",
       "  ('n02442845', 'mink', 0.018269844),\n",
       "  ('n04254777', 'sock', 0.015518701)]]"
      ]
     },
     "execution_count": 108,
     "metadata": {},
     "output_type": "execute_result"
    }
   ],
   "source": [
    "decode_predictions(yhat)"
   ]
  },
  {
   "cell_type": "code",
   "execution_count": 112,
   "metadata": {},
   "outputs": [
    {
     "name": "stdout",
     "output_type": "stream",
     "text": [
      "Predicted: [('n02124075', 'Egyptian_cat', 0.34084463), ('n02123045', 'tabby', 0.09744891), ('n02123159', 'tiger_cat', 0.08095271)]\n"
     ]
    }
   ],
   "source": [
    "from keras.applications.resnet50 import ResNet50\n",
    "from keras.preprocessing import image\n",
    "from keras.applications.resnet50 import preprocess_input, decode_predictions\n",
    "import numpy as np\n",
    "\n",
    "model = ResNet50(weights='imagenet')\n",
    "\n",
    "# img_path = 'r\"Q:\\Python_Data\\dogs-vs-cats\\train\\cat.5259.jpg\"'\n",
    "# img = image.load_img(img_path, target_size=(224, 224))\n",
    "x = image.img_to_array(img)\n",
    "x = np.expand_dims(x, axis=0)\n",
    "x = preprocess_input(x)\n",
    "\n",
    "preds = model.predict(x)\n",
    "# decode the results into a list of tuples (class, description, probability)\n",
    "# (one such list for each sample in the batch)\n",
    "print('Predicted:', decode_predictions(preds, top=3)[0])"
   ]
  },
  {
   "cell_type": "code",
   "execution_count": null,
   "metadata": {},
   "outputs": [],
   "source": []
  }
 ],
 "metadata": {
  "kernelspec": {
   "display_name": "Python 3",
   "language": "python",
   "name": "python3"
  },
  "language_info": {
   "codemirror_mode": {
    "name": "ipython",
    "version": 3
   },
   "file_extension": ".py",
   "mimetype": "text/x-python",
   "name": "python",
   "nbconvert_exporter": "python",
   "pygments_lexer": "ipython3",
   "version": "3.7.7"
  }
 },
 "nbformat": 4,
 "nbformat_minor": 4
}
