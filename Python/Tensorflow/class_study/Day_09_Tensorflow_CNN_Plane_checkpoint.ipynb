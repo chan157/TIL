{
 "cells": [
  {
   "cell_type": "code",
   "execution_count": 16,
   "metadata": {},
   "outputs": [],
   "source": [
    "import json\n",
    "import pandas as pd \n",
    "import numpy as np\n",
    "import tensorflow as tf\n",
    "from tensorflow import keras\n",
    "from sklearn.model_selection import train_test_split\n",
    "from tensorflow.keras.utils import to_categorical\n",
    "import matplotlib.pyplot as plt\n",
    "import plotly.graph_objects as go"
   ]
  },
  {
   "cell_type": "code",
   "execution_count": 17,
   "metadata": {},
   "outputs": [],
   "source": [
    "filePlane = open(r\"Q:\\Python_Data\\planesnet\\planesnet.json\")\n",
    "planeDataSet = json.load(filePlane)"
   ]
  },
  {
   "cell_type": "code",
   "execution_count": 18,
   "metadata": {},
   "outputs": [
    {
     "data": {
      "text/plain": [
       "dict_keys(['data', 'labels', 'locations', 'scene_ids'])"
      ]
     },
     "execution_count": 18,
     "metadata": {},
     "output_type": "execute_result"
    }
   ],
   "source": [
    "planeDataSet.keys()"
   ]
  },
  {
   "cell_type": "code",
   "execution_count": 19,
   "metadata": {},
   "outputs": [],
   "source": [
    "plane_x = np.array(planeDataSet['data']).astype('uint8')\n",
    "plane_y = np.array(planeDataSet['labels']).astype('uint8')"
   ]
  },
  {
   "cell_type": "code",
   "execution_count": 20,
   "metadata": {},
   "outputs": [],
   "source": [
    "# int8 : 8비트 정수를 표현\n",
    "# 양수음수 1비트 때문에 숫자에 해당되는 것은 7비트\n",
    "# -128~127 까지를 표현할 수 있다.\n",
    "\n",
    "# uint : unsigned int \n",
    "# 음수를 표현하지 않음, 양의 정수만 표현\n",
    "# 0~255 까지를 표현한다. \n",
    "# 데이터 크기가 크므로 메모리를 효율적으로 \n",
    "# 사용하기 위해서 uint8을 사용하는 현명한 선택!"
   ]
  },
  {
   "cell_type": "code",
   "execution_count": 21,
   "metadata": {},
   "outputs": [
    {
     "name": "stdout",
     "output_type": "stream",
     "text": [
      "(32000, 1200) (32000,)\n"
     ]
    }
   ],
   "source": [
    "print(plane_x.shape, plane_y.shape)"
   ]
  },
  {
   "cell_type": "code",
   "execution_count": 22,
   "metadata": {},
   "outputs": [],
   "source": [
    "plane_x = plane_x.reshape([-1,3,20,20]).transpose([0,2,3,1])\n",
    "# transpose 0번째, 2번쨰, 3번쨰, 1번째 순서로 차원이 변경됨\n",
    "\n",
    "# ? 왜 3, 20, 20 인거지??\n",
    "# 사용하는 플렛폼에 따라서 채널이 어디로 갈지 알 수 없음\n",
    "# 그것을 찾아서 확인해야함"
   ]
  },
  {
   "cell_type": "code",
   "execution_count": 23,
   "metadata": {},
   "outputs": [
    {
     "data": {
      "text/plain": [
       "(32000, 20, 20, 3)"
      ]
     },
     "execution_count": 23,
     "metadata": {},
     "output_type": "execute_result"
    }
   ],
   "source": [
    "plane_x.shape"
   ]
  },
  {
   "cell_type": "code",
   "execution_count": 24,
   "metadata": {},
   "outputs": [
    {
     "data": {
      "text/plain": [
       "array([25671, 12556, 20567, ..., 20542,  1889,  8577])"
      ]
     },
     "execution_count": 24,
     "metadata": {},
     "output_type": "execute_result"
    }
   ],
   "source": [
    "shuffle_idx = np.arange(32000)\n",
    "np.random.shuffle(shuffle_idx)\n",
    "shuffle_idx"
   ]
  },
  {
   "cell_type": "code",
   "execution_count": 25,
   "metadata": {},
   "outputs": [],
   "source": [
    "plane_x = plane_x[shuffle_idx]\n",
    "plane_y = plane_y[shuffle_idx]"
   ]
  },
  {
   "cell_type": "code",
   "execution_count": 26,
   "metadata": {},
   "outputs": [],
   "source": [
    "plane_x = plane_x/255.0"
   ]
  },
  {
   "cell_type": "code",
   "execution_count": 27,
   "metadata": {},
   "outputs": [],
   "source": [
    "plane_classes={0:'No Plane',1:'Plane'}"
   ]
  },
  {
   "cell_type": "code",
   "execution_count": 30,
   "metadata": {},
   "outputs": [
    {
     "data": {
      "image/png": "[encoded data removed]",
      "text/plain": [
       "<Figure size 1440x720 with 8 Axes>"
      ]
     },
     "metadata": {},
     "output_type": "display_data"
    }
   ],
   "source": [
    "plt.figure(figsize=(20,10))\n",
    "for i in range(8):\n",
    "    plt.subplot(1,8,i+1)\n",
    "    plt.xticks([])\n",
    "    plt.yticks([])\n",
    "    plt.imshow(plane_x[i], cmap=plt.cm.binary)\n",
    "    plt.xlabel(plane_classes[plane_y[i]])"
   ]
  },
  {
   "cell_type": "code",
   "execution_count": 31,
   "metadata": {},
   "outputs": [],
   "source": [
    "Xtrn, Xtst, ytrn, ytst = train_test_split(plane_x, plane_y,\n",
    "                                         test_size=0.2)"
   ]
  },
  {
   "cell_type": "markdown",
   "metadata": {},
   "source": [
    "함수 형식으로 모델 만들기"
   ]
  },
  {
   "cell_type": "code",
   "execution_count": 34,
   "metadata": {},
   "outputs": [],
   "source": [
    "def cnn_model(inputshape):\n",
    "    model=tf.keras.Sequential([\n",
    "        keras.layers.Conv2D(32,(5,5),input_shape=inputshape, activation='relu',padding='same'),\n",
    "        keras.layers.Conv2D(64,(5,5),activation='relu'),\n",
    "        keras.layers.MaxPooling2D(2,2),\n",
    "        keras.layers.Dropout(0.25),\n",
    "\n",
    "        keras.layers.Conv2D(128,(5,5), activation='relu'),\n",
    "        keras.layers.MaxPooling2D(2,2),\n",
    "        keras.layers.Dropout(0.25),    \n",
    "        keras.layers.Flatten(),\n",
    "        \n",
    "        keras.layers.Dense(512,activation='relu'),\n",
    "        keras.layers.Dropout(0.35),    \n",
    "        keras.layers.Dense(128,activation='relu'),\n",
    "        keras.layers.Dropout(0.35),           \n",
    "        keras.layers.Dense(2,activation='softmax')        \n",
    "    ]) \n",
    "    model.summary()\n",
    "    return(model)"
   ]
  },
  {
   "cell_type": "code",
   "execution_count": 58,
   "metadata": {},
   "outputs": [
    {
     "name": "stdout",
     "output_type": "stream",
     "text": [
      "Model: \"sequential_1\"\n",
      "_________________________________________________________________\n",
      "Layer (type)                 Output Shape              Param #   \n",
      "=================================================================\n",
      "conv2d_3 (Conv2D)            (None, 20, 20, 32)        2432      \n",
      "_________________________________________________________________\n",
      "conv2d_4 (Conv2D)            (None, 16, 16, 64)        51264     \n",
      "_________________________________________________________________\n",
      "max_pooling2d_2 (MaxPooling2 (None, 8, 8, 64)          0         \n",
      "_________________________________________________________________\n",
      "dropout_4 (Dropout)          (None, 8, 8, 64)          0         \n",
      "_________________________________________________________________\n",
      "conv2d_5 (Conv2D)            (None, 4, 4, 128)         204928    \n",
      "_________________________________________________________________\n",
      "max_pooling2d_3 (MaxPooling2 (None, 2, 2, 128)         0         \n",
      "_________________________________________________________________\n",
      "dropout_5 (Dropout)          (None, 2, 2, 128)         0         \n",
      "_________________________________________________________________\n",
      "flatten_1 (Flatten)          (None, 512)               0         \n",
      "_________________________________________________________________\n",
      "dense_3 (Dense)              (None, 512)               262656    \n",
      "_________________________________________________________________\n",
      "dropout_6 (Dropout)          (None, 512)               0         \n",
      "_________________________________________________________________\n",
      "dense_4 (Dense)              (None, 128)               65664     \n",
      "_________________________________________________________________\n",
      "dropout_7 (Dropout)          (None, 128)               0         \n",
      "_________________________________________________________________\n",
      "dense_5 (Dense)              (None, 2)                 258       \n",
      "=================================================================\n",
      "Total params: 587,202\n",
      "Trainable params: 587,202\n",
      "Non-trainable params: 0\n",
      "_________________________________________________________________\n"
     ]
    }
   ],
   "source": [
    "training_plane=cnn_model((20,20,3))"
   ]
  },
  {
   "cell_type": "code",
   "execution_count": 59,
   "metadata": {},
   "outputs": [],
   "source": [
    "import os\n",
    "checkpoint_path1=\"cp.ckpt\"\n",
    "checkpoint_dir1=os.path.dirname(\n",
    "    checkpoint_path1)"
   ]
  },
  {
   "cell_type": "code",
   "execution_count": 60,
   "metadata": {},
   "outputs": [],
   "source": [
    "cp_callback1=tf.keras.callbacks.ModelCheckpoint(checkpoint_path1,\n",
    "                                  save_weights_only=True,\n",
    "                                  verbose=1)"
   ]
  },
  {
   "cell_type": "code",
   "execution_count": 61,
   "metadata": {},
   "outputs": [],
   "source": [
    "training_plane.compile(optimizer=tf.keras.optimizers.Adam(), \n",
    "                      loss=tf.keras.losses.sparse_categorical_crossentropy,\n",
    "                      metrics=['accuracy'])"
   ]
  },
  {
   "cell_type": "code",
   "execution_count": 62,
   "metadata": {},
   "outputs": [
    {
     "name": "stdout",
     "output_type": "stream",
     "text": [
      "Train on 17152 samples, validate on 8448 samples\n",
      "Epoch 1/5\n",
      "16896/17152 [============================>.] - ETA: 0s - loss: 0.4836 - acc: 0.7652\n",
      "Epoch 00001: saving model to cp.ckpt\n",
      "17152/17152 [==============================] - 5s 267us/sample - loss: 0.4823 - acc: 0.7658 - val_loss: 0.4074 - val_acc: 0.7867\n",
      "Epoch 2/5\n",
      "16896/17152 [============================>.] - ETA: 0s - loss: 0.3362 - acc: 0.8399\n",
      "Epoch 00002: saving model to cp.ckpt\n",
      "17152/17152 [==============================] - 4s 247us/sample - loss: 0.3349 - acc: 0.8409 - val_loss: 0.2290 - val_acc: 0.9019\n",
      "Epoch 3/5\n",
      "16896/17152 [============================>.] - ETA: 0s - loss: 0.2126 - acc: 0.9114\n",
      "Epoch 00003: saving model to cp.ckpt\n",
      "17152/17152 [==============================] - 4s 248us/sample - loss: 0.2125 - acc: 0.9115 - val_loss: 0.1811 - val_acc: 0.9303\n",
      "Epoch 4/5\n",
      "16896/17152 [============================>.] - ETA: 0s - loss: 0.1707 - acc: 0.9338\n",
      "Epoch 00004: saving model to cp.ckpt\n",
      "17152/17152 [==============================] - 4s 248us/sample - loss: 0.1724 - acc: 0.9329 - val_loss: 0.1653 - val_acc: 0.9331\n",
      "Epoch 5/5\n",
      "16896/17152 [============================>.] - ETA: 0s - loss: 0.1498 - acc: 0.9414\n",
      "Epoch 00005: saving model to cp.ckpt\n",
      "17152/17152 [==============================] - 4s 247us/sample - loss: 0.1494 - acc: 0.9416 - val_loss: 0.1104 - val_acc: 0.9583\n"
     ]
    },
    {
     "data": {
      "text/plain": [
       "'\\nmodel.fit(...., validation_data(xVal,yVal))\\n\\nvalidation_split=0.33\\nxTrain, yTrain을 33% 분리하여 검증데이터로 사용\\n\\n'"
      ]
     },
     "execution_count": 62,
     "metadata": {},
     "output_type": "execute_result"
    }
   ],
   "source": [
    "import time\n",
    "\n",
    "start_time_plane = time.time()\n",
    "history = training_plane.fit(Xtrn, ytrn,    \n",
    "                                  validation_split=0.33, epochs=5,   \n",
    "                                  callbacks=[cp_callback1], batch_size=256)\n",
    "traing_time_plane = time.time()-start_time_plane\n",
    "\"\"\"\n",
    "model.fit(...., validation_data(xVal,yVal))\n",
    "\n",
    "validation_split=0.33\n",
    "xTrain, yTrain을 33% 분리하여 검증데이터로 사용\n",
    "\n",
    "\"\"\""
   ]
  },
  {
   "cell_type": "code",
   "execution_count": 63,
   "metadata": {},
   "outputs": [
    {
     "data": {
      "text/plain": [
       "22.438621282577515"
      ]
     },
     "execution_count": 63,
     "metadata": {},
     "output_type": "execute_result"
    }
   ],
   "source": [
    "traing_time_plane"
   ]
  },
  {
   "cell_type": "code",
   "execution_count": 84,
   "metadata": {},
   "outputs": [
    {
     "name": "stderr",
     "output_type": "stream",
     "text": [
      "No handles with labels found to put in legend.\n"
     ]
    },
    {
     "data": {
      "text/plain": [
       "<matplotlib.legend.Legend at 0x1efed5ef208>"
      ]
     },
     "execution_count": 84,
     "metadata": {},
     "output_type": "execute_result"
    },
    {
     "data": {
      "image/png": "[encoded data removed]",
      "text/plain": [
       "<Figure size 360x360 with 1 Axes>"
      ]
     },
     "metadata": {
      "needs_background": "light"
     },
     "output_type": "display_data"
    }
   ],
   "source": [
    "plt.figure(figsize=(5,5))\n",
    "plt.plot(history.history['loss'])\n",
    "plt.plot(history.history['val_loss'])\n",
    "plt.plot(history.history['acc'])\n",
    "plt.plot(history.history['val_acc'])\n",
    "plt.legend()"
   ]
  },
  {
   "cell_type": "code",
   "execution_count": 70,
   "metadata": {},
   "outputs": [
    {
     "name": "stdout",
     "output_type": "stream",
     "text": [
      "6400/6400 [==============================] - 1s 232us/sample - loss: 0.1065 - acc: 0.9598\n"
     ]
    },
    {
     "data": {
      "text/plain": [
       "[0.10653992648236453, 0.95984375]"
      ]
     },
     "execution_count": 70,
     "metadata": {},
     "output_type": "execute_result"
    }
   ],
   "source": [
    "training_plane.evaluate(Xtst, ytst) # 95%"
   ]
  },
  {
   "cell_type": "code",
   "execution_count": 92,
   "metadata": {},
   "outputs": [
    {
     "data": {
      "text/plain": [
       "array([[9.9947625e-01, 5.2374700e-04],\n",
       "       [9.9769694e-01, 2.3030096e-03],\n",
       "       [9.9586654e-01, 4.1334620e-03],\n",
       "       ...,\n",
       "       [9.7848696e-01, 2.1512968e-02],\n",
       "       [3.0213432e-02, 9.6978652e-01],\n",
       "       [9.5197320e-01, 4.8026793e-02]], dtype=float32)"
      ]
     },
     "execution_count": 92,
     "metadata": {},
     "output_type": "execute_result"
    }
   ],
   "source": [
    "classification_plane=training_plane.predict(Xtst)\n",
    "classification_plane"
   ]
  },
  {
   "cell_type": "code",
   "execution_count": 97,
   "metadata": {},
   "outputs": [
    {
     "data": {
      "text/plain": [
       "0.95984375"
      ]
     },
     "execution_count": 97,
     "metadata": {},
     "output_type": "execute_result"
    }
   ],
   "source": [
    "from sklearn.metrics import accuracy_score\n",
    "accuracy_score(np.argmax(classification_plane, axis=1), ytst)\n",
    "# 95% 정답률"
   ]
  }
 ],
 "metadata": {
  "kernelspec": {
   "display_name": "Python 3",
   "language": "python",
   "name": "python3"
  },
  "language_info": {
   "codemirror_mode": {
    "name": "ipython",
    "version": 3
   },
   "file_extension": ".py",
   "mimetype": "text/x-python",
   "name": "python",
   "nbconvert_exporter": "python",
   "pygments_lexer": "ipython3",
   "version": "3.7.7"
  }
 },
 "nbformat": 4,
 "nbformat_minor": 4
}
