{
 "cells": [
  {
   "cell_type": "code",
   "execution_count": 25,
   "metadata": {},
   "outputs": [],
   "source": [
    "from keras.datasets import mnist\n",
    "from keras.utils import np_utils\n",
    "import numpy\n",
    "import sys\n",
    "import tensorflow as tf"
   ]
  },
  {
   "cell_type": "code",
   "execution_count": 26,
   "metadata": {},
   "outputs": [
    {
     "data": {
      "text/plain": [
       "'1.15.0'"
      ]
     },
     "execution_count": 26,
     "metadata": {},
     "output_type": "execute_result"
    }
   ],
   "source": [
    "tf.__version__"
   ]
  },
  {
   "cell_type": "code",
   "execution_count": 28,
   "metadata": {},
   "outputs": [
    {
     "data": {
      "text/plain": [
       "(10000, 28, 28)"
      ]
     },
     "execution_count": 28,
     "metadata": {},
     "output_type": "execute_result"
    }
   ],
   "source": [
    "(xTrain,yTrain),(xTest,yTest)=mnist.load_data()\n",
    "xTrain.shape\n",
    "xTest.shape"
   ]
  },
  {
   "cell_type": "code",
   "execution_count": 29,
   "metadata": {},
   "outputs": [],
   "source": [
    "import matplotlib.pyplot as plt"
   ]
  },
  {
   "cell_type": "code",
   "execution_count": 31,
   "metadata": {},
   "outputs": [
    {
     "data": {
      "image/png": "[encoded data removed]",
      "text/plain": [
       "<Figure size 432x288 with 1 Axes>"
      ]
     },
     "metadata": {
      "needs_background": "light"
     },
     "output_type": "display_data"
    }
   ],
   "source": [
    "plt.imshow(xTrain[0], cmap='Greys')\n",
    "plt.show()"
   ]
  },
  {
   "cell_type": "code",
   "execution_count": 32,
   "metadata": {
    "scrolled": true
   },
   "outputs": [
    {
     "name": "stdout",
     "output_type": "stream",
     "text": [
      "0\t0\t0\t0\t0\t0\t0\t0\t0\t0\t0\t0\t0\t0\t0\t0\t0\t0\t0\t0\t0\t0\t0\t0\t0\t0\t0\t0\t\n",
      "0\t0\t0\t0\t0\t0\t0\t0\t0\t0\t0\t0\t0\t0\t0\t0\t0\t0\t0\t0\t0\t0\t0\t0\t0\t0\t0\t0\t\n",
      "0\t0\t0\t0\t0\t0\t0\t0\t0\t0\t0\t0\t0\t0\t0\t0\t0\t0\t0\t0\t0\t0\t0\t0\t0\t0\t0\t0\t\n",
      "0\t0\t0\t0\t0\t0\t0\t0\t0\t0\t0\t0\t0\t0\t0\t0\t0\t0\t0\t0\t0\t0\t0\t0\t0\t0\t0\t0\t\n",
      "0\t0\t0\t0\t0\t0\t0\t0\t0\t0\t0\t0\t0\t0\t0\t0\t0\t0\t0\t0\t0\t0\t0\t0\t0\t0\t0\t0\t\n",
      "0\t0\t0\t0\t0\t0\t0\t0\t0\t0\t0\t0\t3\t18\t18\t18\t126\t136\t175\t26\t166\t255\t247\t127\t0\t0\t0\t0\t\n",
      "0\t0\t0\t0\t0\t0\t0\t0\t30\t36\t94\t154\t170\t253\t253\t253\t253\t253\t225\t172\t253\t242\t195\t64\t0\t0\t0\t0\t\n",
      "0\t0\t0\t0\t0\t0\t0\t49\t238\t253\t253\t253\t253\t253\t253\t253\t253\t251\t93\t82\t82\t56\t39\t0\t0\t0\t0\t0\t\n",
      "0\t0\t0\t0\t0\t0\t0\t18\t219\t253\t253\t253\t253\t253\t198\t182\t247\t241\t0\t0\t0\t0\t0\t0\t0\t0\t0\t0\t\n",
      "0\t0\t0\t0\t0\t0\t0\t0\t80\t156\t107\t253\t253\t205\t11\t0\t43\t154\t0\t0\t0\t0\t0\t0\t0\t0\t0\t0\t\n",
      "0\t0\t0\t0\t0\t0\t0\t0\t0\t14\t1\t154\t253\t90\t0\t0\t0\t0\t0\t0\t0\t0\t0\t0\t0\t0\t0\t0\t\n",
      "0\t0\t0\t0\t0\t0\t0\t0\t0\t0\t0\t139\t253\t190\t2\t0\t0\t0\t0\t0\t0\t0\t0\t0\t0\t0\t0\t0\t\n",
      "0\t0\t0\t0\t0\t0\t0\t0\t0\t0\t0\t11\t190\t253\t70\t0\t0\t0\t0\t0\t0\t0\t0\t0\t0\t0\t0\t0\t\n",
      "0\t0\t0\t0\t0\t0\t0\t0\t0\t0\t0\t0\t35\t241\t225\t160\t108\t1\t0\t0\t0\t0\t0\t0\t0\t0\t0\t0\t\n",
      "0\t0\t0\t0\t0\t0\t0\t0\t0\t0\t0\t0\t0\t81\t240\t253\t253\t119\t25\t0\t0\t0\t0\t0\t0\t0\t0\t0\t\n",
      "0\t0\t0\t0\t0\t0\t0\t0\t0\t0\t0\t0\t0\t0\t45\t186\t253\t253\t150\t27\t0\t0\t0\t0\t0\t0\t0\t0\t\n",
      "0\t0\t0\t0\t0\t0\t0\t0\t0\t0\t0\t0\t0\t0\t0\t16\t93\t252\t253\t187\t0\t0\t0\t0\t0\t0\t0\t0\t\n",
      "0\t0\t0\t0\t0\t0\t0\t0\t0\t0\t0\t0\t0\t0\t0\t0\t0\t249\t253\t249\t64\t0\t0\t0\t0\t0\t0\t0\t\n",
      "0\t0\t0\t0\t0\t0\t0\t0\t0\t0\t0\t0\t0\t0\t46\t130\t183\t253\t253\t207\t2\t0\t0\t0\t0\t0\t0\t0\t\n",
      "0\t0\t0\t0\t0\t0\t0\t0\t0\t0\t0\t0\t39\t148\t229\t253\t253\t253\t250\t182\t0\t0\t0\t0\t0\t0\t0\t0\t\n",
      "0\t0\t0\t0\t0\t0\t0\t0\t0\t0\t24\t114\t221\t253\t253\t253\t253\t201\t78\t0\t0\t0\t0\t0\t0\t0\t0\t0\t\n",
      "0\t0\t0\t0\t0\t0\t0\t0\t23\t66\t213\t253\t253\t253\t253\t198\t81\t2\t0\t0\t0\t0\t0\t0\t0\t0\t0\t0\t\n",
      "0\t0\t0\t0\t0\t0\t18\t171\t219\t253\t253\t253\t253\t195\t80\t9\t0\t0\t0\t0\t0\t0\t0\t0\t0\t0\t0\t0\t\n",
      "0\t0\t0\t0\t55\t172\t226\t253\t253\t253\t253\t244\t133\t11\t0\t0\t0\t0\t0\t0\t0\t0\t0\t0\t0\t0\t0\t0\t\n",
      "0\t0\t0\t0\t136\t253\t253\t253\t212\t135\t132\t16\t0\t0\t0\t0\t0\t0\t0\t0\t0\t0\t0\t0\t0\t0\t0\t0\t\n",
      "0\t0\t0\t0\t0\t0\t0\t0\t0\t0\t0\t0\t0\t0\t0\t0\t0\t0\t0\t0\t0\t0\t0\t0\t0\t0\t0\t0\t\n",
      "0\t0\t0\t0\t0\t0\t0\t0\t0\t0\t0\t0\t0\t0\t0\t0\t0\t0\t0\t0\t0\t0\t0\t0\t0\t0\t0\t0\t\n",
      "0\t0\t0\t0\t0\t0\t0\t0\t0\t0\t0\t0\t0\t0\t0\t0\t0\t0\t0\t0\t0\t0\t0\t0\t0\t0\t0\t0\t\n"
     ]
    }
   ],
   "source": [
    "for x in xTrain[0]:\n",
    "    for i in x:\n",
    "        sys.stdout.write(\"%d\\t\" % i)\n",
    "    sys.stdout.write(\"\\n\")"
   ]
  },
  {
   "cell_type": "code",
   "execution_count": 33,
   "metadata": {},
   "outputs": [],
   "source": [
    "xTrain=xTrain.reshape(xTrain.shape[0],784)\n",
    "xTrain=xTrain.astype('float64')\n",
    "xTrain=xTrain/255\n",
    "xTest=xTest.reshape(xTest.shape[0],784).astype('float64')/255"
   ]
  },
  {
   "cell_type": "code",
   "execution_count": 34,
   "metadata": {},
   "outputs": [
    {
     "name": "stdout",
     "output_type": "stream",
     "text": [
      "5\n"
     ]
    }
   ],
   "source": [
    "print(yTrain[0])"
   ]
  },
  {
   "cell_type": "code",
   "execution_count": 35,
   "metadata": {},
   "outputs": [],
   "source": [
    "yTrain=np_utils.to_categorical(yTrain,10)\n",
    "yTest=np_utils.to_categorical(yTest,10)"
   ]
  },
  {
   "cell_type": "code",
   "execution_count": 36,
   "metadata": {},
   "outputs": [
    {
     "data": {
      "text/plain": [
       "array([0., 0., 0., 0., 0., 1., 0., 0., 0., 0.], dtype=float32)"
      ]
     },
     "execution_count": 36,
     "metadata": {},
     "output_type": "execute_result"
    }
   ],
   "source": [
    "yTrain[0]"
   ]
  },
  {
   "cell_type": "code",
   "execution_count": 37,
   "metadata": {},
   "outputs": [],
   "source": [
    "from keras.models import Sequential\n",
    "from keras.layers import Dense\n",
    "from keras.callbacks import ModelCheckpoint, EarlyStopping\n",
    "import numpy as np\n",
    "import tensorflow as tf\n",
    "import os"
   ]
  },
  {
   "cell_type": "code",
   "execution_count": 38,
   "metadata": {},
   "outputs": [],
   "source": [
    "#모델 구성\n",
    "model=Sequential()\n",
    "model.add(Dense(512, input_dim=784, activation='relu'))\n",
    "model.add(Dense(10, activation='softmax'))"
   ]
  },
  {
   "cell_type": "code",
   "execution_count": 39,
   "metadata": {},
   "outputs": [],
   "source": [
    "#모델 환경 설정\n",
    "model.compile(loss=\"categorical_crossentropy\",\n",
    "             optimizer=\"adam\",\n",
    "             metrics=['accuracy'])"
   ]
  },
  {
   "cell_type": "code",
   "execution_count": 40,
   "metadata": {},
   "outputs": [],
   "source": [
    "#모델 최적화\n",
    "modelDir='./myModel/'\n",
    "#만약 myModel 디렉토리가 존재하지 않는다면\n",
    "if not os.path.exists(modelDir):\n",
    "    modelPath=\"./myModel/{epoch:02d}-{val_loss:.4f}.hdf5\"    \n",
    "    os.mkdir(modelDir)\n",
    "checkpointer=ModelCheckpoint(filepath=modelPath, monitor='val_loss', verbose=1, save_best_only=True)\n",
    "#ModelCheckpoint 콜백 함수: keras에서 모델을 학습할때마다 중간중간에 콜백 형태로 알려줌\n",
    "#save_best_only:모델의 정확도가 최고값을 갱신했을때만 저장\n",
    "es=EarlyStopping(monitor='val_loss', patience=10)"
   ]
  },
  {
   "cell_type": "code",
   "execution_count": 41,
   "metadata": {
    "scrolled": true
   },
   "outputs": [
    {
     "name": "stdout",
     "output_type": "stream",
     "text": [
      "Train on 60000 samples, validate on 10000 samples\n",
      "Epoch 1/30\n",
      "60000/60000 [==============================] - 4s 74us/step - loss: 0.3046 - accuracy: 0.9142 - val_loss: 0.1537 - val_accuracy: 0.9548\n",
      "\n",
      "Epoch 00001: val_loss improved from inf to 0.15368, saving model to ./myModel/01-0.1537.hdf5\n",
      "Epoch 2/30\n",
      "60000/60000 [==============================] - 4s 73us/step - loss: 0.1282 - accuracy: 0.9633 - val_loss: 0.1036 - val_accuracy: 0.9677\n",
      "\n",
      "Epoch 00002: val_loss improved from 0.15368 to 0.10365, saving model to ./myModel/02-0.1036.hdf5\n",
      "Epoch 3/30\n",
      "60000/60000 [==============================] - 4s 73us/step - loss: 0.0840 - accuracy: 0.9760 - val_loss: 0.0810 - val_accuracy: 0.9750\n",
      "\n",
      "Epoch 00003: val_loss improved from 0.10365 to 0.08105, saving model to ./myModel/03-0.0810.hdf5\n",
      "Epoch 4/30\n",
      "60000/60000 [==============================] - 5s 78us/step - loss: 0.0602 - accuracy: 0.9827 - val_loss: 0.0769 - val_accuracy: 0.9765\n",
      "\n",
      "Epoch 00004: val_loss improved from 0.08105 to 0.07694, saving model to ./myModel/04-0.0769.hdf5\n",
      "Epoch 5/30\n",
      "60000/60000 [==============================] - 4s 71us/step - loss: 0.0466 - accuracy: 0.9868 - val_loss: 0.0660 - val_accuracy: 0.9797\n",
      "\n",
      "Epoch 00005: val_loss improved from 0.07694 to 0.06602, saving model to ./myModel/05-0.0660.hdf5\n",
      "Epoch 6/30\n",
      "60000/60000 [==============================] - 4s 75us/step - loss: 0.0353 - accuracy: 0.9902 - val_loss: 0.0628 - val_accuracy: 0.9793\n",
      "\n",
      "Epoch 00006: val_loss improved from 0.06602 to 0.06276, saving model to ./myModel/06-0.0628.hdf5\n",
      "Epoch 7/30\n",
      "60000/60000 [==============================] - 5s 77us/step - loss: 0.0276 - accuracy: 0.9926 - val_loss: 0.0618 - val_accuracy: 0.9794\n",
      "\n",
      "Epoch 00007: val_loss improved from 0.06276 to 0.06183, saving model to ./myModel/07-0.0618.hdf5\n",
      "Epoch 8/30\n",
      "60000/60000 [==============================] - 4s 73us/step - loss: 0.0217 - accuracy: 0.9945 - val_loss: 0.0587 - val_accuracy: 0.9811\n",
      "\n",
      "Epoch 00008: val_loss improved from 0.06183 to 0.05869, saving model to ./myModel/08-0.0587.hdf5\n",
      "Epoch 9/30\n",
      "60000/60000 [==============================] - 4s 72us/step - loss: 0.0160 - accuracy: 0.9965 - val_loss: 0.0629 - val_accuracy: 0.9806\n",
      "\n",
      "Epoch 00009: val_loss did not improve from 0.05869\n",
      "Epoch 10/30\n",
      "60000/60000 [==============================] - 6s 94us/step - loss: 0.0133 - accuracy: 0.9971 - val_loss: 0.0623 - val_accuracy: 0.9805\n",
      "\n",
      "Epoch 00010: val_loss did not improve from 0.05869\n",
      "Epoch 11/30\n",
      "60000/60000 [==============================] - 5s 83us/step - loss: 0.0101 - accuracy: 0.9980 - val_loss: 0.0590 - val_accuracy: 0.9818\n",
      "\n",
      "Epoch 00011: val_loss did not improve from 0.05869\n",
      "Epoch 12/30\n",
      "60000/60000 [==============================] - 4s 67us/step - loss: 0.0083 - accuracy: 0.9984 - val_loss: 0.0645 - val_accuracy: 0.9803\n",
      "\n",
      "Epoch 00012: val_loss did not improve from 0.05869\n",
      "Epoch 13/30\n",
      "60000/60000 [==============================] - 6s 95us/step - loss: 0.0060 - accuracy: 0.9991 - val_loss: 0.0629 - val_accuracy: 0.9807\n",
      "\n",
      "Epoch 00013: val_loss did not improve from 0.05869\n",
      "Epoch 14/30\n",
      "60000/60000 [==============================] - 5s 85us/step - loss: 0.0049 - accuracy: 0.9993 - val_loss: 0.0617 - val_accuracy: 0.9814\n",
      "\n",
      "Epoch 00014: val_loss did not improve from 0.05869\n",
      "Epoch 15/30\n",
      "60000/60000 [==============================] - 4s 67us/step - loss: 0.0036 - accuracy: 0.9996 - val_loss: 0.0622 - val_accuracy: 0.9810\n",
      "\n",
      "Epoch 00015: val_loss did not improve from 0.05869\n",
      "Epoch 16/30\n",
      "60000/60000 [==============================] - 4s 71us/step - loss: 0.0027 - accuracy: 0.9998 - val_loss: 0.0761 - val_accuracy: 0.9802\n",
      "\n",
      "Epoch 00016: val_loss did not improve from 0.05869\n",
      "Epoch 17/30\n",
      "60000/60000 [==============================] - 4s 69us/step - loss: 0.0062 - accuracy: 0.9984 - val_loss: 0.0742 - val_accuracy: 0.9801\n",
      "\n",
      "Epoch 00017: val_loss did not improve from 0.05869\n",
      "Epoch 18/30\n",
      "60000/60000 [==============================] - 4s 70us/step - loss: 0.0046 - accuracy: 0.9989 - val_loss: 0.0783 - val_accuracy: 0.9811\n",
      "\n",
      "Epoch 00018: val_loss did not improve from 0.05869\n"
     ]
    }
   ],
   "source": [
    "#모델 생성 \n",
    "history=model.fit(xTrain,yTrain,\n",
    "          validation_data=(xTest,yTest), \n",
    "          epochs=30, batch_size=200, \n",
    "          callbacks=[es,checkpointer])"
   ]
  },
  {
   "cell_type": "code",
   "execution_count": 42,
   "metadata": {},
   "outputs": [
    {
     "name": "stdout",
     "output_type": "stream",
     "text": [
      "10000/10000 [==============================] - 0s 47us/step\n",
      "테스트 정확도: 0.9811\n"
     ]
    }
   ],
   "source": [
    "print(\"테스트 정확도: %.4f\" % (model.evaluate(xTest, yTest)[1]))"
   ]
  },
  {
   "cell_type": "code",
   "execution_count": 43,
   "metadata": {},
   "outputs": [],
   "source": [
    "#테스트 셋의 오차\n",
    "yVloss=history.history['val_loss'] \n",
    "#학습 셋의 오차\n",
    "yLoss=history.history['loss']"
   ]
  },
  {
   "cell_type": "code",
   "execution_count": 44,
   "metadata": {},
   "outputs": [
    {
     "data": {
      "image/png": "[encoded data removed]",
      "text/plain": [
       "<Figure size 432x288 with 1 Axes>"
      ]
     },
     "metadata": {
      "needs_background": "light"
     },
     "output_type": "display_data"
    }
   ],
   "source": [
    "xLen=np.arange(len(yLoss))\n",
    "plt.plot(xLen,yVloss, marker='.', c='red', \n",
    "         label='testset_loss')\n",
    "plt.plot(xLen,yLoss, marker='.', c='blue', \n",
    "         label='trainset_loss')\n",
    "plt.legend()\n",
    "plt.grid()\n",
    "plt.xlabel('epoch')\n",
    "plt.ylabel('loss')\n",
    "plt.show()"
   ]
  },
  {
   "cell_type": "code",
   "execution_count": null,
   "metadata": {},
   "outputs": [],
   "source": []
  },
  {
   "cell_type": "code",
   "execution_count": 60,
   "metadata": {},
   "outputs": [],
   "source": [
    "#CNN으로 MNIST 모델 만들기"
   ]
  },
  {
   "cell_type": "code",
   "execution_count": 61,
   "metadata": {},
   "outputs": [],
   "source": [
    "from keras.layers import *"
   ]
  },
  {
   "cell_type": "code",
   "execution_count": 62,
   "metadata": {},
   "outputs": [],
   "source": [
    "#모델 구성\n",
    "model=Sequential()\n",
    "model.add(Conv2D(32,kernel_size=(3,3),input_shape=(28,28,1), activation='relu'))\n",
    "#Conv2D(필터개수, 필터크기, (행,열,흑백), 활성화함수)\n",
    "model.add(Conv2D(64,(3,3), activation='relu'))\n",
    "model.add(MaxPooling2D(pool_size=2))\n",
    "model.add(Dropout(0.25)) #드롭아웃 비율(25%)\n",
    "model.add(Flatten())\n",
    "#Flatten():1차원으로 변경하는 함수\n",
    "model.add(Dense(128, activation='relu'))\n",
    "model.add(Dropout(0.5))\n",
    "model.add(Dense(10, activation='softmax'))"
   ]
  },
  {
   "cell_type": "code",
   "execution_count": 63,
   "metadata": {},
   "outputs": [],
   "source": [
    "model.compile(loss=\"categorical_crossentropy\",\n",
    "             optimizer=\"adam\",\n",
    "             metrics=['accuracy'])"
   ]
  },
  {
   "cell_type": "code",
   "execution_count": 64,
   "metadata": {},
   "outputs": [],
   "source": [
    "#모델 최적화\n",
    "modelDir='./myCnnModel/'\n",
    "if not os.path.exists(modelDir):\n",
    "    modelPath=\"./myCnnModel/{epoch:02d}-{val_loss:.4f}.hdf5\"    \n",
    "    os.mkdir(modelDir)\n",
    "checkpointer=ModelCheckpoint(filepath=modelPath, monitor='val_loss', verbose=1, save_best_only=True)\n",
    "#ModelCheckpoint 콜백 함수: keras에서 모델을 학습할때마다 중간중간에 콜백 형태로 알려줌\n",
    "#save_best_only:모델의 정확도가 최고값을 갱신했을때만 저장\n",
    "es=EarlyStopping(monitor='val_loss', patience=10)"
   ]
  },
  {
   "cell_type": "code",
   "execution_count": 65,
   "metadata": {},
   "outputs": [
    {
     "ename": "SyntaxError",
     "evalue": "invalid syntax (<ipython-input-65-79ebc95e0b58>, line 1)",
     "output_type": "error",
     "traceback": [
      "\u001b[1;36m  File \u001b[1;32m\"<ipython-input-65-79ebc95e0b58>\"\u001b[1;36m, line \u001b[1;32m1\u001b[0m\n\u001b[1;33m    (xTrain,yTrain),(xTest,yTest)=mnist.\u001b[0m\n\u001b[1;37m                                        ^\u001b[0m\n\u001b[1;31mSyntaxError\u001b[0m\u001b[1;31m:\u001b[0m invalid syntax\n"
     ]
    }
   ],
   "source": [
    "(xTrain,yTrain),(xTest,yTest)=mnist.load_data()\n",
    "xTrain=xTrain.reshape(\n",
    "    xTrain.shape[0],28,28,1).\n",
    "astype('float32')/255\n",
    "xTest=xTest.reshape(\n",
    "    xTest.shape[0],28,28,1).\n",
    "astype('float32')/255\n",
    "yTrain=np_utils.to_categorical(yTrain)\n",
    "yTest=np_utils.to_categorical(yTest)"
   ]
  },
  {
   "cell_type": "code",
   "execution_count": 44,
   "metadata": {},
   "outputs": [
    {
     "name": "stdout",
     "output_type": "stream",
     "text": [
      "Train on 60000 samples, validate on 10000 samples\n",
      "Epoch 1/30\n",
      "60000/60000 [==============================] - 69s 1ms/step - loss: 0.2669 - accuracy: 0.9191 - val_loss: 0.0531 - val_accuracy: 0.9829\n",
      "\n",
      "Epoch 00001: val_loss improved from inf to 0.05309, saving model to ./myCnnModel/01-0.0531.hdf5\n",
      "Epoch 2/30\n",
      "60000/60000 [==============================] - 70s 1ms/step - loss: 0.0839 - accuracy: 0.9754 - val_loss: 0.0401 - val_accuracy: 0.9859\n",
      "\n",
      "Epoch 00002: val_loss improved from 0.05309 to 0.04005, saving model to ./myCnnModel/02-0.0401.hdf5\n",
      "Epoch 3/30\n",
      "60000/60000 [==============================] - 70s 1ms/step - loss: 0.0639 - accuracy: 0.9808 - val_loss: 0.0326 - val_accuracy: 0.9898\n",
      "\n",
      "Epoch 00003: val_loss improved from 0.04005 to 0.03258, saving model to ./myCnnModel/03-0.0326.hdf5\n",
      "Epoch 4/30\n",
      "60000/60000 [==============================] - 69s 1ms/step - loss: 0.0518 - accuracy: 0.9841 - val_loss: 0.0307 - val_accuracy: 0.9905\n",
      "\n",
      "Epoch 00004: val_loss improved from 0.03258 to 0.03071, saving model to ./myCnnModel/04-0.0307.hdf5\n",
      "Epoch 5/30\n",
      "60000/60000 [==============================] - 70s 1ms/step - loss: 0.0471 - accuracy: 0.9850 - val_loss: 0.0287 - val_accuracy: 0.9914\n",
      "\n",
      "Epoch 00005: val_loss improved from 0.03071 to 0.02872, saving model to ./myCnnModel/05-0.0287.hdf5\n",
      "Epoch 6/30\n",
      "60000/60000 [==============================] - 69s 1ms/step - loss: 0.0393 - accuracy: 0.9879 - val_loss: 0.0279 - val_accuracy: 0.9908\n",
      "\n",
      "Epoch 00006: val_loss improved from 0.02872 to 0.02793, saving model to ./myCnnModel/06-0.0279.hdf5\n",
      "Epoch 7/30\n",
      "60000/60000 [==============================] - 68s 1ms/step - loss: 0.0355 - accuracy: 0.9890 - val_loss: 0.0306 - val_accuracy: 0.9904\n",
      "\n",
      "Epoch 00007: val_loss did not improve from 0.02793\n",
      "Epoch 8/30\n",
      "60000/60000 [==============================] - 67s 1ms/step - loss: 0.0303 - accuracy: 0.9907 - val_loss: 0.0314 - val_accuracy: 0.9907\n",
      "\n",
      "Epoch 00008: val_loss did not improve from 0.02793\n",
      "Epoch 9/30\n",
      "60000/60000 [==============================] - 68s 1ms/step - loss: 0.0279 - accuracy: 0.9906 - val_loss: 0.0281 - val_accuracy: 0.9921\n",
      "\n",
      "Epoch 00009: val_loss did not improve from 0.02793\n",
      "Epoch 10/30\n",
      "60000/60000 [==============================] - 68s 1ms/step - loss: 0.0264 - accuracy: 0.9913 - val_loss: 0.0263 - val_accuracy: 0.9925\n",
      "\n",
      "Epoch 00010: val_loss improved from 0.02793 to 0.02629, saving model to ./myCnnModel/10-0.0263.hdf5\n",
      "Epoch 11/30\n",
      "60000/60000 [==============================] - 73s 1ms/step - loss: 0.0243 - accuracy: 0.9918 - val_loss: 0.0314 - val_accuracy: 0.9913\n",
      "\n",
      "Epoch 00011: val_loss did not improve from 0.02629\n",
      "Epoch 12/30\n",
      "60000/60000 [==============================] - 69s 1ms/step - loss: 0.0228 - accuracy: 0.9920 - val_loss: 0.0320 - val_accuracy: 0.9913\n",
      "\n",
      "Epoch 00012: val_loss did not improve from 0.02629\n",
      "Epoch 13/30\n",
      "60000/60000 [==============================] - 70s 1ms/step - loss: 0.0211 - accuracy: 0.9928 - val_loss: 0.0267 - val_accuracy: 0.9925\n",
      "\n",
      "Epoch 00013: val_loss did not improve from 0.02629\n",
      "Epoch 14/30\n",
      "60000/60000 [==============================] - 74s 1ms/step - loss: 0.0177 - accuracy: 0.9943 - val_loss: 0.0280 - val_accuracy: 0.9925\n",
      "\n",
      "Epoch 00014: val_loss did not improve from 0.02629\n",
      "Epoch 15/30\n",
      "60000/60000 [==============================] - 74s 1ms/step - loss: 0.0187 - accuracy: 0.9939 - val_loss: 0.0276 - val_accuracy: 0.9929\n",
      "\n",
      "Epoch 00015: val_loss did not improve from 0.02629\n",
      "Epoch 16/30\n",
      "60000/60000 [==============================] - 80s 1ms/step - loss: 0.0165 - accuracy: 0.9944 - val_loss: 0.0321 - val_accuracy: 0.9918\n",
      "\n",
      "Epoch 00016: val_loss did not improve from 0.02629\n",
      "Epoch 17/30\n",
      "60000/60000 [==============================] - 78s 1ms/step - loss: 0.0159 - accuracy: 0.9948 - val_loss: 0.0307 - val_accuracy: 0.9927\n",
      "\n",
      "Epoch 00017: val_loss did not improve from 0.02629\n",
      "Epoch 18/30\n",
      "60000/60000 [==============================] - 80s 1ms/step - loss: 0.0149 - accuracy: 0.9946 - val_loss: 0.0272 - val_accuracy: 0.9932\n",
      "\n",
      "Epoch 00018: val_loss did not improve from 0.02629\n",
      "Epoch 19/30\n",
      "60000/60000 [==============================] - 116s 2ms/step - loss: 0.0149 - accuracy: 0.9946 - val_loss: 0.0307 - val_accuracy: 0.9916\n",
      "\n",
      "Epoch 00019: val_loss did not improve from 0.02629\n",
      "Epoch 20/30\n",
      "60000/60000 [==============================] - 70s 1ms/step - loss: 0.0150 - accuracy: 0.9947 - val_loss: 0.0265 - val_accuracy: 0.9933\n",
      "\n",
      "Epoch 00020: val_loss did not improve from 0.02629\n"
     ]
    }
   ],
   "source": [
    "#모델 생성 \n",
    "history=model.fit(xTrain,yTrain,\n",
    "          validation_data=(xTest,yTest), \n",
    "          epochs=30, batch_size=200, \n",
    "          callbacks=[es,checkpointer])"
   ]
  },
  {
   "cell_type": "code",
   "execution_count": 45,
   "metadata": {},
   "outputs": [],
   "source": [
    "#model.save(\"모델파일명.h5\")\n",
    "# from keras.models import load_model\n",
    "# model=load_model(\"모델파일명.h5\")\n",
    "# model.summary() #모델 구조\n",
    "# 분류결과=model.predict_classes(테스트 데이터)"
   ]
  },
  {
   "cell_type": "code",
   "execution_count": null,
   "metadata": {},
   "outputs": [],
   "source": [
    "#예측이 틀린 이미지를  8개 출력\n",
    "# label:9,pred:4   ...       label:1,pred:4\n",
    "#    9 이미지                  1이미지\n",
    "# label:9,pred:4   ...       label:1,pred:4\n",
    "#    9 이미지                  1이미지\n",
    "# 2*4 형태로 틀린 예측 결과 출력"
   ]
  },
  {
   "cell_type": "code",
   "execution_count": 46,
   "metadata": {},
   "outputs": [],
   "source": [
    "#이터레이터, 제너레이터\n",
    "#iterator:값을 차례대로 꺼낼 수 있는 객체\n",
    "\n",
    "#for i in range(100):\n",
    "#정확한 의미: 0~99까지 값을 차례대로 꺼낼 수\n",
    "#있는 이터레이터 객체 생성"
   ]
  },
  {
   "cell_type": "code",
   "execution_count": 52,
   "metadata": {},
   "outputs": [
    {
     "ename": "StopIteration",
     "evalue": "",
     "output_type": "error",
     "traceback": [
      "\u001b[1;31m---------------------------------------------------------------------------\u001b[0m",
      "\u001b[1;31mStopIteration\u001b[0m                             Traceback (most recent call last)",
      "\u001b[1;32m<ipython-input-52-92d368a2167e>\u001b[0m in \u001b[0;36m<module>\u001b[1;34m\u001b[0m\n\u001b[0;32m      7\u001b[0m \u001b[0mit\u001b[0m\u001b[1;33m.\u001b[0m\u001b[0m__next__\u001b[0m\u001b[1;33m(\u001b[0m\u001b[1;33m)\u001b[0m\u001b[1;33m\u001b[0m\u001b[1;33m\u001b[0m\u001b[0m\n\u001b[0;32m      8\u001b[0m \u001b[0mit\u001b[0m\u001b[1;33m.\u001b[0m\u001b[0m__next__\u001b[0m\u001b[1;33m(\u001b[0m\u001b[1;33m)\u001b[0m\u001b[1;33m\u001b[0m\u001b[1;33m\u001b[0m\u001b[0m\n\u001b[1;32m----> 9\u001b[1;33m \u001b[0mit\u001b[0m\u001b[1;33m.\u001b[0m\u001b[0m__next__\u001b[0m\u001b[1;33m(\u001b[0m\u001b[1;33m)\u001b[0m\u001b[1;33m\u001b[0m\u001b[1;33m\u001b[0m\u001b[0m\n\u001b[0m",
      "\u001b[1;31mStopIteration\u001b[0m: "
     ]
    }
   ],
   "source": [
    "#iterable(반복가능객체,문자열,딕셔너리,리스트,셋)\n",
    "#객체가 iter메서드를 포함 여부:객체가 반복 가능한지 확인\n",
    "dir([1,2,3]) #__iter__\n",
    "\n",
    "it=[1,2,3].__iter__()\n",
    "it.__next__()\n",
    "it.__next__()\n",
    "it.__next__()\n",
    "it.__next__()"
   ]
  },
  {
   "cell_type": "code",
   "execution_count": 55,
   "metadata": {},
   "outputs": [
    {
     "data": {
      "text/plain": [
       "<set_iterator at 0x202c218e638>"
      ]
     },
     "execution_count": 55,
     "metadata": {},
     "output_type": "execute_result"
    }
   ],
   "source": [
    "\"hello\".__iter__()\n",
    "{'a':1,'b':2}.__iter__()\n",
    "{1,2,3}.__iter__()\n"
   ]
  },
  {
   "cell_type": "code",
   "execution_count": 58,
   "metadata": {},
   "outputs": [
    {
     "data": {
      "text/plain": [
       "0"
      ]
     },
     "execution_count": 58,
     "metadata": {},
     "output_type": "execute_result"
    }
   ],
   "source": [
    "it=range(3).__iter__()\n",
    "it.__next__()"
   ]
  },
  {
   "cell_type": "code",
   "execution_count": null,
   "metadata": {},
   "outputs": [],
   "source": [
    "for i in range(3):\n",
    "    print(i)\n",
    "#1.range에서 __iter__로 이터레이터 객체 생성\n",
    "#2. 반복할때마다 이터레이터에서 __next__\n",
    "#를 호출해서 숫자를 꺼내서 i에 저장"
   ]
  },
  {
   "cell_type": "code",
   "execution_count": null,
   "metadata": {},
   "outputs": [],
   "source": [
    "#내가 만든 클래스에 __iter__, __next__\n",
    "#두 메서드를 구현하면, 이터레이터 생성 가능"
   ]
  },
  {
   "cell_type": "code",
   "execution_count": 72,
   "metadata": {},
   "outputs": [],
   "source": [
    "class MyCounter:\n",
    "    def __getitem__(self,index):\n",
    "        if index<self.stop:\n",
    "            return index*10\n",
    "        else:\n",
    "            raise StopIteration\n",
    "            \n",
    "    def __init__(self,stop):\n",
    "        self.current=0\n",
    "        self.stop=stop\n",
    "#     def __iter__(self):\n",
    "#         return self\n",
    "#     def __next__(self):\n",
    "#         if self.current < self.stop:\n",
    "#             r=self.current\n",
    "#             self.current+=1\n",
    "#             return r\n",
    "#         else :\n",
    "#             raise StopIteration\n",
    "    \n",
    "# for i in MyCounter(3):\n",
    "#     print(i) # 0 1 2"
   ]
  },
  {
   "cell_type": "code",
   "execution_count": 73,
   "metadata": {},
   "outputs": [
    {
     "name": "stdout",
     "output_type": "stream",
     "text": [
      "0\n",
      "10\n",
      "20\n"
     ]
    }
   ],
   "source": [
    "#MyCounter(3)[0]\n",
    "for i in MyCounter(3):\n",
    "    print(i)"
   ]
  },
  {
   "cell_type": "code",
   "execution_count": null,
   "metadata": {},
   "outputs": [],
   "source": []
  },
  {
   "cell_type": "code",
   "execution_count": null,
   "metadata": {},
   "outputs": [],
   "source": []
  },
  {
   "cell_type": "code",
   "execution_count": 65,
   "metadata": {},
   "outputs": [
    {
     "name": "stdout",
     "output_type": "stream",
     "text": [
      "0 1 2\n"
     ]
    }
   ],
   "source": [
    "a,b,c=MyCounter(3)\n",
    "print(a,b,c)"
   ]
  },
  {
   "cell_type": "code",
   "execution_count": 66,
   "metadata": {
    "scrolled": true
   },
   "outputs": [
    {
     "name": "stdout",
     "output_type": "stream",
     "text": [
      "1 2 3\n"
     ]
    }
   ],
   "source": [
    "a,b,c=map(int,input().split())"
   ]
  },
  {
   "cell_type": "code",
   "execution_count": 67,
   "metadata": {},
   "outputs": [
    {
     "name": "stdout",
     "output_type": "stream",
     "text": [
      "1\n"
     ]
    }
   ],
   "source": [
    "print(a)"
   ]
  },
  {
   "cell_type": "code",
   "execution_count": null,
   "metadata": {},
   "outputs": [],
   "source": []
  },
  {
   "cell_type": "code",
   "execution_count": 77,
   "metadata": {},
   "outputs": [
    {
     "data": {
      "text/plain": [
       "2"
      ]
     },
     "execution_count": 77,
     "metadata": {},
     "output_type": "execute_result"
    }
   ],
   "source": [
    "#파이썬 iter함수: 객체의 __iter__ 메서드를 호출\n",
    "#파이썬 next함수: 객체의 __next__ 메서드를 호출\n",
    "it=iter(range(3))\n",
    "next(it)\n",
    "next(it)\n",
    "next(it)"
   ]
  },
  {
   "cell_type": "code",
   "execution_count": 86,
   "metadata": {},
   "outputs": [
    {
     "ename": "StopIteration",
     "evalue": "",
     "output_type": "error",
     "traceback": [
      "\u001b[1;31m---------------------------------------------------------------------------\u001b[0m",
      "\u001b[1;31mStopIteration\u001b[0m                             Traceback (most recent call last)",
      "\u001b[1;32m<ipython-input-86-89ef51b16312>\u001b[0m in \u001b[0;36m<module>\u001b[1;34m\u001b[0m\n\u001b[0;32m      4\u001b[0m \u001b[0mnext\u001b[0m\u001b[1;33m(\u001b[0m\u001b[0mit\u001b[0m\u001b[1;33m)\u001b[0m\u001b[1;33m\u001b[0m\u001b[1;33m\u001b[0m\u001b[0m\n\u001b[0;32m      5\u001b[0m \u001b[0mnext\u001b[0m\u001b[1;33m(\u001b[0m\u001b[0mit\u001b[0m\u001b[1;33m)\u001b[0m\u001b[1;33m\u001b[0m\u001b[1;33m\u001b[0m\u001b[0m\n\u001b[1;32m----> 6\u001b[1;33m \u001b[0mnext\u001b[0m\u001b[1;33m(\u001b[0m\u001b[0mit\u001b[0m\u001b[1;33m)\u001b[0m\u001b[1;33m\u001b[0m\u001b[1;33m\u001b[0m\u001b[0m\n\u001b[0m\u001b[0;32m      7\u001b[0m \u001b[0mnext\u001b[0m\u001b[1;33m(\u001b[0m\u001b[0mit\u001b[0m\u001b[1;33m)\u001b[0m\u001b[1;33m\u001b[0m\u001b[1;33m\u001b[0m\u001b[0m\n\u001b[0;32m      8\u001b[0m \u001b[0mnext\u001b[0m\u001b[1;33m(\u001b[0m\u001b[0mit\u001b[0m\u001b[1;33m)\u001b[0m\u001b[1;33m\u001b[0m\u001b[1;33m\u001b[0m\u001b[0m\n",
      "\u001b[1;31mStopIteration\u001b[0m: "
     ]
    }
   ],
   "source": [
    "#iter(객체, 반복을 끝낼값)\n",
    "import random\n",
    "it=iter(lambda: random.randint(0,5),2)\n",
    "next(it)\n",
    "next(it)\n",
    "next(it)\n",
    "next(it)\n",
    "next(it)"
   ]
  },
  {
   "cell_type": "code",
   "execution_count": 87,
   "metadata": {},
   "outputs": [],
   "source": [
    "#제너레이터:이터레이터를 생성하는 함수,\n",
    "#함수 내부에 yield 키워드를 주면 이터레이터가 생성됨\n",
    "def myGen():\n",
    "    yield 0\n",
    "    yield 1\n",
    "    yield 2   "
   ]
  },
  {
   "cell_type": "code",
   "execution_count": 88,
   "metadata": {},
   "outputs": [
    {
     "name": "stdout",
     "output_type": "stream",
     "text": [
      "0\n",
      "1\n",
      "2\n"
     ]
    }
   ],
   "source": [
    "for i in myGen():\n",
    "    print(i)"
   ]
  },
  {
   "cell_type": "code",
   "execution_count": 89,
   "metadata": {},
   "outputs": [
    {
     "data": {
      "text/plain": [
       "['__class__',\n",
       " '__del__',\n",
       " '__delattr__',\n",
       " '__dir__',\n",
       " '__doc__',\n",
       " '__eq__',\n",
       " '__format__',\n",
       " '__ge__',\n",
       " '__getattribute__',\n",
       " '__gt__',\n",
       " '__hash__',\n",
       " '__init__',\n",
       " '__init_subclass__',\n",
       " '__iter__',\n",
       " '__le__',\n",
       " '__lt__',\n",
       " '__name__',\n",
       " '__ne__',\n",
       " '__new__',\n",
       " '__next__',\n",
       " '__qualname__',\n",
       " '__reduce__',\n",
       " '__reduce_ex__',\n",
       " '__repr__',\n",
       " '__setattr__',\n",
       " '__sizeof__',\n",
       " '__str__',\n",
       " '__subclasshook__',\n",
       " 'close',\n",
       " 'gi_code',\n",
       " 'gi_frame',\n",
       " 'gi_running',\n",
       " 'gi_yieldfrom',\n",
       " 'send',\n",
       " 'throw']"
      ]
     },
     "execution_count": 89,
     "metadata": {},
     "output_type": "execute_result"
    }
   ],
   "source": [
    "mg=myGen()\n",
    "dir(mg)"
   ]
  },
  {
   "cell_type": "code",
   "execution_count": 90,
   "metadata": {},
   "outputs": [],
   "source": [
    "#keras.io -> ImageDataGenerator"
   ]
  },
  {
   "cell_type": "code",
   "execution_count": 66,
   "metadata": {},
   "outputs": [],
   "source": [
    "#1.이미지제너레이터 클래스 객체 생성\n",
    "#2. flow_from_directory() 호출 -> 제너레이터 생성\n",
    "\n",
    "from keras.preprocessing.image import ImageDataGenerator"
   ]
  },
  {
   "cell_type": "code",
   "execution_count": 69,
   "metadata": {},
   "outputs": [
    {
     "name": "stdout",
     "output_type": "stream",
     "text": [
      "Found 45 images belonging to 3 classes.\n"
     ]
    }
   ],
   "source": [
    "path = r\"C:\\Users\\chan\\Desktop\\TIL\\Python\\Tensorflow\\class_study\\ImageGenerator\"\n",
    "trainDataGen=ImageDataGenerator(rescale=1./255)\n",
    "trainGenerator=trainDataGen.flow_from_directory(\n",
    "    path + '\\\\train',\n",
    "    target_size=(24,24),\n",
    "    batch_size=3,\n",
    "    class_mode='categorical'\n",
    ")"
   ]
  },
  {
   "cell_type": "code",
   "execution_count": 70,
   "metadata": {},
   "outputs": [
    {
     "name": "stdout",
     "output_type": "stream",
     "text": [
      "Found 15 images belonging to 3 classes.\n"
     ]
    }
   ],
   "source": [
    "testDataGen=ImageDataGenerator(rescale=1./255)\n",
    "testGenerator=testDataGen.flow_from_directory(\n",
    "    path + '\\\\test',\n",
    "    target_size=(24,24),\n",
    "    batch_size=3,\n",
    "    class_mode='categorical'\n",
    ")"
   ]
  },
  {
   "cell_type": "code",
   "execution_count": 71,
   "metadata": {},
   "outputs": [],
   "source": [
    "#크기(24,24), 채널:3, 필터:3*3,필터개수:32,relu\n",
    "model=Sequential()\n",
    "model.add(Conv2D(32, kernel_size=(3,3),\n",
    "                activation='relu',\n",
    "                input_shape=(24,24,3)))\n",
    "#필터:3*3,필터개수:64,relu\n",
    "model.add(Conv2D(64, kernel_size=(3,3),\n",
    "                activation='relu'))\n",
    "#maxpool : 2*2\n",
    "model.add(MaxPooling2D(pool_size=(2,2)))\n",
    "#플래튼 -> Dense(128개 뉴런 출력)->Dense(softmax)\n",
    "model.add(Flatten())\n",
    "model.add(Dense(128, activation='relu'))\n",
    "model.add(Dense(3, activation='softmax'))"
   ]
  },
  {
   "cell_type": "code",
   "execution_count": 72,
   "metadata": {},
   "outputs": [
    {
     "name": "stdout",
     "output_type": "stream",
     "text": [
      "Model: \"sequential_6\"\n",
      "_________________________________________________________________\n",
      "Layer (type)                 Output Shape              Param #   \n",
      "=================================================================\n",
      "conv2d_7 (Conv2D)            (None, 22, 22, 32)        896       \n",
      "_________________________________________________________________\n",
      "conv2d_8 (Conv2D)            (None, 20, 20, 64)        18496     \n",
      "_________________________________________________________________\n",
      "max_pooling2d_4 (MaxPooling2 (None, 10, 10, 64)        0         \n",
      "_________________________________________________________________\n",
      "flatten_4 (Flatten)          (None, 6400)              0         \n",
      "_________________________________________________________________\n",
      "dense_11 (Dense)             (None, 128)               819328    \n",
      "_________________________________________________________________\n",
      "dense_12 (Dense)             (None, 3)                 387       \n",
      "=================================================================\n",
      "Total params: 839,107\n",
      "Trainable params: 839,107\n",
      "Non-trainable params: 0\n",
      "_________________________________________________________________\n"
     ]
    }
   ],
   "source": [
    "model.summary()"
   ]
  },
  {
   "cell_type": "code",
   "execution_count": 73,
   "metadata": {},
   "outputs": [],
   "source": [
    "#모델 학습 설정\n",
    "model.compile(loss='categorical_crossentropy',\n",
    "             optimizer='adam',\n",
    "             metrics=['accuracy'])"
   ]
  },
  {
   "cell_type": "code",
   "execution_count": 74,
   "metadata": {},
   "outputs": [
    {
     "name": "stdout",
     "output_type": "stream",
     "text": [
      "Epoch 1/50\n",
      "15/15 [==============================] - 1s 55ms/step - loss: 0.8301 - accuracy: 0.6444 - val_loss: 0.1492 - val_accuracy: 0.9333\n",
      "Epoch 2/50\n",
      "15/15 [==============================] - 0s 23ms/step - loss: 0.0986 - accuracy: 1.0000 - val_loss: 0.0169 - val_accuracy: 0.9333\n",
      "Epoch 3/50\n",
      "15/15 [==============================] - 0s 25ms/step - loss: 0.0197 - accuracy: 1.0000 - val_loss: 0.0021 - val_accuracy: 1.0000\n",
      "Epoch 4/50\n",
      "15/15 [==============================] - 0s 22ms/step - loss: 0.0013 - accuracy: 1.0000 - val_loss: 0.0034 - val_accuracy: 1.0000\n",
      "Epoch 5/50\n",
      "15/15 [==============================] - 0s 24ms/step - loss: 3.6778e-04 - accuracy: 1.0000 - val_loss: 2.7351e-04 - val_accuracy: 1.0000\n",
      "Epoch 6/50\n",
      "15/15 [==============================] - 0s 26ms/step - loss: 2.1685e-04 - accuracy: 1.0000 - val_loss: 6.0832e-05 - val_accuracy: 1.0000\n",
      "Epoch 7/50\n",
      "15/15 [==============================] - 0s 27ms/step - loss: 1.6340e-04 - accuracy: 1.0000 - val_loss: 8.0395e-04 - val_accuracy: 1.0000\n",
      "Epoch 8/50\n",
      "15/15 [==============================] - 0s 26ms/step - loss: 1.3412e-04 - accuracy: 1.0000 - val_loss: 6.0577e-04 - val_accuracy: 1.0000\n",
      "Epoch 9/50\n",
      "15/15 [==============================] - 1s 34ms/step - loss: 1.0691e-04 - accuracy: 1.0000 - val_loss: 4.9314e-04 - val_accuracy: 1.0000\n",
      "Epoch 10/50\n",
      "15/15 [==============================] - 0s 28ms/step - loss: 8.9747e-05 - accuracy: 1.0000 - val_loss: 0.0128 - val_accuracy: 1.0000\n",
      "Epoch 11/50\n",
      "15/15 [==============================] - 0s 26ms/step - loss: 7.6259e-05 - accuracy: 1.0000 - val_loss: 0.0133 - val_accuracy: 1.0000\n",
      "Epoch 12/50\n",
      "15/15 [==============================] - 0s 23ms/step - loss: 6.2470e-05 - accuracy: 1.0000 - val_loss: 0.0121 - val_accuracy: 1.0000\n",
      "Epoch 13/50\n",
      "15/15 [==============================] - 0s 26ms/step - loss: 5.3921e-05 - accuracy: 1.0000 - val_loss: 0.0113 - val_accuracy: 1.0000\n",
      "Epoch 14/50\n",
      "15/15 [==============================] - 0s 25ms/step - loss: 4.7660e-05 - accuracy: 1.0000 - val_loss: 0.0108 - val_accuracy: 1.0000\n",
      "Epoch 15/50\n",
      "15/15 [==============================] - 0s 23ms/step - loss: 4.1039e-05 - accuracy: 1.0000 - val_loss: 0.0099 - val_accuracy: 1.0000\n",
      "Epoch 16/50\n",
      "15/15 [==============================] - 0s 28ms/step - loss: 3.6462e-05 - accuracy: 1.0000 - val_loss: 0.0135 - val_accuracy: 1.0000\n",
      "Epoch 17/50\n",
      "15/15 [==============================] - 0s 26ms/step - loss: 3.2306e-05 - accuracy: 1.0000 - val_loss: 1.7043e-04 - val_accuracy: 1.0000\n",
      "Epoch 18/50\n",
      "15/15 [==============================] - 0s 26ms/step - loss: 2.8450e-05 - accuracy: 1.0000 - val_loss: 1.0729e-05 - val_accuracy: 1.0000\n",
      "Epoch 19/50\n",
      "15/15 [==============================] - 0s 28ms/step - loss: 2.4921e-05 - accuracy: 1.0000 - val_loss: 2.6312e-04 - val_accuracy: 1.0000\n",
      "Epoch 20/50\n",
      "15/15 [==============================] - 0s 25ms/step - loss: 2.2569e-05 - accuracy: 1.0000 - val_loss: 1.5756e-04 - val_accuracy: 1.0000\n",
      "Epoch 21/50\n",
      "15/15 [==============================] - 0s 25ms/step - loss: 1.9984e-05 - accuracy: 1.0000 - val_loss: 1.3311e-05 - val_accuracy: 1.0000\n",
      "Epoch 22/50\n",
      "15/15 [==============================] - 0s 21ms/step - loss: 1.8151e-05 - accuracy: 1.0000 - val_loss: 0.0072 - val_accuracy: 1.0000\n",
      "Epoch 23/50\n",
      "15/15 [==============================] - 0s 22ms/step - loss: 1.6344e-05 - accuracy: 1.0000 - val_loss: 0.0055 - val_accuracy: 1.0000\n",
      "Epoch 24/50\n",
      "15/15 [==============================] - 0s 23ms/step - loss: 1.4760e-05 - accuracy: 1.0000 - val_loss: 0.0053 - val_accuracy: 1.0000\n",
      "Epoch 25/50\n",
      "15/15 [==============================] - 0s 23ms/step - loss: 1.3574e-05 - accuracy: 1.0000 - val_loss: 0.0010 - val_accuracy: 1.0000\n",
      "Epoch 26/50\n",
      "15/15 [==============================] - 0s 23ms/step - loss: 1.2350e-05 - accuracy: 1.0000 - val_loss: 1.4231e-04 - val_accuracy: 1.0000\n",
      "Epoch 27/50\n",
      "15/15 [==============================] - 0s 29ms/step - loss: 1.1566e-05 - accuracy: 1.0000 - val_loss: 0.0043 - val_accuracy: 1.0000\n",
      "Epoch 28/50\n",
      "15/15 [==============================] - 0s 29ms/step - loss: 1.0395e-05 - accuracy: 1.0000 - val_loss: 2.3842e-06 - val_accuracy: 1.0000\n",
      "Epoch 29/50\n",
      "15/15 [==============================] - 0s 27ms/step - loss: 9.6399e-06 - accuracy: 1.0000 - val_loss: 0.0104 - val_accuracy: 1.0000\n",
      "Epoch 30/50\n",
      "15/15 [==============================] - 0s 29ms/step - loss: 8.8108e-06 - accuracy: 1.0000 - val_loss: 0.0035 - val_accuracy: 1.0000\n",
      "Epoch 31/50\n",
      "15/15 [==============================] - 0s 24ms/step - loss: 8.2121e-06 - accuracy: 1.0000 - val_loss: 3.0079e-05 - val_accuracy: 1.0000\n",
      "Epoch 32/50\n",
      "15/15 [==============================] - 0s 26ms/step - loss: 7.7617e-06 - accuracy: 1.0000 - val_loss: 8.6088e-04 - val_accuracy: 1.0000\n",
      "Epoch 33/50\n",
      "15/15 [==============================] - 0s 22ms/step - loss: 6.9829e-06 - accuracy: 1.0000 - val_loss: 0.0036 - val_accuracy: 1.0000\n",
      "Epoch 34/50\n",
      "15/15 [==============================] - 0s 22ms/step - loss: 6.5061e-06 - accuracy: 1.0000 - val_loss: 6.3578e-07 - val_accuracy: 1.0000\n",
      "Epoch 35/50\n",
      "15/15 [==============================] - 0s 26ms/step - loss: 6.1273e-06 - accuracy: 1.0000 - val_loss: 0.0125 - val_accuracy: 1.0000\n",
      "Epoch 36/50\n",
      "15/15 [==============================] - 0s 24ms/step - loss: 5.6637e-06 - accuracy: 1.0000 - val_loss: 0.0148 - val_accuracy: 1.0000\n",
      "Epoch 37/50\n",
      "15/15 [==============================] - 0s 26ms/step - loss: 5.1339e-06 - accuracy: 1.0000 - val_loss: 8.8721e-05 - val_accuracy: 1.0000\n",
      "Epoch 38/50\n",
      "15/15 [==============================] - 0s 24ms/step - loss: 4.8346e-06 - accuracy: 1.0000 - val_loss: 2.8610e-06 - val_accuracy: 1.0000\n",
      "Epoch 39/50\n",
      "15/15 [==============================] - 0s 29ms/step - loss: 4.4981e-06 - accuracy: 1.0000 - val_loss: 0.0027 - val_accuracy: 1.0000\n",
      "Epoch 40/50\n",
      "15/15 [==============================] - 0s 26ms/step - loss: 4.2067e-06 - accuracy: 1.0000 - val_loss: 0.0021 - val_accuracy: 1.0000\n",
      "Epoch 41/50\n",
      "15/15 [==============================] - 0s 25ms/step - loss: 4.0001e-06 - accuracy: 1.0000 - val_loss: 1.5735e-05 - val_accuracy: 1.0000\n",
      "Epoch 42/50\n",
      "15/15 [==============================] - 0s 21ms/step - loss: 3.7829e-06 - accuracy: 1.0000 - val_loss: 4.3313e-06 - val_accuracy: 1.0000\n",
      "Epoch 43/50\n",
      "15/15 [==============================] - 0s 22ms/step - loss: 3.5365e-06 - accuracy: 1.0000 - val_loss: 0.0121 - val_accuracy: 1.0000\n",
      "Epoch 44/50\n",
      "15/15 [==============================] - 0s 24ms/step - loss: 3.3193e-06 - accuracy: 1.0000 - val_loss: 0.0121 - val_accuracy: 1.0000\n",
      "Epoch 45/50\n",
      "15/15 [==============================] - 0s 23ms/step - loss: 3.1657e-06 - accuracy: 1.0000 - val_loss: 0.0017 - val_accuracy: 1.0000\n",
      "Epoch 46/50\n",
      "15/15 [==============================] - 0s 23ms/step - loss: 3.0067e-06 - accuracy: 1.0000 - val_loss: 1.1524e-06 - val_accuracy: 1.0000\n",
      "Epoch 47/50\n",
      "15/15 [==============================] - 0s 25ms/step - loss: 2.9246e-06 - accuracy: 1.0000 - val_loss: 5.5458e-04 - val_accuracy: 1.0000\n",
      "Epoch 48/50\n",
      "15/15 [==============================] - 0s 26ms/step - loss: 2.7471e-06 - accuracy: 1.0000 - val_loss: 1.2040e-05 - val_accuracy: 1.0000\n",
      "Epoch 49/50\n",
      "15/15 [==============================] - 0s 27ms/step - loss: 2.5776e-06 - accuracy: 1.0000 - val_loss: 6.3578e-07 - val_accuracy: 1.0000\n",
      "Epoch 50/50\n",
      "15/15 [==============================] - 0s 28ms/step - loss: 2.4531e-06 - accuracy: 1.0000 - val_loss: 5.3764e-04 - val_accuracy: 1.0000\n"
     ]
    },
    {
     "data": {
      "text/plain": [
       "<keras.callbacks.callbacks.History at 0x1b68227d1c8>"
      ]
     },
     "execution_count": 74,
     "metadata": {},
     "output_type": "execute_result"
    }
   ],
   "source": [
    "#fit_generator(): 제너레이터로 생성된 데이터 학습\n",
    "model.fit_generator(\n",
    "    trainGenerator, #훈련데이터 제너레이터\n",
    "    steps_per_epoch=15,\n",
    "    epochs=50,\n",
    "    validation_data=testGenerator,\n",
    "    validation_steps=5)"
   ]
  },
  {
   "cell_type": "code",
   "execution_count": 75,
   "metadata": {},
   "outputs": [
    {
     "name": "stdout",
     "output_type": "stream",
     "text": [
      "[0.000537637562956661, 1.0]\n"
     ]
    }
   ],
   "source": [
    "scores=model.evaluate_generator(\n",
    "    testGenerator,\n",
    "    steps=5\n",
    ")\n",
    "print(scores)"
   ]
  },
  {
   "cell_type": "code",
   "execution_count": 76,
   "metadata": {},
   "outputs": [
    {
     "name": "stdout",
     "output_type": "stream",
     "text": [
      "[[7.0873762e-06 9.9999285e-01 1.4252021e-07]\n",
      " [9.2858346e-07 9.9999905e-01 1.5497534e-08]\n",
      " [1.6191778e-07 9.9999988e-01 4.1481023e-08]\n",
      " [1.0361567e-02 9.6462792e-01 2.5010495e-02]\n",
      " [9.9999857e-01 1.3926103e-06 4.9814175e-09]\n",
      " [9.9571121e-01 6.2449515e-05 4.2263172e-03]\n",
      " [9.9999976e-01 2.0077944e-07 3.9037569e-09]\n",
      " [2.7596425e-06 9.9999702e-01 2.4304538e-07]\n",
      " [6.4620007e-09 3.1592216e-07 9.9999964e-01]\n",
      " [9.9999881e-01 1.0923088e-06 7.8392524e-08]\n",
      " [5.6772134e-08 2.1637150e-04 9.9978358e-01]\n",
      " [9.9997509e-01 2.4271994e-05 5.7722798e-07]\n",
      " [3.5602901e-07 1.6105969e-03 9.9838912e-01]\n",
      " [2.8864132e-11 1.8986550e-07 9.9999976e-01]\n",
      " [4.7833377e-09 4.9864423e-07 9.9999952e-01]]\n"
     ]
    }
   ],
   "source": [
    "res=model.predict_generator(\n",
    "    testGenerator,\n",
    "    steps=5\n",
    ")\n",
    "print(res)"
   ]
  },
  {
   "cell_type": "code",
   "execution_count": 106,
   "metadata": {},
   "outputs": [
    {
     "data": {
      "text/plain": [
       "'\\nrotation_range : 회전, 90(0~90도 사이 랜덤)\\nwidth_shift_range :이동, 0~1사이의 비율, 0.1(이미지 너비의 10% 좌/우 이동)\\nheight_shift_range :이동, 0~1사이의 비율, 0.1(이미지 너비의 10% 상/하 이동)\\nshear_range : 변형, 라디안, 0.5(반시계방향 밀어서 변행)\\nzoom_range : 축소, 0.3(0.7~1.3 사이의 크기로 랜덤하게...)\\nhorizontal_flip : 수평축으로 뒤집기\\nvertical_flip: 수직축으로 뒤집기\\n'"
      ]
     },
     "execution_count": 106,
     "metadata": {},
     "output_type": "execute_result"
    }
   ],
   "source": [
    "\"\"\"\n",
    "rotation_range : 회전, 90(0~90도 사이 랜덤)\n",
    "width_shift_range :이동, 0~1사이의 비율, 0.1(이미지 너비의 10% 좌/우 이동)\n",
    "height_shift_range :이동, 0~1사이의 비율, 0.1(이미지 너비의 10% 상/하 이동)\n",
    "shear_range : 변형, 라디안, 0.5(반시계방향 밀어서 변행)\n",
    "zoom_range : 축소, 0.3(0.7~1.3 사이의 크기로 랜덤하게...)\n",
    "horizontal_flip : 수평축으로 뒤집기\n",
    "vertical_flip: 수직축으로 뒤집기\n",
    "\"\"\"\n",
    "\n"
   ]
  },
  {
   "cell_type": "code",
   "execution_count": null,
   "metadata": {},
   "outputs": [],
   "source": []
  },
  {
   "cell_type": "code",
   "execution_count": 78,
   "metadata": {},
   "outputs": [],
   "source": [
    "from keras.preprocessing.image import array_to_img, img_to_array, load_img"
   ]
  },
  {
   "cell_type": "code",
   "execution_count": 79,
   "metadata": {},
   "outputs": [],
   "source": [
    "augGen=ImageDataGenerator(rescale=1./255,\n",
    "                  rotation_range=15,\n",
    "                   width_shift_range=0.1,\n",
    "                   height_shift_range=0.1,\n",
    "                   shear_range=0.5,\n",
    "                   zoom_range=[0.8,2.0],\n",
    "                   horizontal_flip=True,\n",
    "                   vertical_flip=True,\n",
    "                   fill_mode='nearest'\n",
    "                  )"
   ]
  },
  {
   "cell_type": "code",
   "execution_count": 80,
   "metadata": {},
   "outputs": [],
   "source": [
    "img=load_img(path + '/train/triangle/triangle001.png')"
   ]
  },
  {
   "cell_type": "code",
   "execution_count": 81,
   "metadata": {},
   "outputs": [
    {
     "data": {
      "text/plain": [
       "(1, 24, 24, 3)"
      ]
     },
     "execution_count": 81,
     "metadata": {},
     "output_type": "execute_result"
    }
   ],
   "source": [
    "x=img_to_array(img)\n",
    "x.shape\n",
    "x=x.reshape((1,)+x.shape)\n",
    "x.shape"
   ]
  },
  {
   "cell_type": "code",
   "execution_count": 84,
   "metadata": {},
   "outputs": [],
   "source": [
    "i=0\n",
    "for batch in augGen.flow(x,batch_size=1, \n",
    "                         save_to_dir=path + '/store',\n",
    "                         save_prefix=path + '/tri', \n",
    "                         save_format='png'):\n",
    "    i+=1\n",
    "    if i>50:\n",
    "        break"
   ]
  },
  {
   "cell_type": "code",
   "execution_count": null,
   "metadata": {},
   "outputs": [],
   "source": []
  }
 ],
 "metadata": {
  "kernelspec": {
   "display_name": "Python 3",
   "language": "python",
   "name": "python3"
  },
  "language_info": {
   "codemirror_mode": {
    "name": "ipython",
    "version": 3
   },
   "file_extension": ".py",
   "mimetype": "text/x-python",
   "name": "python",
   "nbconvert_exporter": "python",
   "pygments_lexer": "ipython3",
   "version": "3.7.7"
  }
 },
 "nbformat": 4,
 "nbformat_minor": 2
}
