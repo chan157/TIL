{
 "cells": [
  {
   "cell_type": "code",
   "execution_count": 123,
   "metadata": {},
   "outputs": [],
   "source": [
    "import tensorflow as tf\n",
    "import random\n",
    "import pandas as pd\n",
    "import matplotlib.pyplot as plt\n",
    "import seaborn as sns\n",
    "#pip install tqdm\n",
    "from tqdm import tqdm\n",
    "from tensorflow.examples.tutorials.mnist import input_data"
   ]
  },
  {
   "cell_type": "code",
   "execution_count": 124,
   "metadata": {
    "scrolled": true
   },
   "outputs": [
    {
     "name": "stdout",
     "output_type": "stream",
     "text": [
      "Extracting MNIST_data/train-images-idx3-ubyte.gz\n",
      "Extracting MNIST_data/train-labels-idx1-ubyte.gz\n",
      "Extracting MNIST_data/t10k-images-idx3-ubyte.gz\n",
      "Extracting MNIST_data/t10k-labels-idx1-ubyte.gz\n"
     ]
    }
   ],
   "source": [
    "mnist=input_data.read_data_sets(\"MNIST_data/\",one_hot=True)"
   ]
  },
  {
   "cell_type": "code",
   "execution_count": 125,
   "metadata": {},
   "outputs": [],
   "source": [
    "trainingEpochs=15\n",
    "batch_size=100"
   ]
  },
  {
   "cell_type": "code",
   "execution_count": 126,
   "metadata": {},
   "outputs": [],
   "source": [
    "# 기존에 생성된 Graph를 모두 삭제 및 리셋\n",
    "tf.reset_default_graph()"
   ]
  },
  {
   "cell_type": "markdown",
   "metadata": {},
   "source": [
    " Context가 유지되는 Jupyter Notebook 환경에서 실행할 경우를 위해, 반드시 tf.reset_default_graph() 메서드를 통해 Reset 시켜주도록 하자 라고 합니다. from https://github.com/HyOsori/Osori-SelfDrivingWithGTA5/issues/16"
   ]
  },
  {
   "cell_type": "code",
   "execution_count": 127,
   "metadata": {},
   "outputs": [],
   "source": [
    "x=tf.placeholder(tf.float32,[None,28*28])\n",
    "y=tf.placeholder(tf.float32,[None,10])\n",
    "\n",
    "w1=tf.get_variable(\"w1\",shape=[784,256], initializer=tf.contrib.layers.xavier_initializer())\n",
    "b1=tf.Variable(tf.random_normal([256]))\n",
    "l1=tf.nn.relu(tf.matmul(x,w1)+b1)\n",
    "\n",
    "w2=tf.get_variable(\"w2\",shape=[256,256], initializer=tf.contrib.layers.xavier_initializer())\n",
    "b2=tf.Variable(tf.random_normal([256]))\n",
    "l2=tf.nn.relu(tf.matmul(l1,w2)+b2)\n",
    "\n",
    "w3=tf.get_variable(\"w3\",shape=[256,256], initializer=tf.contrib.layers.xavier_initializer())\n",
    "b3=tf.Variable(tf.random_normal([256]))\n",
    "l3=tf.nn.relu(tf.matmul(l2,w3)+b3)\n",
    "\n",
    "w4=tf.get_variable(\"w4\",shape=[256,256], initializer=tf.contrib.layers.xavier_initializer())\n",
    "b4=tf.Variable(tf.random_normal([256]))\n",
    "l4=tf.nn.relu(tf.matmul(l3,w4)+b4)\n",
    "\n",
    "w5=tf.get_variable(\"w5\",shape=[256,10], initializer=tf.contrib.layers.xavier_initializer())\n",
    "b5=tf.Variable(tf.random_normal([10]))\n",
    "\n",
    "hf=tf.matmul(l4,w5)+b5"
   ]
  },
  {
   "cell_type": "code",
   "execution_count": 128,
   "metadata": {},
   "outputs": [],
   "source": [
    "#재비어\n",
    "# np.random.randn(입력노드수,출력노드수)\n",
    "# /np.sqrt(입력노드수)\n",
    "#tf.contrib.layers.xavier_initializer()\n",
    "\n",
    "#he\n",
    "# np.random.randn(입력노드수,출력노드수)\n",
    "# / np.sqrt(입력노드수/2)\n",
    "#tf.keras.initializers.he_normal()"
   ]
  },
  {
   "cell_type": "code",
   "execution_count": 131,
   "metadata": {},
   "outputs": [],
   "source": [
    "keep_prob = tf.placeholder(tf.float32)"
   ]
  },
  {
   "cell_type": "code",
   "execution_count": 132,
   "metadata": {},
   "outputs": [
    {
     "data": {
      "text/plain": [
       "'\\n-전통적 경사하강법은 매번 미분함 => 속도 느림\\n-확률적 경사하강법(sgd)=>속도 개선\\n-모멘텀(momentum) sgd => 확률적 경사하강법 + 관성\\n-아다그리드 => step size 개선\\n-rmsprop :아다그리드 개선\\n-아담(Adam) : 모멘텀 + rmsprop\\n'"
      ]
     },
     "execution_count": 132,
     "metadata": {},
     "output_type": "execute_result"
    }
   ],
   "source": [
    "cost=tf.reduce_mean(tf.nn.softmax_cross_entropy_with_logits_v2(logits=hf, labels=y))\n",
    "optimizer=tf.train.AdamOptimizer(0.001).minimize(cost)\n",
    "prediction=tf.equal(tf.argmax(hf,1),tf.argmax(y,1))\n",
    "accuracy=tf.reduce_mean(tf.cast(prediction,tf.float32))\n",
    "#가중치 업데이트 방법\n",
    "\"\"\"\n",
    "-전통적 경사하강법은 매번 미분함 => 속도 느림\n",
    "-확률적 경사하강법(sgd)=>속도 개선\n",
    "-모멘텀(momentum) sgd => 확률적 경사하강법 + 관성\n",
    "-아다그리드 => step size 개선\n",
    "-rmsprop :아다그리드 개선\n",
    "-아담(Adam) : 모멘텀 + rmsprop\n",
    "\"\"\""
   ]
  },
  {
   "cell_type": "code",
   "execution_count": 133,
   "metadata": {},
   "outputs": [
    {
     "name": "stderr",
     "output_type": "stream",
     "text": [
      "cost:0.316122: 100%|████████████████████████████████████████████████████████████████| 550/550 [00:02<00:00, 193.06it/s]\n",
      "cost:0.116452: 100%|████████████████████████████████████████████████████████████████| 550/550 [00:02<00:00, 201.04it/s]\n",
      "cost:0.074109: 100%|████████████████████████████████████████████████████████████████| 550/550 [00:02<00:00, 206.52it/s]\n",
      "cost:0.056948: 100%|████████████████████████████████████████████████████████████████| 550/550 [00:02<00:00, 201.38it/s]\n",
      "cost:0.045080: 100%|████████████████████████████████████████████████████████████████| 550/550 [00:02<00:00, 210.00it/s]\n",
      "cost:0.034861: 100%|████████████████████████████████████████████████████████████████| 550/550 [00:02<00:00, 203.64it/s]\n",
      "cost:0.032341: 100%|████████████████████████████████████████████████████████████████| 550/550 [00:02<00:00, 203.33it/s]\n",
      "cost:0.025997: 100%|████████████████████████████████████████████████████████████████| 550/550 [00:02<00:00, 202.97it/s]\n",
      "cost:0.027094: 100%|████████████████████████████████████████████████████████████████| 550/550 [00:02<00:00, 205.53it/s]\n",
      "cost:0.019851: 100%|████████████████████████████████████████████████████████████████| 550/550 [00:02<00:00, 206.81it/s]\n",
      "cost:0.018754: 100%|████████████████████████████████████████████████████████████████| 550/550 [00:02<00:00, 197.11it/s]\n",
      "cost:0.018680: 100%|████████████████████████████████████████████████████████████████| 550/550 [00:02<00:00, 208.02it/s]\n",
      "cost:0.015345: 100%|████████████████████████████████████████████████████████████████| 550/550 [00:02<00:00, 221.92it/s]\n",
      "cost:0.017215: 100%|████████████████████████████████████████████████████████████████| 550/550 [00:02<00:00, 189.41it/s]\n",
      "cost:0.013113: 100%|████████████████████████████████████████████████████████████████| 550/550 [00:02<00:00, 226.38it/s]\n"
     ]
    },
    {
     "name": "stdout",
     "output_type": "stream",
     "text": [
      "정확도: 0.979\n"
     ]
    }
   ],
   "source": [
    "sess=tf.Session()\n",
    "sess.run(tf.global_variables_initializer())\n",
    "for epoch in range(trainingEpochs):\n",
    "    avgCost=0\n",
    "    totalBatch=int(mnist.train.num_examples/batch_size)\n",
    "    \n",
    "    pbar=tqdm(range(totalBatch))    \n",
    "    for i in pbar:  #in range(totalBatch):\n",
    "        batchX,batchY=mnist.train.next_batch(batch_size)\n",
    "        cv,_=sess.run([cost,optimizer],feed_dict={x:batchX,y:batchY,keep_prob:0.7})\n",
    "        avgCost+=cv/totalBatch\n",
    "        pbar.set_description(\"cost:%f\" % avgCost)\n",
    "print(\"정확도:\",sess.run(accuracy,feed_dict={x:mnist.test.images, y:mnist.test.labels}))\n",
    "    "
   ]
  },
  {
   "cell_type": "code",
   "execution_count": 134,
   "metadata": {},
   "outputs": [
    {
     "name": "stdout",
     "output_type": "stream",
     "text": [
      "      label  predict\n",
      "149       2        9\n",
      "217       6        5\n",
      "247       4        6\n",
      "340       5        3\n",
      "381       3        7\n",
      "...     ...      ...\n",
      "9828      3        5\n",
      "9856      9        5\n",
      "9867      2        8\n",
      "9925      3        8\n",
      "9975      3        8\n",
      "\n",
      "[210 rows x 2 columns]\n"
     ]
    },
    {
     "data": {
      "image/png": "[encoded data removed]",
      "text/plain": [
       "<Figure size 864x432 with 1 Axes>"
      ]
     },
     "metadata": {
      "needs_background": "light"
     },
     "output_type": "display_data"
    }
   ],
   "source": [
    "index, ori, pred = [], [], []\n",
    "labels=sess.run(tf.argmax(mnist.test.labels,1))\n",
    "predictions=sess.run(tf.argmax(hf,1),feed_dict={x:mnist.test.images})\n",
    "for i in range(0, mnist.test.num_examples):\n",
    "    if predictions[i] != labels[i]:\n",
    "        index.append(i)\n",
    "        ori.append(labels[i])\n",
    "        pred.append(predictions[i])\n",
    "res=pd.DataFrame({\"label\":ori, \n",
    "                  \"predict\":pred},\n",
    "                 index=index)\n",
    "print(res)\n",
    "plt.figure(figsize=(12,6))\n",
    "plt.hist(res['predict'],bins=10)        \n",
    "plt.xlabel('fault prediction')\n",
    "plt.grid()\n",
    "plt.show()"
   ]
  },
  {
   "cell_type": "code",
   "execution_count": 135,
   "metadata": {},
   "outputs": [
    {
     "data": {
      "image/png": "[encoded data removed]",
      "text/plain": [
       "<Figure size 864x432 with 1 Axes>"
      ]
     },
     "metadata": {
      "needs_background": "light"
     },
     "output_type": "display_data"
    }
   ],
   "source": [
    "import seaborn as sns\n",
    "plt.figure(figsize=(12,6))\n",
    "sns.violinplot(x='label',y='predict',data=res)\n",
    "plt.xlabel('fault prediction')\n",
    "plt.grid()\n",
    "plt.show()"
   ]
  },
  {
   "cell_type": "code",
   "execution_count": 136,
   "metadata": {},
   "outputs": [
    {
     "data": {
      "image/png": "[encoded data removed]",
      "text/plain": [
       "<Figure size 864x432 with 1 Axes>"
      ]
     },
     "metadata": {
      "needs_background": "light"
     },
     "output_type": "display_data"
    }
   ],
   "source": [
    "plt.figure(figsize=(12,6))\n",
    "sns.swarmplot(x='label',y='predict',data=res)\n",
    "sns.despine(offset=10, trim=True)\n",
    "plt.xlabel('fault prediction')\n",
    "plt.grid()\n",
    "plt.show()"
   ]
  },
  {
   "cell_type": "code",
   "execution_count": 137,
   "metadata": {},
   "outputs": [],
   "source": [
    "ver=res.query(\"label==4\").sample(n=8).index"
   ]
  },
  {
   "cell_type": "code",
   "execution_count": 139,
   "metadata": {},
   "outputs": [
    {
     "data": {
      "image/png": "[encoded data removed]",
      "text/plain": [
       "<Figure size 432x288 with 8 Axes>"
      ]
     },
     "metadata": {
      "needs_background": "light"
     },
     "output_type": "display_data"
    }
   ],
   "source": [
    "cnt=0\n",
    "for n in ver:\n",
    "    cnt+=1\n",
    "    plt.subplot(4,4,cnt)\n",
    "    plt.imshow(mnist.test.images[n].reshape(28,28), cmap='Greys')\n",
    "    t=\"label:\"+str(res['label'][n])+\"pred:\"+str(res['predict'][n])\n",
    "    plt.title(t)\n",
    "plt.tight_layout()\n",
    "plt.show()"
   ]
  },
  {
   "cell_type": "code",
   "execution_count": 27,
   "metadata": {},
   "outputs": [],
   "source": [
    "#pima 인디안 분석"
   ]
  },
  {
   "cell_type": "code",
   "execution_count": 140,
   "metadata": {},
   "outputs": [
    {
     "name": "stderr",
     "output_type": "stream",
     "text": [
      "Using TensorFlow backend.\n"
     ]
    }
   ],
   "source": [
    "from keras.models import Sequential\n",
    "from keras.layers import Dense\n",
    "import numpy as np"
   ]
  },
  {
   "cell_type": "code",
   "execution_count": 141,
   "metadata": {},
   "outputs": [],
   "source": [
    "#seed생성\n",
    "np.random.seed(42)\n",
    "tf.set_random_seed(42)"
   ]
  },
  {
   "cell_type": "code",
   "execution_count": 146,
   "metadata": {},
   "outputs": [],
   "source": [
    "path = r\"C:\\Users\\chan\\Desktop\\dataset\"\n",
    "data=np.loadtxt(path+\"\\pima-indians-diabetes.csv\",delimiter=\",\")"
   ]
  },
  {
   "cell_type": "code",
   "execution_count": 147,
   "metadata": {},
   "outputs": [],
   "source": [
    "x=data[:,0:8]\n",
    "y=data[:,8]"
   ]
  },
  {
   "cell_type": "code",
   "execution_count": 148,
   "metadata": {},
   "outputs": [
    {
     "name": "stdout",
     "output_type": "stream",
     "text": [
      "WARNING:tensorflow:From C:\\Users\\chan\\anaconda3\\envs\\tf15_py37\\lib\\site-packages\\tensorflow_core\\python\\ops\\resource_variable_ops.py:1630: calling BaseResourceVariable.__init__ (from tensorflow.python.ops.resource_variable_ops) with constraint is deprecated and will be removed in a future version.\n",
      "Instructions for updating:\n",
      "If using Keras pass *_constraint arguments to layers.\n"
     ]
    }
   ],
   "source": [
    "model=Sequential()\n",
    "model.add(Dense(12, input_dim=8, activation='relu'))\n",
    "model.add(Dense(8, activation='relu'))\n",
    "model.add(Dense(1, activation='sigmoid'))"
   ]
  },
  {
   "cell_type": "code",
   "execution_count": 149,
   "metadata": {
    "scrolled": true
   },
   "outputs": [
    {
     "name": "stdout",
     "output_type": "stream",
     "text": [
      "WARNING:tensorflow:From C:\\Users\\chan\\anaconda3\\envs\\tf15_py37\\lib\\site-packages\\tensorflow_core\\python\\ops\\nn_impl.py:183: where (from tensorflow.python.ops.array_ops) is deprecated and will be removed in a future version.\n",
      "Instructions for updating:\n",
      "Use tf.where in 2.0, which has the same broadcast rule as np.where\n"
     ]
    }
   ],
   "source": [
    "model.compile(loss=\"binary_crossentropy\",\n",
    "             optimizer='adam',\n",
    "             metrics=['accuracy'])"
   ]
  },
  {
   "cell_type": "code",
   "execution_count": 150,
   "metadata": {
    "scrolled": true
   },
   "outputs": [
    {
     "name": "stdout",
     "output_type": "stream",
     "text": [
      "WARNING:tensorflow:From C:\\Users\\chan\\anaconda3\\envs\\tf15_py37\\lib\\site-packages\\keras\\backend\\tensorflow_backend.py:422: The name tf.global_variables is deprecated. Please use tf.compat.v1.global_variables instead.\n",
      "\n",
      "WARNING:tensorflow:From C:\\Users\\chan\\anaconda3\\envs\\tf15_py37\\lib\\site-packages\\keras\\backend\\tensorflow_backend.py:431: The name tf.is_variable_initialized is deprecated. Please use tf.compat.v1.is_variable_initialized instead.\n",
      "\n",
      "WARNING:tensorflow:From C:\\Users\\chan\\anaconda3\\envs\\tf15_py37\\lib\\site-packages\\keras\\backend\\tensorflow_backend.py:438: The name tf.variables_initializer is deprecated. Please use tf.compat.v1.variables_initializer instead.\n",
      "\n",
      "Epoch 1/200\n",
      "768/768 [==============================] - 0s 283us/step - loss: 12.4387 - accuracy: 0.3568\n",
      "Epoch 2/200\n",
      "768/768 [==============================] - 0s 107us/step - loss: 1.6255 - accuracy: 0.5430\n",
      "Epoch 3/200\n",
      "768/768 [==============================] - 0s 102us/step - loss: 1.1513 - accuracy: 0.6029\n",
      "Epoch 4/200\n",
      "768/768 [==============================] - 0s 99us/step - loss: 1.0524 - accuracy: 0.5977\n",
      "Epoch 5/200\n",
      "768/768 [==============================] - 0s 102us/step - loss: 0.9562 - accuracy: 0.5964\n",
      "Epoch 6/200\n",
      "768/768 [==============================] - 0s 129us/step - loss: 0.8963 - accuracy: 0.6016\n",
      "Epoch 7/200\n",
      "768/768 [==============================] - 0s 138us/step - loss: 0.8693 - accuracy: 0.6029\n",
      "Epoch 8/200\n",
      "768/768 [==============================] - 0s 91us/step - loss: 0.8080 - accuracy: 0.6146\n",
      "Epoch 9/200\n",
      "768/768 [==============================] - 0s 93us/step - loss: 0.8131 - accuracy: 0.6198\n",
      "Epoch 10/200\n",
      "768/768 [==============================] - 0s 103us/step - loss: 0.7428 - accuracy: 0.6211\n",
      "Epoch 11/200\n",
      "768/768 [==============================] - 0s 82us/step - loss: 0.7290 - accuracy: 0.6393\n",
      "Epoch 12/200\n",
      "768/768 [==============================] - 0s 85us/step - loss: 0.7262 - accuracy: 0.6367\n",
      "Epoch 13/200\n",
      "768/768 [==============================] - 0s 86us/step - loss: 0.7103 - accuracy: 0.6406\n",
      "Epoch 14/200\n",
      "768/768 [==============================] - 0s 87us/step - loss: 0.7225 - accuracy: 0.6354\n",
      "Epoch 15/200\n",
      "768/768 [==============================] - 0s 86us/step - loss: 0.6883 - accuracy: 0.6432\n",
      "Epoch 16/200\n",
      "768/768 [==============================] - 0s 83us/step - loss: 0.6855 - accuracy: 0.6562\n",
      "Epoch 17/200\n",
      "768/768 [==============================] - 0s 93us/step - loss: 0.7085 - accuracy: 0.6510\n",
      "Epoch 18/200\n",
      "768/768 [==============================] - 0s 79us/step - loss: 0.6589 - accuracy: 0.6576\n",
      "Epoch 19/200\n",
      "768/768 [==============================] - 0s 81us/step - loss: 0.6637 - accuracy: 0.6719\n",
      "Epoch 20/200\n",
      "768/768 [==============================] - 0s 83us/step - loss: 0.6342 - accuracy: 0.6901\n",
      "Epoch 21/200\n",
      "768/768 [==============================] - 0s 91us/step - loss: 0.6216 - accuracy: 0.6680\n",
      "Epoch 22/200\n",
      "768/768 [==============================] - 0s 87us/step - loss: 0.6513 - accuracy: 0.6667\n",
      "Epoch 23/200\n",
      "768/768 [==============================] - 0s 86us/step - loss: 0.6257 - accuracy: 0.6732\n",
      "Epoch 24/200\n",
      "768/768 [==============================] - 0s 89us/step - loss: 0.6242 - accuracy: 0.6862\n",
      "Epoch 25/200\n",
      "768/768 [==============================] - 0s 84us/step - loss: 0.6178 - accuracy: 0.6784\n",
      "Epoch 26/200\n",
      "768/768 [==============================] - 0s 83us/step - loss: 0.5938 - accuracy: 0.6849\n",
      "Epoch 27/200\n",
      "768/768 [==============================] - 0s 86us/step - loss: 0.6218 - accuracy: 0.7057\n",
      "Epoch 28/200\n",
      "768/768 [==============================] - 0s 86us/step - loss: 0.6078 - accuracy: 0.6901\n",
      "Epoch 29/200\n",
      "768/768 [==============================] - 0s 91us/step - loss: 0.5974 - accuracy: 0.6979\n",
      "Epoch 30/200\n",
      "768/768 [==============================] - 0s 110us/step - loss: 0.6082 - accuracy: 0.6979\n",
      "Epoch 31/200\n",
      "768/768 [==============================] - 0s 83us/step - loss: 0.5883 - accuracy: 0.7005\n",
      "Epoch 32/200\n",
      "768/768 [==============================] - 0s 93us/step - loss: 0.5957 - accuracy: 0.7161\n",
      "Epoch 33/200\n",
      "768/768 [==============================] - 0s 83us/step - loss: 0.6313 - accuracy: 0.6836\n",
      "Epoch 34/200\n",
      "768/768 [==============================] - 0s 81us/step - loss: 0.5938 - accuracy: 0.7070\n",
      "Epoch 35/200\n",
      "768/768 [==============================] - 0s 92us/step - loss: 0.6075 - accuracy: 0.6810\n",
      "Epoch 36/200\n",
      "768/768 [==============================] - 0s 83us/step - loss: 0.5879 - accuracy: 0.7174\n",
      "Epoch 37/200\n",
      "768/768 [==============================] - 0s 90us/step - loss: 0.5802 - accuracy: 0.7083\n",
      "Epoch 38/200\n",
      "768/768 [==============================] - 0s 106us/step - loss: 0.5770 - accuracy: 0.7188\n",
      "Epoch 39/200\n",
      "768/768 [==============================] - 0s 105us/step - loss: 0.5807 - accuracy: 0.7057\n",
      "Epoch 40/200\n",
      "768/768 [==============================] - 0s 99us/step - loss: 0.5716 - accuracy: 0.7188\n",
      "Epoch 41/200\n",
      "768/768 [==============================] - 0s 92us/step - loss: 0.5571 - accuracy: 0.7331\n",
      "Epoch 42/200\n",
      "768/768 [==============================] - 0s 85us/step - loss: 0.5826 - accuracy: 0.7005\n",
      "Epoch 43/200\n",
      "768/768 [==============================] - 0s 83us/step - loss: 0.5763 - accuracy: 0.7122\n",
      "Epoch 44/200\n",
      "768/768 [==============================] - 0s 83us/step - loss: 0.5881 - accuracy: 0.7096\n",
      "Epoch 45/200\n",
      "768/768 [==============================] - 0s 78us/step - loss: 0.5649 - accuracy: 0.7227\n",
      "Epoch 46/200\n",
      "768/768 [==============================] - 0s 82us/step - loss: 0.5798 - accuracy: 0.7201\n",
      "Epoch 47/200\n",
      "768/768 [==============================] - 0s 90us/step - loss: 0.5549 - accuracy: 0.7292\n",
      "Epoch 48/200\n",
      "768/768 [==============================] - 0s 83us/step - loss: 0.5646 - accuracy: 0.7214\n",
      "Epoch 49/200\n",
      "768/768 [==============================] - 0s 86us/step - loss: 0.5578 - accuracy: 0.7122\n",
      "Epoch 50/200\n",
      "768/768 [==============================] - 0s 85us/step - loss: 0.5899 - accuracy: 0.7083\n",
      "Epoch 51/200\n",
      "768/768 [==============================] - 0s 86us/step - loss: 0.5611 - accuracy: 0.7083\n",
      "Epoch 52/200\n",
      "768/768 [==============================] - 0s 90us/step - loss: 0.5577 - accuracy: 0.7240\n",
      "Epoch 53/200\n",
      "768/768 [==============================] - 0s 83us/step - loss: 0.6048 - accuracy: 0.6914\n",
      "Epoch 54/200\n",
      "768/768 [==============================] - 0s 81us/step - loss: 0.5613 - accuracy: 0.7240\n",
      "Epoch 55/200\n",
      "768/768 [==============================] - 0s 85us/step - loss: 0.5759 - accuracy: 0.7227\n",
      "Epoch 56/200\n",
      "768/768 [==============================] - 0s 84us/step - loss: 0.5544 - accuracy: 0.7305\n",
      "Epoch 57/200\n",
      "768/768 [==============================] - 0s 85us/step - loss: 0.5506 - accuracy: 0.7422\n",
      "Epoch 58/200\n",
      "768/768 [==============================] - 0s 87us/step - loss: 0.5462 - accuracy: 0.7214\n",
      "Epoch 59/200\n",
      "768/768 [==============================] - 0s 90us/step - loss: 0.5415 - accuracy: 0.7318\n",
      "Epoch 60/200\n",
      "768/768 [==============================] - 0s 88us/step - loss: 0.5515 - accuracy: 0.7188\n",
      "Epoch 61/200\n",
      "768/768 [==============================] - 0s 84us/step - loss: 0.5453 - accuracy: 0.7422\n",
      "Epoch 62/200\n",
      "768/768 [==============================] - 0s 101us/step - loss: 0.5509 - accuracy: 0.7396\n",
      "Epoch 63/200\n",
      "768/768 [==============================] - 0s 90us/step - loss: 0.5500 - accuracy: 0.7305\n",
      "Epoch 64/200\n",
      "768/768 [==============================] - 0s 82us/step - loss: 0.5442 - accuracy: 0.7240\n",
      "Epoch 65/200\n",
      "768/768 [==============================] - 0s 83us/step - loss: 0.5346 - accuracy: 0.7201\n",
      "Epoch 66/200\n",
      "768/768 [==============================] - 0s 88us/step - loss: 0.5573 - accuracy: 0.7331\n",
      "Epoch 67/200\n",
      "768/768 [==============================] - 0s 94us/step - loss: 0.5516 - accuracy: 0.7253\n",
      "Epoch 68/200\n",
      "768/768 [==============================] - 0s 86us/step - loss: 0.5449 - accuracy: 0.7305\n",
      "Epoch 69/200\n",
      "768/768 [==============================] - 0s 82us/step - loss: 0.5480 - accuracy: 0.7370\n",
      "Epoch 70/200\n",
      "768/768 [==============================] - 0s 83us/step - loss: 0.5606 - accuracy: 0.7174\n",
      "Epoch 71/200\n",
      "768/768 [==============================] - 0s 83us/step - loss: 0.5356 - accuracy: 0.7357\n",
      "Epoch 72/200\n",
      "768/768 [==============================] - 0s 83us/step - loss: 0.5328 - accuracy: 0.7370\n",
      "Epoch 73/200\n",
      "768/768 [==============================] - 0s 81us/step - loss: 0.5289 - accuracy: 0.7448\n"
     ]
    },
    {
     "name": "stdout",
     "output_type": "stream",
     "text": [
      "Epoch 74/200\n",
      "768/768 [==============================] - 0s 84us/step - loss: 0.5352 - accuracy: 0.7500\n",
      "Epoch 75/200\n",
      "768/768 [==============================] - 0s 87us/step - loss: 0.5491 - accuracy: 0.7396\n",
      "Epoch 76/200\n",
      "768/768 [==============================] - 0s 86us/step - loss: 0.5295 - accuracy: 0.7409\n",
      "Epoch 77/200\n",
      "768/768 [==============================] - 0s 99us/step - loss: 0.5440 - accuracy: 0.7500\n",
      "Epoch 78/200\n",
      "768/768 [==============================] - 0s 105us/step - loss: 0.5281 - accuracy: 0.7409\n",
      "Epoch 79/200\n",
      "768/768 [==============================] - 0s 97us/step - loss: 0.5358 - accuracy: 0.7383\n",
      "Epoch 80/200\n",
      "768/768 [==============================] - 0s 95us/step - loss: 0.5351 - accuracy: 0.7422\n",
      "Epoch 81/200\n",
      "768/768 [==============================] - 0s 94us/step - loss: 0.5283 - accuracy: 0.7279\n",
      "Epoch 82/200\n",
      "768/768 [==============================] - 0s 95us/step - loss: 0.5345 - accuracy: 0.7422\n",
      "Epoch 83/200\n",
      "768/768 [==============================] - 0s 97us/step - loss: 0.5259 - accuracy: 0.7383\n",
      "Epoch 84/200\n",
      "768/768 [==============================] - 0s 96us/step - loss: 0.5284 - accuracy: 0.7526\n",
      "Epoch 85/200\n",
      "768/768 [==============================] - 0s 120us/step - loss: 0.5196 - accuracy: 0.7461\n",
      "Epoch 86/200\n",
      "768/768 [==============================] - 0s 119us/step - loss: 0.5173 - accuracy: 0.7513\n",
      "Epoch 87/200\n",
      "768/768 [==============================] - 0s 113us/step - loss: 0.5416 - accuracy: 0.7513\n",
      "Epoch 88/200\n",
      "768/768 [==============================] - 0s 108us/step - loss: 0.5268 - accuracy: 0.7422\n",
      "Epoch 89/200\n",
      "768/768 [==============================] - 0s 97us/step - loss: 0.5397 - accuracy: 0.7201\n",
      "Epoch 90/200\n",
      "768/768 [==============================] - 0s 93us/step - loss: 0.5191 - accuracy: 0.7461\n",
      "Epoch 91/200\n",
      "768/768 [==============================] - 0s 99us/step - loss: 0.5336 - accuracy: 0.7461\n",
      "Epoch 92/200\n",
      "768/768 [==============================] - 0s 91us/step - loss: 0.5330 - accuracy: 0.7357\n",
      "Epoch 93/200\n",
      "768/768 [==============================] - 0s 93us/step - loss: 0.5182 - accuracy: 0.7565\n",
      "Epoch 94/200\n",
      "768/768 [==============================] - 0s 87us/step - loss: 0.5142 - accuracy: 0.7565\n",
      "Epoch 95/200\n",
      "768/768 [==============================] - 0s 90us/step - loss: 0.5132 - accuracy: 0.7513\n",
      "Epoch 96/200\n",
      "768/768 [==============================] - 0s 92us/step - loss: 0.5351 - accuracy: 0.7474\n",
      "Epoch 97/200\n",
      "768/768 [==============================] - 0s 90us/step - loss: 0.5233 - accuracy: 0.7227\n",
      "Epoch 98/200\n",
      "768/768 [==============================] - 0s 89us/step - loss: 0.5270 - accuracy: 0.7370\n",
      "Epoch 99/200\n",
      "768/768 [==============================] - 0s 88us/step - loss: 0.5178 - accuracy: 0.7630\n",
      "Epoch 100/200\n",
      "768/768 [==============================] - 0s 84us/step - loss: 0.5068 - accuracy: 0.7565\n",
      "Epoch 101/200\n",
      "768/768 [==============================] - 0s 78us/step - loss: 0.5166 - accuracy: 0.7474\n",
      "Epoch 102/200\n",
      "768/768 [==============================] - 0s 90us/step - loss: 0.5178 - accuracy: 0.7292\n",
      "Epoch 103/200\n",
      "768/768 [==============================] - 0s 83us/step - loss: 0.5300 - accuracy: 0.7292\n",
      "Epoch 104/200\n",
      "768/768 [==============================] - 0s 83us/step - loss: 0.5201 - accuracy: 0.7422\n",
      "Epoch 105/200\n",
      "768/768 [==============================] - 0s 85us/step - loss: 0.5013 - accuracy: 0.7539\n",
      "Epoch 106/200\n",
      "768/768 [==============================] - 0s 90us/step - loss: 0.5076 - accuracy: 0.7448\n",
      "Epoch 107/200\n",
      "768/768 [==============================] - 0s 87us/step - loss: 0.5080 - accuracy: 0.7409\n",
      "Epoch 108/200\n",
      "768/768 [==============================] - 0s 83us/step - loss: 0.5112 - accuracy: 0.7513\n",
      "Epoch 109/200\n",
      "768/768 [==============================] - 0s 88us/step - loss: 0.5016 - accuracy: 0.7617\n",
      "Epoch 110/200\n",
      "768/768 [==============================] - 0s 89us/step - loss: 0.5005 - accuracy: 0.7539\n",
      "Epoch 111/200\n",
      "768/768 [==============================] - 0s 91us/step - loss: 0.5059 - accuracy: 0.7500\n",
      "Epoch 112/200\n",
      "768/768 [==============================] - 0s 96us/step - loss: 0.5122 - accuracy: 0.7396\n",
      "Epoch 113/200\n",
      "768/768 [==============================] - 0s 94us/step - loss: 0.5018 - accuracy: 0.7513\n",
      "Epoch 114/200\n",
      "768/768 [==============================] - 0s 88us/step - loss: 0.5109 - accuracy: 0.7513\n",
      "Epoch 115/200\n",
      "768/768 [==============================] - 0s 87us/step - loss: 0.5081 - accuracy: 0.7604\n",
      "Epoch 116/200\n",
      "768/768 [==============================] - 0s 101us/step - loss: 0.5352 - accuracy: 0.7292\n",
      "Epoch 117/200\n",
      "768/768 [==============================] - 0s 93us/step - loss: 0.5060 - accuracy: 0.7513\n",
      "Epoch 118/200\n",
      "768/768 [==============================] - 0s 85us/step - loss: 0.4927 - accuracy: 0.7565\n",
      "Epoch 119/200\n",
      "768/768 [==============================] - 0s 86us/step - loss: 0.4964 - accuracy: 0.7604\n",
      "Epoch 120/200\n",
      "768/768 [==============================] - 0s 87us/step - loss: 0.4961 - accuracy: 0.7630\n",
      "Epoch 121/200\n",
      "768/768 [==============================] - 0s 87us/step - loss: 0.5014 - accuracy: 0.7552\n",
      "Epoch 122/200\n",
      "768/768 [==============================] - 0s 90us/step - loss: 0.5180 - accuracy: 0.7435\n",
      "Epoch 123/200\n",
      "768/768 [==============================] - 0s 84us/step - loss: 0.4968 - accuracy: 0.7695\n",
      "Epoch 124/200\n",
      "768/768 [==============================] - 0s 82us/step - loss: 0.4970 - accuracy: 0.7682\n",
      "Epoch 125/200\n",
      "768/768 [==============================] - 0s 77us/step - loss: 0.4936 - accuracy: 0.7708\n",
      "Epoch 126/200\n",
      "768/768 [==============================] - 0s 83us/step - loss: 0.5131 - accuracy: 0.7292\n",
      "Epoch 127/200\n",
      "768/768 [==============================] - 0s 85us/step - loss: 0.5137 - accuracy: 0.7630\n",
      "Epoch 128/200\n",
      "768/768 [==============================] - 0s 96us/step - loss: 0.4973 - accuracy: 0.7643\n",
      "Epoch 129/200\n",
      "768/768 [==============================] - 0s 91us/step - loss: 0.4918 - accuracy: 0.7734\n",
      "Epoch 130/200\n",
      "768/768 [==============================] - 0s 104us/step - loss: 0.5145 - accuracy: 0.7513\n",
      "Epoch 131/200\n",
      "768/768 [==============================] - 0s 112us/step - loss: 0.4950 - accuracy: 0.7656\n",
      "Epoch 132/200\n",
      "768/768 [==============================] - 0s 107us/step - loss: 0.4919 - accuracy: 0.7630\n",
      "Epoch 133/200\n",
      "768/768 [==============================] - 0s 108us/step - loss: 0.4978 - accuracy: 0.7604\n",
      "Epoch 134/200\n",
      "768/768 [==============================] - ETA: 0s - loss: 0.4809 - accuracy: 0.75 - 0s 115us/step - loss: 0.4878 - accuracy: 0.7643\n",
      "Epoch 135/200\n",
      "768/768 [==============================] - 0s 103us/step - loss: 0.4996 - accuracy: 0.7591\n",
      "Epoch 136/200\n",
      "768/768 [==============================] - 0s 82us/step - loss: 0.4971 - accuracy: 0.7656\n",
      "Epoch 137/200\n",
      "768/768 [==============================] - 0s 82us/step - loss: 0.4964 - accuracy: 0.7630\n",
      "Epoch 138/200\n",
      "768/768 [==============================] - 0s 83us/step - loss: 0.5028 - accuracy: 0.7526\n",
      "Epoch 139/200\n",
      "768/768 [==============================] - 0s 82us/step - loss: 0.4967 - accuracy: 0.7591\n",
      "Epoch 140/200\n",
      "768/768 [==============================] - 0s 82us/step - loss: 0.5107 - accuracy: 0.7513\n",
      "Epoch 141/200\n",
      "768/768 [==============================] - 0s 86us/step - loss: 0.4960 - accuracy: 0.7565\n",
      "Epoch 142/200\n",
      "768/768 [==============================] - 0s 94us/step - loss: 0.4859 - accuracy: 0.7526\n",
      "Epoch 143/200\n",
      "768/768 [==============================] - 0s 88us/step - loss: 0.4852 - accuracy: 0.7656\n",
      "Epoch 144/200\n",
      "768/768 [==============================] - 0s 86us/step - loss: 0.4976 - accuracy: 0.7461\n",
      "Epoch 145/200\n",
      "768/768 [==============================] - 0s 84us/step - loss: 0.4991 - accuracy: 0.7643\n",
      "Epoch 146/200\n",
      "768/768 [==============================] - 0s 86us/step - loss: 0.5001 - accuracy: 0.7435\n",
      "Epoch 147/200\n",
      "768/768 [==============================] - 0s 84us/step - loss: 0.5015 - accuracy: 0.7487\n",
      "Epoch 148/200\n",
      "768/768 [==============================] - 0s 84us/step - loss: 0.4922 - accuracy: 0.7643\n",
      "Epoch 149/200\n",
      "768/768 [==============================] - 0s 91us/step - loss: 0.5046 - accuracy: 0.7630\n",
      "Epoch 150/200\n",
      "768/768 [==============================] - 0s 103us/step - loss: 0.4814 - accuracy: 0.7630\n",
      "Epoch 151/200\n",
      "768/768 [==============================] - 0s 96us/step - loss: 0.4756 - accuracy: 0.7878\n",
      "Epoch 152/200\n"
     ]
    },
    {
     "name": "stdout",
     "output_type": "stream",
     "text": [
      "768/768 [==============================] - 0s 90us/step - loss: 0.4838 - accuracy: 0.7578\n",
      "Epoch 153/200\n",
      "768/768 [==============================] - 0s 87us/step - loss: 0.4827 - accuracy: 0.7617\n",
      "Epoch 154/200\n",
      "768/768 [==============================] - 0s 92us/step - loss: 0.4963 - accuracy: 0.7539\n",
      "Epoch 155/200\n",
      "768/768 [==============================] - 0s 89us/step - loss: 0.5031 - accuracy: 0.7591\n",
      "Epoch 156/200\n",
      "768/768 [==============================] - 0s 103us/step - loss: 0.4800 - accuracy: 0.7604\n",
      "Epoch 157/200\n",
      "768/768 [==============================] - 0s 87us/step - loss: 0.4907 - accuracy: 0.7617\n",
      "Epoch 158/200\n",
      "768/768 [==============================] - 0s 88us/step - loss: 0.4980 - accuracy: 0.7669\n",
      "Epoch 159/200\n",
      "768/768 [==============================] - 0s 87us/step - loss: 0.4945 - accuracy: 0.7591\n",
      "Epoch 160/200\n",
      "768/768 [==============================] - 0s 88us/step - loss: 0.4799 - accuracy: 0.7708\n",
      "Epoch 161/200\n",
      "768/768 [==============================] - 0s 91us/step - loss: 0.4916 - accuracy: 0.7487\n",
      "Epoch 162/200\n",
      "768/768 [==============================] - 0s 91us/step - loss: 0.4962 - accuracy: 0.7591\n",
      "Epoch 163/200\n",
      "768/768 [==============================] - 0s 100us/step - loss: 0.4888 - accuracy: 0.7591\n",
      "Epoch 164/200\n",
      "768/768 [==============================] - 0s 100us/step - loss: 0.4784 - accuracy: 0.7812\n",
      "Epoch 165/200\n",
      "768/768 [==============================] - 0s 96us/step - loss: 0.4894 - accuracy: 0.7708\n",
      "Epoch 166/200\n",
      "768/768 [==============================] - 0s 93us/step - loss: 0.4802 - accuracy: 0.7734\n",
      "Epoch 167/200\n",
      "768/768 [==============================] - 0s 91us/step - loss: 0.4850 - accuracy: 0.7643\n",
      "Epoch 168/200\n",
      "768/768 [==============================] - 0s 92us/step - loss: 0.4829 - accuracy: 0.7747\n",
      "Epoch 169/200\n",
      "768/768 [==============================] - 0s 88us/step - loss: 0.4886 - accuracy: 0.7552\n",
      "Epoch 170/200\n",
      "768/768 [==============================] - 0s 96us/step - loss: 0.4883 - accuracy: 0.7474\n",
      "Epoch 171/200\n",
      "768/768 [==============================] - 0s 96us/step - loss: 0.4771 - accuracy: 0.7734\n",
      "Epoch 172/200\n",
      "768/768 [==============================] - 0s 94us/step - loss: 0.4941 - accuracy: 0.7461\n",
      "Epoch 173/200\n",
      "768/768 [==============================] - 0s 90us/step - loss: 0.4922 - accuracy: 0.7643\n",
      "Epoch 174/200\n",
      "768/768 [==============================] - 0s 90us/step - loss: 0.4904 - accuracy: 0.7500\n",
      "Epoch 175/200\n",
      "768/768 [==============================] - 0s 87us/step - loss: 0.4853 - accuracy: 0.7669\n",
      "Epoch 176/200\n",
      "768/768 [==============================] - 0s 91us/step - loss: 0.4842 - accuracy: 0.7734\n",
      "Epoch 177/200\n",
      "768/768 [==============================] - 0s 112us/step - loss: 0.4761 - accuracy: 0.7773\n",
      "Epoch 178/200\n",
      "768/768 [==============================] - 0s 116us/step - loss: 0.4837 - accuracy: 0.7552\n",
      "Epoch 179/200\n",
      "768/768 [==============================] - 0s 116us/step - loss: 0.4814 - accuracy: 0.7591\n",
      "Epoch 180/200\n",
      "768/768 [==============================] - 0s 101us/step - loss: 0.4869 - accuracy: 0.7526\n",
      "Epoch 181/200\n",
      "768/768 [==============================] - 0s 91us/step - loss: 0.4769 - accuracy: 0.7734\n",
      "Epoch 182/200\n",
      "768/768 [==============================] - 0s 85us/step - loss: 0.4873 - accuracy: 0.7695\n",
      "Epoch 183/200\n",
      "768/768 [==============================] - 0s 88us/step - loss: 0.4751 - accuracy: 0.7604\n",
      "Epoch 184/200\n",
      "768/768 [==============================] - 0s 99us/step - loss: 0.4797 - accuracy: 0.7865\n",
      "Epoch 185/200\n",
      "768/768 [==============================] - 0s 92us/step - loss: 0.4702 - accuracy: 0.7799\n",
      "Epoch 186/200\n",
      "768/768 [==============================] - 0s 79us/step - loss: 0.4666 - accuracy: 0.7695\n",
      "Epoch 187/200\n",
      "768/768 [==============================] - 0s 93us/step - loss: 0.4728 - accuracy: 0.7773\n",
      "Epoch 188/200\n",
      "768/768 [==============================] - 0s 91us/step - loss: 0.4873 - accuracy: 0.7617\n",
      "Epoch 189/200\n",
      "768/768 [==============================] - 0s 90us/step - loss: 0.5158 - accuracy: 0.7617\n",
      "Epoch 190/200\n",
      "768/768 [==============================] - 0s 90us/step - loss: 0.4986 - accuracy: 0.7773\n",
      "Epoch 191/200\n",
      "768/768 [==============================] - 0s 90us/step - loss: 0.4780 - accuracy: 0.7839\n",
      "Epoch 192/200\n",
      "768/768 [==============================] - 0s 90us/step - loss: 0.4677 - accuracy: 0.7812\n",
      "Epoch 193/200\n",
      "768/768 [==============================] - 0s 99us/step - loss: 0.4986 - accuracy: 0.7708\n",
      "Epoch 194/200\n",
      "768/768 [==============================] - 0s 92us/step - loss: 0.4759 - accuracy: 0.7643\n",
      "Epoch 195/200\n",
      "768/768 [==============================] - 0s 90us/step - loss: 0.4757 - accuracy: 0.7773\n",
      "Epoch 196/200\n",
      "768/768 [==============================] - 0s 88us/step - loss: 0.4748 - accuracy: 0.7708\n",
      "Epoch 197/200\n",
      "768/768 [==============================] - 0s 95us/step - loss: 0.5085 - accuracy: 0.7604\n",
      "Epoch 198/200\n",
      "768/768 [==============================] - 0s 91us/step - loss: 0.4680 - accuracy: 0.7786\n",
      "Epoch 199/200\n",
      "768/768 [==============================] - 0s 103us/step - loss: 0.4895 - accuracy: 0.7682\n",
      "Epoch 200/200\n",
      "768/768 [==============================] - 0s 83us/step - loss: 0.4735 - accuracy: 0.7656\n"
     ]
    },
    {
     "data": {
      "text/plain": [
       "<keras.callbacks.callbacks.History at 0x27accc2f408>"
      ]
     },
     "execution_count": 150,
     "metadata": {},
     "output_type": "execute_result"
    }
   ],
   "source": [
    "model.fit(x,y,epochs=200,batch_size=10)"
   ]
  },
  {
   "cell_type": "code",
   "execution_count": 151,
   "metadata": {},
   "outputs": [
    {
     "name": "stdout",
     "output_type": "stream",
     "text": [
      "768/768 [==============================] - 0s 61us/step\n"
     ]
    },
    {
     "data": {
      "text/plain": [
       "0.78515625"
      ]
     },
     "execution_count": 151,
     "metadata": {},
     "output_type": "execute_result"
    }
   ],
   "source": [
    "model.evaluate(x,y)[1]"
   ]
  },
  {
   "cell_type": "code",
   "execution_count": 153,
   "metadata": {},
   "outputs": [],
   "source": [
    "from keras.datasets import mnist\n",
    "(trainImage,trainLabel),(testImage,testLabel)=mnist.load_data()"
   ]
  },
  {
   "cell_type": "code",
   "execution_count": 154,
   "metadata": {},
   "outputs": [
    {
     "data": {
      "image/png": "[encoded data removed]",
      "text/plain": [
       "<Figure size 432x288 with 1 Axes>"
      ]
     },
     "metadata": {
      "needs_background": "light"
     },
     "output_type": "display_data"
    }
   ],
   "source": [
    "digit=trainImage[3]\n",
    "plt.imshow(digit,cmap=plt.cm.binary)\n",
    "plt.show()"
   ]
  },
  {
   "cell_type": "code",
   "execution_count": 155,
   "metadata": {},
   "outputs": [],
   "source": [
    "model2=Sequential()\n",
    "model2.add(Dense(512, input_shape=(28*28,), \n",
    "                 activation='relu'))\n",
    "model2.add(Dense(10, activation='softmax'))"
   ]
  },
  {
   "cell_type": "code",
   "execution_count": 156,
   "metadata": {},
   "outputs": [],
   "source": [
    "model2.compile(loss='categorical_crossentropy',\n",
    "               optimizer='rmsprop',\n",
    "               metrics=['accuracy'])"
   ]
  },
  {
   "cell_type": "code",
   "execution_count": 157,
   "metadata": {},
   "outputs": [],
   "source": [
    "trainImage=trainImage.reshape((60000,28*28))\n",
    "trainImage=trainImage.astype('float32')/255\n",
    "testImage=testImage.reshape((10000,28*28))\n",
    "testImage=testImage.astype('float32')/255"
   ]
  },
  {
   "cell_type": "code",
   "execution_count": 158,
   "metadata": {},
   "outputs": [],
   "source": [
    "from keras.utils import to_categorical\n",
    "trainLabel=to_categorical(trainLabel)\n",
    "testLabel=to_categorical(testLabel)"
   ]
  },
  {
   "cell_type": "code",
   "execution_count": 159,
   "metadata": {},
   "outputs": [
    {
     "name": "stdout",
     "output_type": "stream",
     "text": [
      "Epoch 1/5\n",
      "60000/60000 [==============================] - 3s 46us/step - loss: 0.2525 - accuracy: 0.9266\n",
      "Epoch 2/5\n",
      "60000/60000 [==============================] - 3s 43us/step - loss: 0.1032 - accuracy: 0.9697\n",
      "Epoch 3/5\n",
      "60000/60000 [==============================] - 3s 44us/step - loss: 0.0684 - accuracy: 0.9796\n",
      "Epoch 4/5\n",
      "60000/60000 [==============================] - 3s 44us/step - loss: 0.0511 - accuracy: 0.9844\n",
      "Epoch 5/5\n",
      "60000/60000 [==============================] - 3s 44us/step - loss: 0.0377 - accuracy: 0.9888\n"
     ]
    },
    {
     "data": {
      "text/plain": [
       "<keras.callbacks.callbacks.History at 0x27acc89ef08>"
      ]
     },
     "execution_count": 159,
     "metadata": {},
     "output_type": "execute_result"
    }
   ],
   "source": [
    "model2.fit(trainImage,trainLabel, epochs=5, batch_size=128)"
   ]
  },
  {
   "cell_type": "code",
   "execution_count": 160,
   "metadata": {},
   "outputs": [
    {
     "name": "stdout",
     "output_type": "stream",
     "text": [
      "10000/10000 [==============================] - 0s 37us/step\n"
     ]
    },
    {
     "data": {
      "text/plain": [
       "0.9771999716758728"
      ]
     },
     "execution_count": 160,
     "metadata": {},
     "output_type": "execute_result"
    }
   ],
   "source": [
    "l, a=model2.evaluate(testImage, testLabel)\n",
    "a"
   ]
  },
  {
   "cell_type": "code",
   "execution_count": 161,
   "metadata": {},
   "outputs": [
    {
     "data": {
      "text/plain": [
       "'\\n일반적(텐서플로) : 이미지(128, 높이, 너비, 3)\\n씨아노 : 이미지(128, 3, 높이, 너비)\\n\\n비디오 : 5차원 텐서, 프레임(이미지)의 연속\\n(프레임, 높이,너비, 채널)\\nex) 60초 짜리, 100*200 유투브 비디오,\\n초당 4프레임을 샘플링\\n4*60=240프레임\\n비디오 클립 5개\\n(5, 240, 100, 200, 3)\\n\\n'"
      ]
     },
     "execution_count": 161,
     "metadata": {},
     "output_type": "execute_result"
    }
   ],
   "source": [
    "\"\"\"\n",
    "일반적(텐서플로) : 이미지(128, 높이, 너비, 3)\n",
    "씨아노 : 이미지(128, 3, 높이, 너비)\n",
    "\n",
    "비디오 : 5차원 텐서, 프레임(이미지)의 연속\n",
    "(프레임, 높이,너비, 채널)\n",
    "ex) 60초 짜리, 100*200 유투브 비디오,\n",
    "초당 4프레임을 샘플링\n",
    "4*60=240프레임\n",
    "비디오 클립 5개\n",
    "(5, 240, 100, 200, 3)\n",
    "\n",
    "\"\"\""
   ]
  },
  {
   "cell_type": "code",
   "execution_count": 162,
   "metadata": {},
   "outputs": [],
   "source": [
    "#영화 리뷰 분류\n",
    "from keras.datasets import imdb"
   ]
  },
  {
   "cell_type": "code",
   "execution_count": 163,
   "metadata": {},
   "outputs": [
    {
     "name": "stdout",
     "output_type": "stream",
     "text": [
      "Downloading data from https://s3.amazonaws.com/text-datasets/imdb.npz\n",
      "17465344/17464789 [==============================] - 5s 0us/step\n"
     ]
    }
   ],
   "source": [
    "(trainData,trainLabel),(testData,testLabel)= imdb.load_data(num_words=10000)\n",
    "#자주 사용된 10000개 단어만 추출 사용"
   ]
  },
  {
   "cell_type": "code",
   "execution_count": 164,
   "metadata": {},
   "outputs": [
    {
     "data": {
      "text/plain": [
       "1"
      ]
     },
     "execution_count": 164,
     "metadata": {},
     "output_type": "execute_result"
    }
   ],
   "source": [
    "trainData[0]\n",
    "trainLabel[0] #긍정"
   ]
  },
  {
   "cell_type": "code",
   "execution_count": 165,
   "metadata": {},
   "outputs": [
    {
     "name": "stdout",
     "output_type": "stream",
     "text": [
      "9999\n"
     ]
    }
   ],
   "source": [
    "print(max([max(seq) for seq in trainData]))"
   ]
  },
  {
   "cell_type": "code",
   "execution_count": 166,
   "metadata": {},
   "outputs": [
    {
     "name": "stdout",
     "output_type": "stream",
     "text": [
      "Downloading data from https://s3.amazonaws.com/text-datasets/imdb_word_index.json\n",
      "1646592/1641221 [==============================] - 2s 1us/step\n"
     ]
    },
    {
     "data": {
      "text/plain": [
       "{'fawn': 34701,\n",
       " 'tsukino': 52006,\n",
       " 'nunnery': 52007,\n",
       " 'sonja': 16816,\n",
       " 'vani': 63951,\n",
       " 'woods': 1408,\n",
       " 'spiders': 16115,\n",
       " 'hanging': 2345,\n",
       " 'woody': 2289,\n",
       " 'trawling': 52008,\n",
       " \"hold's\": 52009,\n",
       " 'comically': 11307,\n",
       " 'localized': 40830,\n",
       " 'disobeying': 30568,\n",
       " \"'royale\": 52010,\n",
       " \"harpo's\": 40831,\n",
       " 'canet': 52011,\n",
       " 'aileen': 19313,\n",
       " 'acurately': 52012,\n",
       " \"diplomat's\": 52013,\n",
       " 'rickman': 25242,\n",
       " 'arranged': 6746,\n",
       " 'rumbustious': 52014,\n",
       " 'familiarness': 52015,\n",
       " \"spider'\": 52016,\n",
       " 'hahahah': 68804,\n",
       " \"wood'\": 52017,\n",
       " 'transvestism': 40833,\n",
       " \"hangin'\": 34702,\n",
       " 'bringing': 2338,\n",
       " 'seamier': 40834,\n",
       " 'wooded': 34703,\n",
       " 'bravora': 52018,\n",
       " 'grueling': 16817,\n",
       " 'wooden': 1636,\n",
       " 'wednesday': 16818,\n",
       " \"'prix\": 52019,\n",
       " 'altagracia': 34704,\n",
       " 'circuitry': 52020,\n",
       " 'crotch': 11585,\n",
       " 'busybody': 57766,\n",
       " \"tart'n'tangy\": 52021,\n",
       " 'burgade': 14129,\n",
       " 'thrace': 52023,\n",
       " \"tom's\": 11038,\n",
       " 'snuggles': 52025,\n",
       " 'francesco': 29114,\n",
       " 'complainers': 52027,\n",
       " 'templarios': 52125,\n",
       " '272': 40835,\n",
       " '273': 52028,\n",
       " 'zaniacs': 52130,\n",
       " '275': 34706,\n",
       " 'consenting': 27631,\n",
       " 'snuggled': 40836,\n",
       " 'inanimate': 15492,\n",
       " 'uality': 52030,\n",
       " 'bronte': 11926,\n",
       " 'errors': 4010,\n",
       " 'dialogs': 3230,\n",
       " \"yomada's\": 52031,\n",
       " \"madman's\": 34707,\n",
       " 'dialoge': 30585,\n",
       " 'usenet': 52033,\n",
       " 'videodrome': 40837,\n",
       " \"kid'\": 26338,\n",
       " 'pawed': 52034,\n",
       " \"'girlfriend'\": 30569,\n",
       " \"'pleasure\": 52035,\n",
       " \"'reloaded'\": 52036,\n",
       " \"kazakos'\": 40839,\n",
       " 'rocque': 52037,\n",
       " 'mailings': 52038,\n",
       " 'brainwashed': 11927,\n",
       " 'mcanally': 16819,\n",
       " \"tom''\": 52039,\n",
       " 'kurupt': 25243,\n",
       " 'affiliated': 21905,\n",
       " 'babaganoosh': 52040,\n",
       " \"noe's\": 40840,\n",
       " 'quart': 40841,\n",
       " 'kids': 359,\n",
       " 'uplifting': 5034,\n",
       " 'controversy': 7093,\n",
       " 'kida': 21906,\n",
       " 'kidd': 23379,\n",
       " \"error'\": 52041,\n",
       " 'neurologist': 52042,\n",
       " 'spotty': 18510,\n",
       " 'cobblers': 30570,\n",
       " 'projection': 9878,\n",
       " 'fastforwarding': 40842,\n",
       " 'sters': 52043,\n",
       " \"eggar's\": 52044,\n",
       " 'etherything': 52045,\n",
       " 'gateshead': 40843,\n",
       " 'airball': 34708,\n",
       " 'unsinkable': 25244,\n",
       " 'stern': 7180,\n",
       " \"cervi's\": 52046,\n",
       " 'dnd': 40844,\n",
       " 'dna': 11586,\n",
       " 'insecurity': 20598,\n",
       " \"'reboot'\": 52047,\n",
       " 'trelkovsky': 11037,\n",
       " 'jaekel': 52048,\n",
       " 'sidebars': 52049,\n",
       " \"sforza's\": 52050,\n",
       " 'distortions': 17633,\n",
       " 'mutinies': 52051,\n",
       " 'sermons': 30602,\n",
       " '7ft': 40846,\n",
       " 'boobage': 52052,\n",
       " \"o'bannon's\": 52053,\n",
       " 'populations': 23380,\n",
       " 'chulak': 52054,\n",
       " 'mesmerize': 27633,\n",
       " 'quinnell': 52055,\n",
       " 'yahoo': 10307,\n",
       " 'meteorologist': 52057,\n",
       " 'beswick': 42577,\n",
       " 'boorman': 15493,\n",
       " 'voicework': 40847,\n",
       " \"ster'\": 52058,\n",
       " 'blustering': 22922,\n",
       " 'hj': 52059,\n",
       " 'intake': 27634,\n",
       " 'morally': 5621,\n",
       " 'jumbling': 40849,\n",
       " 'bowersock': 52060,\n",
       " \"'porky's'\": 52061,\n",
       " 'gershon': 16821,\n",
       " 'ludicrosity': 40850,\n",
       " 'coprophilia': 52062,\n",
       " 'expressively': 40851,\n",
       " \"india's\": 19500,\n",
       " \"post's\": 34710,\n",
       " 'wana': 52063,\n",
       " 'wang': 5283,\n",
       " 'wand': 30571,\n",
       " 'wane': 25245,\n",
       " 'edgeways': 52321,\n",
       " 'titanium': 34711,\n",
       " 'pinta': 40852,\n",
       " 'want': 178,\n",
       " 'pinto': 30572,\n",
       " 'whoopdedoodles': 52065,\n",
       " 'tchaikovsky': 21908,\n",
       " 'travel': 2103,\n",
       " \"'victory'\": 52066,\n",
       " 'copious': 11928,\n",
       " 'gouge': 22433,\n",
       " \"chapters'\": 52067,\n",
       " 'barbra': 6702,\n",
       " 'uselessness': 30573,\n",
       " \"wan'\": 52068,\n",
       " 'assimilated': 27635,\n",
       " 'petiot': 16116,\n",
       " 'most\\x85and': 52069,\n",
       " 'dinosaurs': 3930,\n",
       " 'wrong': 352,\n",
       " 'seda': 52070,\n",
       " 'stollen': 52071,\n",
       " 'sentencing': 34712,\n",
       " 'ouroboros': 40853,\n",
       " 'assimilates': 40854,\n",
       " 'colorfully': 40855,\n",
       " 'glenne': 27636,\n",
       " 'dongen': 52072,\n",
       " 'subplots': 4760,\n",
       " 'kiloton': 52073,\n",
       " 'chandon': 23381,\n",
       " \"effect'\": 34713,\n",
       " 'snugly': 27637,\n",
       " 'kuei': 40856,\n",
       " 'welcomed': 9092,\n",
       " 'dishonor': 30071,\n",
       " 'concurrence': 52075,\n",
       " 'stoicism': 23382,\n",
       " \"guys'\": 14896,\n",
       " \"beroemd'\": 52077,\n",
       " 'butcher': 6703,\n",
       " \"melfi's\": 40857,\n",
       " 'aargh': 30623,\n",
       " 'playhouse': 20599,\n",
       " 'wickedly': 11308,\n",
       " 'fit': 1180,\n",
       " 'labratory': 52078,\n",
       " 'lifeline': 40859,\n",
       " 'screaming': 1927,\n",
       " 'fix': 4287,\n",
       " 'cineliterate': 52079,\n",
       " 'fic': 52080,\n",
       " 'fia': 52081,\n",
       " 'fig': 34714,\n",
       " 'fmvs': 52082,\n",
       " 'fie': 52083,\n",
       " 'reentered': 52084,\n",
       " 'fin': 30574,\n",
       " 'doctresses': 52085,\n",
       " 'fil': 52086,\n",
       " 'zucker': 12606,\n",
       " 'ached': 31931,\n",
       " 'counsil': 52088,\n",
       " 'paterfamilias': 52089,\n",
       " 'songwriter': 13885,\n",
       " 'shivam': 34715,\n",
       " 'hurting': 9654,\n",
       " 'effects': 299,\n",
       " 'slauther': 52090,\n",
       " \"'flame'\": 52091,\n",
       " 'sommerset': 52092,\n",
       " 'interwhined': 52093,\n",
       " 'whacking': 27638,\n",
       " 'bartok': 52094,\n",
       " 'barton': 8775,\n",
       " 'frewer': 21909,\n",
       " \"fi'\": 52095,\n",
       " 'ingrid': 6192,\n",
       " 'stribor': 30575,\n",
       " 'approporiately': 52096,\n",
       " 'wobblyhand': 52097,\n",
       " 'tantalisingly': 52098,\n",
       " 'ankylosaurus': 52099,\n",
       " 'parasites': 17634,\n",
       " 'childen': 52100,\n",
       " \"jenkins'\": 52101,\n",
       " 'metafiction': 52102,\n",
       " 'golem': 17635,\n",
       " 'indiscretion': 40860,\n",
       " \"reeves'\": 23383,\n",
       " \"inamorata's\": 57781,\n",
       " 'brittannica': 52104,\n",
       " 'adapt': 7916,\n",
       " \"russo's\": 30576,\n",
       " 'guitarists': 48246,\n",
       " 'abbott': 10553,\n",
       " 'abbots': 40861,\n",
       " 'lanisha': 17649,\n",
       " 'magickal': 40863,\n",
       " 'mattter': 52105,\n",
       " \"'willy\": 52106,\n",
       " 'pumpkins': 34716,\n",
       " 'stuntpeople': 52107,\n",
       " 'estimate': 30577,\n",
       " 'ugghhh': 40864,\n",
       " 'gameplay': 11309,\n",
       " \"wern't\": 52108,\n",
       " \"n'sync\": 40865,\n",
       " 'sickeningly': 16117,\n",
       " 'chiara': 40866,\n",
       " 'disturbed': 4011,\n",
       " 'portmanteau': 40867,\n",
       " 'ineffectively': 52109,\n",
       " \"duchonvey's\": 82143,\n",
       " \"nasty'\": 37519,\n",
       " 'purpose': 1285,\n",
       " 'lazers': 52112,\n",
       " 'lightened': 28105,\n",
       " 'kaliganj': 52113,\n",
       " 'popularism': 52114,\n",
       " \"damme's\": 18511,\n",
       " 'stylistics': 30578,\n",
       " 'mindgaming': 52115,\n",
       " 'spoilerish': 46449,\n",
       " \"'corny'\": 52117,\n",
       " 'boerner': 34718,\n",
       " 'olds': 6792,\n",
       " 'bakelite': 52118,\n",
       " 'renovated': 27639,\n",
       " 'forrester': 27640,\n",
       " \"lumiere's\": 52119,\n",
       " 'gaskets': 52024,\n",
       " 'needed': 884,\n",
       " 'smight': 34719,\n",
       " 'master': 1297,\n",
       " \"edie's\": 25905,\n",
       " 'seeber': 40868,\n",
       " 'hiya': 52120,\n",
       " 'fuzziness': 52121,\n",
       " 'genesis': 14897,\n",
       " 'rewards': 12607,\n",
       " 'enthrall': 30579,\n",
       " \"'about\": 40869,\n",
       " \"recollection's\": 52122,\n",
       " 'mutilated': 11039,\n",
       " 'fatherlands': 52123,\n",
       " \"fischer's\": 52124,\n",
       " 'positively': 5399,\n",
       " '270': 34705,\n",
       " 'ahmed': 34720,\n",
       " 'zatoichi': 9836,\n",
       " 'bannister': 13886,\n",
       " 'anniversaries': 52127,\n",
       " \"helm's\": 30580,\n",
       " \"'work'\": 52128,\n",
       " 'exclaimed': 34721,\n",
       " \"'unfunny'\": 52129,\n",
       " '274': 52029,\n",
       " 'feeling': 544,\n",
       " \"wanda's\": 52131,\n",
       " 'dolan': 33266,\n",
       " '278': 52133,\n",
       " 'peacoat': 52134,\n",
       " 'brawny': 40870,\n",
       " 'mishra': 40871,\n",
       " 'worlders': 40872,\n",
       " 'protags': 52135,\n",
       " 'skullcap': 52136,\n",
       " 'dastagir': 57596,\n",
       " 'affairs': 5622,\n",
       " 'wholesome': 7799,\n",
       " 'hymen': 52137,\n",
       " 'paramedics': 25246,\n",
       " 'unpersons': 52138,\n",
       " 'heavyarms': 52139,\n",
       " 'affaire': 52140,\n",
       " 'coulisses': 52141,\n",
       " 'hymer': 40873,\n",
       " 'kremlin': 52142,\n",
       " 'shipments': 30581,\n",
       " 'pixilated': 52143,\n",
       " \"'00s\": 30582,\n",
       " 'diminishing': 18512,\n",
       " 'cinematic': 1357,\n",
       " 'resonates': 14898,\n",
       " 'simplify': 40874,\n",
       " \"nature'\": 40875,\n",
       " 'temptresses': 40876,\n",
       " 'reverence': 16822,\n",
       " 'resonated': 19502,\n",
       " 'dailey': 34722,\n",
       " '2\\x85': 52144,\n",
       " 'treize': 27641,\n",
       " 'majo': 52145,\n",
       " 'kiya': 21910,\n",
       " 'woolnough': 52146,\n",
       " 'thanatos': 39797,\n",
       " 'sandoval': 35731,\n",
       " 'dorama': 40879,\n",
       " \"o'shaughnessy\": 52147,\n",
       " 'tech': 4988,\n",
       " 'fugitives': 32018,\n",
       " 'teck': 30583,\n",
       " \"'e'\": 76125,\n",
       " 'doesn’t': 40881,\n",
       " 'purged': 52149,\n",
       " 'saying': 657,\n",
       " \"martians'\": 41095,\n",
       " 'norliss': 23418,\n",
       " 'dickey': 27642,\n",
       " 'dicker': 52152,\n",
       " \"'sependipity\": 52153,\n",
       " 'padded': 8422,\n",
       " 'ordell': 57792,\n",
       " \"sturges'\": 40882,\n",
       " 'independentcritics': 52154,\n",
       " 'tempted': 5745,\n",
       " \"atkinson's\": 34724,\n",
       " 'hounded': 25247,\n",
       " 'apace': 52155,\n",
       " 'clicked': 15494,\n",
       " \"'humor'\": 30584,\n",
       " \"martino's\": 17177,\n",
       " \"'supporting\": 52156,\n",
       " 'warmongering': 52032,\n",
       " \"zemeckis's\": 34725,\n",
       " 'lube': 21911,\n",
       " 'shocky': 52157,\n",
       " 'plate': 7476,\n",
       " 'plata': 40883,\n",
       " 'sturgess': 40884,\n",
       " \"nerds'\": 40885,\n",
       " 'plato': 20600,\n",
       " 'plath': 34726,\n",
       " 'platt': 40886,\n",
       " 'mcnab': 52159,\n",
       " 'clumsiness': 27643,\n",
       " 'altogether': 3899,\n",
       " 'massacring': 42584,\n",
       " 'bicenntinial': 52160,\n",
       " 'skaal': 40887,\n",
       " 'droning': 14360,\n",
       " 'lds': 8776,\n",
       " 'jaguar': 21912,\n",
       " \"cale's\": 34727,\n",
       " 'nicely': 1777,\n",
       " 'mummy': 4588,\n",
       " \"lot's\": 18513,\n",
       " 'patch': 10086,\n",
       " 'kerkhof': 50202,\n",
       " \"leader's\": 52161,\n",
       " \"'movie\": 27644,\n",
       " 'uncomfirmed': 52162,\n",
       " 'heirloom': 40888,\n",
       " 'wrangle': 47360,\n",
       " 'emotion\\x85': 52163,\n",
       " \"'stargate'\": 52164,\n",
       " 'pinoy': 40889,\n",
       " 'conchatta': 40890,\n",
       " 'broeke': 41128,\n",
       " 'advisedly': 40891,\n",
       " \"barker's\": 17636,\n",
       " 'descours': 52166,\n",
       " 'lots': 772,\n",
       " 'lotr': 9259,\n",
       " 'irs': 9879,\n",
       " 'lott': 52167,\n",
       " 'xvi': 40892,\n",
       " 'irk': 34728,\n",
       " 'irl': 52168,\n",
       " 'ira': 6887,\n",
       " 'belzer': 21913,\n",
       " 'irc': 52169,\n",
       " 'ire': 27645,\n",
       " 'requisites': 40893,\n",
       " 'discipline': 7693,\n",
       " 'lyoko': 52961,\n",
       " 'extend': 11310,\n",
       " 'nature': 873,\n",
       " \"'dickie'\": 52170,\n",
       " 'optimist': 40894,\n",
       " 'lapping': 30586,\n",
       " 'superficial': 3900,\n",
       " 'vestment': 52171,\n",
       " 'extent': 2823,\n",
       " 'tendons': 52172,\n",
       " \"heller's\": 52173,\n",
       " 'quagmires': 52174,\n",
       " 'miyako': 52175,\n",
       " 'moocow': 20601,\n",
       " \"coles'\": 52176,\n",
       " 'lookit': 40895,\n",
       " 'ravenously': 52177,\n",
       " 'levitating': 40896,\n",
       " 'perfunctorily': 52178,\n",
       " 'lookin': 30587,\n",
       " \"lot'\": 40898,\n",
       " 'lookie': 52179,\n",
       " 'fearlessly': 34870,\n",
       " 'libyan': 52181,\n",
       " 'fondles': 40899,\n",
       " 'gopher': 35714,\n",
       " 'wearying': 40901,\n",
       " \"nz's\": 52182,\n",
       " 'minuses': 27646,\n",
       " 'puposelessly': 52183,\n",
       " 'shandling': 52184,\n",
       " 'decapitates': 31268,\n",
       " 'humming': 11929,\n",
       " \"'nother\": 40902,\n",
       " 'smackdown': 21914,\n",
       " 'underdone': 30588,\n",
       " 'frf': 40903,\n",
       " 'triviality': 52185,\n",
       " 'fro': 25248,\n",
       " 'bothers': 8777,\n",
       " \"'kensington\": 52186,\n",
       " 'much': 73,\n",
       " 'muco': 34730,\n",
       " 'wiseguy': 22615,\n",
       " \"richie's\": 27648,\n",
       " 'tonino': 40904,\n",
       " 'unleavened': 52187,\n",
       " 'fry': 11587,\n",
       " \"'tv'\": 40905,\n",
       " 'toning': 40906,\n",
       " 'obese': 14361,\n",
       " 'sensationalized': 30589,\n",
       " 'spiv': 40907,\n",
       " 'spit': 6259,\n",
       " 'arkin': 7364,\n",
       " 'charleton': 21915,\n",
       " 'jeon': 16823,\n",
       " 'boardroom': 21916,\n",
       " 'doubts': 4989,\n",
       " 'spin': 3084,\n",
       " 'hepo': 53083,\n",
       " 'wildcat': 27649,\n",
       " 'venoms': 10584,\n",
       " 'misconstrues': 52191,\n",
       " 'mesmerising': 18514,\n",
       " 'misconstrued': 40908,\n",
       " 'rescinds': 52192,\n",
       " 'prostrate': 52193,\n",
       " 'majid': 40909,\n",
       " 'climbed': 16479,\n",
       " 'canoeing': 34731,\n",
       " 'majin': 52195,\n",
       " 'animie': 57804,\n",
       " 'sylke': 40910,\n",
       " 'conditioned': 14899,\n",
       " 'waddell': 40911,\n",
       " '3\\x85': 52196,\n",
       " 'hyperdrive': 41188,\n",
       " 'conditioner': 34732,\n",
       " 'bricklayer': 53153,\n",
       " 'hong': 2576,\n",
       " 'memoriam': 52198,\n",
       " 'inventively': 30592,\n",
       " \"levant's\": 25249,\n",
       " 'portobello': 20638,\n",
       " 'remand': 52200,\n",
       " 'mummified': 19504,\n",
       " 'honk': 27650,\n",
       " 'spews': 19505,\n",
       " 'visitations': 40912,\n",
       " 'mummifies': 52201,\n",
       " 'cavanaugh': 25250,\n",
       " 'zeon': 23385,\n",
       " \"jungle's\": 40913,\n",
       " 'viertel': 34733,\n",
       " 'frenchmen': 27651,\n",
       " 'torpedoes': 52202,\n",
       " 'schlessinger': 52203,\n",
       " 'torpedoed': 34734,\n",
       " 'blister': 69876,\n",
       " 'cinefest': 52204,\n",
       " 'furlough': 34735,\n",
       " 'mainsequence': 52205,\n",
       " 'mentors': 40914,\n",
       " 'academic': 9094,\n",
       " 'stillness': 20602,\n",
       " 'academia': 40915,\n",
       " 'lonelier': 52206,\n",
       " 'nibby': 52207,\n",
       " \"losers'\": 52208,\n",
       " 'cineastes': 40916,\n",
       " 'corporate': 4449,\n",
       " 'massaging': 40917,\n",
       " 'bellow': 30593,\n",
       " 'absurdities': 19506,\n",
       " 'expetations': 53241,\n",
       " 'nyfiken': 40918,\n",
       " 'mehras': 75638,\n",
       " 'lasse': 52209,\n",
       " 'visability': 52210,\n",
       " 'militarily': 33946,\n",
       " \"elder'\": 52211,\n",
       " 'gainsbourg': 19023,\n",
       " 'hah': 20603,\n",
       " 'hai': 13420,\n",
       " 'haj': 34736,\n",
       " 'hak': 25251,\n",
       " 'hal': 4311,\n",
       " 'ham': 4892,\n",
       " 'duffer': 53259,\n",
       " 'haa': 52213,\n",
       " 'had': 66,\n",
       " 'advancement': 11930,\n",
       " 'hag': 16825,\n",
       " \"hand'\": 25252,\n",
       " 'hay': 13421,\n",
       " 'mcnamara': 20604,\n",
       " \"mozart's\": 52214,\n",
       " 'duffel': 30731,\n",
       " 'haq': 30594,\n",
       " 'har': 13887,\n",
       " 'has': 44,\n",
       " 'hat': 2401,\n",
       " 'hav': 40919,\n",
       " 'haw': 30595,\n",
       " 'figtings': 52215,\n",
       " 'elders': 15495,\n",
       " 'underpanted': 52216,\n",
       " 'pninson': 52217,\n",
       " 'unequivocally': 27652,\n",
       " \"barbara's\": 23673,\n",
       " \"bello'\": 52219,\n",
       " 'indicative': 12997,\n",
       " 'yawnfest': 40920,\n",
       " 'hexploitation': 52220,\n",
       " \"loder's\": 52221,\n",
       " 'sleuthing': 27653,\n",
       " \"justin's\": 32622,\n",
       " \"'ball\": 52222,\n",
       " \"'summer\": 52223,\n",
       " \"'demons'\": 34935,\n",
       " \"mormon's\": 52225,\n",
       " \"laughton's\": 34737,\n",
       " 'debell': 52226,\n",
       " 'shipyard': 39724,\n",
       " 'unabashedly': 30597,\n",
       " 'disks': 40401,\n",
       " 'crowd': 2290,\n",
       " 'crowe': 10087,\n",
       " \"vancouver's\": 56434,\n",
       " 'mosques': 34738,\n",
       " 'crown': 6627,\n",
       " 'culpas': 52227,\n",
       " 'crows': 27654,\n",
       " 'surrell': 53344,\n",
       " 'flowless': 52229,\n",
       " 'sheirk': 52230,\n",
       " \"'three\": 40923,\n",
       " \"peterson'\": 52231,\n",
       " 'ooverall': 52232,\n",
       " 'perchance': 40924,\n",
       " 'bottom': 1321,\n",
       " 'chabert': 53363,\n",
       " 'sneha': 52233,\n",
       " 'inhuman': 13888,\n",
       " 'ichii': 52234,\n",
       " 'ursla': 52235,\n",
       " 'completly': 30598,\n",
       " 'moviedom': 40925,\n",
       " 'raddick': 52236,\n",
       " 'brundage': 51995,\n",
       " 'brigades': 40926,\n",
       " 'starring': 1181,\n",
       " \"'goal'\": 52237,\n",
       " 'caskets': 52238,\n",
       " 'willcock': 52239,\n",
       " \"threesome's\": 52240,\n",
       " \"mosque'\": 52241,\n",
       " \"cover's\": 52242,\n",
       " 'spaceships': 17637,\n",
       " 'anomalous': 40927,\n",
       " 'ptsd': 27655,\n",
       " 'shirdan': 52243,\n",
       " 'obscenity': 21962,\n",
       " 'lemmings': 30599,\n",
       " 'duccio': 30600,\n",
       " \"levene's\": 52244,\n",
       " \"'gorby'\": 52245,\n",
       " \"teenager's\": 25255,\n",
       " 'marshall': 5340,\n",
       " 'honeymoon': 9095,\n",
       " 'shoots': 3231,\n",
       " 'despised': 12258,\n",
       " 'okabasho': 52246,\n",
       " 'fabric': 8289,\n",
       " 'cannavale': 18515,\n",
       " 'raped': 3537,\n",
       " \"tutt's\": 52247,\n",
       " 'grasping': 17638,\n",
       " 'despises': 18516,\n",
       " \"thief's\": 40928,\n",
       " 'rapes': 8926,\n",
       " 'raper': 52248,\n",
       " \"eyre'\": 27656,\n",
       " 'walchek': 52249,\n",
       " \"elmo's\": 23386,\n",
       " 'perfumes': 40929,\n",
       " 'spurting': 21918,\n",
       " \"exposition'\\x85\": 52250,\n",
       " 'denoting': 52251,\n",
       " 'thesaurus': 34740,\n",
       " \"shoot'\": 40930,\n",
       " 'bonejack': 49759,\n",
       " 'simpsonian': 52253,\n",
       " 'hebetude': 30601,\n",
       " \"hallow's\": 34741,\n",
       " 'desperation\\x85': 52254,\n",
       " 'incinerator': 34742,\n",
       " 'congratulations': 10308,\n",
       " 'humbled': 52255,\n",
       " \"else's\": 5924,\n",
       " 'trelkovski': 40845,\n",
       " \"rape'\": 52256,\n",
       " \"'chapters'\": 59386,\n",
       " '1600s': 52257,\n",
       " 'martian': 7253,\n",
       " 'nicest': 25256,\n",
       " 'eyred': 52259,\n",
       " 'passenger': 9457,\n",
       " 'disgrace': 6041,\n",
       " 'moderne': 52260,\n",
       " 'barrymore': 5120,\n",
       " 'yankovich': 52261,\n",
       " 'moderns': 40931,\n",
       " 'studliest': 52262,\n",
       " 'bedsheet': 52263,\n",
       " 'decapitation': 14900,\n",
       " 'slurring': 52264,\n",
       " \"'nunsploitation'\": 52265,\n",
       " \"'character'\": 34743,\n",
       " 'cambodia': 9880,\n",
       " 'rebelious': 52266,\n",
       " 'pasadena': 27657,\n",
       " 'crowne': 40932,\n",
       " \"'bedchamber\": 52267,\n",
       " 'conjectural': 52268,\n",
       " 'appologize': 52269,\n",
       " 'halfassing': 52270,\n",
       " 'paycheque': 57816,\n",
       " 'palms': 20606,\n",
       " \"'islands\": 52271,\n",
       " 'hawked': 40933,\n",
       " 'palme': 21919,\n",
       " 'conservatively': 40934,\n",
       " 'larp': 64007,\n",
       " 'palma': 5558,\n",
       " 'smelling': 21920,\n",
       " 'aragorn': 12998,\n",
       " 'hawker': 52272,\n",
       " 'hawkes': 52273,\n",
       " 'explosions': 3975,\n",
       " 'loren': 8059,\n",
       " \"pyle's\": 52274,\n",
       " 'shootout': 6704,\n",
       " \"mike's\": 18517,\n",
       " \"driscoll's\": 52275,\n",
       " 'cogsworth': 40935,\n",
       " \"britian's\": 52276,\n",
       " 'childs': 34744,\n",
       " \"portrait's\": 52277,\n",
       " 'chain': 3626,\n",
       " 'whoever': 2497,\n",
       " 'puttered': 52278,\n",
       " 'childe': 52279,\n",
       " 'maywether': 52280,\n",
       " 'chair': 3036,\n",
       " \"rance's\": 52281,\n",
       " 'machu': 34745,\n",
       " 'ballet': 4517,\n",
       " 'grapples': 34746,\n",
       " 'summerize': 76152,\n",
       " 'freelance': 30603,\n",
       " \"andrea's\": 52283,\n",
       " '\\x91very': 52284,\n",
       " 'coolidge': 45879,\n",
       " 'mache': 18518,\n",
       " 'balled': 52285,\n",
       " 'grappled': 40937,\n",
       " 'macha': 18519,\n",
       " 'underlining': 21921,\n",
       " 'macho': 5623,\n",
       " 'oversight': 19507,\n",
       " 'machi': 25257,\n",
       " 'verbally': 11311,\n",
       " 'tenacious': 21922,\n",
       " 'windshields': 40938,\n",
       " 'paychecks': 18557,\n",
       " 'jerk': 3396,\n",
       " \"good'\": 11931,\n",
       " 'prancer': 34748,\n",
       " 'prances': 21923,\n",
       " 'olympus': 52286,\n",
       " 'lark': 21924,\n",
       " 'embark': 10785,\n",
       " 'gloomy': 7365,\n",
       " 'jehaan': 52287,\n",
       " 'turaqui': 52288,\n",
       " \"child'\": 20607,\n",
       " 'locked': 2894,\n",
       " 'pranced': 52289,\n",
       " 'exact': 2588,\n",
       " 'unattuned': 52290,\n",
       " 'minute': 783,\n",
       " 'skewed': 16118,\n",
       " 'hodgins': 40940,\n",
       " 'skewer': 34749,\n",
       " 'think\\x85': 52291,\n",
       " 'rosenstein': 38765,\n",
       " 'helmit': 52292,\n",
       " 'wrestlemanias': 34750,\n",
       " 'hindered': 16826,\n",
       " \"martha's\": 30604,\n",
       " 'cheree': 52293,\n",
       " \"pluckin'\": 52294,\n",
       " 'ogles': 40941,\n",
       " 'heavyweight': 11932,\n",
       " 'aada': 82190,\n",
       " 'chopping': 11312,\n",
       " 'strongboy': 61534,\n",
       " 'hegemonic': 41342,\n",
       " 'adorns': 40942,\n",
       " 'xxth': 41346,\n",
       " 'nobuhiro': 34751,\n",
       " 'capitães': 52298,\n",
       " 'kavogianni': 52299,\n",
       " 'antwerp': 13422,\n",
       " 'celebrated': 6538,\n",
       " 'roarke': 52300,\n",
       " 'baggins': 40943,\n",
       " 'cheeseburgers': 31270,\n",
       " 'matras': 52301,\n",
       " \"nineties'\": 52302,\n",
       " \"'craig'\": 52303,\n",
       " 'celebrates': 12999,\n",
       " 'unintentionally': 3383,\n",
       " 'drafted': 14362,\n",
       " 'climby': 52304,\n",
       " '303': 52305,\n",
       " 'oldies': 18520,\n",
       " 'climbs': 9096,\n",
       " 'honour': 9655,\n",
       " 'plucking': 34752,\n",
       " '305': 30074,\n",
       " 'address': 5514,\n",
       " 'menjou': 40944,\n",
       " \"'freak'\": 42592,\n",
       " 'dwindling': 19508,\n",
       " 'benson': 9458,\n",
       " 'white’s': 52307,\n",
       " 'shamelessness': 40945,\n",
       " 'impacted': 21925,\n",
       " 'upatz': 52308,\n",
       " 'cusack': 3840,\n",
       " \"flavia's\": 37567,\n",
       " 'effette': 52309,\n",
       " 'influx': 34753,\n",
       " 'boooooooo': 52310,\n",
       " 'dimitrova': 52311,\n",
       " 'houseman': 13423,\n",
       " 'bigas': 25259,\n",
       " 'boylen': 52312,\n",
       " 'phillipenes': 52313,\n",
       " 'fakery': 40946,\n",
       " \"grandpa's\": 27658,\n",
       " 'darnell': 27659,\n",
       " 'undergone': 19509,\n",
       " 'handbags': 52315,\n",
       " 'perished': 21926,\n",
       " 'pooped': 37778,\n",
       " 'vigour': 27660,\n",
       " 'opposed': 3627,\n",
       " 'etude': 52316,\n",
       " \"caine's\": 11799,\n",
       " 'doozers': 52317,\n",
       " 'photojournals': 34754,\n",
       " 'perishes': 52318,\n",
       " 'constrains': 34755,\n",
       " 'migenes': 40948,\n",
       " 'consoled': 30605,\n",
       " 'alastair': 16827,\n",
       " 'wvs': 52319,\n",
       " 'ooooooh': 52320,\n",
       " 'approving': 34756,\n",
       " 'consoles': 40949,\n",
       " 'disparagement': 52064,\n",
       " 'futureistic': 52322,\n",
       " 'rebounding': 52323,\n",
       " \"'date\": 52324,\n",
       " 'gregoire': 52325,\n",
       " 'rutherford': 21927,\n",
       " 'americanised': 34757,\n",
       " 'novikov': 82196,\n",
       " 'following': 1042,\n",
       " 'munroe': 34758,\n",
       " \"morita'\": 52326,\n",
       " 'christenssen': 52327,\n",
       " 'oatmeal': 23106,\n",
       " 'fossey': 25260,\n",
       " 'livered': 40950,\n",
       " 'listens': 13000,\n",
       " \"'marci\": 76164,\n",
       " \"otis's\": 52330,\n",
       " 'thanking': 23387,\n",
       " 'maude': 16019,\n",
       " 'extensions': 34759,\n",
       " 'ameteurish': 52332,\n",
       " \"commender's\": 52333,\n",
       " 'agricultural': 27661,\n",
       " 'convincingly': 4518,\n",
       " 'fueled': 17639,\n",
       " 'mahattan': 54014,\n",
       " \"paris's\": 40952,\n",
       " 'vulkan': 52336,\n",
       " 'stapes': 52337,\n",
       " 'odysessy': 52338,\n",
       " 'harmon': 12259,\n",
       " 'surfing': 4252,\n",
       " 'halloran': 23494,\n",
       " 'unbelieveably': 49580,\n",
       " \"'offed'\": 52339,\n",
       " 'quadrant': 30607,\n",
       " 'inhabiting': 19510,\n",
       " 'nebbish': 34760,\n",
       " 'forebears': 40953,\n",
       " 'skirmish': 34761,\n",
       " 'ocassionally': 52340,\n",
       " \"'resist\": 52341,\n",
       " 'impactful': 21928,\n",
       " 'spicier': 52342,\n",
       " 'touristy': 40954,\n",
       " \"'football'\": 52343,\n",
       " 'webpage': 40955,\n",
       " 'exurbia': 52345,\n",
       " 'jucier': 52346,\n",
       " 'professors': 14901,\n",
       " 'structuring': 34762,\n",
       " 'jig': 30608,\n",
       " 'overlord': 40956,\n",
       " 'disconnect': 25261,\n",
       " 'sniffle': 82201,\n",
       " 'slimeball': 40957,\n",
       " 'jia': 40958,\n",
       " 'milked': 16828,\n",
       " 'banjoes': 40959,\n",
       " 'jim': 1237,\n",
       " 'workforces': 52348,\n",
       " 'jip': 52349,\n",
       " 'rotweiller': 52350,\n",
       " 'mundaneness': 34763,\n",
       " \"'ninja'\": 52351,\n",
       " \"dead'\": 11040,\n",
       " \"cipriani's\": 40960,\n",
       " 'modestly': 20608,\n",
       " \"professor'\": 52352,\n",
       " 'shacked': 40961,\n",
       " 'bashful': 34764,\n",
       " 'sorter': 23388,\n",
       " 'overpowering': 16120,\n",
       " 'workmanlike': 18521,\n",
       " 'henpecked': 27662,\n",
       " 'sorted': 18522,\n",
       " \"jōb's\": 52354,\n",
       " \"'always\": 52355,\n",
       " \"'baptists\": 34765,\n",
       " 'dreamcatchers': 52356,\n",
       " \"'silence'\": 52357,\n",
       " 'hickory': 21929,\n",
       " 'fun\\x97yet': 52358,\n",
       " 'breakumentary': 52359,\n",
       " 'didn': 15496,\n",
       " 'didi': 52360,\n",
       " 'pealing': 52361,\n",
       " 'dispite': 40962,\n",
       " \"italy's\": 25262,\n",
       " 'instability': 21930,\n",
       " 'quarter': 6539,\n",
       " 'quartet': 12608,\n",
       " 'padmé': 52362,\n",
       " \"'bleedmedry\": 52363,\n",
       " 'pahalniuk': 52364,\n",
       " 'honduras': 52365,\n",
       " 'bursting': 10786,\n",
       " \"pablo's\": 41465,\n",
       " 'irremediably': 52367,\n",
       " 'presages': 40963,\n",
       " 'bowlegged': 57832,\n",
       " 'dalip': 65183,\n",
       " 'entering': 6260,\n",
       " 'newsradio': 76172,\n",
       " 'presaged': 54150,\n",
       " \"giallo's\": 27663,\n",
       " 'bouyant': 40964,\n",
       " 'amerterish': 52368,\n",
       " 'rajni': 18523,\n",
       " 'leeves': 30610,\n",
       " 'macauley': 34767,\n",
       " 'seriously': 612,\n",
       " 'sugercoma': 52369,\n",
       " 'grimstead': 52370,\n",
       " \"'fairy'\": 52371,\n",
       " 'zenda': 30611,\n",
       " \"'twins'\": 52372,\n",
       " 'realisation': 17640,\n",
       " 'highsmith': 27664,\n",
       " 'raunchy': 7817,\n",
       " 'incentives': 40965,\n",
       " 'flatson': 52374,\n",
       " 'snooker': 35097,\n",
       " 'crazies': 16829,\n",
       " 'crazier': 14902,\n",
       " 'grandma': 7094,\n",
       " 'napunsaktha': 52375,\n",
       " 'workmanship': 30612,\n",
       " 'reisner': 52376,\n",
       " \"sanford's\": 61306,\n",
       " '\\x91doña': 52377,\n",
       " 'modest': 6108,\n",
       " \"everything's\": 19153,\n",
       " 'hamer': 40966,\n",
       " \"couldn't'\": 52379,\n",
       " 'quibble': 13001,\n",
       " 'socking': 52380,\n",
       " 'tingler': 21931,\n",
       " 'gutman': 52381,\n",
       " 'lachlan': 40967,\n",
       " 'tableaus': 52382,\n",
       " 'headbanger': 52383,\n",
       " 'spoken': 2847,\n",
       " 'cerebrally': 34768,\n",
       " \"'road\": 23490,\n",
       " 'tableaux': 21932,\n",
       " \"proust's\": 40968,\n",
       " 'periodical': 40969,\n",
       " \"shoveller's\": 52385,\n",
       " 'tamara': 25263,\n",
       " 'affords': 17641,\n",
       " 'concert': 3249,\n",
       " \"yara's\": 87955,\n",
       " 'someome': 52386,\n",
       " 'lingering': 8424,\n",
       " \"abraham's\": 41511,\n",
       " 'beesley': 34769,\n",
       " 'cherbourg': 34770,\n",
       " 'kagan': 28624,\n",
       " 'snatch': 9097,\n",
       " \"miyazaki's\": 9260,\n",
       " 'absorbs': 25264,\n",
       " \"koltai's\": 40970,\n",
       " 'tingled': 64027,\n",
       " 'crossroads': 19511,\n",
       " 'rehab': 16121,\n",
       " 'falworth': 52389,\n",
       " 'sequals': 52390,\n",
       " ...}"
      ]
     },
     "execution_count": 166,
     "metadata": {},
     "output_type": "execute_result"
    }
   ],
   "source": [
    "wordIndex=imdb.get_word_index()\n",
    "wordIndex"
   ]
  },
  {
   "cell_type": "code",
   "execution_count": 167,
   "metadata": {},
   "outputs": [],
   "source": [
    "rev_wordIndex=dict([(value,key) for (key,value) in wordIndex.items()])"
   ]
  },
  {
   "cell_type": "code",
   "execution_count": 168,
   "metadata": {},
   "outputs": [],
   "source": [
    "#i가 0, 1, 2, 3 일때는 \"?\"를 get\n",
    "decReview=\" \".join([rev_wordIndex.get(i-3, \"?\") \n",
    "          for i in trainData[0]])"
   ]
  },
  {
   "cell_type": "code",
   "execution_count": 169,
   "metadata": {},
   "outputs": [
    {
     "data": {
      "text/plain": [
       "\"? this film was just brilliant casting location scenery story direction everyone's really suited the part they played and you could just imagine being there robert ? is an amazing actor and now the same being director ? father came from the same scottish island as myself so i loved the fact there was a real connection with this film the witty remarks throughout the film were great it was just brilliant so much that i bought the film as soon as it was released for ? and would recommend it to everyone to watch and the fly fishing was amazing really cried at the end it was so sad and you know what they say if you cry at a film it must have been good and this definitely was also ? to the two little boy's that played the ? of norman and paul they were just brilliant children are often left out of the ? list i think because the stars that play them all grown up are such a big profile for the whole film but these children are amazing and should be praised for what they have done don't you think the whole story was so lovely because it was true and was someone's life after all that was shared with us all\""
      ]
     },
     "execution_count": 169,
     "metadata": {},
     "output_type": "execute_result"
    }
   ],
   "source": [
    "decReview"
   ]
  },
  {
   "cell_type": "code",
   "execution_count": 170,
   "metadata": {},
   "outputs": [],
   "source": [
    "#동일한 길이의 리스트가 되도록 패딩 작업수행\n",
    "#원핫인코딩"
   ]
  },
  {
   "cell_type": "code",
   "execution_count": 171,
   "metadata": {},
   "outputs": [],
   "source": [
    "def vec_seq(data, dim=10000):\n",
    "    res=np.zeros((len(data),dim))\n",
    "    for i, s in enumerate(data):\n",
    "        res[i,s]=1\n",
    "    return res    \n",
    "xTrain=vec_seq(trainData)\n",
    "xTest=vec_seq(testData)\n",
    "    #훈련데이터 -> 벡터로 변환"
   ]
  },
  {
   "cell_type": "code",
   "execution_count": 172,
   "metadata": {},
   "outputs": [
    {
     "data": {
      "text/plain": [
       "(25000, 10000)"
      ]
     },
     "execution_count": 172,
     "metadata": {},
     "output_type": "execute_result"
    }
   ],
   "source": [
    "xTrain.shape"
   ]
  },
  {
   "cell_type": "code",
   "execution_count": 173,
   "metadata": {},
   "outputs": [],
   "source": [
    "yTrain=trainLabel.astype('float32')\n",
    "yTest=testLabel.astype('float32')"
   ]
  },
  {
   "cell_type": "code",
   "execution_count": 174,
   "metadata": {},
   "outputs": [
    {
     "data": {
      "text/plain": [
       "(25000,)"
      ]
     },
     "execution_count": 174,
     "metadata": {},
     "output_type": "execute_result"
    }
   ],
   "source": [
    "yTest.shape"
   ]
  },
  {
   "cell_type": "code",
   "execution_count": 175,
   "metadata": {},
   "outputs": [],
   "source": [
    "#신경망 모델\n",
    "model=Sequential()\n",
    "model.add(Dense(16, activation=\"relu\", input_shape=(10000,)))\n",
    "model.add(Dense(16, activation=\"relu\"))\n",
    "model.add(Dense(1, activation=\"sigmoid\"))"
   ]
  },
  {
   "cell_type": "code",
   "execution_count": 176,
   "metadata": {},
   "outputs": [],
   "source": [
    "model.compile(loss=\"binary_crossentropy\",\n",
    "             optimizer=\"rmsprop\",\n",
    "             metrics=['accuracy'])"
   ]
  },
  {
   "cell_type": "code",
   "execution_count": 177,
   "metadata": {},
   "outputs": [],
   "source": [
    "xVal=xTrain[:10000]\n",
    "p_xTrain=xTrain[10000:]\n",
    "yVal=yTrain[:10000]\n",
    "p_yTrain=yTrain[10000:]"
   ]
  },
  {
   "cell_type": "code",
   "execution_count": 178,
   "metadata": {},
   "outputs": [
    {
     "name": "stdout",
     "output_type": "stream",
     "text": [
      "Train on 15000 samples, validate on 10000 samples\n",
      "Epoch 1/20\n",
      "15000/15000 [==============================] - 3s 177us/step - loss: 0.5123 - accuracy: 0.7932 - val_loss: 0.3986 - val_accuracy: 0.8565\n",
      "Epoch 2/20\n",
      "15000/15000 [==============================] - 2s 145us/step - loss: 0.3061 - accuracy: 0.9019 - val_loss: 0.3198 - val_accuracy: 0.8762\n",
      "Epoch 3/20\n",
      "15000/15000 [==============================] - 2s 148us/step - loss: 0.2244 - accuracy: 0.9279 - val_loss: 0.2788 - val_accuracy: 0.8883\n",
      "Epoch 4/20\n",
      "15000/15000 [==============================] - 2s 148us/step - loss: 0.1789 - accuracy: 0.9423 - val_loss: 0.3160 - val_accuracy: 0.8714\n",
      "Epoch 5/20\n",
      "15000/15000 [==============================] - 2s 145us/step - loss: 0.1431 - accuracy: 0.9551 - val_loss: 0.2974 - val_accuracy: 0.8826\n",
      "Epoch 6/20\n",
      "15000/15000 [==============================] - 2s 145us/step - loss: 0.1203 - accuracy: 0.9619 - val_loss: 0.2928 - val_accuracy: 0.8857\n",
      "Epoch 7/20\n",
      "15000/15000 [==============================] - 2s 149us/step - loss: 0.1019 - accuracy: 0.9685 - val_loss: 0.3131 - val_accuracy: 0.8832\n",
      "Epoch 8/20\n",
      "15000/15000 [==============================] - 2s 144us/step - loss: 0.0827 - accuracy: 0.9768 - val_loss: 0.3264 - val_accuracy: 0.8813\n",
      "Epoch 9/20\n",
      "15000/15000 [==============================] - 2s 146us/step - loss: 0.0697 - accuracy: 0.9811 - val_loss: 0.3502 - val_accuracy: 0.8808\n",
      "Epoch 10/20\n",
      "15000/15000 [==============================] - 2s 144us/step - loss: 0.0594 - accuracy: 0.9845 - val_loss: 0.3904 - val_accuracy: 0.8718\n",
      "Epoch 11/20\n",
      "15000/15000 [==============================] - 2s 146us/step - loss: 0.0498 - accuracy: 0.9880 - val_loss: 0.4186 - val_accuracy: 0.8699\n",
      "Epoch 12/20\n",
      "15000/15000 [==============================] - 2s 147us/step - loss: 0.0374 - accuracy: 0.9921 - val_loss: 0.4676 - val_accuracy: 0.8718\n",
      "Epoch 13/20\n",
      "15000/15000 [==============================] - 2s 149us/step - loss: 0.0325 - accuracy: 0.9934 - val_loss: 0.4712 - val_accuracy: 0.8727\n",
      "Epoch 14/20\n",
      "15000/15000 [==============================] - 2s 145us/step - loss: 0.0272 - accuracy: 0.9947 - val_loss: 0.5206 - val_accuracy: 0.8620\n",
      "Epoch 15/20\n",
      "15000/15000 [==============================] - 2s 147us/step - loss: 0.0226 - accuracy: 0.9957 - val_loss: 0.5452 - val_accuracy: 0.8623\n",
      "Epoch 16/20\n",
      "15000/15000 [==============================] - 2s 144us/step - loss: 0.0163 - accuracy: 0.9977 - val_loss: 0.5659 - val_accuracy: 0.8655\n",
      "Epoch 17/20\n",
      "15000/15000 [==============================] - 2s 143us/step - loss: 0.0135 - accuracy: 0.9989 - val_loss: 0.6043 - val_accuracy: 0.8667\n",
      "Epoch 18/20\n",
      "15000/15000 [==============================] - 2s 144us/step - loss: 0.0134 - accuracy: 0.9972 - val_loss: 0.6403 - val_accuracy: 0.8693\n",
      "Epoch 19/20\n",
      "15000/15000 [==============================] - 2s 151us/step - loss: 0.0092 - accuracy: 0.9986 - val_loss: 0.7167 - val_accuracy: 0.8623\n",
      "Epoch 20/20\n",
      "15000/15000 [==============================] - 2s 144us/step - loss: 0.0053 - accuracy: 0.9999 - val_loss: 0.6997 - val_accuracy: 0.8623\n"
     ]
    }
   ],
   "source": [
    "history=model.fit(p_xTrain,p_yTrain,epochs=20, \n",
    "                  batch_size=512, \n",
    "                  validation_data=(xVal,yVal))"
   ]
  },
  {
   "cell_type": "code",
   "execution_count": 179,
   "metadata": {},
   "outputs": [
    {
     "data": {
      "text/plain": [
       "dict_keys(['val_loss', 'val_accuracy', 'loss', 'accuracy'])"
      ]
     },
     "execution_count": 179,
     "metadata": {},
     "output_type": "execute_result"
    }
   ],
   "source": [
    "historyDict=history.history\n",
    "historyDict.keys()"
   ]
  },
  {
   "cell_type": "code",
   "execution_count": 180,
   "metadata": {},
   "outputs": [],
   "source": [
    "acc=history.history['accuracy']\n",
    "val_acc=history.history['val_accuracy']\n",
    "loss=history.history['loss']\n",
    "val_loss=history.history['val_loss']"
   ]
  },
  {
   "cell_type": "code",
   "execution_count": 184,
   "metadata": {},
   "outputs": [
    {
     "data": {
      "image/png": "[encoded data removed]",
      "text/plain": [
       "<Figure size 432x288 with 1 Axes>"
      ]
     },
     "metadata": {
      "needs_background": "light"
     },
     "output_type": "display_data"
    }
   ],
   "source": [
    "epo=range(1,len(acc)+1)\n",
    "plt.plot(epo, loss, 'bo', label=\"Traing loss\")\n",
    "plt.plot(epo, val_loss, 'b', label=\"Val loss\")\n",
    "plt.xlabel(\"epoch\")\n",
    "plt.ylabel(\"Loss\")\n",
    "plt.legend()\n",
    "plt.show()"
   ]
  },
  {
   "cell_type": "code",
   "execution_count": 185,
   "metadata": {},
   "outputs": [
    {
     "data": {
      "image/png": "[encoded data removed]",
      "text/plain": [
       "<Figure size 432x288 with 1 Axes>"
      ]
     },
     "metadata": {
      "needs_background": "light"
     },
     "output_type": "display_data"
    }
   ],
   "source": [
    "plt.plot(epo, acc, 'bo', label=\"Traing acc\")\n",
    "plt.plot(epo, val_acc, 'b', label=\"Val acc\")\n",
    "plt.xlabel(\"epoch\")\n",
    "plt.ylabel(\"acc\")\n",
    "plt.legend()\n",
    "plt.show()"
   ]
  },
  {
   "cell_type": "code",
   "execution_count": 186,
   "metadata": {},
   "outputs": [
    {
     "name": "stdout",
     "output_type": "stream",
     "text": [
      "25000/25000 [==============================] - 3s 110us/step\n"
     ]
    },
    {
     "data": {
      "text/plain": [
       "[0.7668813329720497, 0.8485999703407288]"
      ]
     },
     "execution_count": 186,
     "metadata": {},
     "output_type": "execute_result"
    }
   ],
   "source": [
    "model.evaluate(xTest,yTest)"
   ]
  },
  {
   "cell_type": "markdown",
   "metadata": {},
   "source": [
    "model.predict(xTest)"
   ]
  },
  {
   "cell_type": "code",
   "execution_count": 187,
   "metadata": {},
   "outputs": [
    {
     "data": {
      "text/plain": [
       "array([[0.00452176],\n",
       "       [1.        ],\n",
       "       [0.9617896 ],\n",
       "       ...,\n",
       "       [0.00356588],\n",
       "       [0.01140338],\n",
       "       [0.40020242]], dtype=float32)"
      ]
     },
     "execution_count": 187,
     "metadata": {},
     "output_type": "execute_result"
    }
   ],
   "source": [
    "model.predict(xTest)"
   ]
  },
  {
   "cell_type": "code",
   "execution_count": 188,
   "metadata": {},
   "outputs": [],
   "source": [
    "from keras.datasets import boston_housing"
   ]
  },
  {
   "cell_type": "code",
   "execution_count": 189,
   "metadata": {},
   "outputs": [
    {
     "name": "stdout",
     "output_type": "stream",
     "text": [
      "Downloading data from https://s3.amazonaws.com/keras-datasets/boston_housing.npz\n",
      "57344/57026 [==============================] - 0s 4us/step\n"
     ]
    }
   ],
   "source": [
    "(trainData,trainTargets), (testData,testTargets)=boston_housing.load_data()"
   ]
  },
  {
   "cell_type": "code",
   "execution_count": 190,
   "metadata": {},
   "outputs": [
    {
     "data": {
      "text/plain": [
       "array([ 7.2, 18.8, 19. , 27. , 22.2, 24.5, 31.2, 22.9, 20.5, 23.2, 18.6,\n",
       "       14.5, 17.8, 50. , 20.8, 24.3, 24.2, 19.8, 19.1, 22.7, 12. , 10.2,\n",
       "       20. , 18.5, 20.9, 23. , 27.5, 30.1,  9.5, 22. , 21.2, 14.1, 33.1,\n",
       "       23.4, 20.1,  7.4, 15.4, 23.8, 20.1, 24.5, 33. , 28.4, 14.1, 46.7,\n",
       "       32.5, 29.6, 28.4, 19.8, 20.2, 25. , 35.4, 20.3,  9.7, 14.5, 34.9,\n",
       "       26.6,  7.2, 50. , 32.4, 21.6, 29.8, 13.1, 27.5, 21.2, 23.1, 21.9,\n",
       "       13. , 23.2,  8.1,  5.6, 21.7, 29.6, 19.6,  7. , 26.4, 18.9, 20.9,\n",
       "       28.1, 35.4, 10.2, 24.3, 43.1, 17.6, 15.4, 16.2, 27.1, 21.4, 21.5,\n",
       "       22.4, 25. , 16.6, 18.6, 22. , 42.8, 35.1, 21.5, 36. , 21.9, 24.1,\n",
       "       50. , 26.7, 25. ])"
      ]
     },
     "execution_count": 190,
     "metadata": {},
     "output_type": "execute_result"
    }
   ],
   "source": [
    "trainData.shape\n",
    "trainTargets\n",
    "testData.shape\n",
    "testTargets\n",
    "#loss='mse', optimizer='rmsprop',metrics=['mae']\n",
    "#ex) mae가 0.5 -> 실제와 예측 차이:0.5 -> 500달러 차이\n",
    "#케라스, 텐서플로우\n",
    "\n",
    "#아이리스 품종 분류기 :  iris.csv 파일\n",
    "#loss=categorical_crossentropy, optimizer=adm\n",
    "#metrics=accuracy\n",
    "#케라스, 텐서플로우"
   ]
  },
  {
   "cell_type": "code",
   "execution_count": null,
   "metadata": {},
   "outputs": [],
   "source": []
  },
  {
   "cell_type": "code",
   "execution_count": null,
   "metadata": {},
   "outputs": [],
   "source": []
  }
 ],
 "metadata": {
  "kernelspec": {
   "display_name": "Python 3",
   "language": "python",
   "name": "python3"
  },
  "language_info": {
   "codemirror_mode": {
    "name": "ipython",
    "version": 3
   },
   "file_extension": ".py",
   "mimetype": "text/x-python",
   "name": "python",
   "nbconvert_exporter": "python",
   "pygments_lexer": "ipython3",
   "version": "3.7.7"
  }
 },
 "nbformat": 4,
 "nbformat_minor": 2
}
