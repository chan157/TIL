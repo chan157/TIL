{
 "cells": [
  {
   "cell_type": "code",
   "execution_count": 13,
   "metadata": {},
   "outputs": [],
   "source": [
    "import json\n",
    "import pandas as pd\n",
    "import numpy as np\n",
    "import tensorflow as tf\n",
    "from tensorflow import keras\n",
    "from sklearn.model_selection import train_test_split\n",
    "from tensorflow.keras.utils import to_categorical\n",
    "import matplotlib.pyplot as plt"
   ]
  },
  {
   "cell_type": "code",
   "execution_count": 14,
   "metadata": {},
   "outputs": [
    {
     "data": {
      "text/plain": [
       "<_io.TextIOWrapper name='planesnet/planesnet.json' mode='r' encoding='cp949'>"
      ]
     },
     "execution_count": 14,
     "metadata": {},
     "output_type": "execute_result"
    }
   ],
   "source": [
    "f_plane=open(\"planesnet/planesnet.json\")\n",
    "f_plane"
   ]
  },
  {
   "cell_type": "code",
   "execution_count": 15,
   "metadata": {},
   "outputs": [],
   "source": [
    "plane_dataset=json.load(f_plane)\n",
    "f_plane.close()"
   ]
  },
  {
   "cell_type": "code",
   "execution_count": 17,
   "metadata": {},
   "outputs": [
    {
     "data": {
      "text/plain": [
       "dict_keys(['data', 'labels', 'locations', 'scene_ids'])"
      ]
     },
     "execution_count": 17,
     "metadata": {},
     "output_type": "execute_result"
    }
   ],
   "source": [
    "plane_dataset.keys()"
   ]
  },
  {
   "cell_type": "code",
   "execution_count": 73,
   "metadata": {},
   "outputs": [],
   "source": [
    "plane_x=np.array(plane_dataset['data']).astype('uint8')\n",
    "plane_y=np.array(plane_dataset['labels']).astype('uint8')\n",
    "#int8,16,32,64, uint8(0~255),16,32,64\n",
    "#int8:8비트로 정수를 표현(-128~127)"
   ]
  },
  {
   "cell_type": "code",
   "execution_count": 74,
   "metadata": {},
   "outputs": [
    {
     "data": {
      "text/plain": [
       "38400000"
      ]
     },
     "execution_count": 74,
     "metadata": {},
     "output_type": "execute_result"
    }
   ],
   "source": [
    "plane_x.nbytes #153600000 -> 38400000"
   ]
  },
  {
   "cell_type": "code",
   "execution_count": 75,
   "metadata": {},
   "outputs": [
    {
     "data": {
      "text/plain": [
       "array([[[[206, 203, 188],\n",
       "         [195, 192, 175],\n",
       "         [187, 183, 164],\n",
       "         ...,\n",
       "         [214, 208, 178],\n",
       "         [254, 246, 221],\n",
       "         [255, 247, 229]],\n",
       "\n",
       "        [[207, 204, 191],\n",
       "         [200, 195, 180],\n",
       "         [192, 187, 169],\n",
       "         ...,\n",
       "         [218, 212, 181],\n",
       "         [255, 248, 226],\n",
       "         [255, 248, 232]],\n",
       "\n",
       "        [[217, 214, 200],\n",
       "         [200, 195, 177],\n",
       "         [194, 188, 170],\n",
       "         ...,\n",
       "         [220, 211, 180],\n",
       "         [255, 242, 215],\n",
       "         [255, 245, 225]],\n",
       "\n",
       "        ...,\n",
       "\n",
       "        [[183, 181, 167],\n",
       "         [203, 200, 187],\n",
       "         [204, 200, 189],\n",
       "         ...,\n",
       "         [251, 247, 236],\n",
       "         [233, 228, 211],\n",
       "         [190, 185, 166]],\n",
       "\n",
       "        [[198, 193, 179],\n",
       "         [209, 205, 194],\n",
       "         [205, 201, 189],\n",
       "         ...,\n",
       "         [233, 233, 221],\n",
       "         [222, 216, 202],\n",
       "         [187, 180, 163]],\n",
       "\n",
       "        [[193, 189, 174],\n",
       "         [214, 209, 199],\n",
       "         [208, 202, 188],\n",
       "         ...,\n",
       "         [236, 234, 224],\n",
       "         [213, 207, 194],\n",
       "         [194, 182, 164]]],\n",
       "\n",
       "\n",
       "       [[[215, 216, 204],\n",
       "         [209, 210, 198],\n",
       "         [200, 202, 189],\n",
       "         ...,\n",
       "         [186, 184, 167],\n",
       "         [186, 184, 174],\n",
       "         [189, 187, 177]],\n",
       "\n",
       "        [[206, 208, 197],\n",
       "         [197, 199, 188],\n",
       "         [188, 189, 179],\n",
       "         ...,\n",
       "         [190, 187, 172],\n",
       "         [190, 188, 179],\n",
       "         [195, 193, 183]],\n",
       "\n",
       "        [[194, 195, 186],\n",
       "         [184, 185, 176],\n",
       "         [173, 176, 166],\n",
       "         ...,\n",
       "         [197, 195, 179],\n",
       "         [192, 191, 182],\n",
       "         [196, 194, 183]],\n",
       "\n",
       "        ...,\n",
       "\n",
       "        [[210, 211, 199],\n",
       "         [219, 220, 212],\n",
       "         [236, 238, 228],\n",
       "         ...,\n",
       "         [219, 216, 202],\n",
       "         [223, 218, 200],\n",
       "         [225, 221, 201]],\n",
       "\n",
       "        [[209, 210, 198],\n",
       "         [221, 221, 211],\n",
       "         [232, 233, 222],\n",
       "         ...,\n",
       "         [216, 213, 201],\n",
       "         [224, 221, 207],\n",
       "         [228, 225, 210]],\n",
       "\n",
       "        [[200, 201, 189],\n",
       "         [210, 209, 198],\n",
       "         [217, 217, 205],\n",
       "         ...,\n",
       "         [221, 217, 205],\n",
       "         [224, 220, 207],\n",
       "         [227, 225, 210]]],\n",
       "\n",
       "\n",
       "       [[[204, 193, 178],\n",
       "         [214, 204, 190],\n",
       "         [220, 210, 195],\n",
       "         ...,\n",
       "         [205, 196, 181],\n",
       "         [209, 201, 186],\n",
       "         [213, 206, 191]],\n",
       "\n",
       "        [[202, 192, 177],\n",
       "         [213, 204, 189],\n",
       "         [227, 217, 201],\n",
       "         ...,\n",
       "         [205, 197, 182],\n",
       "         [206, 198, 183],\n",
       "         [207, 199, 184]],\n",
       "\n",
       "        [[190, 183, 169],\n",
       "         [214, 205, 190],\n",
       "         [240, 230, 217],\n",
       "         ...,\n",
       "         [209, 203, 188],\n",
       "         [205, 197, 182],\n",
       "         [199, 191, 175]],\n",
       "\n",
       "        ...,\n",
       "\n",
       "        [[203, 193, 178],\n",
       "         [200, 189, 175],\n",
       "         [199, 189, 175],\n",
       "         ...,\n",
       "         [181, 174, 161],\n",
       "         [173, 167, 152],\n",
       "         [174, 165, 150]],\n",
       "\n",
       "        [[200, 189, 173],\n",
       "         [193, 182, 167],\n",
       "         [191, 180, 167],\n",
       "         ...,\n",
       "         [185, 177, 164],\n",
       "         [184, 175, 162],\n",
       "         [176, 167, 152]],\n",
       "\n",
       "        [[198, 187, 170],\n",
       "         [186, 176, 162],\n",
       "         [184, 174, 161],\n",
       "         ...,\n",
       "         [189, 180, 167],\n",
       "         [185, 176, 163],\n",
       "         [179, 171, 157]]],\n",
       "\n",
       "\n",
       "       ...,\n",
       "\n",
       "\n",
       "       [[[121, 121, 139],\n",
       "         [121, 123, 143],\n",
       "         [119, 123, 140],\n",
       "         ...,\n",
       "         [165, 159, 160],\n",
       "         [154, 150, 152],\n",
       "         [151, 149, 153]],\n",
       "\n",
       "        [[109, 110, 127],\n",
       "         [103, 102, 120],\n",
       "         [123, 123, 146],\n",
       "         ...,\n",
       "         [181, 172, 173],\n",
       "         [171, 165, 167],\n",
       "         [147, 144, 149]],\n",
       "\n",
       "        [[102, 103, 121],\n",
       "         [ 97,  96, 115],\n",
       "         [105, 108, 131],\n",
       "         ...,\n",
       "         [180, 171, 171],\n",
       "         [176, 169, 170],\n",
       "         [154, 150, 154]],\n",
       "\n",
       "        ...,\n",
       "\n",
       "        [[111, 110, 131],\n",
       "         [131, 130, 146],\n",
       "         [117, 123, 130],\n",
       "         ...,\n",
       "         [152, 151, 159],\n",
       "         [167, 167, 175],\n",
       "         [155, 157, 166]],\n",
       "\n",
       "        [[109, 113, 132],\n",
       "         [119, 124, 136],\n",
       "         [108, 117, 123],\n",
       "         ...,\n",
       "         [168, 164, 174],\n",
       "         [162, 160, 170],\n",
       "         [144, 147, 158]],\n",
       "\n",
       "        [[124, 130, 149],\n",
       "         [132, 136, 147],\n",
       "         [120, 125, 131],\n",
       "         ...,\n",
       "         [167, 164, 175],\n",
       "         [168, 165, 178],\n",
       "         [142, 144, 156]]],\n",
       "\n",
       "\n",
       "       [[[172, 167, 155],\n",
       "         [190, 185, 173],\n",
       "         [202, 196, 186],\n",
       "         ...,\n",
       "         [179, 174, 163],\n",
       "         [176, 170, 160],\n",
       "         [172, 167, 156]],\n",
       "\n",
       "        [[193, 187, 175],\n",
       "         [208, 202, 190],\n",
       "         [212, 207, 196],\n",
       "         ...,\n",
       "         [187, 183, 171],\n",
       "         [189, 184, 173],\n",
       "         [193, 187, 176]],\n",
       "\n",
       "        [[205, 199, 187],\n",
       "         [213, 207, 195],\n",
       "         [213, 208, 196],\n",
       "         ...,\n",
       "         [201, 197, 183],\n",
       "         [207, 201, 190],\n",
       "         [212, 205, 195]],\n",
       "\n",
       "        ...,\n",
       "\n",
       "        [[220, 212, 198],\n",
       "         [225, 217, 204],\n",
       "         [228, 219, 206],\n",
       "         ...,\n",
       "         [212, 205, 195],\n",
       "         [203, 197, 188],\n",
       "         [209, 203, 193]],\n",
       "\n",
       "        [[208, 201, 186],\n",
       "         [215, 206, 192],\n",
       "         [217, 209, 195],\n",
       "         ...,\n",
       "         [221, 214, 205],\n",
       "         [213, 206, 197],\n",
       "         [211, 204, 194]],\n",
       "\n",
       "        [[199, 191, 176],\n",
       "         [203, 194, 179],\n",
       "         [205, 197, 182],\n",
       "         ...,\n",
       "         [227, 219, 210],\n",
       "         [220, 213, 203],\n",
       "         [212, 203, 192]]],\n",
       "\n",
       "\n",
       "       [[[161, 145, 124],\n",
       "         [172, 152, 129],\n",
       "         [189, 166, 148],\n",
       "         ...,\n",
       "         [206, 187, 168],\n",
       "         [211, 192, 173],\n",
       "         [211, 191, 171]],\n",
       "\n",
       "        [[166, 148, 127],\n",
       "         [178, 157, 134],\n",
       "         [186, 164, 141],\n",
       "         ...,\n",
       "         [199, 181, 162],\n",
       "         [206, 188, 169],\n",
       "         [210, 190, 171]],\n",
       "\n",
       "        [[172, 154, 130],\n",
       "         [178, 158, 135],\n",
       "         [182, 161, 140],\n",
       "         ...,\n",
       "         [190, 173, 153],\n",
       "         [196, 178, 157],\n",
       "         [204, 185, 165]],\n",
       "\n",
       "        ...,\n",
       "\n",
       "        [[188, 175, 156],\n",
       "         [179, 165, 143],\n",
       "         [159, 146, 126],\n",
       "         ...,\n",
       "         [206, 186, 161],\n",
       "         [206, 186, 162],\n",
       "         [214, 194, 172]],\n",
       "\n",
       "        [[171, 160, 141],\n",
       "         [152, 141, 118],\n",
       "         [146, 134, 114],\n",
       "         ...,\n",
       "         [200, 179, 155],\n",
       "         [196, 176, 150],\n",
       "         [214, 192, 167]],\n",
       "\n",
       "        [[149, 138, 119],\n",
       "         [138, 128, 108],\n",
       "         [157, 144, 125],\n",
       "         ...,\n",
       "         [177, 159, 137],\n",
       "         [166, 149, 123],\n",
       "         [186, 165, 140]]]], dtype=uint8)"
      ]
     },
     "execution_count": 75,
     "metadata": {},
     "output_type": "execute_result"
    }
   ],
   "source": [
    "plane_x.shape #20,20,3\n",
    "#plane_y.shape\n",
    "plane_x=plane_x.reshape([-1,3,20,20]).transpose([0,2,3,1])\n",
    "plane_x\n"
   ]
  },
  {
   "cell_type": "code",
   "execution_count": null,
   "metadata": {},
   "outputs": [],
   "source": []
  },
  {
   "cell_type": "code",
   "execution_count": 76,
   "metadata": {},
   "outputs": [],
   "source": [
    "shuffle_index=np.arange(32000)\n",
    "np.random.shuffle(shuffle_index)"
   ]
  },
  {
   "cell_type": "code",
   "execution_count": 77,
   "metadata": {},
   "outputs": [],
   "source": [
    "plane_x=plane_x[shuffle_index]\n",
    "plane_y=plane_y[shuffle_index]"
   ]
  },
  {
   "cell_type": "code",
   "execution_count": 78,
   "metadata": {},
   "outputs": [],
   "source": [
    "plane_x=plane_x/255.0"
   ]
  },
  {
   "cell_type": "code",
   "execution_count": 79,
   "metadata": {},
   "outputs": [],
   "source": [
    "plane_classes={0:'No Plane', 1:'Plane'}"
   ]
  },
  {
   "cell_type": "code",
   "execution_count": 80,
   "metadata": {},
   "outputs": [
    {
     "data": {
      "text/plain": [
       "(20, 20, 3)"
      ]
     },
     "execution_count": 80,
     "metadata": {},
     "output_type": "execute_result"
    }
   ],
   "source": [
    "plane_x[0].shape"
   ]
  },
  {
   "cell_type": "code",
   "execution_count": 81,
   "metadata": {},
   "outputs": [
    {
     "data": {
      "image/png": "[encoded data removed]",
      "text/plain": [
       "<Figure size 1440x720 with 8 Axes>"
      ]
     },
     "metadata": {},
     "output_type": "display_data"
    }
   ],
   "source": [
    "plt.figure(figsize=(20,10))\n",
    "for i in range(8):\n",
    "    plt.subplot(1,8,i+1)\n",
    "    plt.xticks([])\n",
    "    plt.yticks([])\n",
    "    plt.imshow(plane_x[i],cmap=plt.cm.binary)\n",
    "    plt.xlabel(plane_classes[plane_y[i]])"
   ]
  },
  {
   "cell_type": "code",
   "execution_count": 108,
   "metadata": {},
   "outputs": [
    {
     "ename": "SyntaxError",
     "evalue": "invalid syntax (<ipython-input-108-07b474ab71f9>, line 2)",
     "output_type": "error",
     "traceback": [
      "\u001b[1;36m  File \u001b[1;32m\"<ipython-input-108-07b474ab71f9>\"\u001b[1;36m, line \u001b[1;32m2\u001b[0m\n\u001b[1;33m    plane_y_train,plane_y_test =\u001b[0m\n\u001b[1;37m                                ^\u001b[0m\n\u001b[1;31mSyntaxError\u001b[0m\u001b[1;31m:\u001b[0m invalid syntax\n"
     ]
    }
   ],
   "source": [
    "plane_x_train,plane_x_test,\n",
    "plane_y_train,plane_y_test =\n",
    "train_test_split(plane_x,plane_y,\n",
    "                 test_size=0.2)"
   ]
  },
  {
   "cell_type": "code",
   "execution_count": 109,
   "metadata": {},
   "outputs": [],
   "source": [
    "def cnn_model(inputshape):\n",
    "    model=tf.keras.Sequential([\n",
    "        keras.layers.Conv2D(32,(5,5),input_shape=inputshape, activation='relu',padding='same'),\n",
    "        keras.layers.Conv2D(64,(5,5),activation='relu'),\n",
    "        keras.layers.MaxPooling2D(2,2),\n",
    "        keras.layers.Dropout(0.25),\n",
    "\n",
    "        keras.layers.Conv2D(128,(5,5), activation='relu'),\n",
    "        keras.layers.MaxPooling2D(2,2),\n",
    "        keras.layers.Dropout(0.25),    \n",
    "        keras.layers.Flatten(),\n",
    "        \n",
    "        keras.layers.Dense(512,activation='relu'),\n",
    "        keras.layers.Dropout(0.35),    \n",
    "        keras.layers.Dense(128,activation='relu'),\n",
    "        keras.layers.Dropout(0.35),           \n",
    "        keras.layers.Dense(2,activation='softmax')        \n",
    "    ]) \n",
    "    model.summary()\n",
    "    return(model)"
   ]
  },
  {
   "cell_type": "code",
   "execution_count": 110,
   "metadata": {},
   "outputs": [
    {
     "name": "stdout",
     "output_type": "stream",
     "text": [
      "Model: \"sequential_2\"\n",
      "_________________________________________________________________\n",
      "Layer (type)                 Output Shape              Param #   \n",
      "=================================================================\n",
      "conv2d_6 (Conv2D)            (None, 20, 20, 32)        2432      \n",
      "_________________________________________________________________\n",
      "conv2d_7 (Conv2D)            (None, 16, 16, 64)        51264     \n",
      "_________________________________________________________________\n",
      "max_pooling2d_4 (MaxPooling2 (None, 8, 8, 64)          0         \n",
      "_________________________________________________________________\n",
      "dropout_8 (Dropout)          (None, 8, 8, 64)          0         \n",
      "_________________________________________________________________\n",
      "conv2d_8 (Conv2D)            (None, 4, 4, 128)         204928    \n",
      "_________________________________________________________________\n",
      "max_pooling2d_5 (MaxPooling2 (None, 2, 2, 128)         0         \n",
      "_________________________________________________________________\n",
      "dropout_9 (Dropout)          (None, 2, 2, 128)         0         \n",
      "_________________________________________________________________\n",
      "flatten_2 (Flatten)          (None, 512)               0         \n",
      "_________________________________________________________________\n",
      "dense_6 (Dense)              (None, 512)               262656    \n",
      "_________________________________________________________________\n",
      "dropout_10 (Dropout)         (None, 512)               0         \n",
      "_________________________________________________________________\n",
      "dense_7 (Dense)              (None, 128)               65664     \n",
      "_________________________________________________________________\n",
      "dropout_11 (Dropout)         (None, 128)               0         \n",
      "_________________________________________________________________\n",
      "dense_8 (Dense)              (None, 2)                 258       \n",
      "=================================================================\n",
      "Total params: 587,202\n",
      "Trainable params: 587,202\n",
      "Non-trainable params: 0\n",
      "_________________________________________________________________\n"
     ]
    }
   ],
   "source": [
    "training_plane=cnn_model((20,20,3))"
   ]
  },
  {
   "cell_type": "code",
   "execution_count": 111,
   "metadata": {},
   "outputs": [],
   "source": [
    "import os\n",
    "checkpoint_path1=\"cp.ckpt\"\n",
    "checkpoint_dir1=os.path.dirname(\n",
    "    checkpoint_path1)"
   ]
  },
  {
   "cell_type": "code",
   "execution_count": 112,
   "metadata": {},
   "outputs": [],
   "source": [
    "cp_callback1=tf.keras.callbacks.ModelCheckpoint(checkpoint_path1,\n",
    "                                  save_weights_only=True,\n",
    "                                  verbose=1)"
   ]
  },
  {
   "cell_type": "code",
   "execution_count": 113,
   "metadata": {},
   "outputs": [],
   "source": [
    "training_plane.compile(optimizer=tf.keras.optimizers.Adam(), \n",
    "                      loss=tf.keras.losses.sparse_categorical_crossentropy,\n",
    "                      metrics=['accuracy'])"
   ]
  },
  {
   "cell_type": "code",
   "execution_count": 114,
   "metadata": {},
   "outputs": [],
   "source": [
    "import time"
   ]
  },
  {
   "cell_type": "code",
   "execution_count": 115,
   "metadata": {},
   "outputs": [
    {
     "name": "stdout",
     "output_type": "stream",
     "text": [
      "Train on 17152 samples, validate on 8448 samples\n",
      "Epoch 1/30\n",
      "16896/17152 [============================>.] - ETA: 0s - loss: 0.5192 - acc: 0.7671\n",
      "Epoch 00001: saving model to cp.ckpt\n",
      "17152/17152 [==============================] - 22s 1ms/sample - loss: 0.5157 - acc: 0.7689 - val_loss: 0.3581 - val_acc: 0.8294\n",
      "Epoch 2/30\n",
      "16896/17152 [============================>.] - ETA: 0s - loss: 0.3200 - acc: 0.8514\n",
      "Epoch 00002: saving model to cp.ckpt\n",
      "17152/17152 [==============================] - 22s 1ms/sample - loss: 0.3180 - acc: 0.8524 - val_loss: 0.2048 - val_acc: 0.9199\n",
      "Epoch 3/30\n",
      "16896/17152 [============================>.] - ETA: 0s - loss: 0.2046 - acc: 0.9173\n",
      "Epoch 00003: saving model to cp.ckpt\n",
      "17152/17152 [==============================] - 22s 1ms/sample - loss: 0.2051 - acc: 0.9172 - val_loss: 0.1641 - val_acc: 0.9328\n",
      "Epoch 4/30\n",
      "16896/17152 [============================>.] - ETA: 0s - loss: 0.1654 - acc: 0.9339\n",
      "Epoch 00004: saving model to cp.ckpt\n",
      "17152/17152 [==============================] - 22s 1ms/sample - loss: 0.1651 - acc: 0.9339 - val_loss: 0.1262 - val_acc: 0.9537\n",
      "Epoch 5/30\n",
      "16896/17152 [============================>.] - ETA: 0s - loss: 0.1453 - acc: 0.9428\n",
      "Epoch 00005: saving model to cp.ckpt\n",
      "17152/17152 [==============================] - 22s 1ms/sample - loss: 0.1448 - acc: 0.9430 - val_loss: 0.0946 - val_acc: 0.9665\n",
      "Epoch 6/30\n",
      "16896/17152 [============================>.] - ETA: 0s - loss: 0.1161 - acc: 0.9556\n",
      "Epoch 00006: saving model to cp.ckpt\n",
      "17152/17152 [==============================] - 22s 1ms/sample - loss: 0.1154 - acc: 0.9559 - val_loss: 0.0792 - val_acc: 0.9702\n",
      "Epoch 7/30\n",
      "16896/17152 [============================>.] - ETA: 0s - loss: 0.1053 - acc: 0.9589\n",
      "Epoch 00007: saving model to cp.ckpt\n",
      "17152/17152 [==============================] - 22s 1ms/sample - loss: 0.1051 - acc: 0.9590 - val_loss: 0.0875 - val_acc: 0.9665\n",
      "Epoch 8/30\n",
      "16896/17152 [============================>.] - ETA: 0s - loss: 0.1074 - acc: 0.9583\n",
      "Epoch 00008: saving model to cp.ckpt\n",
      "17152/17152 [==============================] - 22s 1ms/sample - loss: 0.1071 - acc: 0.9584 - val_loss: 0.0722 - val_acc: 0.9717\n",
      "Epoch 9/30\n",
      "16896/17152 [============================>.] - ETA: 0s - loss: 0.0916 - acc: 0.9662\n",
      "Epoch 00009: saving model to cp.ckpt\n",
      "17152/17152 [==============================] - 22s 1ms/sample - loss: 0.0912 - acc: 0.9664 - val_loss: 0.0740 - val_acc: 0.9719\n",
      "Epoch 10/30\n",
      "16896/17152 [============================>.] - ETA: 0s - loss: 0.0767 - acc: 0.9728\n",
      "Epoch 00010: saving model to cp.ckpt\n",
      "17152/17152 [==============================] - 22s 1ms/sample - loss: 0.0770 - acc: 0.9725 - val_loss: 0.0579 - val_acc: 0.9796\n",
      "Epoch 11/30\n",
      "16896/17152 [============================>.] - ETA: 0s - loss: 0.0683 - acc: 0.9743\n",
      "Epoch 00011: saving model to cp.ckpt\n",
      "17152/17152 [==============================] - 22s 1ms/sample - loss: 0.0682 - acc: 0.9743 - val_loss: 0.0589 - val_acc: 0.9777\n",
      "Epoch 12/30\n",
      "16896/17152 [============================>.] - ETA: 0s - loss: 0.0808 - acc: 0.9697\n",
      "Epoch 00012: saving model to cp.ckpt\n",
      "17152/17152 [==============================] - 22s 1ms/sample - loss: 0.0804 - acc: 0.9700 - val_loss: 0.0797 - val_acc: 0.9695\n",
      "Epoch 13/30\n",
      "16896/17152 [============================>.] - ETA: 0s - loss: 0.0665 - acc: 0.9753\n",
      "Epoch 00013: saving model to cp.ckpt\n",
      "17152/17152 [==============================] - 22s 1ms/sample - loss: 0.0663 - acc: 0.9753 - val_loss: 0.0804 - val_acc: 0.9705\n",
      "Epoch 14/30\n",
      "16896/17152 [============================>.] - ETA: 0s - loss: 0.0622 - acc: 0.9768\n",
      "Epoch 00014: saving model to cp.ckpt\n",
      "17152/17152 [==============================] - 22s 1ms/sample - loss: 0.0623 - acc: 0.9767 - val_loss: 0.0476 - val_acc: 0.9844\n",
      "Epoch 15/30\n",
      "16896/17152 [============================>.] - ETA: 0s - loss: 0.0623 - acc: 0.9777\n",
      "Epoch 00015: saving model to cp.ckpt\n",
      "17152/17152 [==============================] - 22s 1ms/sample - loss: 0.0627 - acc: 0.9777 - val_loss: 0.0591 - val_acc: 0.9786\n",
      "Epoch 16/30\n",
      "16896/17152 [============================>.] - ETA: 0s - loss: 0.0555 - acc: 0.9789\n",
      "Epoch 00016: saving model to cp.ckpt\n",
      "17152/17152 [==============================] - 22s 1ms/sample - loss: 0.0553 - acc: 0.9790 - val_loss: 0.0451 - val_acc: 0.9835\n",
      "Epoch 17/30\n",
      "16896/17152 [============================>.] - ETA: 0s - loss: 0.0587 - acc: 0.9788\n",
      "Epoch 00017: saving model to cp.ckpt\n",
      "17152/17152 [==============================] - 24s 1ms/sample - loss: 0.0587 - acc: 0.9787 - val_loss: 0.0492 - val_acc: 0.9811\n",
      "Epoch 18/30\n",
      "16896/17152 [============================>.] - ETA: 0s - loss: 0.0449 - acc: 0.9840\n",
      "Epoch 00018: saving model to cp.ckpt\n",
      "17152/17152 [==============================] - 27s 2ms/sample - loss: 0.0449 - acc: 0.9840 - val_loss: 0.0451 - val_acc: 0.9834\n",
      "Epoch 19/30\n",
      "16896/17152 [============================>.] - ETA: 0s - loss: 0.0504 - acc: 0.9817\n",
      "Epoch 00019: saving model to cp.ckpt\n",
      "17152/17152 [==============================] - 25s 1ms/sample - loss: 0.0501 - acc: 0.9818 - val_loss: 0.0464 - val_acc: 0.9830\n",
      "Epoch 20/30\n",
      "16896/17152 [============================>.] - ETA: 0s - loss: 0.0477 - acc: 0.9821\n",
      "Epoch 00020: saving model to cp.ckpt\n",
      "17152/17152 [==============================] - 24s 1ms/sample - loss: 0.0475 - acc: 0.9821 - val_loss: 0.0438 - val_acc: 0.9843\n",
      "Epoch 21/30\n",
      "16896/17152 [============================>.] - ETA: 0s - loss: 0.0405 - acc: 0.9847\n",
      "Epoch 00021: saving model to cp.ckpt\n",
      "17152/17152 [==============================] - 23s 1ms/sample - loss: 0.0405 - acc: 0.9847 - val_loss: 0.0432 - val_acc: 0.9873\n",
      "Epoch 22/30\n",
      "16896/17152 [============================>.] - ETA: 0s - loss: 0.0433 - acc: 0.9841\n",
      "Epoch 00022: saving model to cp.ckpt\n",
      "17152/17152 [==============================] - 23s 1ms/sample - loss: 0.0432 - acc: 0.9841 - val_loss: 0.0441 - val_acc: 0.9844\n",
      "Epoch 23/30\n",
      "16896/17152 [============================>.] - ETA: 0s - loss: 0.0517 - acc: 0.9811\n",
      "Epoch 00023: saving model to cp.ckpt\n",
      "17152/17152 [==============================] - 24s 1ms/sample - loss: 0.0520 - acc: 0.9809 - val_loss: 0.0425 - val_acc: 0.9850\n",
      "Epoch 24/30\n",
      "16896/17152 [============================>.] - ETA: 0s - loss: 0.0380 - acc: 0.9870\n",
      "Epoch 00024: saving model to cp.ckpt\n",
      "17152/17152 [==============================] - 23s 1ms/sample - loss: 0.0379 - acc: 0.9871 - val_loss: 0.0420 - val_acc: 0.9867\n",
      "Epoch 25/30\n",
      "16896/17152 [============================>.] - ETA: 0s - loss: 0.0370 - acc: 0.9859\n",
      "Epoch 00025: saving model to cp.ckpt\n",
      "17152/17152 [==============================] - 23s 1ms/sample - loss: 0.0378 - acc: 0.9855 - val_loss: 0.0538 - val_acc: 0.9801\n",
      "Epoch 26/30\n",
      "16896/17152 [============================>.] - ETA: 0s - loss: 0.0362 - acc: 0.9862\n",
      "Epoch 00026: saving model to cp.ckpt\n",
      "17152/17152 [==============================] - 23s 1ms/sample - loss: 0.0361 - acc: 0.9863 - val_loss: 0.0461 - val_acc: 0.9857\n",
      "Epoch 27/30\n",
      "16896/17152 [============================>.] - ETA: 0s - loss: 0.0365 - acc: 0.9870\n",
      "Epoch 00027: saving model to cp.ckpt\n",
      "17152/17152 [==============================] - 22s 1ms/sample - loss: 0.0365 - acc: 0.9870 - val_loss: 0.0401 - val_acc: 0.9854\n",
      "Epoch 28/30\n",
      "16896/17152 [============================>.] - ETA: 0s - loss: 0.0338 - acc: 0.9872\n",
      "Epoch 00028: saving model to cp.ckpt\n",
      "17152/17152 [==============================] - 22s 1ms/sample - loss: 0.0340 - acc: 0.9873 - val_loss: 0.0424 - val_acc: 0.9864\n",
      "Epoch 29/30\n",
      "16896/17152 [============================>.] - ETA: 0s - loss: 0.0314 - acc: 0.9888\n",
      "Epoch 00029: saving model to cp.ckpt\n",
      "17152/17152 [==============================] - 23s 1ms/sample - loss: 0.0313 - acc: 0.9888 - val_loss: 0.0378 - val_acc: 0.9877\n",
      "Epoch 30/30\n",
      "16896/17152 [============================>.] - ETA: 0s - loss: 0.0367 - acc: 0.9864\n",
      "Epoch 00030: saving model to cp.ckpt\n",
      "17152/17152 [==============================] - 23s 1ms/sample - loss: 0.0366 - acc: 0.9864 - val_loss: 0.0441 - val_acc: 0.9866\n"
     ]
    },
    {
     "data": {
      "text/plain": [
       "'\\nmodel.fit(...., validation_data(xVal,yVal))\\n\\nvalidation_split=0.33\\nxTrain, yTrain을 33% 분리하여 검증데이터로 사용\\n\\n'"
      ]
     },
     "execution_count": 115,
     "metadata": {},
     "output_type": "execute_result"
    }
   ],
   "source": [
    "start_time_plane=time.time()\n",
    "training_plane=training_plane.fit(plane_x_train, plane_y_train,    validation_split=0.33, epochs=30,   callbacks=[cp_callback1], batch_size=256)\n",
    "traing_time_plane=time.time()-start_time_plane\n",
    "\n",
    "\"\"\"\n",
    "model.fit(...., validation_data(xVal,yVal))\n",
    "\n",
    "validation_split=0.33\n",
    "xTrain, yTrain을 33% 분리하여 검증데이터로 사용\n",
    "\n",
    "\"\"\"\n"
   ]
  },
  {
   "cell_type": "code",
   "execution_count": null,
   "metadata": {},
   "outputs": [],
   "source": [
    "training_plane.evaluate(plane_x_test,plane_y_test)\n",
    "classification_plane=training_plane.predict(plane_x_test)\n"
   ]
  },
  {
   "cell_type": "code",
   "execution_count": null,
   "metadata": {},
   "outputs": [],
   "source": [
    "#문제 1\n",
    "#loss, accuracy 그래프 작성\n",
    "#x축: epochs, y축 : loss or accuracy\n",
    "\n",
    "#문제 2\n",
    "#sonar 분류"
   ]
  }
 ],
 "metadata": {
  "kernelspec": {
   "display_name": "Python 3",
   "language": "python",
   "name": "python3"
  },
  "language_info": {
   "codemirror_mode": {
    "name": "ipython",
    "version": 3
   },
   "file_extension": ".py",
   "mimetype": "text/x-python",
   "name": "python",
   "nbconvert_exporter": "python",
   "pygments_lexer": "ipython3",
   "version": "3.7.7"
  }
 },
 "nbformat": 4,
 "nbformat_minor": 2
}
