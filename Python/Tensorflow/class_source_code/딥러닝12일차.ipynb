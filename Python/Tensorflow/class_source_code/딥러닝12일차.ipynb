{
 "cells": [
  {
   "cell_type": "code",
   "execution_count": 1,
   "metadata": {},
   "outputs": [],
   "source": [
    "import tensorflow as tf"
   ]
  },
  {
   "cell_type": "code",
   "execution_count": 2,
   "metadata": {},
   "outputs": [],
   "source": [
    "a=tf.placeholder(\"float\")\n",
    "b=tf.placeholder(\"float\")\n",
    "#플레이스홀더:프로그램 실행 중에 값을 변경할\n",
    "#수 있는 변수를 2개 정의\n",
    "#데이터를 담는 버퍼와 같은 것\n"
   ]
  },
  {
   "cell_type": "code",
   "execution_count": 3,
   "metadata": {},
   "outputs": [
    {
     "name": "stdout",
     "output_type": "stream",
     "text": [
      "6.0\n"
     ]
    }
   ],
   "source": [
    "y=tf.multiply(a,b)\n",
    "sess=tf.Session() \n",
    "#그래프 실행을 위해서는 세션이 필요\n",
    "print(sess.run(y,feed_dict={a:3,b:2}))\n",
    "#y노드를 실행해라"
   ]
  },
  {
   "cell_type": "code",
   "execution_count": null,
   "metadata": {},
   "outputs": [],
   "source": [
    "tensorflow.org\n"
   ]
  },
  {
   "cell_type": "code",
   "execution_count": 5,
   "metadata": {},
   "outputs": [
    {
     "name": "stdout",
     "output_type": "stream",
     "text": [
      "b'Hello'\n"
     ]
    }
   ],
   "source": [
    "hello=tf.constant(\"Hello\")\n",
    "sess=tf.Session()\n",
    "print(sess.run(hello))"
   ]
  },
  {
   "cell_type": "code",
   "execution_count": 6,
   "metadata": {},
   "outputs": [
    {
     "data": {
      "text/plain": [
       "3"
      ]
     },
     "execution_count": 6,
     "metadata": {},
     "output_type": "execute_result"
    }
   ],
   "source": [
    "3 #랭크:0 tensor, shape:[]\n",
    "[1,2,3] #랭크:1,  shape:[3]\n",
    "[[1,2,3],[1,2,3]] #랭크:2, shape:[2,3]\n",
    "[[[1,2,3]],[[4,5,6]]]\n",
    "#랭크:3, shape:[2,1,3]"
   ]
  },
  {
   "cell_type": "code",
   "execution_count": 17,
   "metadata": {},
   "outputs": [
    {
     "name": "stdout",
     "output_type": "stream",
     "text": [
      "10\n",
      "20\n",
      "[10, 20]\n"
     ]
    }
   ],
   "source": [
    "a=tf.constant(10)\n",
    "b=tf.constant(20)\n",
    "sess=tf.Session()\n",
    "#print(sess.run(tf.add(a,b)))\n",
    "c=tf.add(a,b)\n",
    "#print(sess.run(c))\n",
    "#print(c)\n",
    "print(sess.run(a))\n",
    "print(sess.run(b))\n",
    "print(sess.run([a,b]))\n",
    "sess.close()"
   ]
  },
  {
   "cell_type": "code",
   "execution_count": 28,
   "metadata": {},
   "outputs": [
    {
     "name": "stdout",
     "output_type": "stream",
     "text": [
      "[8. 3.]\n"
     ]
    }
   ],
   "source": [
    "a=tf.placeholder(tf.float32)\n",
    "b=tf.placeholder(tf.float32)\n",
    "adderNode=a+b\n",
    "sess=tf.Session()\n",
    "print(sess.run(adderNode, feed_dict={a:[5,1],b:[3,2]}))\n",
    "# print(sess.run(adderNode, feed_dict={a:1,b:2}))"
   ]
  },
  {
   "cell_type": "code",
   "execution_count": 31,
   "metadata": {},
   "outputs": [
    {
     "name": "stdout",
     "output_type": "stream",
     "text": [
      "15.0\n"
     ]
    }
   ],
   "source": [
    "# a=2, b=3\n",
    "# =>5 * 3 => 15가 출력되도록 노드 정의\n",
    "triple=adderNode*3 #구현\n",
    "print(sess.run(triple,feed_dict={a:2, b:3}))\n",
    "\n"
   ]
  },
  {
   "cell_type": "code",
   "execution_count": 40,
   "metadata": {},
   "outputs": [
    {
     "name": "stdout",
     "output_type": "stream",
     "text": [
      "[[1. 2. 3.]\n",
      " [4. 5. 6.]]\n"
     ]
    }
   ],
   "source": [
    "x=tf.placeholder(tf.float32,[None,3])\n",
    "#print(x)\n",
    "xdata=[[1,2,3],[4,5,6]]\n",
    "#xdata2=[[1,2,3,4],[4,5,4,5]] 에러\n",
    "print(sess.run(x, feed_dict={x:xdata}))\n",
    "#print(sess.run(x, feed_dict={x:xdata2}))"
   ]
  },
  {
   "cell_type": "code",
   "execution_count": 42,
   "metadata": {},
   "outputs": [],
   "source": [
    "#H(x)=wx+b\n",
    "#w=tf.Variable(tf.random_normal([2,1]))\n",
    "w=tf.Variable([[1],[2]])\n",
    "#hf=tf.matmul(x,w)+b"
   ]
  },
  {
   "cell_type": "code",
   "execution_count": 46,
   "metadata": {},
   "outputs": [
    {
     "name": "stdout",
     "output_type": "stream",
     "text": [
      "[[0.32572913]\n",
      " [1.3988826 ]]\n"
     ]
    }
   ],
   "source": [
    "xdata=[[1,2,3], #2행 3열(국어,영어,수학)\n",
    "      [4,5,6]]\n",
    "x=tf.placeholder(tf.float32, [None,3])\n",
    "w=tf.Variable(\n",
    "    tf.random_normal([3,1]))#각 과목 가중치\n",
    "b=tf.Variable(\n",
    "    tf.random_normal([1])) #편향\n",
    "hf=tf.matmul(x,w)+b\n",
    "sess=tf.Session()\n",
    "# hf=xw+b\n",
    "# hf실행\n",
    "sess.run(tf.global_variables_initializer())\n",
    "print(sess.run(hf,feed_dict={x:xdata}))\n",
    "#x shape=>(2,3) * (3,1) => (2,1)\n",
    "#w shape =>?"
   ]
  },
  {
   "cell_type": "code",
   "execution_count": null,
   "metadata": {},
   "outputs": [],
   "source": [
    "#선형 회귀 모델"
   ]
  },
  {
   "cell_type": "code",
   "execution_count": 84,
   "metadata": {},
   "outputs": [],
   "source": [
    "xtrain=[80, 95, 97] #모의고사 점수(3명)\n",
    "ytrain=[82, 90, 98] #수능점수(3명)\n",
    "#모의고사 70점 -> 수능?\n",
    "#hf= x*w+b\n",
    "#82=80*1+2\n",
    "#90=95*0.9+1"
   ]
  },
  {
   "cell_type": "code",
   "execution_count": 85,
   "metadata": {},
   "outputs": [],
   "source": [
    "w=tf.Variable(tf.random_normal([1]))\n",
    "b=tf.Variable(tf.random_normal([1]))"
   ]
  },
  {
   "cell_type": "code",
   "execution_count": 86,
   "metadata": {},
   "outputs": [],
   "source": [
    "hf=xtrain*w+b"
   ]
  },
  {
   "cell_type": "code",
   "execution_count": 87,
   "metadata": {},
   "outputs": [],
   "source": [
    "sess=tf.Session()\n",
    "sess.run(tf.global_variables_initializer())"
   ]
  },
  {
   "cell_type": "code",
   "execution_count": 88,
   "metadata": {},
   "outputs": [
    {
     "name": "stdout",
     "output_type": "stream",
     "text": [
      "[array([-0.20715123], dtype=float32), array([-0.45067418], dtype=float32), array([-17.022772, -20.130041, -20.544344], dtype=float32)]\n"
     ]
    }
   ],
   "source": [
    "print(sess.run([w,b,hf]))#[80, 95, 97]\n",
    "#w=-0.35, b=0.49\n",
    "#hf(예상)=[-27,-33,-33]    hf=xtrain*w+b\n",
    "    #정답=[82, 90, 98]\n",
    "#cost=((-27-82)^2+(-33-80)^2+(-33-98)^2))/3\n",
    "#cost함수 미분 -> w, b업데이트(bp)\n",
    "\n",
    "#w=0.35, b=0\n",
    "#hf(예상)=[27,33,33]    hf=xtrain*w+b"
   ]
  },
  {
   "cell_type": "code",
   "execution_count": 89,
   "metadata": {},
   "outputs": [],
   "source": [
    "#우리의 모델\n",
    "hf=xtrain*w+b\n",
    "cost=tf.reduce_mean(tf.square(hf-ytrain))\n",
    "#(예상값-실제값)합의제곱에 대한 평균"
   ]
  },
  {
   "cell_type": "code",
   "execution_count": 90,
   "metadata": {},
   "outputs": [],
   "source": [
    "opt=tf.train.GradientDescentOptimizer(0.0001)\n",
    "train=opt.minimize(cost)"
   ]
  },
  {
   "cell_type": "code",
   "execution_count": 91,
   "metadata": {},
   "outputs": [
    {
     "name": "stdout",
     "output_type": "stream",
     "text": [
      "0 5164.383 [1.785047] [-0.4288277]\n",
      "100 9.475824 [0.9959845] [-0.4348249]\n",
      "200 9.47512 [0.99595535] [-0.43218136]\n",
      "300 9.47441 [0.99592656] [-0.4295379]\n",
      "400 9.473711 [0.9958974] [-0.42689443]\n",
      "500 9.47303 [0.9958687] [-0.42425096]\n",
      "600 9.472331 [0.99583954] [-0.4216075]\n",
      "700 9.4716215 [0.99581075] [-0.41896403]\n",
      "800 9.47091 [0.99578154] [-0.41632068]\n",
      "900 9.470212 [0.9957527] [-0.4136786]\n",
      "1000 9.469517 [0.99572396] [-0.41103783]\n",
      "1100 9.468841 [0.99569505] [-0.40839735]\n",
      "1200 9.468145 [0.99566615] [-0.40575686]\n",
      "1300 9.467443 [0.9956372] [-0.40311638]\n",
      "1400 9.466739 [0.99560827] [-0.4004759]\n",
      "1500 9.466023 [0.99557924] [-0.3978354]\n",
      "1600 9.465331 [0.9955502] [-0.39519498]\n",
      "1700 9.464647 [0.99552137] [-0.39255556]\n",
      "1800 9.463941 [0.9954926] [-0.3899176]\n",
      "1900 9.463246 [0.9954637] [-0.3872801]\n",
      "2000 9.462556 [0.99543464] [-0.3846426]\n"
     ]
    }
   ],
   "source": [
    "for step in range(2001):\n",
    "    sess.run(train)\n",
    "    if step%100==0:\n",
    "        print(step, sess.run(cost), \n",
    "              sess.run(w), sess.run(b))"
   ]
  },
  {
   "cell_type": "code",
   "execution_count": 97,
   "metadata": {},
   "outputs": [
    {
     "name": "stdout",
     "output_type": "stream",
     "text": [
      "49.3870894908905\n"
     ]
    }
   ],
   "source": [
    "#모의고사 점수가 50점=> 수능점수?\n",
    "yhat=sess.run(w)[0]*50+sess.run(b)[0]\n",
    "print(yhat)"
   ]
  },
  {
   "cell_type": "code",
   "execution_count": 98,
   "metadata": {},
   "outputs": [],
   "source": [
    "#car 데이터에서\n",
    "#임의의 실린더 수(10,12,16)가 입력 -> hp?\n",
    "#cost, w, b 출력\n",
    "#cost 함수 시각화(w축)\n",
    "#learning rate, training 조절"
   ]
  },
  {
   "cell_type": "code",
   "execution_count": null,
   "metadata": {},
   "outputs": [],
   "source": [
    "\n"
   ]
  }
 ],
 "metadata": {
  "kernelspec": {
   "display_name": "Python 3",
   "language": "python",
   "name": "python3"
  },
  "language_info": {
   "codemirror_mode": {
    "name": "ipython",
    "version": 3
   },
   "file_extension": ".py",
   "mimetype": "text/x-python",
   "name": "python",
   "nbconvert_exporter": "python",
   "pygments_lexer": "ipython3",
   "version": "3.7.4"
  }
 },
 "nbformat": 4,
 "nbformat_minor": 2
}
