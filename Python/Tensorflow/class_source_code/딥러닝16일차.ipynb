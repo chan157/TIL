{
 "cells": [
  {
   "cell_type": "code",
   "execution_count": 10,
   "metadata": {},
   "outputs": [],
   "source": [
    "#선형 회귀\n",
    "import numpy as np"
   ]
  },
  {
   "cell_type": "code",
   "execution_count": 11,
   "metadata": {},
   "outputs": [],
   "source": [
    "x=[2,4,6,8]\n",
    "y=[81,93,91,97]"
   ]
  },
  {
   "cell_type": "code",
   "execution_count": 12,
   "metadata": {},
   "outputs": [],
   "source": [
    "#x와 y의 평균값\n",
    "mx=np.mean(x)\n",
    "my=np.mean(y)"
   ]
  },
  {
   "cell_type": "code",
   "execution_count": 13,
   "metadata": {},
   "outputs": [
    {
     "data": {
      "text/plain": [
       "20.0"
      ]
     },
     "execution_count": 13,
     "metadata": {},
     "output_type": "execute_result"
    }
   ],
   "source": [
    "#기울기 공식의 분모\n",
    "divisor=sum([(mx-i)**2 for i in x])\n",
    "divisor"
   ]
  },
  {
   "cell_type": "code",
   "execution_count": 14,
   "metadata": {},
   "outputs": [],
   "source": [
    "#기울기 공식의 분자\n",
    "def top(x,mx,y,my):\n",
    "    d=0\n",
    "    for i in range(len(x)):\n",
    "        d+=(x[i]-mx)*(y[i]-my)\n",
    "    return d    \n",
    "dividend=top(x,mx,y,my)"
   ]
  },
  {
   "cell_type": "code",
   "execution_count": 15,
   "metadata": {},
   "outputs": [
    {
     "name": "stdout",
     "output_type": "stream",
     "text": [
      "분모: 20.0\n",
      "분자: 46.0\n"
     ]
    }
   ],
   "source": [
    "print(\"분모:\", divisor)\n",
    "print(\"분자:\", dividend)"
   ]
  },
  {
   "cell_type": "code",
   "execution_count": 16,
   "metadata": {},
   "outputs": [
    {
     "data": {
      "text/plain": [
       "79.0"
      ]
     },
     "execution_count": 16,
     "metadata": {},
     "output_type": "execute_result"
    }
   ],
   "source": [
    " #w:직선의기울기=y값의증가량/x값의증가량\n",
    "w=dividend/divisor\n",
    "w #기울기:2.3\n",
    "b=my-(mx*w) #y의평균-(x평균*기울기w)\n",
    "b #79\n",
    "\n",
    "# y = 2.3x + 79"
   ]
  },
  {
   "cell_type": "code",
   "execution_count": 17,
   "metadata": {},
   "outputs": [],
   "source": [
    "data=[[2,0,81], [4,4,93], [6,2,91], [8,3,97]]\n",
    "#공부한시간=2, 과외시간=0, 실제점수=81, 예측점수=83.6\n",
    "#...\n",
    "#공부한시간=8, 과외시간=3, 실제점수=97, 예측점수=97.4\n",
    "#rmse:"
   ]
  },
  {
   "cell_type": "code",
   "execution_count": 18,
   "metadata": {},
   "outputs": [],
   "source": [
    "wb=[2.3, 79] #기울기, y절편\n",
    "#data=[[2,81], [4,93], [6,91], [8,97]]\n",
    "x1=[i[0] for i in data]\n",
    "x2=[i[1] for i in data]\n",
    "y=[i[2] for i in data]"
   ]
  },
  {
   "cell_type": "code",
   "execution_count": 19,
   "metadata": {},
   "outputs": [],
   "source": [
    "def predict(x):\n",
    "    return wb[0]*x+wb[1]"
   ]
  },
  {
   "cell_type": "code",
   "execution_count": 20,
   "metadata": {},
   "outputs": [
    {
     "name": "stdout",
     "output_type": "stream",
     "text": [
      "공부시간=2, 실점수=81,예측점수=84\n",
      "공부시간=4, 실점수=93,예측점수=88\n",
      "공부시간=6, 실점수=91,예측점수=93\n",
      "공부시간=8, 실점수=97,예측점수=97\n"
     ]
    }
   ],
   "source": [
    "predict_result=[]\n",
    "for i in range(len(x)):\n",
    "    predict_result.append(predict(x[i]))\n",
    "    print(\"공부시간=%.f, 실점수=%.f,예측점수=%.f\" % (x[i], y[i], predict(x[i]))) "
   ]
  },
  {
   "cell_type": "code",
   "execution_count": 21,
   "metadata": {},
   "outputs": [],
   "source": [
    "def rmse(p,a):\n",
    "    return np.sqrt(((p-a)**2).mean())"
   ]
  },
  {
   "cell_type": "code",
   "execution_count": 22,
   "metadata": {},
   "outputs": [
    {
     "name": "stdout",
     "output_type": "stream",
     "text": [
      "rmse : 2.880972058177584\n"
     ]
    }
   ],
   "source": [
    "print(\"rmse : \"+ str(rmse(np.array(predict_result), np.array(y))))\n"
   ]
  },
  {
   "cell_type": "code",
   "execution_count": 23,
   "metadata": {},
   "outputs": [],
   "source": [
    "import tensorflow.compat.v1 as tf\n",
    "tf.disable_eager_execution()"
   ]
  },
  {
   "cell_type": "code",
   "execution_count": 24,
   "metadata": {},
   "outputs": [],
   "source": [
    "#기울기 범위 :0~10, y절편:0~100\n",
    "w1=tf.Variable(tf.random_normal([1],0,10,dtype=tf.float32,seed=0))\n",
    "w2=tf.Variable(tf.random_normal([1],0,10,dtype=tf.float32,seed=0))\n",
    "b=tf.Variable(tf.random_normal([1],0,100,dtype=tf.float32,seed=0))"
   ]
  },
  {
   "cell_type": "code",
   "execution_count": 25,
   "metadata": {},
   "outputs": [],
   "source": [
    "hf=w1*x1+w2*x2+b\n",
    "rmse=tf.sqrt(tf.reduce_mean(tf.square(hf-y)))\n",
    "lr=0.1"
   ]
  },
  {
   "cell_type": "code",
   "execution_count": 26,
   "metadata": {},
   "outputs": [],
   "source": [
    "train=tf.train.GradientDescentOptimizer(lr).minimize(rmse)"
   ]
  },
  {
   "cell_type": "code",
   "execution_count": 27,
   "metadata": {},
   "outputs": [
    {
     "name": "stdout",
     "output_type": "stream",
     "text": [
      "RMSE=157.1025, 기울기 w1=-3.4711, 기울기 w2=-3.7536, y절편=-39.8165\n",
      "RMSE=44.6891, 기울기 w1=18.1984, 기울기 w2=6.5456, y절편=-32.9452\n",
      "RMSE=43.0898, 기울기 w1=17.4979, 기울기 w2=6.7055, y절편=-29.0116\n",
      "RMSE=41.4963, 기울기 w1=16.8068, 기울기 w2=6.7692, y절편=-25.0806\n",
      "RMSE=39.9060, 기울기 w1=16.1451, 기울기 w2=6.7675, y절편=-21.1480\n",
      "RMSE=38.3175, 기울기 w1=15.5062, 기울기 w2=6.7151, y절편=-17.2144\n",
      "RMSE=36.7301, 기울기 w1=14.8849, 기울기 w2=6.6237, y절편=-13.2800\n",
      "RMSE=35.1433, 기울기 w1=14.2769, 기울기 w2=6.5027, y절편=-9.3451\n",
      "RMSE=33.5568, 기울기 w1=13.6789, 기울기 w2=6.3596, y절편=-5.4098\n",
      "RMSE=31.9705, 기울기 w1=13.0883, 기울기 w2=6.2001, y절편=-1.4742\n",
      "RMSE=30.3843, 기울기 w1=12.5031, 기울기 w2=6.0286, y절편=2.4616\n",
      "RMSE=28.7982, 기울기 w1=11.9217, 기울기 w2=5.8485, y절편=6.3974\n",
      "RMSE=27.2120, 기울기 w1=11.3431, 기울기 w2=5.6624, y절편=10.3334\n",
      "RMSE=25.6259, 기울기 w1=10.7664, 기울기 w2=5.4721, y절편=14.2694\n",
      "RMSE=24.0399, 기울기 w1=10.1910, 기울기 w2=5.2789, y절편=18.2054\n",
      "RMSE=22.4538, 기울기 w1=9.6164, 기울기 w2=5.0839, y절편=22.1414\n",
      "RMSE=20.8678, 기울기 w1=9.0424, 기울기 w2=4.8876, y절편=26.0775\n",
      "RMSE=19.2818, 기울기 w1=8.4687, 기울기 w2=4.6907, y절편=30.0135\n",
      "RMSE=17.6959, 기울기 w1=7.8952, 기울기 w2=4.4933, y절편=33.9495\n",
      "RMSE=16.1100, 기울기 w1=7.3218, 기울기 w2=4.2956, y절편=37.8853\n",
      "RMSE=14.5243, 기울기 w1=6.7485, 기울기 w2=4.0978, y절편=41.8210\n",
      "RMSE=12.9386, 기울기 w1=6.1753, 기울기 w2=3.9000, y절편=45.7566\n",
      "RMSE=11.3531, 기울기 w1=5.6021, 기울기 w2=3.7021, y절편=49.6919\n",
      "RMSE=9.7679, 기울기 w1=5.0290, 기울기 w2=3.5042, y절편=53.6270\n",
      "RMSE=8.1830, 기울기 w1=4.4560, 기울기 w2=3.3063, y절편=57.5616\n",
      "RMSE=6.5989, 기울기 w1=3.8830, 기울기 w2=3.1085, y절편=61.4953\n",
      "RMSE=5.0161, 기울기 w1=3.3103, 기울기 w2=2.9108, y절편=65.4274\n",
      "RMSE=3.4364, 기울기 w1=2.7382, 기울기 w2=2.7132, y절편=69.3556\n",
      "RMSE=1.8677, 기울기 w1=2.1681, 기울기 w2=2.5164, y절편=73.2700\n",
      "RMSE=1.8355, 기울기 w1=1.5173, 기울기 w2=2.2649, y절편=76.0020\n",
      "RMSE=1.8368, 기울기 w1=1.3449, 기울기 w2=2.2033, y절편=77.0507\n",
      "RMSE=1.8370, 기울기 w1=1.2774, 기울기 w2=2.1797, y절편=77.4918\n",
      "RMSE=1.8370, 기울기 w1=1.2498, 기울기 w2=2.1701, y절편=77.6773\n",
      "RMSE=1.8370, 기울기 w1=1.2383, 기울기 w2=2.1661, y절편=77.7552\n",
      "RMSE=1.8370, 기울기 w1=1.2336, 기울기 w2=2.1645, y절편=77.7880\n",
      "RMSE=1.8370, 기울기 w1=1.2316, 기울기 w2=2.1638, y절편=77.8017\n",
      "RMSE=1.8370, 기울기 w1=1.2307, 기울기 w2=2.1635, y절편=77.8075\n",
      "RMSE=1.8370, 기울기 w1=1.2304, 기울기 w2=2.1634, y절편=77.8099\n",
      "RMSE=1.8370, 기울기 w1=1.2302, 기울기 w2=2.1633, y절편=77.8109\n",
      "RMSE=1.8371, 기울기 w1=1.2301, 기울기 w2=2.1633, y절편=77.8113\n",
      "RMSE=1.8371, 기울기 w1=1.2301, 기울기 w2=2.1633, y절편=77.8113\n",
      "RMSE=1.8371, 기울기 w1=1.2301, 기울기 w2=2.1633, y절편=77.8113\n",
      "RMSE=1.8371, 기울기 w1=1.2301, 기울기 w2=2.1633, y절편=77.8113\n",
      "RMSE=1.8371, 기울기 w1=1.2301, 기울기 w2=2.1633, y절편=77.8113\n",
      "RMSE=1.8371, 기울기 w1=1.2301, 기울기 w2=2.1633, y절편=77.8113\n",
      "RMSE=1.8371, 기울기 w1=1.2301, 기울기 w2=2.1633, y절편=77.8113\n",
      "RMSE=1.8371, 기울기 w1=1.2301, 기울기 w2=2.1633, y절편=77.8113\n",
      "RMSE=1.8371, 기울기 w1=1.2301, 기울기 w2=2.1633, y절편=77.8113\n",
      "RMSE=1.8371, 기울기 w1=1.2301, 기울기 w2=2.1633, y절편=77.8113\n",
      "RMSE=1.8371, 기울기 w1=1.2301, 기울기 w2=2.1633, y절편=77.8113\n",
      "RMSE=1.8371, 기울기 w1=1.2301, 기울기 w2=2.1633, y절편=77.8113\n"
     ]
    }
   ],
   "source": [
    "with tf.Session() as sess:\n",
    "    sess.run(tf.global_variables_initializer())\n",
    "    for step in range(5001):\n",
    "        sess.run(train)\n",
    "        if step % 100==0:\n",
    "            print(\"RMSE=%.4f, 기울기 w1=%.4f, 기울기 w2=%.4f, y절편=%.4f\" %(sess.run(rmse),sess.run(w1),sess.run(w2),sess.run(b)))"
   ]
  },
  {
   "cell_type": "code",
   "execution_count": 28,
   "metadata": {},
   "outputs": [],
   "source": [
    "#로지스틱 회귀\n",
    "data=[[2,0],[4,0],[6,0],[8,1],[10,1],\n",
    "      [12,1],[14,1]]\n",
    "xdata=[i[0] for i in data]\n",
    "ydata=[i[0] for i in data]"
   ]
  },
  {
   "cell_type": "code",
   "execution_count": 29,
   "metadata": {},
   "outputs": [],
   "source": [
    "w=tf.Variable(tf.random_normal([1],dtype=tf.float32,seed=0))\n",
    "b=tf.Variable(tf.random_normal([1],dtype=tf.float32,seed=0))"
   ]
  },
  {
   "cell_type": "code",
   "execution_count": 30,
   "metadata": {},
   "outputs": [],
   "source": [
    "hf= 1/(1+np.e**(w*xdata+b))\n",
    "cost=-tf.reduce_mean(np.array(ydata)*\n",
    "                     tf.log(hf)+\n",
    "                     (1-np.array(ydata))*\n",
    "                     tf.log(1-hf))"
   ]
  },
  {
   "cell_type": "code",
   "execution_count": null,
   "metadata": {},
   "outputs": [],
   "source": []
  },
  {
   "cell_type": "code",
   "execution_count": 31,
   "metadata": {},
   "outputs": [],
   "source": [
    "#x수집 : [1,11,7,9] => hf => 예측(0,1,2)?\n",
    "\n",
    "# [[1,11,7,9],[1,3,4,3],[1,1,0,1]] => hf\n",
    "#=>예측?\n"
   ]
  },
  {
   "cell_type": "code",
   "execution_count": 32,
   "metadata": {},
   "outputs": [],
   "source": [
    "xdata = [[1, 2, 1, 1],\n",
    "          [2, 1, 3, 2],\n",
    "          [3, 1, 3, 4],\n",
    "          [4, 1, 5, 5],\n",
    "          [1, 7, 5, 5],\n",
    "          [1, 2, 5, 6],\n",
    "          [1, 6, 6, 6],\n",
    "          [1, 7, 7, 7]]\n",
    "ydata = [[0, 0, 1],#원핫인코딩 된 상태\n",
    "          [0, 0, 1],#100->A, 010->B, 001->C\n",
    "          [0, 0, 1],\n",
    "          [0, 1, 0],\n",
    "          [0, 1, 0],\n",
    "          [0, 1, 0],\n",
    "          [1, 0, 0],\n",
    "          [1, 0, 0]]"
   ]
  },
  {
   "cell_type": "code",
   "execution_count": 33,
   "metadata": {},
   "outputs": [],
   "source": [
    "x=tf.placeholder(\"float\", [None, 4])\n",
    "y=tf.placeholder(\"float\", [None, 3])\n",
    "#3:분류기의 개수(분류 결과 종류의 가지수)\n",
    "nb_classes=3"
   ]
  },
  {
   "cell_type": "code",
   "execution_count": 34,
   "metadata": {},
   "outputs": [],
   "source": [
    "w=tf.Variable(tf.random_normal([4,nb_classes]))\n",
    "b=tf.Variable(tf.random_normal([nb_classes]))\n",
    "#hf=xw+b\n",
    "hf=tf.nn.softmax(tf.matmul(x,w)+b)"
   ]
  },
  {
   "cell_type": "code",
   "execution_count": 35,
   "metadata": {},
   "outputs": [],
   "source": [
    "cost=tf.reduce_mean(-tf.reduce_sum(y*tf.log(hf+1e-8),axis=1))"
   ]
  },
  {
   "cell_type": "code",
   "execution_count": 36,
   "metadata": {},
   "outputs": [],
   "source": [
    "opt=tf.train.GradientDescentOptimizer(0.1).minimize(cost)"
   ]
  },
  {
   "cell_type": "code",
   "execution_count": 3,
   "metadata": {},
   "outputs": [],
   "source": [
    "# 텐서플로우 GPU 연동 에러날때\n",
    "import tensorflow.compat.v1 as tf\n",
    "tf.disable_eager_execution()\n",
    "import tensorflow.python.keras.backend as K\n",
    "config = tf.ConfigProto()\n",
    "config.gpu_options.allow_growth = True\n",
    "K.set_session(tf.Session(config=config))"
   ]
  },
  {
   "cell_type": "code",
   "execution_count": 37,
   "metadata": {},
   "outputs": [
    {
     "name": "stdout",
     "output_type": "stream",
     "text": [
      "0 4.7940273\n",
      "200 0.5455976\n",
      "400 0.45199496\n",
      "600 0.3778835\n",
      "800 0.30727902\n",
      "1000 0.24051663\n",
      "1200 0.21631998\n",
      "1400 0.19742134\n",
      "1600 0.18145639\n",
      "1800 0.16779856\n",
      "2000 0.15598908\n",
      "분류 결과 :  1\n",
      "--------------------------------------------------\n",
      "분류 결과 :  [1 0 2]\n"
     ]
    }
   ],
   "source": [
    "with tf.Session() as sess:\n",
    "    sess.run(tf.global_variables_initializer())\n",
    "    for step in range(2001):\n",
    "        _,cv=sess.run([opt,cost], \n",
    "                      feed_dict={x:xdata, y:ydata})\n",
    "        if step%200==0:\n",
    "            print(step, cv)\n",
    "    res=sess.run(hf, feed_dict={x:[[1,11,7,9]]})\n",
    "    print(\"분류 결과 : \", str(sess.run(tf.argmax(res,1))[0]))\n",
    "    \n",
    "    print(\"-\"*50)\n",
    "    res2=sess.run(hf, feed_dict={x:[[1,11,7,9],[1,3,4,3],[1,1,0,1]]})\n",
    "    print(\"분류 결과 : \", str(sess.run(tf.argmax(res2,1))))\n",
    "    sess.close()"
   ]
  },
  {
   "cell_type": "code",
   "execution_count": null,
   "metadata": {},
   "outputs": [],
   "source": []
  },
  {
   "cell_type": "code",
   "execution_count": null,
   "metadata": {},
   "outputs": [],
   "source": []
  }
 ],
 "metadata": {
  "kernelspec": {
   "display_name": "Python 3",
   "language": "python",
   "name": "python3"
  },
  "language_info": {
   "codemirror_mode": {
    "name": "ipython",
    "version": 3
   },
   "file_extension": ".py",
   "mimetype": "text/x-python",
   "name": "python",
   "nbconvert_exporter": "python",
   "pygments_lexer": "ipython3",
   "version": "3.7.4"
  }
 },
 "nbformat": 4,
 "nbformat_minor": 2
}
