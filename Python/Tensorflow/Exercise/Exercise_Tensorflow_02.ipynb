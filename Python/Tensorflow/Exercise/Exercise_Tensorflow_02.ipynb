{
 "cells": [
  {
   "cell_type": "code",
   "execution_count": 268,
   "metadata": {},
   "outputs": [],
   "source": [
    "import tensorflow as tf\n",
    "import pandas as pd\n",
    "import numpy as np\n",
    "import matplotlib.pyplot as plt"
   ]
  },
  {
   "cell_type": "code",
   "execution_count": 269,
   "metadata": {
    "scrolled": true
   },
   "outputs": [
    {
     "data": {
      "text/html": [
       "<div>\n",
       "<style scoped>\n",
       "    .dataframe tbody tr th:only-of-type {\n",
       "        vertical-align: middle;\n",
       "    }\n",
       "\n",
       "    .dataframe tbody tr th {\n",
       "        vertical-align: top;\n",
       "    }\n",
       "\n",
       "    .dataframe thead th {\n",
       "        text-align: right;\n",
       "    }\n",
       "</style>\n",
       "<table border=\"1\" class=\"dataframe\">\n",
       "  <thead>\n",
       "    <tr style=\"text-align: right;\">\n",
       "      <th></th>\n",
       "      <th>0</th>\n",
       "      <th>1</th>\n",
       "      <th>2</th>\n",
       "      <th>3</th>\n",
       "      <th>4</th>\n",
       "      <th>5</th>\n",
       "      <th>6</th>\n",
       "      <th>7</th>\n",
       "      <th>8</th>\n",
       "      <th>9</th>\n",
       "      <th>10</th>\n",
       "      <th>11</th>\n",
       "      <th>12</th>\n",
       "      <th>13</th>\n",
       "      <th>14</th>\n",
       "      <th>15</th>\n",
       "      <th>16</th>\n",
       "      <th>17</th>\n",
       "    </tr>\n",
       "  </thead>\n",
       "  <tbody>\n",
       "    <tr>\n",
       "      <td>0</td>\n",
       "      <td>293</td>\n",
       "      <td>1</td>\n",
       "      <td>3.80</td>\n",
       "      <td>2.80</td>\n",
       "      <td>0</td>\n",
       "      <td>0</td>\n",
       "      <td>0</td>\n",
       "      <td>0</td>\n",
       "      <td>0</td>\n",
       "      <td>0</td>\n",
       "      <td>12</td>\n",
       "      <td>0</td>\n",
       "      <td>0</td>\n",
       "      <td>0</td>\n",
       "      <td>1</td>\n",
       "      <td>0</td>\n",
       "      <td>62</td>\n",
       "      <td>0</td>\n",
       "    </tr>\n",
       "    <tr>\n",
       "      <td>1</td>\n",
       "      <td>1</td>\n",
       "      <td>2</td>\n",
       "      <td>2.88</td>\n",
       "      <td>2.16</td>\n",
       "      <td>1</td>\n",
       "      <td>0</td>\n",
       "      <td>0</td>\n",
       "      <td>0</td>\n",
       "      <td>1</td>\n",
       "      <td>1</td>\n",
       "      <td>14</td>\n",
       "      <td>0</td>\n",
       "      <td>0</td>\n",
       "      <td>0</td>\n",
       "      <td>1</td>\n",
       "      <td>0</td>\n",
       "      <td>60</td>\n",
       "      <td>0</td>\n",
       "    </tr>\n",
       "    <tr>\n",
       "      <td>2</td>\n",
       "      <td>8</td>\n",
       "      <td>2</td>\n",
       "      <td>3.19</td>\n",
       "      <td>2.50</td>\n",
       "      <td>1</td>\n",
       "      <td>0</td>\n",
       "      <td>0</td>\n",
       "      <td>0</td>\n",
       "      <td>1</td>\n",
       "      <td>0</td>\n",
       "      <td>11</td>\n",
       "      <td>0</td>\n",
       "      <td>0</td>\n",
       "      <td>1</td>\n",
       "      <td>1</td>\n",
       "      <td>0</td>\n",
       "      <td>66</td>\n",
       "      <td>1</td>\n",
       "    </tr>\n",
       "    <tr>\n",
       "      <td>3</td>\n",
       "      <td>14</td>\n",
       "      <td>2</td>\n",
       "      <td>3.98</td>\n",
       "      <td>3.06</td>\n",
       "      <td>2</td>\n",
       "      <td>0</td>\n",
       "      <td>0</td>\n",
       "      <td>0</td>\n",
       "      <td>1</td>\n",
       "      <td>1</td>\n",
       "      <td>14</td>\n",
       "      <td>0</td>\n",
       "      <td>0</td>\n",
       "      <td>0</td>\n",
       "      <td>1</td>\n",
       "      <td>0</td>\n",
       "      <td>80</td>\n",
       "      <td>1</td>\n",
       "    </tr>\n",
       "    <tr>\n",
       "      <td>4</td>\n",
       "      <td>17</td>\n",
       "      <td>2</td>\n",
       "      <td>2.21</td>\n",
       "      <td>1.88</td>\n",
       "      <td>0</td>\n",
       "      <td>0</td>\n",
       "      <td>1</td>\n",
       "      <td>0</td>\n",
       "      <td>0</td>\n",
       "      <td>0</td>\n",
       "      <td>12</td>\n",
       "      <td>0</td>\n",
       "      <td>0</td>\n",
       "      <td>0</td>\n",
       "      <td>1</td>\n",
       "      <td>0</td>\n",
       "      <td>56</td>\n",
       "      <td>0</td>\n",
       "    </tr>\n",
       "  </tbody>\n",
       "</table>\n",
       "</div>"
      ],
      "text/plain": [
       "    0   1     2     3   4   5   6   7   8   9   10  11  12  13  14  15  16  17\n",
       "0  293   1  3.80  2.80   0   0   0   0   0   0  12   0   0   0   1   0  62   0\n",
       "1    1   2  2.88  2.16   1   0   0   0   1   1  14   0   0   0   1   0  60   0\n",
       "2    8   2  3.19  2.50   1   0   0   0   1   0  11   0   0   1   1   0  66   1\n",
       "3   14   2  3.98  3.06   2   0   0   0   1   1  14   0   0   0   1   0  80   1\n",
       "4   17   2  2.21  1.88   0   0   1   0   0   0  12   0   0   0   1   0  56   0"
      ]
     },
     "execution_count": 269,
     "metadata": {},
     "output_type": "execute_result"
    }
   ],
   "source": [
    "path = r\"C:\\Users\\chan\\Desktop\\dataset\"\n",
    "df = pd.read_csv(path + \"\\ThoraricSurgery.csv\", header=None)\n",
    "df.head()"
   ]
  },
  {
   "cell_type": "code",
   "execution_count": 270,
   "metadata": {},
   "outputs": [
    {
     "data": {
      "text/plain": [
       "(470, 18)"
      ]
     },
     "execution_count": 270,
     "metadata": {},
     "output_type": "execute_result"
    }
   ],
   "source": [
    "df.shape"
   ]
  },
  {
   "cell_type": "code",
   "execution_count": 271,
   "metadata": {},
   "outputs": [],
   "source": [
    "from sklearn.preprocessing import StandardScaler\n",
    "\n",
    "scaler = StandardScaler()\n",
    "rdata = df.iloc[:,:-1]\n",
    "data = scaler.fit_transform(rdata)\n",
    "label = np.array(df.iloc[:,-1]).reshape(-1,1)"
   ]
  },
  {
   "cell_type": "code",
   "execution_count": 272,
   "metadata": {},
   "outputs": [
    {
     "data": {
      "text/plain": [
       "(470, 17)"
      ]
     },
     "execution_count": 272,
     "metadata": {},
     "output_type": "execute_result"
    }
   ],
   "source": [
    "data.shape\n"
   ]
  },
  {
   "cell_type": "code",
   "execution_count": 273,
   "metadata": {},
   "outputs": [],
   "source": [
    "X = tf.placeholder(tf.float32, shape=[None,data.shape[1]])\n",
    "Y = tf.placeholder(tf.float32, shape=[None,1])\n",
    "W = tf.Variable(tf.random_normal([data.shape[1],1]))\n",
    "b = tf.Variable(tf.random_normal([1]))\n",
    "\n",
    "hf = tf.sigmoid(tf.matmul(X,W)+b)\n",
    "cost = -tf.reduce_mean(Y*tf.log(hf) + (1-Y)*tf.log(1-hf))\n",
    "opt = tf.train.GradientDescentOptimizer(0.001)\n",
    "train = opt.minimize(cost)"
   ]
  },
  {
   "cell_type": "code",
   "execution_count": 274,
   "metadata": {},
   "outputs": [],
   "source": [
    "predicted = tf.cast(hf>0.5, dtype=tf.float32)\n",
    "accuracy = tf.reduce_mean(tf.cast(tf.equal(predicted,Y),dtype=tf.float32))"
   ]
  },
  {
   "cell_type": "code",
   "execution_count": 275,
   "metadata": {},
   "outputs": [
    {
     "data": {
      "text/plain": [
       "0.9237145"
      ]
     },
     "execution_count": 275,
     "metadata": {},
     "output_type": "execute_result"
    }
   ],
   "source": [
    "sess = tf.Session()\n",
    "sess.run(tf.global_variables_initializer())\n",
    "feed_dict = {X:data, Y:label}\n",
    "cv = sess.run(cost, feed_dict)\n",
    "cv"
   ]
  },
  {
   "cell_type": "code",
   "execution_count": 276,
   "metadata": {},
   "outputs": [
    {
     "name": "stdout",
     "output_type": "stream",
     "text": [
      "cost : 0.9237145185470581\n",
      "cost : 0.8028867244720459\n",
      "cost : 0.7101439237594604\n",
      "cost : 0.6389367580413818\n",
      "cost : 0.5842043161392212\n",
      "cost : 0.542082667350769\n",
      "cost : 0.5096139311790466\n",
      "cost : 0.4845268130302429\n",
      "cost : 0.46507132053375244\n",
      "cost : 0.44989994168281555\n",
      "cost : 0.4379758834838867\n",
      "cost : 0.4285115599632263\n",
      "cost : 0.42091619968414307\n",
      "cost : 0.41474980115890503\n",
      "cost : 0.40968626737594604\n",
      "cost : 0.4054836630821228\n",
      "cost : 0.4019607901573181\n",
      "cost : 0.39898139238357544\n",
      "cost : 0.39644089341163635\n",
      "cost : 0.39425867795944214\n",
      "cost : 0.39237144589424133\n",
      "Training is Done\n",
      "=*==*==*==*==*==*==*==*==*==*=\n",
      "정확도 : 0.8531914949417114\n"
     ]
    }
   ],
   "source": [
    "with tf.Session() as sess:\n",
    "    sess.run(tf.global_variables_initializer())\n",
    "    feed_dict = {X:data, Y:label}\n",
    "    for step in range(20001):\n",
    "        _, cv = sess.run([train, cost], feed_dict=feed_dict)\n",
    "        if step % 1000 == 0:\n",
    "            print(f\"cost : {cv}\")\n",
    "    print(\"Training is Done\")\n",
    "    print(\"=*=\"*10)\n",
    "    \n",
    "    pv, hfv, av = sess.run([predicted, hf, accuracy],\n",
    "                          feed_dict=feed_dict)\n",
    "#     print(f\"예측값 : {pv}, \\n 예측분류 : {hfv} \\n, 정확도 : {av}\")\n",
    "    print(f\"정확도 : {av}\")\n",
    "    sess.close()"
   ]
  },
  {
   "cell_type": "markdown",
   "metadata": {},
   "source": [
    "# Train_Test 나눠서 진행"
   ]
  },
  {
   "cell_type": "code",
   "execution_count": 277,
   "metadata": {},
   "outputs": [],
   "source": [
    "from sklearn.model_selection import train_test_split\n",
    "\n",
    "X_train, X_test, y_train, y_test = train_test_split(data, label, test_size=0.3, random_state=33)\n",
    "\n",
    "X = tf.placeholder(tf.float32, shape=[None,data.shape[1]])\n",
    "Y = tf.placeholder(tf.float32, shape=[None,1])\n",
    "W = tf.Variable(tf.random_normal([data.shape[1],1]))\n",
    "b = tf.Variable(tf.random_normal([1]))\n",
    "\n",
    "hf = tf.sigmoid(tf.matmul(X,W)+b)\n",
    "cost = -tf.reduce_mean(Y*tf.log(hf) + (1-Y)*tf.log(1-hf))\n",
    "opt = tf.train.GradientDescentOptimizer(0.001)\n",
    "train = opt.minimize(cost)\n",
    "predicted = tf.cast(hf>0.5, dtype=tf.float32)\n",
    "accuracy = tf.reduce_mean(tf.cast(tf.equal(predicted,Y),dtype=tf.float32))"
   ]
  },
  {
   "cell_type": "code",
   "execution_count": 278,
   "metadata": {},
   "outputs": [
    {
     "name": "stdout",
     "output_type": "stream",
     "text": [
      "cost : 1.3811299800872803\n",
      "cost : 1.2013882398605347\n",
      "cost : 1.0589743852615356\n",
      "cost : 0.9440013766288757\n",
      "cost : 0.8495820760726929\n",
      "cost : 0.770969569683075\n",
      "cost : 0.7048632502555847\n",
      "cost : 0.6490042805671692\n",
      "cost : 0.6017193794250488\n",
      "cost : 0.5620474219322205\n",
      "cost : 0.5298069715499878\n",
      "cost : 0.5043300986289978\n",
      "cost : 0.48401954770088196\n",
      "cost : 0.46749886870384216\n",
      "cost : 0.4539000391960144\n",
      "cost : 0.4426581561565399\n",
      "cost : 0.43336546421051025\n",
      "cost : 0.4257008731365204\n",
      "cost : 0.41939884424209595\n",
      "cost : 0.41423311829566956\n",
      "cost : 0.4100090563297272\n",
      "Training is Done\n",
      "=*==*==*==*==*==*==*==*==*==*=\n",
      "정확도 : 0.8510638475418091\n"
     ]
    }
   ],
   "source": [
    "with tf.Session() as sess:\n",
    "    sess.run(tf.global_variables_initializer())\n",
    "    feed_dict = {X:X_train, Y:y_train}\n",
    "    for step in range(20001):\n",
    "        _, cv = sess.run([train, cost], feed_dict=feed_dict)\n",
    "        if step % 1000 == 0:\n",
    "            print(f\"cost : {cv}\")\n",
    "    print(\"Training is Done\")\n",
    "    print(\"=*=\"*10)\n",
    "    \n",
    "    pv, hfv, av = sess.run([predicted, hf, accuracy],\n",
    "                          feed_dict={X:X_test,Y:y_test})\n",
    "#     print(f\"예측값 : {pv}, \\n 예측분류 : {hfv} \\n, 정확도 : {av}\")\n",
    "    print(f\"정확도 : {av}\")\n",
    "    sess.close()"
   ]
  },
  {
   "cell_type": "code",
   "execution_count": null,
   "metadata": {},
   "outputs": [],
   "source": []
  },
  {
   "cell_type": "markdown",
   "metadata": {},
   "source": [
    "# 분류 기준에 따른 변화 확인"
   ]
  },
  {
   "cell_type": "code",
   "execution_count": 282,
   "metadata": {},
   "outputs": [
    {
     "name": "stdout",
     "output_type": "stream",
     "text": [
      "Training is Done\n",
      "=*==*==*==*==*==*==*==*==*==*=\n",
      "정확도 : 0.6382978558540344\n",
      "Training is Done\n",
      "=*==*==*==*==*==*==*==*==*==*=\n",
      "정확도 : 0.6241135001182556\n",
      "Training is Done\n",
      "=*==*==*==*==*==*==*==*==*==*=\n",
      "정확도 : 0.716312050819397\n",
      "Training is Done\n",
      "=*==*==*==*==*==*==*==*==*==*=\n",
      "정확도 : 0.7446808218955994\n",
      "Training is Done\n",
      "=*==*==*==*==*==*==*==*==*==*=\n",
      "정확도 : 0.7730496525764465\n",
      "Training is Done\n",
      "=*==*==*==*==*==*==*==*==*==*=\n",
      "정확도 : 0.7659574747085571\n",
      "Training is Done\n",
      "=*==*==*==*==*==*==*==*==*==*=\n",
      "정확도 : 0.8085106611251831\n",
      "Training is Done\n",
      "=*==*==*==*==*==*==*==*==*==*=\n",
      "정확도 : 0.8156028389930725\n",
      "Training is Done\n",
      "=*==*==*==*==*==*==*==*==*==*=\n",
      "정확도 : 0.8368794322013855\n",
      "Training is Done\n",
      "=*==*==*==*==*==*==*==*==*==*=\n",
      "정확도 : 0.8510638475418091\n",
      "Training is Done\n",
      "=*==*==*==*==*==*==*==*==*==*=\n",
      "정확도 : 0.8439716100692749\n",
      "Training is Done\n",
      "=*==*==*==*==*==*==*==*==*==*=\n",
      "정확도 : 0.8510638475418091\n",
      "Training is Done\n",
      "=*==*==*==*==*==*==*==*==*==*=\n",
      "정확도 : 0.8368794322013855\n",
      "Training is Done\n",
      "=*==*==*==*==*==*==*==*==*==*=\n",
      "정확도 : 0.8439716100692749\n"
     ]
    }
   ],
   "source": [
    "accuracy_list = []\n",
    "idx_list = []\n",
    "for i in range(20,90,5):\n",
    "    idx = i/100\n",
    "    predicted = tf.cast(hf>idx, dtype=tf.float32)\n",
    "    accuracy = tf.reduce_mean(tf.cast(tf.equal(predicted,Y),dtype=tf.float32))\n",
    "\n",
    "    with tf.Session() as sess:\n",
    "        sess.run(tf.global_variables_initializer())\n",
    "        for step in range(10001):\n",
    "            _, cv = sess.run([train, cost], feed_dict={X:X_train, Y:y_train})\n",
    "        print(\"Training is Done\")\n",
    "        pv, hfv, av = sess.run([predicted, hf, accuracy],\n",
    "                              feed_dict={X:X_test,Y:y_test})\n",
    "    #     print(f\"예측값 : {pv}, \\n 예측분류 : {hfv} \\n, 정확도 : {av}\")\n",
    "        print(f\"정확도 : {av}\")\n",
    "        print(\"=*=\"*10)\n",
    "        accuracy_list.append(av)\n",
    "        idx_list.append(idx)\n",
    "        sess.close()"
   ]
  },
  {
   "cell_type": "code",
   "execution_count": 283,
   "metadata": {},
   "outputs": [
    {
     "data": {
      "text/plain": [
       "[<matplotlib.lines.Line2D at 0x1a523ff6948>]"
      ]
     },
     "execution_count": 283,
     "metadata": {},
     "output_type": "execute_result"
    },
    {
     "data": {
      "image/png": "[encoded data removed]",
      "text/plain": [
       "<Figure size 432x288 with 1 Axes>"
      ]
     },
     "metadata": {
      "needs_background": "light"
     },
     "output_type": "display_data"
    }
   ],
   "source": [
    "plt.plot(idx_list, accuracy_list)"
   ]
  },
  {
   "cell_type": "code",
   "execution_count": null,
   "metadata": {},
   "outputs": [],
   "source": []
  }
 ],
 "metadata": {
  "kernelspec": {
   "display_name": "Python 3",
   "language": "python",
   "name": "python3"
  },
  "language_info": {
   "codemirror_mode": {
    "name": "ipython",
    "version": 3
   },
   "file_extension": ".py",
   "mimetype": "text/x-python",
   "name": "python",
   "nbconvert_exporter": "python",
   "pygments_lexer": "ipython3",
   "version": "3.7.4"
  }
 },
 "nbformat": 4,
 "nbformat_minor": 2
}
