{
 "cells": [
  {
   "cell_type": "code",
   "execution_count": 121,
   "metadata": {},
   "outputs": [
    {
     "name": "stdout",
     "output_type": "stream",
     "text": [
      "2.1.0\n"
     ]
    }
   ],
   "source": [
    "import tensorflow.compat.v1 as tf\n",
    "tf.disable_eager_execution()\n",
    "import pandas as pd \n",
    "import numpy as np\n",
    "\n",
    "import matplotlib.pyplot as plt\n",
    "import seaborn as sns\n",
    "from sklearn.preprocessing import OneHotEncoder\n",
    "print(tf.__version__)"
   ]
  },
  {
   "cell_type": "markdown",
   "metadata": {},
   "source": [
    "# 1. Tensorflow를 사용해서 MNIST 정확도 90%이상 만들기"
   ]
  },
  {
   "cell_type": "code",
   "execution_count": 186,
   "metadata": {},
   "outputs": [],
   "source": [
    "(x_train, y_train), (x_test, y_test) = tf.keras.datasets.mnist.load_data()"
   ]
  },
  {
   "cell_type": "code",
   "execution_count": 187,
   "metadata": {},
   "outputs": [],
   "source": [
    "x_train = x_train.reshape(60000,28*28).astype('float32')/255\n",
    "x_test = x_test.reshape(10000,28*28).astype('float32')/255"
   ]
  },
  {
   "cell_type": "code",
   "execution_count": 188,
   "metadata": {},
   "outputs": [],
   "source": [
    "oht = OneHotEncoder()\n",
    "y_train = oht.fit_transform(y_train.reshape(-1,1)).toarray()\n",
    "y_test = oht.transform(y_test.reshape(-1,1)).toarray()"
   ]
  },
  {
   "cell_type": "code",
   "execution_count": 193,
   "metadata": {},
   "outputs": [],
   "source": [
    "X = tf.placeholder(tf.float32, [None, 28*28])\n",
    "Y = tf.placeholder(tf.float32, [None, 10])\n",
    "\n",
    "W1 = tf.Variable(tf.random_normal([28*28, 100]))\n",
    "b1 = tf.Variable(tf.random_normal([100]))\n",
    "layer1 = tf.nn.relu(tf.matmul(X,W1)+b1)\n",
    "\n",
    "W2 = tf.Variable(tf.random_normal([100, 10]))\n",
    "b2 = tf.Variable(tf.random_normal([10]))\n",
    "hf = tf.nn.softmax(tf.matmul(layer1,W2)+b2)"
   ]
  },
  {
   "cell_type": "code",
   "execution_count": 197,
   "metadata": {},
   "outputs": [],
   "source": [
    "cost = tf.reduce_mean(-tf.reduce_sum(Y*tf.log(hf+1e-10), axis=1))\n",
    "train = tf.train.GradientDescentOptimizer(1).minimize(cost)\n",
    "isCorrect = tf.equal(tf.argmax(hf,axis=1), tf.argmax(Y,axis=1))\n",
    "accuracy = tf.reduce_mean(tf.cast(isCorrect, tf.float32))"
   ]
  },
  {
   "cell_type": "code",
   "execution_count": 202,
   "metadata": {},
   "outputs": [],
   "source": [
    "numEpochs = 500\n",
    "batchSize = 10000\n",
    "numIter = x_train.shape[0]//batchSize"
   ]
  },
  {
   "cell_type": "code",
   "execution_count": 203,
   "metadata": {
    "scrolled": true
   },
   "outputs": [
    {
     "name": "stdout",
     "output_type": "stream",
     "text": [
      "EPOCH:0001,cost:18.105706851\n",
      "EPOCH:0011,cost:5.429873387\n",
      "EPOCH:0021,cost:1.894032975\n",
      "EPOCH:0031,cost:1.433618347\n",
      "EPOCH:0041,cost:1.081321120\n",
      "EPOCH:0051,cost:0.923168858\n",
      "EPOCH:0061,cost:0.809055507\n",
      "EPOCH:0071,cost:0.717178971\n",
      "EPOCH:0081,cost:0.625347346\n",
      "EPOCH:0091,cost:0.563974539\n",
      "EPOCH:0101,cost:0.523257683\n",
      "EPOCH:0111,cost:1.580332210\n",
      "EPOCH:0121,cost:0.424944431\n",
      "EPOCH:0131,cost:0.407506143\n",
      "EPOCH:0141,cost:0.359238207\n",
      "EPOCH:0151,cost:0.349108751\n",
      "EPOCH:0161,cost:0.309445610\n",
      "EPOCH:0171,cost:0.320558747\n",
      "EPOCH:0181,cost:0.272110502\n",
      "EPOCH:0191,cost:0.280978854\n",
      "EPOCH:0201,cost:0.246078541\n",
      "EPOCH:0211,cost:0.235374615\n",
      "EPOCH:0221,cost:0.218066936\n",
      "EPOCH:0231,cost:0.218170345\n",
      "EPOCH:0241,cost:0.199423015\n",
      "EPOCH:0251,cost:0.197743158\n",
      "EPOCH:0261,cost:0.190889890\n",
      "EPOCH:0271,cost:0.177996876\n",
      "EPOCH:0281,cost:1.060624011\n",
      "EPOCH:0291,cost:0.169523368\n",
      "EPOCH:0301,cost:0.160616688\n",
      "EPOCH:0311,cost:1.750068476\n",
      "EPOCH:0321,cost:0.159730916\n",
      "EPOCH:0331,cost:0.150720810\n",
      "EPOCH:0341,cost:0.145652490\n",
      "EPOCH:0351,cost:0.141834122\n",
      "EPOCH:0361,cost:0.151777799\n",
      "EPOCH:0371,cost:0.138486080\n",
      "EPOCH:0381,cost:0.132632545\n",
      "EPOCH:0391,cost:0.128649029\n",
      "EPOCH:0401,cost:0.126662628\n",
      "EPOCH:0411,cost:0.125840560\n",
      "EPOCH:0421,cost:0.122394850\n",
      "EPOCH:0431,cost:0.120335703\n",
      "EPOCH:0441,cost:0.289788961\n",
      "EPOCH:0451,cost:0.141024932\n",
      "EPOCH:0461,cost:0.124778174\n",
      "EPOCH:0471,cost:0.117603694\n",
      "EPOCH:0481,cost:0.113193971\n",
      "EPOCH:0491,cost:0.109901741\n",
      "정확도: 0.9509\n",
      "정확도: 0.9509\n",
      "레이블: [7]\n",
      "예측: [7]\n"
     ]
    },
    {
     "data": {
      "image/png": "[encoded data removed]",
      "text/plain": [
       "<Figure size 432x288 with 1 Axes>"
      ]
     },
     "metadata": {
      "needs_background": "light"
     },
     "output_type": "display_data"
    }
   ],
   "source": [
    "with tf.Session() as sess:\n",
    "    sess.run(tf.global_variables_initializer())\n",
    "    for epoch in range(numEpochs):\n",
    "        avgCv = 0\n",
    "        for i in range(numIter):\n",
    "            batchX = x_train[batchSize*i:batchSize*(i+1)]\n",
    "            batchY = y_train[batchSize*i:batchSize*(i+1)]\n",
    "            _, hfv, cv = sess.run([train, hf, cost], feed_dict={X:batchX, Y:batchY})\n",
    "            avgCv += cv/numIter\n",
    "        if epoch%10 == 0:\n",
    "            print(\"EPOCH:{:04d},cost:{:.9f}\".format(epoch+1,avgCv))\n",
    "    print('정확도:', sess.run(accuracy,feed_dict={X:x_test,Y:y_test}))\n",
    "    print(\"정확도:\", accuracy.eval(session=sess, feed_dict={X:x_test, Y:y_test}))\n",
    "    r=np.random.randint(0,len(y_test)-1)\n",
    "    print(\"레이블:\",sess.run(tf.argmax(y_test[r:r+1],1)))\n",
    "    print(\"예측:\", sess.run(tf.argmax(hf,1),feed_dict={X:x_test[r:r+1]}))\n",
    "    \n",
    "    plt.imshow(x_test[r:r+1].reshape(28,28), cmap='Greys')\n",
    "    plt.show()\n",
    "    sess.close()"
   ]
  },
  {
   "cell_type": "markdown",
   "metadata": {},
   "source": [
    "정답률 95.09%"
   ]
  },
  {
   "cell_type": "markdown",
   "metadata": {},
   "source": [
    "# 2. pima-indian 데이터"
   ]
  },
  {
   "cell_type": "code",
   "execution_count": 265,
   "metadata": {},
   "outputs": [],
   "source": [
    "path = r\"C:\\Users\\chan\\Desktop\\dataset\"\n",
    "file_ = \"\\\\pima-indians-diabetes.csv\""
   ]
  },
  {
   "cell_type": "code",
   "execution_count": 266,
   "metadata": {},
   "outputs": [],
   "source": [
    "df = pd.read_csv(path+file_)"
   ]
  },
  {
   "cell_type": "code",
   "execution_count": 267,
   "metadata": {},
   "outputs": [],
   "source": [
    "xdata = df.iloc[:,:-1]\n",
    "ydata = np.array(df.iloc[:,[-1]])"
   ]
  },
  {
   "cell_type": "code",
   "execution_count": 268,
   "metadata": {},
   "outputs": [],
   "source": [
    "from sklearn.preprocessing import StandardScaler\n",
    "xdata = StandardScaler().fit_transform(xdata)"
   ]
  },
  {
   "cell_type": "code",
   "execution_count": 269,
   "metadata": {},
   "outputs": [
    {
     "name": "stdout",
     "output_type": "stream",
     "text": [
      "(767, 8) (767, 1)\n"
     ]
    }
   ],
   "source": [
    "print(xdata.shape, ydata.shape)"
   ]
  },
  {
   "cell_type": "code",
   "execution_count": 356,
   "metadata": {},
   "outputs": [],
   "source": [
    "X = tf.placeholder(tf.float32, shape=[None, 8])\n",
    "Y = tf.placeholder(tf.float32, shape=[None, 1])\n",
    "\n",
    "W1 = tf.Variable(tf.random_normal(shape=[8,200]))\n",
    "b1 = tf.Variable(tf.random_normal(shape=[200]))\n",
    "layer1 = tf.nn.relu(tf.matmul(X, W1) + b1)\n",
    "\n",
    "W2 = tf.Variable(tf.random_normal(shape=[200,1]))\n",
    "b2 = tf.Variable(tf.random_normal(shape=[1]))\n",
    "hf = tf.sigmoid(tf.matmul(layer1, W2) + b2)"
   ]
  },
  {
   "cell_type": "code",
   "execution_count": 357,
   "metadata": {},
   "outputs": [],
   "source": [
    "loss = tf.reduce_mean(tf.nn.sigmoid_cross_entropy_with_logits(logits=hf, labels=Y))\n",
    "train = tf.train.GradientDescentOptimizer(1).minimize(loss)\n",
    "pred = tf.cast(hf>=0.5, dtype=tf.float32)\n",
    "accuracy = tf.reduce_mean(tf.cast(tf.equal(pred, Y), tf.float32))"
   ]
  },
  {
   "cell_type": "code",
   "execution_count": 358,
   "metadata": {},
   "outputs": [
    {
     "data": {
      "text/plain": [
       "7"
      ]
     },
     "execution_count": 358,
     "metadata": {},
     "output_type": "execute_result"
    }
   ],
   "source": [
    "epochs = 1000\n",
    "batch_size = 100\n",
    "iter_num = len(xdata)//batch_size\n",
    "iter_num"
   ]
  },
  {
   "cell_type": "code",
   "execution_count": 359,
   "metadata": {},
   "outputs": [
    {
     "name": "stdout",
     "output_type": "stream",
     "text": [
      "0 0.891800616468702\n",
      "100 0.6469211918967112\n",
      "200 0.6507208858217511\n",
      "300 0.6411621485437665\n",
      "400 0.6244073595319476\n",
      "500 0.6375669666699002\n",
      "600 0.6421453186443874\n",
      "700 0.629095801285335\n",
      "800 0.6330547077315194\n",
      "900 0.6374745879854474\n",
      "0.81877446\n"
     ]
    }
   ],
   "source": [
    "with tf.Session() as sess:\n",
    "    sess.run(tf.global_variables_initializer())\n",
    "    for epoch in range(epochs):\n",
    "        avg_lv = 0\n",
    "        for i in range(iter_num):\n",
    "            idx = np.random.choice(xdata.shape[0], batch_size)\n",
    "            _, hv, lv = sess.run([train, hf, loss], \n",
    "                                 feed_dict={X:xdata[idx],\n",
    "                                            Y:ydata[idx]})\n",
    "            avg_lv += lv/iter_num\n",
    "    \n",
    "        if epoch % 100 == 0: \n",
    "            print(epoch, avg_lv)\n",
    "    pred_, acc_, hf_ = sess.run([pred, accuracy, hf], feed_dict = {X:xdata, Y:ydata})\n",
    "    print(acc_)\n",
    "\n",
    "    sess.close()   "
   ]
  },
  {
   "cell_type": "markdown",
   "metadata": {},
   "source": [
    "정확도 81.8%"
   ]
  }
 ],
 "metadata": {
  "kernelspec": {
   "display_name": "Python 3",
   "language": "python",
   "name": "python3"
  },
  "language_info": {
   "codemirror_mode": {
    "name": "ipython",
    "version": 3
   },
   "file_extension": ".py",
   "mimetype": "text/x-python",
   "name": "python",
   "nbconvert_exporter": "python",
   "pygments_lexer": "ipython3",
   "version": "3.7.7"
  }
 },
 "nbformat": 4,
 "nbformat_minor": 2
}
