{
 "cells": [
  {
   "cell_type": "code",
   "execution_count": 1,
   "metadata": {},
   "outputs": [
    {
     "name": "stderr",
     "output_type": "stream",
     "text": [
      "Using TensorFlow backend.\n"
     ]
    }
   ],
   "source": [
    "import random\n",
    "import pandas as pd\n",
    "import matplotlib.pyplot as plt\n",
    "import seaborn as sns\n",
    "from tqdm import tqdm\n",
    "\n",
    "import tensorflow as tf\n",
    "\n",
    "from keras.datasets import boston_housing\n",
    "from sklearn.preprocessing import StandardScaler"
   ]
  },
  {
   "cell_type": "markdown",
   "metadata": {},
   "source": [
    "# Boston Housing\n",
    "\n",
    "> loss='mse', optimizer='rmsprop',metrics=['mae']\n",
    "\n",
    "> ex) mae가 0.5 -> 실제와 예측 차이:0.5 -> 500달러 차이\n",
    "\n",
    "> 케라스, 텐서플로우"
   ]
  },
  {
   "cell_type": "code",
   "execution_count": 2,
   "metadata": {},
   "outputs": [],
   "source": [
    "(trainData,trainTargets), (testData,testTargets)=boston_housing.load_data()"
   ]
  },
  {
   "cell_type": "code",
   "execution_count": 3,
   "metadata": {},
   "outputs": [
    {
     "name": "stdout",
     "output_type": "stream",
     "text": [
      "(404, 13) (102, 13)\n"
     ]
    }
   ],
   "source": [
    "print(trainData.shape, testData.shape)"
   ]
  },
  {
   "cell_type": "code",
   "execution_count": 4,
   "metadata": {},
   "outputs": [],
   "source": [
    "xTrn = trainData[:,:-1]\n",
    "yTrn = trainData[:,[-1]]\n",
    "xTst = testData[:,:-1]\n",
    "yTst = testData[:,[-1]]"
   ]
  },
  {
   "cell_type": "code",
   "execution_count": 5,
   "metadata": {},
   "outputs": [],
   "source": [
    "scaler = StandardScaler()\n",
    "xTrn = scaler.fit_transform(xTrn)\n",
    "xTst = scaler.transform(xTst)"
   ]
  },
  {
   "cell_type": "markdown",
   "metadata": {},
   "source": [
    "## Tensorflow"
   ]
  },
  {
   "cell_type": "code",
   "execution_count": 7,
   "metadata": {},
   "outputs": [],
   "source": [
    "tf.reset_default_graph()"
   ]
  },
  {
   "cell_type": "code",
   "execution_count": 8,
   "metadata": {},
   "outputs": [
    {
     "name": "stdout",
     "output_type": "stream",
     "text": [
      "WARNING:tensorflow:\n",
      "The TensorFlow contrib module will not be included in TensorFlow 2.0.\n",
      "For more information, please see:\n",
      "  * https://github.com/tensorflow/community/blob/master/rfcs/20180907-contrib-sunset.md\n",
      "  * https://github.com/tensorflow/addons\n",
      "  * https://github.com/tensorflow/io (for I/O related ops)\n",
      "If you depend on functionality not listed there, please file an issue.\n",
      "\n"
     ]
    }
   ],
   "source": [
    "x=tf.placeholder(tf.float32,[None,12])\n",
    "y=tf.placeholder(tf.float32,[None,1])\n",
    "\n",
    "w1=tf.get_variable(\"w1\",shape=[12,256], initializer=tf.contrib.layers.xavier_initializer())\n",
    "b1=tf.Variable(tf.random_normal([256]))\n",
    "l1=tf.nn.relu(tf.matmul(x,w1)+b1)\n",
    "\n",
    "w2=tf.get_variable(\"w2\",shape=[256,256], initializer=tf.contrib.layers.xavier_initializer())\n",
    "b2=tf.Variable(tf.random_normal([256]))\n",
    "l2=tf.nn.relu(tf.matmul(l1,w2)+b2)\n",
    "\n",
    "w3=tf.get_variable(\"w3\",shape=[256,256], initializer=tf.contrib.layers.xavier_initializer())\n",
    "b3=tf.Variable(tf.random_normal([256]))\n",
    "l3=tf.nn.relu(tf.matmul(l2,w3)+b3)\n",
    "\n",
    "w4=tf.get_variable(\"w4\",shape=[256,64], initializer=tf.contrib.layers.xavier_initializer())\n",
    "b4=tf.Variable(tf.random_normal([64]))\n",
    "l4=tf.nn.relu(tf.matmul(l3,w4)+b4)\n",
    "\n",
    "w5=tf.get_variable(\"w5\",shape=[64,1], initializer=tf.contrib.layers.xavier_initializer())\n",
    "b5=tf.Variable(tf.random_normal([1]))\n",
    "\n",
    "hf=tf.matmul(l4,w5)+b5"
   ]
  },
  {
   "cell_type": "code",
   "execution_count": 9,
   "metadata": {},
   "outputs": [],
   "source": [
    "keep_prob = tf.placeholder(tf.float32)\n",
    "rmse=tf.sqrt(tf.reduce_mean(tf.square(hf-y)))\n",
    "optimizer=tf.train.AdamOptimizer(0.001).minimize(rmse)"
   ]
  },
  {
   "cell_type": "code",
   "execution_count": 10,
   "metadata": {},
   "outputs": [
    {
     "name": "stdout",
     "output_type": "stream",
     "text": [
      "rmse : 17.058138\n",
      "rmse : 1.057937\n",
      "rmse : 0.725401\n",
      "rmse : 0.586818\n",
      "rmse : 0.477260\n",
      "rmse : 0.413931\n",
      "rmse : 0.340204\n",
      "rmse : 0.329072\n",
      "rmse : 0.251491\n",
      "rmse : 0.258049\n",
      "result : 4.823\n"
     ]
    }
   ],
   "source": [
    "sess = tf.Session()\n",
    "sess.run(tf.global_variables_initializer())\n",
    "for epoch in range(10000):\n",
    "    rm_, _ = sess.run([rmse, optimizer],\n",
    "                    feed_dict={x:xTrn, y:yTrn, keep_prob:0.7})\n",
    "    if epoch % 1000 == 0:\n",
    "        print('rmse : %f' % rm_)\n",
    "pred, loss_v = sess.run([hf, rmse], feed_dict={x:xTst, y:yTst})\n",
    "print(\"result : %.3f\" % loss_v)"
   ]
  },
  {
   "cell_type": "code",
   "execution_count": 15,
   "metadata": {
    "scrolled": true
   },
   "outputs": [
    {
     "name": "stdout",
     "output_type": "stream",
     "text": [
      "[16.319784] [29.05]\n",
      "[16.004847] [16.21]\n",
      "[8.9776325] [9.74]\n",
      "[9.524349] [5.5]\n",
      "[11.891737] [8.44]\n",
      "[12.754826] [13.59]\n",
      "[3.9335237] [4.61]\n",
      "[9.003914] [7.51]\n",
      "[16.276075] [17.93]\n",
      "[11.210312] [14.36]\n",
      "[32.858414] [10.63]\n"
     ]
    }
   ],
   "source": [
    "for i, (p, r) in enumerate(zip(pred, yTst)):\n",
    "    print(p, r)\n",
    "    if i >= 10 : break"
   ]
  },
  {
   "cell_type": "markdown",
   "metadata": {},
   "source": [
    "## Keras"
   ]
  },
  {
   "cell_type": "code",
   "execution_count": 17,
   "metadata": {},
   "outputs": [],
   "source": [
    "from keras.models import Sequential\n",
    "from keras.layers import Dense\n",
    "import numpy as np"
   ]
  },
  {
   "cell_type": "code",
   "execution_count": 18,
   "metadata": {},
   "outputs": [
    {
     "name": "stdout",
     "output_type": "stream",
     "text": [
      "WARNING:tensorflow:From C:\\Users\\chan\\anaconda3\\envs\\tf15_py37\\lib\\site-packages\\tensorflow_core\\python\\ops\\resource_variable_ops.py:1630: calling BaseResourceVariable.__init__ (from tensorflow.python.ops.resource_variable_ops) with constraint is deprecated and will be removed in a future version.\n",
      "Instructions for updating:\n",
      "If using Keras pass *_constraint arguments to layers.\n"
     ]
    }
   ],
   "source": [
    "model = Sequential()\n",
    "model.add(Dense(12, input_dim=12, activation='relu'))\n",
    "model.add(Dense(144, activation='relu'))\n",
    "model.add(Dense(144, activation='relu'))\n",
    "model.add(Dense(288, activation='relu'))\n",
    "model.add(Dense(288, activation='relu'))\n",
    "model.add(Dense(144, activation='relu'))\n",
    "model.add(Dense(1))"
   ]
  },
  {
   "cell_type": "code",
   "execution_count": 22,
   "metadata": {},
   "outputs": [],
   "source": [
    "#loss='mse', optimizer='rmsprop',metrics=['mae']\n",
    "model.compile(loss=\"mae\",\n",
    "             optimizer='rmsprop',\n",
    "             metrics=['mae'])"
   ]
  },
  {
   "cell_type": "code",
   "execution_count": 29,
   "metadata": {},
   "outputs": [],
   "source": [
    "# from keras.callbacks import EarlyStopping\n",
    "# es = EarlyStopping(monitor='val_loss', patience=100)"
   ]
  },
  {
   "cell_type": "code",
   "execution_count": 34,
   "metadata": {},
   "outputs": [
    {
     "name": "stdout",
     "output_type": "stream",
     "text": [
      "Epoch 1/200\n",
      "404/404 [==============================] - 0s 39us/step - loss: 1.2425 - mae: 1.2425\n",
      "Epoch 2/200\n",
      "404/404 [==============================] - 0s 42us/step - loss: 1.1967 - mae: 1.1967\n",
      "Epoch 3/200\n",
      "404/404 [==============================] - 0s 47us/step - loss: 1.2365 - mae: 1.2365\n",
      "Epoch 4/200\n",
      "404/404 [==============================] - 0s 44us/step - loss: 1.3760 - mae: 1.3760\n",
      "Epoch 5/200\n",
      "404/404 [==============================] - 0s 42us/step - loss: 1.3329 - mae: 1.3329\n",
      "Epoch 6/200\n",
      "404/404 [==============================] - 0s 42us/step - loss: 1.0653 - mae: 1.0653\n",
      "Epoch 7/200\n",
      "404/404 [==============================] - 0s 47us/step - loss: 1.1903 - mae: 1.1903\n",
      "Epoch 8/200\n",
      "404/404 [==============================] - 0s 42us/step - loss: 1.2427 - mae: 1.2427\n",
      "Epoch 9/200\n",
      "404/404 [==============================] - 0s 44us/step - loss: 1.1754 - mae: 1.1754\n",
      "Epoch 10/200\n",
      "404/404 [==============================] - 0s 44us/step - loss: 1.1821 - mae: 1.1821\n",
      "Epoch 11/200\n",
      "404/404 [==============================] - 0s 35us/step - loss: 1.0948 - mae: 1.0948\n",
      "Epoch 12/200\n",
      "404/404 [==============================] - 0s 37us/step - loss: 1.2242 - mae: 1.2242\n",
      "Epoch 13/200\n",
      "404/404 [==============================] - 0s 42us/step - loss: 1.3058 - mae: 1.3058\n",
      "Epoch 14/200\n",
      "404/404 [==============================] - 0s 37us/step - loss: 0.9813 - mae: 0.9813\n",
      "Epoch 15/200\n",
      "404/404 [==============================] - 0s 39us/step - loss: 1.1676 - mae: 1.1676\n",
      "Epoch 16/200\n",
      "404/404 [==============================] - 0s 39us/step - loss: 1.1836 - mae: 1.1836\n",
      "Epoch 17/200\n",
      "404/404 [==============================] - 0s 39us/step - loss: 0.9891 - mae: 0.9891\n",
      "Epoch 18/200\n",
      "404/404 [==============================] - 0s 37us/step - loss: 1.2314 - mae: 1.2314\n",
      "Epoch 19/200\n",
      "404/404 [==============================] - 0s 37us/step - loss: 1.1550 - mae: 1.1550\n",
      "Epoch 20/200\n",
      "404/404 [==============================] - 0s 40us/step - loss: 1.2584 - mae: 1.2584\n",
      "Epoch 21/200\n",
      "404/404 [==============================] - 0s 40us/step - loss: 0.9537 - mae: 0.9537\n",
      "Epoch 22/200\n",
      "404/404 [==============================] - 0s 35us/step - loss: 1.4584 - mae: 1.4584\n",
      "Epoch 23/200\n",
      "404/404 [==============================] - 0s 37us/step - loss: 1.1803 - mae: 1.1803\n",
      "Epoch 24/200\n",
      "404/404 [==============================] - 0s 37us/step - loss: 1.0158 - mae: 1.0158\n",
      "Epoch 25/200\n",
      "404/404 [==============================] - 0s 35us/step - loss: 0.9817 - mae: 0.9817\n",
      "Epoch 26/200\n",
      "404/404 [==============================] - 0s 40us/step - loss: 1.1535 - mae: 1.1535\n",
      "Epoch 27/200\n",
      "404/404 [==============================] - 0s 35us/step - loss: 0.9660 - mae: 0.9660\n",
      "Epoch 28/200\n",
      "404/404 [==============================] - 0s 37us/step - loss: 1.1533 - mae: 1.1533\n",
      "Epoch 29/200\n",
      "404/404 [==============================] - 0s 42us/step - loss: 0.9038 - mae: 0.9038\n",
      "Epoch 30/200\n",
      "404/404 [==============================] - 0s 35us/step - loss: 0.8798 - mae: 0.8798\n",
      "Epoch 31/200\n",
      "404/404 [==============================] - 0s 37us/step - loss: 1.2714 - mae: 1.2714\n",
      "Epoch 32/200\n",
      "404/404 [==============================] - 0s 40us/step - loss: 1.1195 - mae: 1.1195\n",
      "Epoch 33/200\n",
      "404/404 [==============================] - 0s 35us/step - loss: 1.0685 - mae: 1.0685\n",
      "Epoch 34/200\n",
      "404/404 [==============================] - 0s 40us/step - loss: 0.8767 - mae: 0.8767\n",
      "Epoch 35/200\n",
      "404/404 [==============================] - 0s 40us/step - loss: 1.2216 - mae: 1.2216\n",
      "Epoch 36/200\n",
      "404/404 [==============================] - 0s 39us/step - loss: 1.0779 - mae: 1.0779\n",
      "Epoch 37/200\n",
      "404/404 [==============================] - 0s 37us/step - loss: 1.4434 - mae: 1.4434\n",
      "Epoch 38/200\n",
      "404/404 [==============================] - 0s 37us/step - loss: 1.0833 - mae: 1.0833\n",
      "Epoch 39/200\n",
      "404/404 [==============================] - 0s 37us/step - loss: 1.1513 - mae: 1.1513\n",
      "Epoch 40/200\n",
      "404/404 [==============================] - 0s 37us/step - loss: 1.1163 - mae: 1.1163\n",
      "Epoch 41/200\n",
      "404/404 [==============================] - 0s 36us/step - loss: 1.0741 - mae: 1.0741\n",
      "Epoch 42/200\n",
      "404/404 [==============================] - 0s 37us/step - loss: 1.1553 - mae: 1.1553\n",
      "Epoch 43/200\n",
      "404/404 [==============================] - 0s 37us/step - loss: 1.0439 - mae: 1.0439\n",
      "Epoch 44/200\n",
      "404/404 [==============================] - 0s 38us/step - loss: 0.9409 - mae: 0.9409\n",
      "Epoch 45/200\n",
      "404/404 [==============================] - 0s 37us/step - loss: 1.1910 - mae: 1.1910\n",
      "Epoch 46/200\n",
      "404/404 [==============================] - 0s 36us/step - loss: 0.9019 - mae: 0.9019\n",
      "Epoch 47/200\n",
      "404/404 [==============================] - 0s 35us/step - loss: 1.3167 - mae: 1.3167\n",
      "Epoch 48/200\n",
      "404/404 [==============================] - 0s 37us/step - loss: 1.0523 - mae: 1.0523\n",
      "Epoch 49/200\n",
      "404/404 [==============================] - 0s 35us/step - loss: 0.8722 - mae: 0.8722\n",
      "Epoch 50/200\n",
      "404/404 [==============================] - 0s 35us/step - loss: 0.9252 - mae: 0.9252\n",
      "Epoch 51/200\n",
      "404/404 [==============================] - 0s 35us/step - loss: 1.0861 - mae: 1.0861\n",
      "Epoch 52/200\n",
      "404/404 [==============================] - 0s 37us/step - loss: 1.0919 - mae: 1.0919\n",
      "Epoch 53/200\n",
      "404/404 [==============================] - 0s 35us/step - loss: 1.0620 - mae: 1.0620\n",
      "Epoch 54/200\n",
      "404/404 [==============================] - 0s 37us/step - loss: 1.0520 - mae: 1.0520\n",
      "Epoch 55/200\n",
      "404/404 [==============================] - 0s 37us/step - loss: 1.1633 - mae: 1.1633\n",
      "Epoch 56/200\n",
      "404/404 [==============================] - 0s 36us/step - loss: 1.0876 - mae: 1.0876\n",
      "Epoch 57/200\n",
      "404/404 [==============================] - 0s 40us/step - loss: 1.0934 - mae: 1.0934\n",
      "Epoch 58/200\n",
      "404/404 [==============================] - 0s 37us/step - loss: 0.8964 - mae: 0.8964\n",
      "Epoch 59/200\n",
      "404/404 [==============================] - 0s 35us/step - loss: 1.3217 - mae: 1.3217\n",
      "Epoch 60/200\n",
      "404/404 [==============================] - 0s 36us/step - loss: 1.0433 - mae: 1.0433\n",
      "Epoch 61/200\n",
      "404/404 [==============================] - 0s 37us/step - loss: 1.0636 - mae: 1.0636\n",
      "Epoch 62/200\n",
      "404/404 [==============================] - 0s 72us/step - loss: 1.1178 - mae: 1.1178\n",
      "Epoch 63/200\n",
      "404/404 [==============================] - 0s 87us/step - loss: 0.9726 - mae: 0.9726\n",
      "Epoch 64/200\n",
      "404/404 [==============================] - 0s 69us/step - loss: 1.1268 - mae: 1.1268\n",
      "Epoch 65/200\n",
      "404/404 [==============================] - 0s 104us/step - loss: 1.1359 - mae: 1.1359\n",
      "Epoch 66/200\n",
      "404/404 [==============================] - 0s 64us/step - loss: 1.0381 - mae: 1.0381\n",
      "Epoch 67/200\n",
      "404/404 [==============================] - 0s 42us/step - loss: 0.9228 - mae: 0.9228\n",
      "Epoch 68/200\n",
      "404/404 [==============================] - ETA: 0s - loss: 1.0039 - mae: 1.003 - 0s 40us/step - loss: 0.7887 - mae: 0.7887\n",
      "Epoch 69/200\n",
      "404/404 [==============================] - 0s 42us/step - loss: 0.7927 - mae: 0.7927\n",
      "Epoch 70/200\n",
      "404/404 [==============================] - 0s 42us/step - loss: 1.1928 - mae: 1.1928\n",
      "Epoch 71/200\n",
      "404/404 [==============================] - 0s 37us/step - loss: 1.0418 - mae: 1.0418\n",
      "Epoch 72/200\n",
      "404/404 [==============================] - 0s 42us/step - loss: 0.9892 - mae: 0.9892\n",
      "Epoch 73/200\n",
      "404/404 [==============================] - 0s 39us/step - loss: 0.8009 - mae: 0.8009\n",
      "Epoch 74/200\n",
      "404/404 [==============================] - 0s 42us/step - loss: 1.1436 - mae: 1.1436\n",
      "Epoch 75/200\n",
      "404/404 [==============================] - 0s 42us/step - loss: 1.0554 - mae: 1.0554\n",
      "Epoch 76/200\n",
      "404/404 [==============================] - 0s 47us/step - loss: 1.0121 - mae: 1.0121\n",
      "Epoch 77/200\n",
      "404/404 [==============================] - 0s 39us/step - loss: 1.0266 - mae: 1.0266\n",
      "Epoch 78/200\n",
      "404/404 [==============================] - 0s 42us/step - loss: 1.0116 - mae: 1.0116\n",
      "Epoch 79/200\n",
      "404/404 [==============================] - 0s 44us/step - loss: 0.7936 - mae: 0.7936\n",
      "Epoch 80/200\n",
      "404/404 [==============================] - 0s 47us/step - loss: 0.8865 - mae: 0.8865\n",
      "Epoch 81/200\n",
      "404/404 [==============================] - 0s 44us/step - loss: 1.0179 - mae: 1.0179\n",
      "Epoch 82/200\n",
      "404/404 [==============================] - 0s 42us/step - loss: 1.0763 - mae: 1.0763\n",
      "Epoch 83/200\n",
      "404/404 [==============================] - 0s 39us/step - loss: 0.9180 - mae: 0.9180\n",
      "Epoch 84/200\n"
     ]
    },
    {
     "name": "stdout",
     "output_type": "stream",
     "text": [
      "404/404 [==============================] - 0s 42us/step - loss: 1.2114 - mae: 1.2114\n",
      "Epoch 85/200\n",
      "404/404 [==============================] - 0s 42us/step - loss: 0.9877 - mae: 0.9877\n",
      "Epoch 86/200\n",
      "404/404 [==============================] - 0s 37us/step - loss: 0.9464 - mae: 0.9464\n",
      "Epoch 87/200\n",
      "404/404 [==============================] - 0s 40us/step - loss: 0.8774 - mae: 0.8774\n",
      "Epoch 88/200\n",
      "404/404 [==============================] - 0s 47us/step - loss: 0.9492 - mae: 0.9492\n",
      "Epoch 89/200\n",
      "404/404 [==============================] - 0s 44us/step - loss: 0.9220 - mae: 0.9220\n",
      "Epoch 90/200\n",
      "404/404 [==============================] - 0s 37us/step - loss: 1.0313 - mae: 1.0313\n",
      "Epoch 91/200\n",
      "404/404 [==============================] - 0s 39us/step - loss: 0.8713 - mae: 0.8713\n",
      "Epoch 92/200\n",
      "404/404 [==============================] - 0s 35us/step - loss: 0.7817 - mae: 0.7817\n",
      "Epoch 93/200\n",
      "404/404 [==============================] - 0s 37us/step - loss: 0.9560 - mae: 0.9560\n",
      "Epoch 94/200\n",
      "404/404 [==============================] - ETA: 0s - loss: 0.9206 - mae: 0.920 - 0s 37us/step - loss: 0.8424 - mae: 0.8424\n",
      "Epoch 95/200\n",
      "404/404 [==============================] - 0s 35us/step - loss: 0.9300 - mae: 0.9300\n",
      "Epoch 96/200\n",
      "404/404 [==============================] - 0s 35us/step - loss: 0.9117 - mae: 0.9117\n",
      "Epoch 97/200\n",
      "404/404 [==============================] - 0s 35us/step - loss: 1.0710 - mae: 1.0710\n",
      "Epoch 98/200\n",
      "404/404 [==============================] - 0s 35us/step - loss: 1.0148 - mae: 1.0148\n",
      "Epoch 99/200\n",
      "404/404 [==============================] - 0s 37us/step - loss: 0.9971 - mae: 0.9971\n",
      "Epoch 100/200\n",
      "404/404 [==============================] - 0s 37us/step - loss: 0.8116 - mae: 0.8116\n",
      "Epoch 101/200\n",
      "404/404 [==============================] - 0s 35us/step - loss: 1.0028 - mae: 1.0028\n",
      "Epoch 102/200\n",
      "404/404 [==============================] - 0s 35us/step - loss: 0.9016 - mae: 0.9016\n",
      "Epoch 103/200\n",
      "404/404 [==============================] - 0s 32us/step - loss: 0.8918 - mae: 0.8918\n",
      "Epoch 104/200\n",
      "404/404 [==============================] - 0s 37us/step - loss: 1.0025 - mae: 1.0025\n",
      "Epoch 105/200\n",
      "404/404 [==============================] - 0s 32us/step - loss: 0.7494 - mae: 0.7494\n",
      "Epoch 106/200\n",
      "404/404 [==============================] - 0s 37us/step - loss: 1.0624 - mae: 1.0624\n",
      "Epoch 107/200\n",
      "404/404 [==============================] - 0s 35us/step - loss: 0.9134 - mae: 0.9134\n",
      "Epoch 108/200\n",
      "404/404 [==============================] - 0s 35us/step - loss: 0.9482 - mae: 0.9482\n",
      "Epoch 109/200\n",
      "404/404 [==============================] - 0s 35us/step - loss: 1.0242 - mae: 1.0242\n",
      "Epoch 110/200\n",
      "404/404 [==============================] - 0s 37us/step - loss: 1.0276 - mae: 1.0276\n",
      "Epoch 111/200\n",
      "404/404 [==============================] - 0s 35us/step - loss: 1.0611 - mae: 1.0611\n",
      "Epoch 112/200\n",
      "404/404 [==============================] - 0s 35us/step - loss: 0.8735 - mae: 0.8735\n",
      "Epoch 113/200\n",
      "404/404 [==============================] - 0s 35us/step - loss: 0.9483 - mae: 0.9483\n",
      "Epoch 114/200\n",
      "404/404 [==============================] - 0s 35us/step - loss: 0.9645 - mae: 0.9645\n",
      "Epoch 115/200\n",
      "404/404 [==============================] - 0s 37us/step - loss: 0.8378 - mae: 0.8378\n",
      "Epoch 116/200\n",
      "404/404 [==============================] - 0s 37us/step - loss: 0.9716 - mae: 0.9716\n",
      "Epoch 117/200\n",
      "404/404 [==============================] - 0s 35us/step - loss: 1.0090 - mae: 1.0090\n",
      "Epoch 118/200\n",
      "404/404 [==============================] - 0s 37us/step - loss: 0.9047 - mae: 0.9047\n",
      "Epoch 119/200\n",
      "404/404 [==============================] - 0s 35us/step - loss: 0.9701 - mae: 0.9701\n",
      "Epoch 120/200\n",
      "404/404 [==============================] - 0s 35us/step - loss: 0.8868 - mae: 0.8868\n",
      "Epoch 121/200\n",
      "404/404 [==============================] - 0s 35us/step - loss: 0.9192 - mae: 0.9192\n",
      "Epoch 122/200\n",
      "404/404 [==============================] - 0s 32us/step - loss: 0.8444 - mae: 0.8444\n",
      "Epoch 123/200\n",
      "404/404 [==============================] - 0s 35us/step - loss: 0.9475 - mae: 0.9475\n",
      "Epoch 124/200\n",
      "404/404 [==============================] - 0s 39us/step - loss: 0.9053 - mae: 0.9053\n",
      "Epoch 125/200\n",
      "404/404 [==============================] - 0s 35us/step - loss: 0.9017 - mae: 0.9017\n",
      "Epoch 126/200\n",
      "404/404 [==============================] - 0s 42us/step - loss: 0.8294 - mae: 0.8294\n",
      "Epoch 127/200\n",
      "404/404 [==============================] - 0s 37us/step - loss: 0.7959 - mae: 0.7959\n",
      "Epoch 128/200\n",
      "404/404 [==============================] - 0s 35us/step - loss: 1.0998 - mae: 1.0998\n",
      "Epoch 129/200\n",
      "404/404 [==============================] - 0s 37us/step - loss: 0.9103 - mae: 0.9103\n",
      "Epoch 130/200\n",
      "404/404 [==============================] - 0s 37us/step - loss: 1.0702 - mae: 1.0702\n",
      "Epoch 131/200\n",
      "404/404 [==============================] - 0s 37us/step - loss: 1.0356 - mae: 1.0356\n",
      "Epoch 132/200\n",
      "404/404 [==============================] - 0s 35us/step - loss: 1.0245 - mae: 1.0245\n",
      "Epoch 133/200\n",
      "404/404 [==============================] - 0s 42us/step - loss: 0.9463 - mae: 0.9463\n",
      "Epoch 134/200\n",
      "404/404 [==============================] - 0s 37us/step - loss: 1.0563 - mae: 1.0563\n",
      "Epoch 135/200\n",
      "404/404 [==============================] - 0s 35us/step - loss: 0.7155 - mae: 0.7155\n",
      "Epoch 136/200\n",
      "404/404 [==============================] - 0s 39us/step - loss: 0.9134 - mae: 0.9134\n",
      "Epoch 137/200\n",
      "404/404 [==============================] - 0s 35us/step - loss: 0.9003 - mae: 0.9003\n",
      "Epoch 138/200\n",
      "404/404 [==============================] - 0s 39us/step - loss: 1.0374 - mae: 1.0374\n",
      "Epoch 139/200\n",
      "404/404 [==============================] - 0s 37us/step - loss: 1.0491 - mae: 1.0491\n",
      "Epoch 140/200\n",
      "404/404 [==============================] - 0s 35us/step - loss: 0.7878 - mae: 0.7878\n",
      "Epoch 141/200\n",
      "404/404 [==============================] - 0s 37us/step - loss: 0.8826 - mae: 0.8826\n",
      "Epoch 142/200\n",
      "404/404 [==============================] - 0s 35us/step - loss: 0.9823 - mae: 0.9823\n",
      "Epoch 143/200\n",
      "404/404 [==============================] - 0s 35us/step - loss: 1.0187 - mae: 1.0187\n",
      "Epoch 144/200\n",
      "404/404 [==============================] - 0s 37us/step - loss: 0.7434 - mae: 0.7434\n",
      "Epoch 145/200\n",
      "404/404 [==============================] - 0s 37us/step - loss: 0.8929 - mae: 0.8929\n",
      "Epoch 146/200\n",
      "404/404 [==============================] - 0s 35us/step - loss: 0.9056 - mae: 0.9056\n",
      "Epoch 147/200\n",
      "404/404 [==============================] - 0s 42us/step - loss: 0.8046 - mae: 0.8046\n",
      "Epoch 148/200\n",
      "404/404 [==============================] - 0s 40us/step - loss: 0.9250 - mae: 0.9250\n",
      "Epoch 149/200\n",
      "404/404 [==============================] - 0s 39us/step - loss: 0.8593 - mae: 0.8593\n",
      "Epoch 150/200\n",
      "404/404 [==============================] - 0s 39us/step - loss: 0.7773 - mae: 0.7773\n",
      "Epoch 151/200\n",
      "404/404 [==============================] - 0s 42us/step - loss: 0.9061 - mae: 0.9061\n",
      "Epoch 152/200\n",
      "404/404 [==============================] - 0s 42us/step - loss: 0.9998 - mae: 0.9998\n",
      "Epoch 153/200\n",
      "404/404 [==============================] - 0s 37us/step - loss: 0.8073 - mae: 0.8073\n",
      "Epoch 154/200\n",
      "404/404 [==============================] - 0s 37us/step - loss: 0.9678 - mae: 0.9678\n",
      "Epoch 155/200\n",
      "404/404 [==============================] - 0s 42us/step - loss: 0.9377 - mae: 0.9377\n",
      "Epoch 156/200\n",
      "404/404 [==============================] - 0s 35us/step - loss: 0.7543 - mae: 0.7543\n",
      "Epoch 157/200\n",
      "404/404 [==============================] - 0s 35us/step - loss: 0.8854 - mae: 0.8854\n",
      "Epoch 158/200\n",
      "404/404 [==============================] - 0s 35us/step - loss: 0.7032 - mae: 0.7032\n",
      "Epoch 159/200\n",
      "404/404 [==============================] - 0s 35us/step - loss: 1.1052 - mae: 1.1052\n",
      "Epoch 160/200\n",
      "404/404 [==============================] - 0s 35us/step - loss: 0.8285 - mae: 0.8285\n",
      "Epoch 161/200\n",
      "404/404 [==============================] - 0s 35us/step - loss: 0.7378 - mae: 0.7378\n",
      "Epoch 162/200\n",
      "404/404 [==============================] - 0s 44us/step - loss: 1.0106 - mae: 1.0106\n",
      "Epoch 163/200\n",
      "404/404 [==============================] - 0s 32us/step - loss: 0.6655 - mae: 0.6655\n",
      "Epoch 164/200\n",
      "404/404 [==============================] - 0s 35us/step - loss: 0.9673 - mae: 0.9673\n",
      "Epoch 165/200\n",
      "404/404 [==============================] - 0s 35us/step - loss: 0.8748 - mae: 0.8748\n",
      "Epoch 166/200\n"
     ]
    },
    {
     "name": "stdout",
     "output_type": "stream",
     "text": [
      "404/404 [==============================] - 0s 35us/step - loss: 0.8896 - mae: 0.8896\n",
      "Epoch 167/200\n",
      "404/404 [==============================] - 0s 35us/step - loss: 0.8513 - mae: 0.8513\n",
      "Epoch 168/200\n",
      "404/404 [==============================] - 0s 35us/step - loss: 0.8282 - mae: 0.8282\n",
      "Epoch 169/200\n",
      "404/404 [==============================] - 0s 35us/step - loss: 0.8816 - mae: 0.8816\n",
      "Epoch 170/200\n",
      "404/404 [==============================] - 0s 35us/step - loss: 1.0091 - mae: 1.0091\n",
      "Epoch 171/200\n",
      "404/404 [==============================] - 0s 37us/step - loss: 1.1678 - mae: 1.1678\n",
      "Epoch 172/200\n",
      "404/404 [==============================] - 0s 35us/step - loss: 0.7385 - mae: 0.7385\n",
      "Epoch 173/200\n",
      "404/404 [==============================] - 0s 40us/step - loss: 0.7565 - mae: 0.7565\n",
      "Epoch 174/200\n",
      "404/404 [==============================] - 0s 40us/step - loss: 0.9788 - mae: 0.9788\n",
      "Epoch 175/200\n",
      "404/404 [==============================] - 0s 37us/step - loss: 0.7262 - mae: 0.7262\n",
      "Epoch 176/200\n",
      "404/404 [==============================] - 0s 35us/step - loss: 0.8996 - mae: 0.8996\n",
      "Epoch 177/200\n",
      "404/404 [==============================] - 0s 32us/step - loss: 1.0005 - mae: 1.0005\n",
      "Epoch 178/200\n",
      "404/404 [==============================] - 0s 37us/step - loss: 0.9835 - mae: 0.9835\n",
      "Epoch 179/200\n",
      "404/404 [==============================] - 0s 35us/step - loss: 0.8965 - mae: 0.8965\n",
      "Epoch 180/200\n",
      "404/404 [==============================] - 0s 35us/step - loss: 0.7865 - mae: 0.7865\n",
      "Epoch 181/200\n",
      "404/404 [==============================] - 0s 34us/step - loss: 0.8788 - mae: 0.8788\n",
      "Epoch 182/200\n",
      "404/404 [==============================] - 0s 37us/step - loss: 0.8247 - mae: 0.8247\n",
      "Epoch 183/200\n",
      "404/404 [==============================] - 0s 35us/step - loss: 0.7351 - mae: 0.7351\n",
      "Epoch 184/200\n",
      "404/404 [==============================] - 0s 32us/step - loss: 0.9367 - mae: 0.9367\n",
      "Epoch 185/200\n",
      "404/404 [==============================] - 0s 37us/step - loss: 0.9102 - mae: 0.9102\n",
      "Epoch 186/200\n",
      "404/404 [==============================] - 0s 35us/step - loss: 0.9091 - mae: 0.9091\n",
      "Epoch 187/200\n",
      "404/404 [==============================] - 0s 35us/step - loss: 0.9055 - mae: 0.9055\n",
      "Epoch 188/200\n",
      "404/404 [==============================] - 0s 35us/step - loss: 0.7687 - mae: 0.7687\n",
      "Epoch 189/200\n",
      "404/404 [==============================] - 0s 35us/step - loss: 0.8282 - mae: 0.8282\n",
      "Epoch 190/200\n",
      "404/404 [==============================] - 0s 37us/step - loss: 0.8346 - mae: 0.8346\n",
      "Epoch 191/200\n",
      "404/404 [==============================] - 0s 35us/step - loss: 0.6742 - mae: 0.6742\n",
      "Epoch 192/200\n",
      "404/404 [==============================] - 0s 35us/step - loss: 1.0022 - mae: 1.0022\n",
      "Epoch 193/200\n",
      "404/404 [==============================] - 0s 35us/step - loss: 0.6618 - mae: 0.6618\n",
      "Epoch 194/200\n",
      "404/404 [==============================] - 0s 37us/step - loss: 1.0802 - mae: 1.0802\n",
      "Epoch 195/200\n",
      "404/404 [==============================] - 0s 37us/step - loss: 0.8658 - mae: 0.8658\n",
      "Epoch 196/200\n",
      "404/404 [==============================] - 0s 35us/step - loss: 0.8636 - mae: 0.8636\n",
      "Epoch 197/200\n",
      "404/404 [==============================] - 0s 35us/step - loss: 0.7405 - mae: 0.7405\n",
      "Epoch 198/200\n",
      "404/404 [==============================] - 0s 35us/step - loss: 0.9443 - mae: 0.9443\n",
      "Epoch 199/200\n",
      "404/404 [==============================] - 0s 35us/step - loss: 0.8715 - mae: 0.8715\n",
      "Epoch 200/200\n",
      "404/404 [==============================] - 0s 35us/step - loss: 0.6748 - mae: 0.6748\n"
     ]
    },
    {
     "data": {
      "text/plain": [
       "<keras.callbacks.callbacks.History at 0x18f28c98a08>"
      ]
     },
     "execution_count": 34,
     "metadata": {},
     "output_type": "execute_result"
    }
   ],
   "source": [
    "model.fit(xTrn,yTrn,epochs=200,batch_size=100)"
   ]
  },
  {
   "cell_type": "code",
   "execution_count": 35,
   "metadata": {},
   "outputs": [
    {
     "name": "stdout",
     "output_type": "stream",
     "text": [
      "102/102 [==============================] - 0s 39us/step\n"
     ]
    },
    {
     "data": {
      "text/plain": [
       "[2.7817002675112557, 2.781700372695923]"
      ]
     },
     "execution_count": 35,
     "metadata": {},
     "output_type": "execute_result"
    }
   ],
   "source": [
    "model.evaluate(xTst,yTst)"
   ]
  },
  {
   "cell_type": "code",
   "execution_count": 36,
   "metadata": {},
   "outputs": [
    {
     "name": "stdout",
     "output_type": "stream",
     "text": [
      "[16.319784] [29.05]\n",
      "[16.004847] [16.21]\n",
      "[8.9776325] [9.74]\n",
      "[9.524349] [5.5]\n",
      "[11.891737] [8.44]\n",
      "[12.754826] [13.59]\n",
      "[3.9335237] [4.61]\n",
      "[9.003914] [7.51]\n",
      "[16.276075] [17.93]\n",
      "[11.210312] [14.36]\n",
      "[32.858414] [10.63]\n"
     ]
    }
   ],
   "source": [
    "for i, (p, r) in enumerate(zip(pred, yTst)):\n",
    "    print(p, r)\n",
    "    if i >= 10 : break"
   ]
  },
  {
   "cell_type": "code",
   "execution_count": null,
   "metadata": {},
   "outputs": [],
   "source": []
  }
 ],
 "metadata": {
  "kernelspec": {
   "display_name": "Python [conda env:tf15_py37] *",
   "language": "python",
   "name": "conda-env-tf15_py37-py"
  },
  "language_info": {
   "codemirror_mode": {
    "name": "ipython",
    "version": 3
   },
   "file_extension": ".py",
   "mimetype": "text/x-python",
   "name": "python",
   "nbconvert_exporter": "python",
   "pygments_lexer": "ipython3",
   "version": "3.7.7"
  }
 },
 "nbformat": 4,
 "nbformat_minor": 4
}
