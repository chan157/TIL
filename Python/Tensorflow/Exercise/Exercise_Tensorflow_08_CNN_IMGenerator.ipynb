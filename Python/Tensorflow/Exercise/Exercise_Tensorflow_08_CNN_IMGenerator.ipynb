{
 "cells": [
  {
   "cell_type": "code",
   "execution_count": 1,
   "metadata": {},
   "outputs": [
    {
     "data": {
      "text/plain": [
       "'1.15.0'"
      ]
     },
     "execution_count": 1,
     "metadata": {},
     "output_type": "execute_result"
    }
   ],
   "source": [
    "import tensorflow as tf\n",
    "tf.__version__"
   ]
  },
  {
   "cell_type": "code",
   "execution_count": 10,
   "metadata": {},
   "outputs": [],
   "source": [
    "from keras.utils import np_utils\n",
    "from keras.models import Sequential\n",
    "from keras.layers import Dense\n",
    "from keras.callbacks import ModelCheckpoint, EarlyStopping\n",
    "import numpy as np\n",
    "import tensorflow as tf\n",
    "import os\n",
    "import pandas as pd\n",
    "import numpy as np\n",
    "from keras.preprocessing.image import array_to_img, img_to_array, load_img"
   ]
  },
  {
   "cell_type": "code",
   "execution_count": 11,
   "metadata": {},
   "outputs": [],
   "source": [
    "path = r\"Q:\\이미지공유폴더\\\\\""
   ]
  },
  {
   "cell_type": "code",
   "execution_count": 12,
   "metadata": {},
   "outputs": [],
   "source": [
    "trainFileList = os.listdir(path+'train')\n",
    "testFileList = os.listdir(path+'test')"
   ]
  },
  {
   "cell_type": "code",
   "execution_count": 13,
   "metadata": {},
   "outputs": [],
   "source": [
    "trainFileList = [x for x in trainFileList if 'jpg' in x]\n",
    "testFileList = [x for x in testFileList if 'jpg' in x]"
   ]
  },
  {
   "cell_type": "code",
   "execution_count": 14,
   "metadata": {},
   "outputs": [],
   "source": [
    "word = {'ga' : 0, 'da' : 1, 'sa' : 2, 'aa' : 3, 'ka' : 4}"
   ]
  },
  {
   "cell_type": "code",
   "execution_count": 15,
   "metadata": {},
   "outputs": [],
   "source": [
    "for i, file in enumerate(trainFileList):\n",
    "    label, nm, tr, _ = file.split('_')\n",
    "    code, ext = _.split('.')\n",
    "        \n",
    "    new_img = load_img(path+'train\\\\'+file)\n",
    "    arr_img = img_to_array(new_img)\n",
    "    img = arr_img.reshape((1,)+arr_img.shape)\n",
    "    if i == 0 :\n",
    "        container = img\n",
    "        labels = word[label]\n",
    "    else:\n",
    "        container = np.vstack([container, img])\n",
    "        labels = np.vstack([labels, word[label]])\n",
    "\n",
    "xTrain = container\n",
    "yTrain = np_utils.to_categorical(labels,6)       \n",
    "\n",
    "for i, file in enumerate(testFileList):\n",
    "    label, nm, tr, _ = file.split('_')\n",
    "    code, ext = _.split('.')\n",
    "        \n",
    "    new_img = load_img(path+'test\\\\'+file)\n",
    "    arr_img = img_to_array(new_img)\n",
    "    img = arr_img.reshape((1,)+arr_img.shape)\n",
    "    if i == 0 :\n",
    "        container = img\n",
    "        labels = word[label]\n",
    "    else:\n",
    "        container = np.vstack([container, img])\n",
    "        labels = np.vstack([labels, word[label]])\n",
    "        \n",
    "xTest = container\n",
    "yTest = np_utils.to_categorical(labels,6)   "
   ]
  },
  {
   "cell_type": "code",
   "execution_count": 16,
   "metadata": {},
   "outputs": [
    {
     "name": "stdout",
     "output_type": "stream",
     "text": [
      "(90, 28, 28, 3) (90, 1)\n",
      "(181, 28, 28, 3) (181, 6)\n",
      "(90, 28, 28, 3) (90, 6)\n"
     ]
    }
   ],
   "source": [
    "print(container.shape, labels.shape)\n",
    "print(xTrain.shape, yTrain.shape)\n",
    "print(xTest.shape, yTest.shape)"
   ]
  },
  {
   "cell_type": "code",
   "execution_count": 17,
   "metadata": {},
   "outputs": [],
   "source": [
    "xTrain = xTrain.astype('float32')/255\n",
    "xTest = xTest.astype('float32')/255"
   ]
  },
  {
   "cell_type": "markdown",
   "metadata": {},
   "source": [
    "# Keras CNN"
   ]
  },
  {
   "cell_type": "code",
   "execution_count": 28,
   "metadata": {},
   "outputs": [],
   "source": [
    "from keras.layers import *\n",
    "from sklearn.metrics import accuracy_score"
   ]
  },
  {
   "cell_type": "code",
   "execution_count": null,
   "metadata": {},
   "outputs": [],
   "source": [
    "# 모델 구성\n",
    "\n",
    "model = Sequential()\n",
    "model.add(Conv2D(64, kernel_size=(3,3), padding='same',\n",
    "                input_shape=(28,28,3), activation='relu'))\n",
    "model.add(MaxPooling2D(pool_size=(2,2)))\n",
    "model.add(Dropout(0.25))\n",
    "\n",
    "model.add(Conv2D(128, kernel_size=(3,3),padding='same', activation='relu'))\n",
    "model.add(MaxPooling2D(pool_size=(2,2)))\n",
    "model.add(Dropout(0.25))\n",
    "\n",
    "model.add(Conv2D(256, kernel_size=(3,3), activation='relu'))\n",
    "model.add(MaxPooling2D(pool_size=(2,2)))\n",
    "model.add(Dropout(0.25))\n",
    "\n",
    "model.add(Flatten())\n",
    "model.add(Dense(256, activation='relu'))\n",
    "model.add(Dropout(0.25))\n",
    "model.add(Dense(5, activation='softmax'))"
   ]
  },
  {
   "cell_type": "code",
   "execution_count": null,
   "metadata": {},
   "outputs": [],
   "source": [
    "model.compile(loss='categorical_crossentropy',\n",
    "             optimizer='adam',\n",
    "             metrics=['accuracy'])"
   ]
  },
  {
   "cell_type": "code",
   "execution_count": null,
   "metadata": {},
   "outputs": [],
   "source": [
    "history = model.fit(xTrain, yTrain, \n",
    "                    epochs=200, batch_size=30)"
   ]
  },
  {
   "cell_type": "code",
   "execution_count": null,
   "metadata": {
    "scrolled": true
   },
   "outputs": [],
   "source": [
    "# from tensorflow.python.client import device_lib\n",
    "# print(device_lib.list_local_devices())\n"
   ]
  },
  {
   "cell_type": "code",
   "execution_count": null,
   "metadata": {},
   "outputs": [],
   "source": [
    "result = model.predict_classes(xTest)"
   ]
  },
  {
   "cell_type": "code",
   "execution_count": null,
   "metadata": {},
   "outputs": [],
   "source": [
    "yTest.shape\n",
    "answer = []\n",
    "for i in yTest:\n",
    "    answer.append(np.argmax(i))"
   ]
  },
  {
   "cell_type": "code",
   "execution_count": 9,
   "metadata": {
    "collapsed": true
   },
   "outputs": [
    {
     "ename": "NameError",
     "evalue": "name 'yTest' is not defined",
     "output_type": "error",
     "traceback": [
      "\u001b[1;31m---------------------------------------------------------------------------\u001b[0m",
      "\u001b[1;31mNameError\u001b[0m                                 Traceback (most recent call last)",
      "\u001b[1;32m<ipython-input-9-27835cb2641e>\u001b[0m in \u001b[0;36m<module>\u001b[1;34m\u001b[0m\n\u001b[0;32m      1\u001b[0m \u001b[0myTest_label\u001b[0m \u001b[1;33m=\u001b[0m \u001b[1;33m[\u001b[0m\u001b[1;33m]\u001b[0m\u001b[1;33m\u001b[0m\u001b[1;33m\u001b[0m\u001b[0m\n\u001b[1;32m----> 2\u001b[1;33m \u001b[1;32mfor\u001b[0m \u001b[0my\u001b[0m \u001b[1;32min\u001b[0m \u001b[0myTest\u001b[0m\u001b[1;33m:\u001b[0m\u001b[1;33m\u001b[0m\u001b[1;33m\u001b[0m\u001b[0m\n\u001b[0m\u001b[0;32m      3\u001b[0m     \u001b[0myTest_label\u001b[0m\u001b[1;33m.\u001b[0m\u001b[0mappend\u001b[0m\u001b[1;33m(\u001b[0m\u001b[0mnp\u001b[0m\u001b[1;33m.\u001b[0m\u001b[0margmax\u001b[0m\u001b[1;33m(\u001b[0m\u001b[0my\u001b[0m\u001b[1;33m)\u001b[0m\u001b[1;33m)\u001b[0m\u001b[1;33m\u001b[0m\u001b[1;33m\u001b[0m\u001b[0m\n",
      "\u001b[1;31mNameError\u001b[0m: name 'yTest' is not defined"
     ]
    }
   ],
   "source": [
    "yTest_label = []\n",
    "for y in yTest:\n",
    "    yTest_label.append(np.argmax(y))"
   ]
  },
  {
   "cell_type": "code",
   "execution_count": null,
   "metadata": {
    "scrolled": true
   },
   "outputs": [],
   "source": [
    "accuracy_score(yTest_label, result)"
   ]
  },
  {
   "cell_type": "markdown",
   "metadata": {},
   "source": [
    "# Keras 이미지 증식"
   ]
  },
  {
   "cell_type": "code",
   "execution_count": 18,
   "metadata": {},
   "outputs": [],
   "source": [
    "from keras.preprocessing.image import ImageDataGenerator"
   ]
  },
  {
   "cell_type": "code",
   "execution_count": 19,
   "metadata": {
    "scrolled": true
   },
   "outputs": [
    {
     "data": {
      "text/plain": [
       "['aa_bc_01_02.jpg',\n",
       " 'aa_bc_02_02.jpg',\n",
       " 'aa_chj_01_14.jpg',\n",
       " 'aa_chj_02_14.jpg',\n",
       " 'aa_cjh_01_12.jpg',\n",
       " 'aa_cjh_02_12.jpg',\n",
       " 'aa_cyh_01_09.jpg',\n",
       " 'aa_cyh_02_09.jpg',\n",
       " 'aa_edy_01_18.jpg',\n",
       " 'aa_edy_02_18.jpg',\n",
       " 'aa_gjh_01_05.jpg',\n",
       " 'aa_gjh_02_05.jpg',\n",
       " 'aa_hmr_01_15.jpg',\n",
       " 'aa_hmr_02_15.jpg',\n",
       " 'aa_jhe_01_07.jpg',\n",
       " 'aa_jhe_02_07.jpg',\n",
       " 'aa_jsy_01_06.jpg',\n",
       " 'aa_jsy_02_06.jpg',\n",
       " 'aa_kgw_01_04.jpg',\n",
       " 'aa_kgw_02_04.jpg',\n",
       " 'aa_kka_01_01.jpg',\n",
       " 'aa_kka_02_01.jpg',\n",
       " 'aa_kkh_01_16.jpg',\n",
       " 'aa_kkh_02_16.jpg',\n",
       " 'aa_kth_01_11.jpg',\n",
       " 'aa_kth_02_11.jpg',\n",
       " 'aa_lsc_01_10.jpg',\n",
       " 'aa_lsc_02_10.jpg',\n",
       " 'aa_ojm_01_08.jpg',\n",
       " 'aa_ojm_02_08.jpg',\n",
       " 'aa_pkh_01_03.jpg',\n",
       " 'aa_pkh_02_03.jpg',\n",
       " 'aa_say_01_17.jpg',\n",
       " 'aa_say_02_17.jpg',\n",
       " 'aa_ykw_01_13.jpg',\n",
       " 'aa_ykw_02_13.jpg',\n",
       " 'da_bc_01_02.jpg',\n",
       " 'da_bc_02_02.jpg',\n",
       " 'da_chj_01_14.jpg',\n",
       " 'da_chj_02_14.jpg',\n",
       " 'da_cjh_01_12.jpg',\n",
       " 'da_cjh_02_12.jpg',\n",
       " 'da_cyh_01_09.jpg',\n",
       " 'da_cyh_02_09.jpg',\n",
       " 'da_edy_01_18.jpg',\n",
       " 'da_edy_02_18.jpg',\n",
       " 'da_gjh_01_05.jpg',\n",
       " 'da_gjh_02_05.jpg',\n",
       " 'da_hmr_01_15.jpg',\n",
       " 'da_hmr_02_15.jpg',\n",
       " 'da_jhe_01_07.jpg',\n",
       " 'da_jhe_02_07.jpg',\n",
       " 'da_jsy_01_06.jpg',\n",
       " 'da_jsy_02_06.jpg',\n",
       " 'da_kgw_01_04.jpg',\n",
       " 'da_kgw_02_04.jpg',\n",
       " 'da_kka_01_01.jpg',\n",
       " 'da_kka_02_01.jpg',\n",
       " 'da_kkh_01_16.jpg',\n",
       " 'da_kkh_02_16.jpg',\n",
       " 'da_kth_01_11.jpg',\n",
       " 'da_kth_02_11.jpg',\n",
       " 'da_lsc_01_10.jpg',\n",
       " 'da_lsc_02_10.jpg',\n",
       " 'da_ojm_01_08.jpg',\n",
       " 'da_ojm_02_08.jpg',\n",
       " 'da_pkh_01_03.jpg',\n",
       " 'da_pkh_02_03.jpg',\n",
       " 'da_say_01_17.jpg',\n",
       " 'da_say_02_17.jpg',\n",
       " 'da_ykw_01_13.jpg',\n",
       " 'da_ykw_02_13.jpg',\n",
       " 'ga_bc_01_02.jpg',\n",
       " 'ga_bc_02_02.jpg',\n",
       " 'ga_chj_01_14.jpg',\n",
       " 'ga_chj_02_14.jpg',\n",
       " 'ga_cjh_01_12.jpg',\n",
       " 'ga_cjh_02_12.jpg',\n",
       " 'ga_cyh_01_09.jpg',\n",
       " 'ga_cyh_02_09.jpg',\n",
       " 'ga_edy_01_18.jpg',\n",
       " 'ga_edy_02_18.jpg',\n",
       " 'ga_gjh_01_05.jpg',\n",
       " 'ga_gjh_02_05.jpg',\n",
       " 'ga_hmr_01_15.jpg',\n",
       " 'ga_hmr_02_15.jpg',\n",
       " 'ga_jhe_01_07.jpg',\n",
       " 'ga_jhe_02_07.jpg',\n",
       " 'ga_jsy_01_06.jpg',\n",
       " 'ga_jsy_02_06.jpg',\n",
       " 'ga_kgw_01_04.jpg',\n",
       " 'ga_kgw_02_04.jpg',\n",
       " 'ga_kka_01_01.jpg',\n",
       " 'ga_kka_02_01.jpg',\n",
       " 'ga_kka_0_01.jpg',\n",
       " 'ga_kkh_01_16.jpg',\n",
       " 'ga_kkh_02_16.jpg',\n",
       " 'ga_kth_01_11.jpg',\n",
       " 'ga_kth_02_11.jpg',\n",
       " 'ga_lsc_01_10.jpg',\n",
       " 'ga_lsc_02_10.jpg',\n",
       " 'ga_ojm_01_08.jpg',\n",
       " 'ga_ojm_02_08.jpg',\n",
       " 'ga_pkh_01_03.jpg',\n",
       " 'ga_pkh_02_03.jpg',\n",
       " 'ga_say_01_17.jpg',\n",
       " 'ga_say_02_17.jpg',\n",
       " 'ga_ykw_01_13.jpg',\n",
       " 'ga_ykw_02_13.jpg',\n",
       " 'ka_bc_01_02.jpg',\n",
       " 'ka_bc_02_02.jpg',\n",
       " 'ka_chj_01_14.jpg',\n",
       " 'ka_chj_02_14.jpg',\n",
       " 'ka_cjh_01_12.jpg',\n",
       " 'ka_cjh_02_12.jpg',\n",
       " 'ka_cyh_01_09.jpg',\n",
       " 'ka_cyh_02_09.jpg',\n",
       " 'ka_edy_01_18.jpg',\n",
       " 'ka_edy_02_18.jpg',\n",
       " 'ka_gjh_01_05.jpg',\n",
       " 'ka_gjh_02_05.jpg',\n",
       " 'ka_hmr_01_15.jpg',\n",
       " 'ka_hmr_02_15.jpg',\n",
       " 'ka_jhe_01_07.jpg',\n",
       " 'ka_jhe_02_07.jpg',\n",
       " 'ka_jsy_01_06.jpg',\n",
       " 'ka_jsy_02_06.jpg',\n",
       " 'ka_kgw_01_04.jpg',\n",
       " 'ka_kgw_02_04.jpg',\n",
       " 'ka_kka_01_01.jpg',\n",
       " 'ka_kka_02_01.jpg',\n",
       " 'ka_kkh_01_16.jpg',\n",
       " 'ka_kkh_02_16.jpg',\n",
       " 'ka_kth_01_11.jpg',\n",
       " 'ka_kth_02_11.jpg',\n",
       " 'ka_lsc_01_10.jpg',\n",
       " 'ka_lsc_02_10.jpg',\n",
       " 'ka_ojm_01_08.jpg',\n",
       " 'ka_ojm_02_08.jpg',\n",
       " 'ka_pkh_01_03.jpg',\n",
       " 'ka_pkh_02_03.jpg',\n",
       " 'ka_say_01_17.jpg',\n",
       " 'ka_say_02_17.jpg',\n",
       " 'ka_ykw_01_13.jpg',\n",
       " 'ka_ykw_02_13.jpg',\n",
       " 'sa_bc_01_02.jpg',\n",
       " 'sa_bc_02_02.jpg',\n",
       " 'sa_chj_01_14.jpg',\n",
       " 'sa_chj_02_14.jpg',\n",
       " 'sa_cjh_01_12.jpg',\n",
       " 'sa_cjh_02_12.jpg',\n",
       " 'sa_cyh_01_09.jpg',\n",
       " 'sa_cyh_02_09.jpg',\n",
       " 'sa_edy_01_18.jpg',\n",
       " 'sa_edy_02_18.jpg',\n",
       " 'sa_gjh_01_05.jpg',\n",
       " 'sa_gjh_02_05.jpg',\n",
       " 'sa_hmr_01_15.jpg',\n",
       " 'sa_hmr_02_15.jpg',\n",
       " 'sa_jhe_01_07.jpg',\n",
       " 'sa_jhe_02_07.jpg',\n",
       " 'sa_jsy_01_06.jpg',\n",
       " 'sa_jsy_02_06.jpg',\n",
       " 'sa_kgw_01_04.jpg',\n",
       " 'sa_kgw_02_04.jpg',\n",
       " 'sa_kka_01_01.jpg',\n",
       " 'sa_kka_02_01.jpg',\n",
       " 'sa_kkh_01_16.jpg',\n",
       " 'sa_kkh_02_16.jpg',\n",
       " 'sa_kth_01_11.jpg',\n",
       " 'sa_kth_02_11.jpg',\n",
       " 'sa_lsc_01_10.jpg',\n",
       " 'sa_lsc_02_10.jpg',\n",
       " 'sa_ojm_01_08.jpg',\n",
       " 'sa_ojm_02_08.jpg',\n",
       " 'sa_pkh_01_03.jpg',\n",
       " 'sa_pkh_02_03.jpg',\n",
       " 'sa_say_01_17.jpg',\n",
       " 'sa_say_02_17.jpg',\n",
       " 'sa_ykw_01_13.jpg',\n",
       " 'sa_ykw_02_13.jpg']"
      ]
     },
     "execution_count": 19,
     "metadata": {},
     "output_type": "execute_result"
    }
   ],
   "source": [
    "os.listdir(path+'train')"
   ]
  },
  {
   "cell_type": "code",
   "execution_count": 20,
   "metadata": {},
   "outputs": [],
   "source": [
    "import shutil\n",
    "\n",
    "trainFileList = [x for x in trainFileList if 'jpg' in x]\n",
    "testFileList = [x for x in testFileList if 'jpg' in x]"
   ]
  },
  {
   "cell_type": "code",
   "execution_count": 21,
   "metadata": {},
   "outputs": [
    {
     "name": "stdout",
     "output_type": "stream",
     "text": [
      "dict_keys(['ga', 'da', 'sa', 'aa', 'ka'])\n"
     ]
    }
   ],
   "source": [
    "# 폴더 만들어주기 train\n",
    "currentPath = path + 'train'\n",
    "print(word.keys())\n",
    "try:\n",
    "    for key in word.keys(): # ga da ...\n",
    "        os.makedirs(currentPath + f'\\\\{key}')\n",
    "except:\n",
    "    pass\n",
    "\n",
    "for file in trainFileList:\n",
    "    label = file.split('_')[0]\n",
    "    targetPath = currentPath + f'\\\\{label}'\n",
    "    try :\n",
    "        shutil.move(currentPath+f'\\\\{file}', targetPath+f'\\\\{file}')\n",
    "    except:\n",
    "        pass"
   ]
  },
  {
   "cell_type": "code",
   "execution_count": 22,
   "metadata": {},
   "outputs": [
    {
     "name": "stdout",
     "output_type": "stream",
     "text": [
      "dict_keys(['ga', 'da', 'sa', 'aa', 'ka'])\n"
     ]
    }
   ],
   "source": [
    "# 폴더 만들어주기 test\n",
    "currentPath = path + 'test'\n",
    "print(word.keys())\n",
    "try:\n",
    "    for key in word.keys(): # ga da ...\n",
    "        os.makedirs(currentPath + f'\\\\{key}')\n",
    "except:\n",
    "    pass\n",
    "\n",
    "for file in testFileList:\n",
    "    label = file.split('_')[0]\n",
    "    targetPath = currentPath + f'\\\\{label}'\n",
    "    try :\n",
    "        shutil.move(currentPath+f'\\\\{file}', targetPath+f'\\\\{file}')\n",
    "    except:\n",
    "        pass"
   ]
  },
  {
   "cell_type": "code",
   "execution_count": 42,
   "metadata": {},
   "outputs": [],
   "source": [
    "trainDataGen = ImageDataGenerator(rescale=1./255,\n",
    "                                 rotation_range = 30,\n",
    "                                 width_shift_range=0.1,\n",
    "                                 height_shift_range=0.1,\n",
    "                                 shear_range=0.2,\n",
    "                                 zoom_range=0.2,\n",
    "                                 horizontal_flip=False,\n",
    "                                 vertical_flip=False,\n",
    "                                 fill_mode='nearest'\n",
    "                                 )"
   ]
  },
  {
   "cell_type": "code",
   "execution_count": 43,
   "metadata": {},
   "outputs": [
    {
     "name": "stdout",
     "output_type": "stream",
     "text": [
      "Found 181 images belonging to 5 classes.\n"
     ]
    }
   ],
   "source": [
    "trainGenSet = trainDataGen.flow_from_directory(\n",
    "    path + 'train',\n",
    "    batch_size=32,\n",
    "    target_size=(28,28),\n",
    "    class_mode='categorical'\n",
    ")"
   ]
  },
  {
   "cell_type": "code",
   "execution_count": 44,
   "metadata": {},
   "outputs": [],
   "source": [
    "testDataGen = ImageDataGenerator(rescale=1./255,\n",
    "#                                  rotation_range = 15,\n",
    "#                                  width_shift_range=0.1,\n",
    "#                                  height_shift_range=0.1,\n",
    "#                                  shear_range=0.2,\n",
    "#                                  zoom_range=0.2,\n",
    "#                                  horizontal_flip=False,\n",
    "#                                  vertical_flip=False,\n",
    "#                                  fill_mode='nearest'\n",
    "                                 )"
   ]
  },
  {
   "cell_type": "code",
   "execution_count": 45,
   "metadata": {},
   "outputs": [
    {
     "name": "stdout",
     "output_type": "stream",
     "text": [
      "Found 90 images belonging to 5 classes.\n"
     ]
    }
   ],
   "source": [
    "testGenSet = testDataGen.flow_from_directory(\n",
    "    path + 'test',\n",
    "    target_size=(28,28),\n",
    "    batch_size=32,\n",
    "    class_mode='categorical'\n",
    ")"
   ]
  },
  {
   "cell_type": "code",
   "execution_count": 58,
   "metadata": {},
   "outputs": [],
   "source": [
    "# 모델 구성\n",
    "# 기존 모델 형식 그대로 가져왔음\n",
    "\n",
    "model = Sequential()\n",
    "model.add(Conv2D(64, kernel_size=(3,3), padding='same', input_shape=(28,28,3), activation='relu'))\n",
    "model.add(MaxPooling2D(pool_size=(2,2)))\n",
    "model.add(Dropout(0.25))\n",
    "\n",
    "model.add(Conv2D(128, kernel_size=(3,3),padding='same', activation='relu'))\n",
    "model.add(MaxPooling2D(pool_size=(2,2)))\n",
    "model.add(Dropout(0.25))\n",
    "\n",
    "model.add(Conv2D(256, kernel_size=(3,3), padding='same', activation='relu'))\n",
    "model.add(MaxPooling2D(pool_size=(2,2)))\n",
    "model.add(Dropout(0.25))\n",
    "\n",
    "model.add(Flatten())\n",
    "model.add(Dense(256, activation='relu'))\n",
    "model.add(Dropout(0.25))\n",
    "model.add(Dense(5, activation='softmax'))"
   ]
  },
  {
   "cell_type": "code",
   "execution_count": 59,
   "metadata": {
    "scrolled": true
   },
   "outputs": [
    {
     "name": "stdout",
     "output_type": "stream",
     "text": [
      "Model: \"sequential_5\"\n",
      "_________________________________________________________________\n",
      "Layer (type)                 Output Shape              Param #   \n",
      "=================================================================\n",
      "conv2d_19 (Conv2D)           (None, 28, 28, 64)        1792      \n",
      "_________________________________________________________________\n",
      "max_pooling2d_10 (MaxPooling (None, 14, 14, 64)        0         \n",
      "_________________________________________________________________\n",
      "dropout_17 (Dropout)         (None, 14, 14, 64)        0         \n",
      "_________________________________________________________________\n",
      "conv2d_20 (Conv2D)           (None, 14, 14, 128)       73856     \n",
      "_________________________________________________________________\n",
      "max_pooling2d_11 (MaxPooling (None, 7, 7, 128)         0         \n",
      "_________________________________________________________________\n",
      "dropout_18 (Dropout)         (None, 7, 7, 128)         0         \n",
      "_________________________________________________________________\n",
      "conv2d_21 (Conv2D)           (None, 7, 7, 256)         295168    \n",
      "_________________________________________________________________\n",
      "max_pooling2d_12 (MaxPooling (None, 3, 3, 256)         0         \n",
      "_________________________________________________________________\n",
      "dropout_19 (Dropout)         (None, 3, 3, 256)         0         \n",
      "_________________________________________________________________\n",
      "flatten_4 (Flatten)          (None, 2304)              0         \n",
      "_________________________________________________________________\n",
      "dense_11 (Dense)             (None, 256)               590080    \n",
      "_________________________________________________________________\n",
      "dropout_20 (Dropout)         (None, 256)               0         \n",
      "_________________________________________________________________\n",
      "dense_12 (Dense)             (None, 5)                 1285      \n",
      "=================================================================\n",
      "Total params: 962,181\n",
      "Trainable params: 962,181\n",
      "Non-trainable params: 0\n",
      "_________________________________________________________________\n"
     ]
    }
   ],
   "source": [
    "model.summary()"
   ]
  },
  {
   "cell_type": "code",
   "execution_count": 60,
   "metadata": {},
   "outputs": [],
   "source": [
    "#모델 학습 설정\n",
    "model.compile(loss='categorical_crossentropy',\n",
    "             optimizer='adam',\n",
    "             metrics=['accuracy'])"
   ]
  },
  {
   "cell_type": "code",
   "execution_count": 61,
   "metadata": {},
   "outputs": [],
   "source": [
    "from keras.callbacks import ModelCheckpoint, EarlyStopping"
   ]
  },
  {
   "cell_type": "code",
   "execution_count": 82,
   "metadata": {},
   "outputs": [],
   "source": [
    "es=EarlyStopping(monitor='val_loss', patience=20)"
   ]
  },
  {
   "cell_type": "code",
   "execution_count": 83,
   "metadata": {
    "collapsed": true
   },
   "outputs": [
    {
     "name": "stdout",
     "output_type": "stream",
     "text": [
      "Epoch 1/200\n",
      "15/15 [==============================] - 1s 75ms/step - loss: 0.2037 - accuracy: 0.9279 - val_loss: 0.1103 - val_accuracy: 0.9740\n",
      "Epoch 2/200\n",
      "15/15 [==============================] - 1s 69ms/step - loss: 0.1643 - accuracy: 0.9463 - val_loss: 0.0767 - val_accuracy: 0.9595\n",
      "Epoch 3/200\n",
      "15/15 [==============================] - 1s 57ms/step - loss: 0.1999 - accuracy: 0.9262 - val_loss: 0.1368 - val_accuracy: 0.9662\n",
      "Epoch 4/200\n",
      "15/15 [==============================] - 1s 64ms/step - loss: 0.1938 - accuracy: 0.9236 - val_loss: 0.0867 - val_accuracy: 0.9675\n",
      "Epoch 5/200\n",
      "15/15 [==============================] - 1s 77ms/step - loss: 0.1741 - accuracy: 0.9410 - val_loss: 0.1732 - val_accuracy: 0.9662\n",
      "Epoch 6/200\n",
      "12/15 [=======================>......] - ETA: 0s - loss: 0.1015 - accuracy: 0.9641"
     ]
    },
    {
     "ename": "KeyboardInterrupt",
     "evalue": "",
     "output_type": "error",
     "traceback": [
      "\u001b[1;31m---------------------------------------------------------------------------\u001b[0m",
      "\u001b[1;31mKeyboardInterrupt\u001b[0m                         Traceback (most recent call last)",
      "\u001b[1;32m<ipython-input-83-d523055a7be1>\u001b[0m in \u001b[0;36m<module>\u001b[1;34m\u001b[0m\n\u001b[0;32m      6\u001b[0m     \u001b[0mvalidation_data\u001b[0m\u001b[1;33m=\u001b[0m\u001b[0mtestGenSet\u001b[0m\u001b[1;33m,\u001b[0m\u001b[1;33m\u001b[0m\u001b[1;33m\u001b[0m\u001b[0m\n\u001b[0;32m      7\u001b[0m     \u001b[0mvalidation_steps\u001b[0m\u001b[1;33m=\u001b[0m\u001b[1;36m5\u001b[0m\u001b[1;33m,\u001b[0m\u001b[1;33m\u001b[0m\u001b[1;33m\u001b[0m\u001b[0m\n\u001b[1;32m----> 8\u001b[1;33m     \u001b[0mcallbacks\u001b[0m\u001b[1;33m=\u001b[0m\u001b[1;33m[\u001b[0m\u001b[0mes\u001b[0m\u001b[1;33m]\u001b[0m \u001b[1;31m# 여긴 콜백 없나??\u001b[0m\u001b[1;33m\u001b[0m\u001b[1;33m\u001b[0m\u001b[0m\n\u001b[0m\u001b[0;32m      9\u001b[0m )\n",
      "\u001b[1;32m~\\anaconda3\\envs\\tf15_py37\\lib\\site-packages\\keras\\legacy\\interfaces.py\u001b[0m in \u001b[0;36mwrapper\u001b[1;34m(*args, **kwargs)\u001b[0m\n\u001b[0;32m     89\u001b[0m                 warnings.warn('Update your `' + object_name + '` call to the ' +\n\u001b[0;32m     90\u001b[0m                               'Keras 2 API: ' + signature, stacklevel=2)\n\u001b[1;32m---> 91\u001b[1;33m             \u001b[1;32mreturn\u001b[0m \u001b[0mfunc\u001b[0m\u001b[1;33m(\u001b[0m\u001b[1;33m*\u001b[0m\u001b[0margs\u001b[0m\u001b[1;33m,\u001b[0m \u001b[1;33m**\u001b[0m\u001b[0mkwargs\u001b[0m\u001b[1;33m)\u001b[0m\u001b[1;33m\u001b[0m\u001b[1;33m\u001b[0m\u001b[0m\n\u001b[0m\u001b[0;32m     92\u001b[0m         \u001b[0mwrapper\u001b[0m\u001b[1;33m.\u001b[0m\u001b[0m_original_function\u001b[0m \u001b[1;33m=\u001b[0m \u001b[0mfunc\u001b[0m\u001b[1;33m\u001b[0m\u001b[1;33m\u001b[0m\u001b[0m\n\u001b[0;32m     93\u001b[0m         \u001b[1;32mreturn\u001b[0m \u001b[0mwrapper\u001b[0m\u001b[1;33m\u001b[0m\u001b[1;33m\u001b[0m\u001b[0m\n",
      "\u001b[1;32m~\\anaconda3\\envs\\tf15_py37\\lib\\site-packages\\keras\\engine\\training.py\u001b[0m in \u001b[0;36mfit_generator\u001b[1;34m(self, generator, steps_per_epoch, epochs, verbose, callbacks, validation_data, validation_steps, validation_freq, class_weight, max_queue_size, workers, use_multiprocessing, shuffle, initial_epoch)\u001b[0m\n\u001b[0;32m   1730\u001b[0m             \u001b[0muse_multiprocessing\u001b[0m\u001b[1;33m=\u001b[0m\u001b[0muse_multiprocessing\u001b[0m\u001b[1;33m,\u001b[0m\u001b[1;33m\u001b[0m\u001b[1;33m\u001b[0m\u001b[0m\n\u001b[0;32m   1731\u001b[0m             \u001b[0mshuffle\u001b[0m\u001b[1;33m=\u001b[0m\u001b[0mshuffle\u001b[0m\u001b[1;33m,\u001b[0m\u001b[1;33m\u001b[0m\u001b[1;33m\u001b[0m\u001b[0m\n\u001b[1;32m-> 1732\u001b[1;33m             initial_epoch=initial_epoch)\n\u001b[0m\u001b[0;32m   1733\u001b[0m \u001b[1;33m\u001b[0m\u001b[0m\n\u001b[0;32m   1734\u001b[0m     \u001b[1;33m@\u001b[0m\u001b[0minterfaces\u001b[0m\u001b[1;33m.\u001b[0m\u001b[0mlegacy_generator_methods_support\u001b[0m\u001b[1;33m\u001b[0m\u001b[1;33m\u001b[0m\u001b[0m\n",
      "\u001b[1;32m~\\anaconda3\\envs\\tf15_py37\\lib\\site-packages\\keras\\engine\\training_generator.py\u001b[0m in \u001b[0;36mfit_generator\u001b[1;34m(model, generator, steps_per_epoch, epochs, verbose, callbacks, validation_data, validation_steps, validation_freq, class_weight, max_queue_size, workers, use_multiprocessing, shuffle, initial_epoch)\u001b[0m\n\u001b[0;32m    183\u001b[0m             \u001b[0mbatch_index\u001b[0m \u001b[1;33m=\u001b[0m \u001b[1;36m0\u001b[0m\u001b[1;33m\u001b[0m\u001b[1;33m\u001b[0m\u001b[0m\n\u001b[0;32m    184\u001b[0m             \u001b[1;32mwhile\u001b[0m \u001b[0msteps_done\u001b[0m \u001b[1;33m<\u001b[0m \u001b[0msteps_per_epoch\u001b[0m\u001b[1;33m:\u001b[0m\u001b[1;33m\u001b[0m\u001b[1;33m\u001b[0m\u001b[0m\n\u001b[1;32m--> 185\u001b[1;33m                 \u001b[0mgenerator_output\u001b[0m \u001b[1;33m=\u001b[0m \u001b[0mnext\u001b[0m\u001b[1;33m(\u001b[0m\u001b[0moutput_generator\u001b[0m\u001b[1;33m)\u001b[0m\u001b[1;33m\u001b[0m\u001b[1;33m\u001b[0m\u001b[0m\n\u001b[0m\u001b[0;32m    186\u001b[0m \u001b[1;33m\u001b[0m\u001b[0m\n\u001b[0;32m    187\u001b[0m                 \u001b[1;32mif\u001b[0m \u001b[1;32mnot\u001b[0m \u001b[0mhasattr\u001b[0m\u001b[1;33m(\u001b[0m\u001b[0mgenerator_output\u001b[0m\u001b[1;33m,\u001b[0m \u001b[1;34m'__len__'\u001b[0m\u001b[1;33m)\u001b[0m\u001b[1;33m:\u001b[0m\u001b[1;33m\u001b[0m\u001b[1;33m\u001b[0m\u001b[0m\n",
      "\u001b[1;32m~\\anaconda3\\envs\\tf15_py37\\lib\\site-packages\\keras\\utils\\data_utils.py\u001b[0m in \u001b[0;36mget\u001b[1;34m(self)\u001b[0m\n\u001b[0;32m    608\u001b[0m                 \u001b[1;32mtry\u001b[0m\u001b[1;33m:\u001b[0m\u001b[1;33m\u001b[0m\u001b[1;33m\u001b[0m\u001b[0m\n\u001b[0;32m    609\u001b[0m                     \u001b[0mfuture\u001b[0m \u001b[1;33m=\u001b[0m \u001b[0mself\u001b[0m\u001b[1;33m.\u001b[0m\u001b[0mqueue\u001b[0m\u001b[1;33m.\u001b[0m\u001b[0mget\u001b[0m\u001b[1;33m(\u001b[0m\u001b[0mblock\u001b[0m\u001b[1;33m=\u001b[0m\u001b[1;32mTrue\u001b[0m\u001b[1;33m)\u001b[0m\u001b[1;33m\u001b[0m\u001b[1;33m\u001b[0m\u001b[0m\n\u001b[1;32m--> 610\u001b[1;33m                     \u001b[0minputs\u001b[0m \u001b[1;33m=\u001b[0m \u001b[0mfuture\u001b[0m\u001b[1;33m.\u001b[0m\u001b[0mget\u001b[0m\u001b[1;33m(\u001b[0m\u001b[0mtimeout\u001b[0m\u001b[1;33m=\u001b[0m\u001b[1;36m30\u001b[0m\u001b[1;33m)\u001b[0m\u001b[1;33m\u001b[0m\u001b[1;33m\u001b[0m\u001b[0m\n\u001b[0m\u001b[0;32m    611\u001b[0m                 \u001b[1;32mexcept\u001b[0m \u001b[0mmp\u001b[0m\u001b[1;33m.\u001b[0m\u001b[0mTimeoutError\u001b[0m\u001b[1;33m:\u001b[0m\u001b[1;33m\u001b[0m\u001b[1;33m\u001b[0m\u001b[0m\n\u001b[0;32m    612\u001b[0m                     \u001b[0midx\u001b[0m \u001b[1;33m=\u001b[0m \u001b[0mfuture\u001b[0m\u001b[1;33m.\u001b[0m\u001b[0midx\u001b[0m\u001b[1;33m\u001b[0m\u001b[1;33m\u001b[0m\u001b[0m\n",
      "\u001b[1;32m~\\anaconda3\\envs\\tf15_py37\\lib\\multiprocessing\\pool.py\u001b[0m in \u001b[0;36mget\u001b[1;34m(self, timeout)\u001b[0m\n\u001b[0;32m    649\u001b[0m \u001b[1;33m\u001b[0m\u001b[0m\n\u001b[0;32m    650\u001b[0m     \u001b[1;32mdef\u001b[0m \u001b[0mget\u001b[0m\u001b[1;33m(\u001b[0m\u001b[0mself\u001b[0m\u001b[1;33m,\u001b[0m \u001b[0mtimeout\u001b[0m\u001b[1;33m=\u001b[0m\u001b[1;32mNone\u001b[0m\u001b[1;33m)\u001b[0m\u001b[1;33m:\u001b[0m\u001b[1;33m\u001b[0m\u001b[1;33m\u001b[0m\u001b[0m\n\u001b[1;32m--> 651\u001b[1;33m         \u001b[0mself\u001b[0m\u001b[1;33m.\u001b[0m\u001b[0mwait\u001b[0m\u001b[1;33m(\u001b[0m\u001b[0mtimeout\u001b[0m\u001b[1;33m)\u001b[0m\u001b[1;33m\u001b[0m\u001b[1;33m\u001b[0m\u001b[0m\n\u001b[0m\u001b[0;32m    652\u001b[0m         \u001b[1;32mif\u001b[0m \u001b[1;32mnot\u001b[0m \u001b[0mself\u001b[0m\u001b[1;33m.\u001b[0m\u001b[0mready\u001b[0m\u001b[1;33m(\u001b[0m\u001b[1;33m)\u001b[0m\u001b[1;33m:\u001b[0m\u001b[1;33m\u001b[0m\u001b[1;33m\u001b[0m\u001b[0m\n\u001b[0;32m    653\u001b[0m             \u001b[1;32mraise\u001b[0m \u001b[0mTimeoutError\u001b[0m\u001b[1;33m\u001b[0m\u001b[1;33m\u001b[0m\u001b[0m\n",
      "\u001b[1;32m~\\anaconda3\\envs\\tf15_py37\\lib\\multiprocessing\\pool.py\u001b[0m in \u001b[0;36mwait\u001b[1;34m(self, timeout)\u001b[0m\n\u001b[0;32m    646\u001b[0m \u001b[1;33m\u001b[0m\u001b[0m\n\u001b[0;32m    647\u001b[0m     \u001b[1;32mdef\u001b[0m \u001b[0mwait\u001b[0m\u001b[1;33m(\u001b[0m\u001b[0mself\u001b[0m\u001b[1;33m,\u001b[0m \u001b[0mtimeout\u001b[0m\u001b[1;33m=\u001b[0m\u001b[1;32mNone\u001b[0m\u001b[1;33m)\u001b[0m\u001b[1;33m:\u001b[0m\u001b[1;33m\u001b[0m\u001b[1;33m\u001b[0m\u001b[0m\n\u001b[1;32m--> 648\u001b[1;33m         \u001b[0mself\u001b[0m\u001b[1;33m.\u001b[0m\u001b[0m_event\u001b[0m\u001b[1;33m.\u001b[0m\u001b[0mwait\u001b[0m\u001b[1;33m(\u001b[0m\u001b[0mtimeout\u001b[0m\u001b[1;33m)\u001b[0m\u001b[1;33m\u001b[0m\u001b[1;33m\u001b[0m\u001b[0m\n\u001b[0m\u001b[0;32m    649\u001b[0m \u001b[1;33m\u001b[0m\u001b[0m\n\u001b[0;32m    650\u001b[0m     \u001b[1;32mdef\u001b[0m \u001b[0mget\u001b[0m\u001b[1;33m(\u001b[0m\u001b[0mself\u001b[0m\u001b[1;33m,\u001b[0m \u001b[0mtimeout\u001b[0m\u001b[1;33m=\u001b[0m\u001b[1;32mNone\u001b[0m\u001b[1;33m)\u001b[0m\u001b[1;33m:\u001b[0m\u001b[1;33m\u001b[0m\u001b[1;33m\u001b[0m\u001b[0m\n",
      "\u001b[1;32m~\\anaconda3\\envs\\tf15_py37\\lib\\threading.py\u001b[0m in \u001b[0;36mwait\u001b[1;34m(self, timeout)\u001b[0m\n\u001b[0;32m    550\u001b[0m             \u001b[0msignaled\u001b[0m \u001b[1;33m=\u001b[0m \u001b[0mself\u001b[0m\u001b[1;33m.\u001b[0m\u001b[0m_flag\u001b[0m\u001b[1;33m\u001b[0m\u001b[1;33m\u001b[0m\u001b[0m\n\u001b[0;32m    551\u001b[0m             \u001b[1;32mif\u001b[0m \u001b[1;32mnot\u001b[0m \u001b[0msignaled\u001b[0m\u001b[1;33m:\u001b[0m\u001b[1;33m\u001b[0m\u001b[1;33m\u001b[0m\u001b[0m\n\u001b[1;32m--> 552\u001b[1;33m                 \u001b[0msignaled\u001b[0m \u001b[1;33m=\u001b[0m \u001b[0mself\u001b[0m\u001b[1;33m.\u001b[0m\u001b[0m_cond\u001b[0m\u001b[1;33m.\u001b[0m\u001b[0mwait\u001b[0m\u001b[1;33m(\u001b[0m\u001b[0mtimeout\u001b[0m\u001b[1;33m)\u001b[0m\u001b[1;33m\u001b[0m\u001b[1;33m\u001b[0m\u001b[0m\n\u001b[0m\u001b[0;32m    553\u001b[0m             \u001b[1;32mreturn\u001b[0m \u001b[0msignaled\u001b[0m\u001b[1;33m\u001b[0m\u001b[1;33m\u001b[0m\u001b[0m\n\u001b[0;32m    554\u001b[0m \u001b[1;33m\u001b[0m\u001b[0m\n",
      "\u001b[1;32m~\\anaconda3\\envs\\tf15_py37\\lib\\threading.py\u001b[0m in \u001b[0;36mwait\u001b[1;34m(self, timeout)\u001b[0m\n\u001b[0;32m    298\u001b[0m             \u001b[1;32melse\u001b[0m\u001b[1;33m:\u001b[0m\u001b[1;33m\u001b[0m\u001b[1;33m\u001b[0m\u001b[0m\n\u001b[0;32m    299\u001b[0m                 \u001b[1;32mif\u001b[0m \u001b[0mtimeout\u001b[0m \u001b[1;33m>\u001b[0m \u001b[1;36m0\u001b[0m\u001b[1;33m:\u001b[0m\u001b[1;33m\u001b[0m\u001b[1;33m\u001b[0m\u001b[0m\n\u001b[1;32m--> 300\u001b[1;33m                     \u001b[0mgotit\u001b[0m \u001b[1;33m=\u001b[0m \u001b[0mwaiter\u001b[0m\u001b[1;33m.\u001b[0m\u001b[0macquire\u001b[0m\u001b[1;33m(\u001b[0m\u001b[1;32mTrue\u001b[0m\u001b[1;33m,\u001b[0m \u001b[0mtimeout\u001b[0m\u001b[1;33m)\u001b[0m\u001b[1;33m\u001b[0m\u001b[1;33m\u001b[0m\u001b[0m\n\u001b[0m\u001b[0;32m    301\u001b[0m                 \u001b[1;32melse\u001b[0m\u001b[1;33m:\u001b[0m\u001b[1;33m\u001b[0m\u001b[1;33m\u001b[0m\u001b[0m\n\u001b[0;32m    302\u001b[0m                     \u001b[0mgotit\u001b[0m \u001b[1;33m=\u001b[0m \u001b[0mwaiter\u001b[0m\u001b[1;33m.\u001b[0m\u001b[0macquire\u001b[0m\u001b[1;33m(\u001b[0m\u001b[1;32mFalse\u001b[0m\u001b[1;33m)\u001b[0m\u001b[1;33m\u001b[0m\u001b[1;33m\u001b[0m\u001b[0m\n",
      "\u001b[1;31mKeyboardInterrupt\u001b[0m: "
     ]
    }
   ],
   "source": [
    "# fig_generator\n",
    "model.fit_generator(\n",
    "    trainGenSet,\n",
    "    steps_per_epoch=15,\n",
    "    epochs=200,\n",
    "    validation_data=testGenSet,\n",
    "    validation_steps=5,\n",
    "    callbacks=[es] # 여긴 콜백 없나??\n",
    ")"
   ]
  },
  {
   "cell_type": "code",
   "execution_count": 64,
   "metadata": {},
   "outputs": [],
   "source": [
    "# result = model.predict_generator(testGenSet, steps=5)"
   ]
  },
  {
   "cell_type": "code",
   "execution_count": 81,
   "metadata": {},
   "outputs": [
    {
     "name": "stdout",
     "output_type": "stream",
     "text": [
      "[0.11543034762144089, 0.9610389471054077]\n"
     ]
    }
   ],
   "source": [
    "scores = model.evaluate_generator(\n",
    "    testGenSet,\n",
    "    steps=5\n",
    ")\n",
    "print(scores)"
   ]
  },
  {
   "cell_type": "markdown",
   "metadata": {},
   "source": [
    "정확도 95.54%, max 정확도 : 99.35%"
   ]
  },
  {
   "cell_type": "markdown",
   "metadata": {},
   "source": [
    "# Keras 작성자 맞추기"
   ]
  },
  {
   "cell_type": "code",
   "execution_count": 71,
   "metadata": {},
   "outputs": [],
   "source": [
    "path = r\"Q:\\이미지공유폴더2\\\\\""
   ]
  },
  {
   "cell_type": "code",
   "execution_count": 72,
   "metadata": {},
   "outputs": [],
   "source": [
    "trainFileList = os.listdir(path+'train')\n",
    "testFileList = os.listdir(path+'test')"
   ]
  },
  {
   "cell_type": "code",
   "execution_count": 73,
   "metadata": {},
   "outputs": [],
   "source": [
    "trainFileList = [x for x in trainFileList if 'jpg' in x]\n",
    "testFileList = [x for x in testFileList if 'jpg' in x]"
   ]
  },
  {
   "cell_type": "code",
   "execution_count": 75,
   "metadata": {},
   "outputs": [],
   "source": [
    "trainFileList.sort(key=lambda x : int(x[-6:-4]))"
   ]
  },
  {
   "cell_type": "code",
   "execution_count": 88,
   "metadata": {},
   "outputs": [],
   "source": [
    "label_list = list(set(map(lambda x : x[-6:-4], trainFileList)))"
   ]
  },
  {
   "cell_type": "code",
   "execution_count": 99,
   "metadata": {},
   "outputs": [],
   "source": [
    "# 폴더 만들어주기 train\n",
    "currentPath = path + 'train'\n",
    "\n",
    "try:\n",
    "    for key in label_list: # ga da ...\n",
    "        os.makedirs(currentPath + f'\\\\{key}')\n",
    "except:\n",
    "    pass\n",
    "\n",
    "for file in trainFileList:\n",
    "    label = file.split('_')[3].split('.')[0]\n",
    "    targetPath = currentPath + f'\\\\{label}'\n",
    "    try :\n",
    "        shutil.move(currentPath+f'\\\\{file}', targetPath+f'\\\\{file}')\n",
    "    except:\n",
    "        pass"
   ]
  },
  {
   "cell_type": "code",
   "execution_count": 163,
   "metadata": {},
   "outputs": [],
   "source": [
    "# 폴더 만들어주기 train\n",
    "currentPath = path + 'test'\n",
    "\n",
    "try:\n",
    "    for key in label_list: # ga da ...\n",
    "        os.makedirs(currentPath + f'\\\\{key}')\n",
    "except:\n",
    "    pass\n",
    "\n",
    "for file in testFileList:\n",
    "    label = file.split('_')[3].split('.')[0]\n",
    "    targetPath = currentPath + f'\\\\{label}'\n",
    "    try :\n",
    "        shutil.move(currentPath+f'\\\\{file}', targetPath+f'\\\\{file}')\n",
    "    except:\n",
    "        pass"
   ]
  },
  {
   "cell_type": "code",
   "execution_count": 175,
   "metadata": {},
   "outputs": [],
   "source": [
    "trainDataGen = ImageDataGenerator(rescale=1./255,\n",
    "                                 rotation_range = 10,\n",
    "                                 width_shift_range=0.1,\n",
    "                                 height_shift_range=0.1,\n",
    "                                 shear_range=0.1,\n",
    "                                 zoom_range=0.1,\n",
    "                                 horizontal_flip=False,\n",
    "                                 vertical_flip=False,\n",
    "                                 fill_mode='nearest'\n",
    "                                 )"
   ]
  },
  {
   "cell_type": "code",
   "execution_count": 176,
   "metadata": {},
   "outputs": [
    {
     "name": "stdout",
     "output_type": "stream",
     "text": [
      "Found 180 images belonging to 18 classes.\n"
     ]
    }
   ],
   "source": [
    "trainGenSet = trainDataGen.flow_from_directory(\n",
    "    path + 'train',\n",
    "    batch_size=64,\n",
    "    target_size=(28,28),\n",
    "    class_mode='categorical'\n",
    ")"
   ]
  },
  {
   "cell_type": "code",
   "execution_count": 177,
   "metadata": {},
   "outputs": [],
   "source": [
    "testDataGen = ImageDataGenerator(rescale=1./255)"
   ]
  },
  {
   "cell_type": "code",
   "execution_count": 178,
   "metadata": {},
   "outputs": [
    {
     "name": "stdout",
     "output_type": "stream",
     "text": [
      "Found 90 images belonging to 18 classes.\n"
     ]
    }
   ],
   "source": [
    "testGenSet = testDataGen.flow_from_directory(\n",
    "    path + 'test',\n",
    "    target_size=(28,28),\n",
    "    batch_size=64,\n",
    "    class_mode='categorical'\n",
    ")"
   ]
  },
  {
   "cell_type": "code",
   "execution_count": 179,
   "metadata": {},
   "outputs": [
    {
     "name": "stdout",
     "output_type": "stream",
     "text": [
      "Found 90 images belonging to 18 classes.\n"
     ]
    }
   ],
   "source": [
    "valDataGen = ImageDataGenerator(rescale=1./255,\n",
    "                                 rotation_range = 5,\n",
    "                                 width_shift_range=0.1,\n",
    "                                 height_shift_range=0.1,\n",
    "                                 shear_range=0.1,\n",
    "                                 zoom_range=0.1,\n",
    "                                 horizontal_flip=False,\n",
    "                                 vertical_flip=False,\n",
    "                                 fill_mode='nearest')\n",
    "\n",
    "valGenSet = valDataGen.flow_from_directory(\n",
    "    path + 'test',\n",
    "    target_size=(28,28),\n",
    "    batch_size=64,\n",
    "    class_mode='categorical'\n",
    ")"
   ]
  },
  {
   "cell_type": "code",
   "execution_count": 180,
   "metadata": {},
   "outputs": [],
   "source": [
    "# 모델 구성\n",
    "# 기존 모델 형식 그대로 가져왔음\n",
    "\n",
    "model = Sequential()\n",
    "model.add(Conv2D(64, kernel_size=(3,3), padding='same', input_shape=(28,28,3), activation='relu'))\n",
    "model.add(MaxPooling2D(pool_size=(2,2)))\n",
    "model.add(Dropout(0.2))\n",
    "\n",
    "model.add(Conv2D(128, kernel_size=(3,3),padding='same', activation='relu'))\n",
    "model.add(MaxPooling2D(pool_size=(2,2)))\n",
    "model.add(Dropout(0.2))\n",
    "\n",
    "model.add(Conv2D(256, kernel_size=(3,3), padding='same', activation='relu'))\n",
    "model.add(MaxPooling2D(pool_size=(2,2)))\n",
    "model.add(Dropout(0.2))\n",
    "\n",
    "model.add(Flatten())\n",
    "model.add(Dense(256, activation='relu'))\n",
    "model.add(Dropout(0.2))\n",
    "model.add(Dense(18, activation='softmax'))"
   ]
  },
  {
   "cell_type": "code",
   "execution_count": 181,
   "metadata": {
    "scrolled": true
   },
   "outputs": [
    {
     "name": "stdout",
     "output_type": "stream",
     "text": [
      "Model: \"sequential_13\"\n",
      "_________________________________________________________________\n",
      "Layer (type)                 Output Shape              Param #   \n",
      "=================================================================\n",
      "conv2d_43 (Conv2D)           (None, 28, 28, 64)        1792      \n",
      "_________________________________________________________________\n",
      "max_pooling2d_34 (MaxPooling (None, 14, 14, 64)        0         \n",
      "_________________________________________________________________\n",
      "dropout_49 (Dropout)         (None, 14, 14, 64)        0         \n",
      "_________________________________________________________________\n",
      "conv2d_44 (Conv2D)           (None, 14, 14, 128)       73856     \n",
      "_________________________________________________________________\n",
      "max_pooling2d_35 (MaxPooling (None, 7, 7, 128)         0         \n",
      "_________________________________________________________________\n",
      "dropout_50 (Dropout)         (None, 7, 7, 128)         0         \n",
      "_________________________________________________________________\n",
      "conv2d_45 (Conv2D)           (None, 7, 7, 256)         295168    \n",
      "_________________________________________________________________\n",
      "max_pooling2d_36 (MaxPooling (None, 3, 3, 256)         0         \n",
      "_________________________________________________________________\n",
      "dropout_51 (Dropout)         (None, 3, 3, 256)         0         \n",
      "_________________________________________________________________\n",
      "flatten_12 (Flatten)         (None, 2304)              0         \n",
      "_________________________________________________________________\n",
      "dense_27 (Dense)             (None, 256)               590080    \n",
      "_________________________________________________________________\n",
      "dropout_52 (Dropout)         (None, 256)               0         \n",
      "_________________________________________________________________\n",
      "dense_28 (Dense)             (None, 18)                4626      \n",
      "=================================================================\n",
      "Total params: 965,522\n",
      "Trainable params: 965,522\n",
      "Non-trainable params: 0\n",
      "_________________________________________________________________\n"
     ]
    }
   ],
   "source": [
    "model.summary()"
   ]
  },
  {
   "cell_type": "code",
   "execution_count": 182,
   "metadata": {},
   "outputs": [],
   "source": [
    "#모델 학습 설정\n",
    "model.compile(loss='categorical_crossentropy',\n",
    "             optimizer='adam',\n",
    "             metrics=['accuracy'])"
   ]
  },
  {
   "cell_type": "code",
   "execution_count": 183,
   "metadata": {},
   "outputs": [],
   "source": [
    "from keras.callbacks import ModelCheckpoint, EarlyStopping"
   ]
  },
  {
   "cell_type": "code",
   "execution_count": 184,
   "metadata": {},
   "outputs": [],
   "source": [
    "es=EarlyStopping(monitor='val_loss', patience=20)"
   ]
  },
  {
   "cell_type": "code",
   "execution_count": 227,
   "metadata": {
    "scrolled": true
   },
   "outputs": [
    {
     "name": "stdout",
     "output_type": "stream",
     "text": [
      "Epoch 1/200\n",
      "30/30 [==============================] - 4s 129ms/step - loss: 0.0291 - accuracy: 0.9906 - val_loss: 2.1900 - val_accuracy: 0.7489\n",
      "Epoch 2/200\n",
      "30/30 [==============================] - 4s 118ms/step - loss: 0.0491 - accuracy: 0.9794 - val_loss: 2.6044 - val_accuracy: 0.7022\n",
      "Epoch 3/200\n",
      "30/30 [==============================] - 4s 139ms/step - loss: 0.0371 - accuracy: 0.9878 - val_loss: 1.3781 - val_accuracy: 0.7133\n",
      "Epoch 4/200\n",
      "30/30 [==============================] - 4s 124ms/step - loss: 0.0357 - accuracy: 0.9889 - val_loss: 2.7752 - val_accuracy: 0.7311\n",
      "Epoch 5/200\n",
      "30/30 [==============================] - 4s 142ms/step - loss: 0.0251 - accuracy: 0.9922 - val_loss: 4.2667 - val_accuracy: 0.7111\n",
      "Epoch 6/200\n",
      "30/30 [==============================] - 4s 121ms/step - loss: 0.0295 - accuracy: 0.9928 - val_loss: 2.6135 - val_accuracy: 0.7244\n",
      "Epoch 7/200\n",
      "30/30 [==============================] - 4s 127ms/step - loss: 0.0747 - accuracy: 0.9767 - val_loss: 1.5062 - val_accuracy: 0.6311\n",
      "Epoch 8/200\n",
      "30/30 [==============================] - 4s 127ms/step - loss: 0.1186 - accuracy: 0.9544 - val_loss: 4.0831 - val_accuracy: 0.5844\n",
      "Epoch 9/200\n",
      "30/30 [==============================] - 4s 130ms/step - loss: 0.0957 - accuracy: 0.9661 - val_loss: 2.3016 - val_accuracy: 0.7333\n",
      "Epoch 10/200\n",
      "30/30 [==============================] - 4s 133ms/step - loss: 0.0560 - accuracy: 0.9811 - val_loss: 2.7452 - val_accuracy: 0.7133\n",
      "Epoch 11/200\n",
      "30/30 [==============================] - 4s 123ms/step - loss: 0.0324 - accuracy: 0.9894 - val_loss: 2.7267 - val_accuracy: 0.7444\n",
      "Epoch 12/200\n",
      "30/30 [==============================] - 4s 121ms/step - loss: 0.1118 - accuracy: 0.9589 - val_loss: 3.6687 - val_accuracy: 0.6667\n",
      "Epoch 13/200\n",
      "30/30 [==============================] - 4s 124ms/step - loss: 0.0973 - accuracy: 0.9667 - val_loss: 2.4513 - val_accuracy: 0.7111\n",
      "Epoch 14/200\n",
      "30/30 [==============================] - 4s 129ms/step - loss: 0.0429 - accuracy: 0.9861 - val_loss: 1.4001 - val_accuracy: 0.7556\n",
      "Epoch 15/200\n",
      "30/30 [==============================] - 4s 125ms/step - loss: 0.0307 - accuracy: 0.9900 - val_loss: 2.0133 - val_accuracy: 0.7667\n",
      "Epoch 16/200\n",
      "30/30 [==============================] - 4s 129ms/step - loss: 0.0342 - accuracy: 0.9878 - val_loss: 2.1765 - val_accuracy: 0.7378\n",
      "Epoch 17/200\n",
      "30/30 [==============================] - 5s 151ms/step - loss: 0.0331 - accuracy: 0.9883 - val_loss: 1.0531 - val_accuracy: 0.7400\n",
      "Epoch 18/200\n",
      "30/30 [==============================] - 4s 145ms/step - loss: 0.0147 - accuracy: 0.9950 - val_loss: 2.5020 - val_accuracy: 0.7289\n",
      "Epoch 19/200\n",
      "30/30 [==============================] - 4s 149ms/step - loss: 0.0295 - accuracy: 0.9922 - val_loss: 1.6644 - val_accuracy: 0.7067\n",
      "Epoch 20/200\n",
      "30/30 [==============================] - 4s 134ms/step - loss: 0.0515 - accuracy: 0.9800 - val_loss: 1.5222 - val_accuracy: 0.7222\n",
      "Epoch 21/200\n",
      "30/30 [==============================] - 4s 125ms/step - loss: 0.0527 - accuracy: 0.9856 - val_loss: 1.7107 - val_accuracy: 0.7333\n",
      "Epoch 22/200\n",
      "30/30 [==============================] - 5s 172ms/step - loss: 0.0320 - accuracy: 0.9883 - val_loss: 3.6692 - val_accuracy: 0.7222\n",
      "Epoch 23/200\n",
      "30/30 [==============================] - 4s 132ms/step - loss: 0.0469 - accuracy: 0.9861 - val_loss: 2.3752 - val_accuracy: 0.7400\n",
      "Epoch 24/200\n",
      "30/30 [==============================] - 4s 124ms/step - loss: 0.0464 - accuracy: 0.9833 - val_loss: 1.9358 - val_accuracy: 0.7311\n",
      "Epoch 25/200\n",
      "30/30 [==============================] - 4s 135ms/step - loss: 0.0303 - accuracy: 0.9922 - val_loss: 2.4318 - val_accuracy: 0.7000\n",
      "Epoch 26/200\n",
      "30/30 [==============================] - 4s 133ms/step - loss: 0.1351 - accuracy: 0.9539 - val_loss: 2.8806 - val_accuracy: 0.6600\n",
      "Epoch 27/200\n",
      "30/30 [==============================] - 4s 146ms/step - loss: 0.0773 - accuracy: 0.9722 - val_loss: 1.4855 - val_accuracy: 0.6644\n",
      "Epoch 28/200\n",
      "30/30 [==============================] - 4s 142ms/step - loss: 0.0734 - accuracy: 0.9739 - val_loss: 1.1283 - val_accuracy: 0.6800\n",
      "Epoch 29/200\n",
      "30/30 [==============================] - 4s 141ms/step - loss: 0.0804 - accuracy: 0.9761 - val_loss: 2.4656 - val_accuracy: 0.7000\n",
      "Epoch 30/200\n",
      "30/30 [==============================] - 4s 128ms/step - loss: 0.0405 - accuracy: 0.9889 - val_loss: 3.9602 - val_accuracy: 0.7133\n",
      "Epoch 31/200\n",
      "30/30 [==============================] - 4s 125ms/step - loss: 0.0277 - accuracy: 0.9878 - val_loss: 2.0014 - val_accuracy: 0.6756\n",
      "Epoch 32/200\n",
      "30/30 [==============================] - 4s 136ms/step - loss: 0.0525 - accuracy: 0.9839 - val_loss: 3.3561 - val_accuracy: 0.7644\n",
      "Epoch 33/200\n",
      "30/30 [==============================] - 4s 126ms/step - loss: 0.0719 - accuracy: 0.9783 - val_loss: 2.4499 - val_accuracy: 0.7489\n",
      "Epoch 34/200\n",
      "30/30 [==============================] - 4s 121ms/step - loss: 0.0588 - accuracy: 0.9806 - val_loss: 2.1608 - val_accuracy: 0.6933\n",
      "Epoch 35/200\n",
      "30/30 [==============================] - 4s 125ms/step - loss: 0.0348 - accuracy: 0.9894 - val_loss: 1.4279 - val_accuracy: 0.6956\n",
      "Epoch 36/200\n",
      "30/30 [==============================] - 4s 125ms/step - loss: 0.0539 - accuracy: 0.9833 - val_loss: 2.0905 - val_accuracy: 0.7200\n",
      "Epoch 37/200\n",
      "30/30 [==============================] - 4s 121ms/step - loss: 0.0225 - accuracy: 0.9933 - val_loss: 2.8690 - val_accuracy: 0.6778\n",
      "Epoch 38/200\n",
      "30/30 [==============================] - 4s 121ms/step - loss: 0.0778 - accuracy: 0.9744 - val_loss: 0.5190 - val_accuracy: 0.7711\n",
      "Epoch 39/200\n",
      "30/30 [==============================] - 4s 125ms/step - loss: 0.0298 - accuracy: 0.9900 - val_loss: 2.3654 - val_accuracy: 0.7000\n",
      "Epoch 40/200\n",
      "30/30 [==============================] - 4s 118ms/step - loss: 0.0584 - accuracy: 0.9850 - val_loss: 2.3190 - val_accuracy: 0.7111\n",
      "Epoch 41/200\n",
      "30/30 [==============================] - 4s 134ms/step - loss: 0.0378 - accuracy: 0.9894 - val_loss: 2.6036 - val_accuracy: 0.7289\n",
      "Epoch 42/200\n",
      "30/30 [==============================] - 4s 121ms/step - loss: 0.0262 - accuracy: 0.9906 - val_loss: 3.2307 - val_accuracy: 0.7400\n",
      "Epoch 43/200\n",
      "30/30 [==============================] - 4s 121ms/step - loss: 0.0218 - accuracy: 0.9928 - val_loss: 3.8823 - val_accuracy: 0.7644\n",
      "Epoch 44/200\n",
      "30/30 [==============================] - 4s 121ms/step - loss: 0.0593 - accuracy: 0.9778 - val_loss: 3.8371 - val_accuracy: 0.6689\n",
      "Epoch 45/200\n",
      "22/30 [=====================>........] - ETA: 0s - loss: 0.1047 - accuracy: 0.9645"
     ]
    },
    {
     "ename": "KeyboardInterrupt",
     "evalue": "",
     "output_type": "error",
     "traceback": [
      "\u001b[1;31m---------------------------------------------------------------------------\u001b[0m",
      "\u001b[1;31mKeyboardInterrupt\u001b[0m                         Traceback (most recent call last)",
      "\u001b[1;32m<ipython-input-227-e1ca9ae597e3>\u001b[0m in \u001b[0;36m<module>\u001b[1;34m\u001b[0m\n\u001b[0;32m      5\u001b[0m     \u001b[0mepochs\u001b[0m\u001b[1;33m=\u001b[0m\u001b[1;36m200\u001b[0m\u001b[1;33m,\u001b[0m\u001b[1;33m\u001b[0m\u001b[1;33m\u001b[0m\u001b[0m\n\u001b[0;32m      6\u001b[0m     \u001b[0mvalidation_data\u001b[0m\u001b[1;33m=\u001b[0m\u001b[0mvalGenSet\u001b[0m\u001b[1;33m,\u001b[0m\u001b[1;33m\u001b[0m\u001b[1;33m\u001b[0m\u001b[0m\n\u001b[1;32m----> 7\u001b[1;33m     \u001b[0mvalidation_steps\u001b[0m\u001b[1;33m=\u001b[0m\u001b[1;36m10\u001b[0m\u001b[1;33m,\u001b[0m\u001b[1;33m\u001b[0m\u001b[1;33m\u001b[0m\u001b[0m\n\u001b[0m\u001b[0;32m      8\u001b[0m \u001b[1;31m#     callbacks=[es] # 여긴 콜백 없나??\u001b[0m\u001b[1;33m\u001b[0m\u001b[1;33m\u001b[0m\u001b[1;33m\u001b[0m\u001b[0m\n\u001b[0;32m      9\u001b[0m )\n",
      "\u001b[1;32m~\\anaconda3\\envs\\tf15_py37\\lib\\site-packages\\keras\\legacy\\interfaces.py\u001b[0m in \u001b[0;36mwrapper\u001b[1;34m(*args, **kwargs)\u001b[0m\n\u001b[0;32m     89\u001b[0m                 warnings.warn('Update your `' + object_name + '` call to the ' +\n\u001b[0;32m     90\u001b[0m                               'Keras 2 API: ' + signature, stacklevel=2)\n\u001b[1;32m---> 91\u001b[1;33m             \u001b[1;32mreturn\u001b[0m \u001b[0mfunc\u001b[0m\u001b[1;33m(\u001b[0m\u001b[1;33m*\u001b[0m\u001b[0margs\u001b[0m\u001b[1;33m,\u001b[0m \u001b[1;33m**\u001b[0m\u001b[0mkwargs\u001b[0m\u001b[1;33m)\u001b[0m\u001b[1;33m\u001b[0m\u001b[1;33m\u001b[0m\u001b[0m\n\u001b[0m\u001b[0;32m     92\u001b[0m         \u001b[0mwrapper\u001b[0m\u001b[1;33m.\u001b[0m\u001b[0m_original_function\u001b[0m \u001b[1;33m=\u001b[0m \u001b[0mfunc\u001b[0m\u001b[1;33m\u001b[0m\u001b[1;33m\u001b[0m\u001b[0m\n\u001b[0;32m     93\u001b[0m         \u001b[1;32mreturn\u001b[0m \u001b[0mwrapper\u001b[0m\u001b[1;33m\u001b[0m\u001b[1;33m\u001b[0m\u001b[0m\n",
      "\u001b[1;32m~\\anaconda3\\envs\\tf15_py37\\lib\\site-packages\\keras\\engine\\training.py\u001b[0m in \u001b[0;36mfit_generator\u001b[1;34m(self, generator, steps_per_epoch, epochs, verbose, callbacks, validation_data, validation_steps, validation_freq, class_weight, max_queue_size, workers, use_multiprocessing, shuffle, initial_epoch)\u001b[0m\n\u001b[0;32m   1730\u001b[0m             \u001b[0muse_multiprocessing\u001b[0m\u001b[1;33m=\u001b[0m\u001b[0muse_multiprocessing\u001b[0m\u001b[1;33m,\u001b[0m\u001b[1;33m\u001b[0m\u001b[1;33m\u001b[0m\u001b[0m\n\u001b[0;32m   1731\u001b[0m             \u001b[0mshuffle\u001b[0m\u001b[1;33m=\u001b[0m\u001b[0mshuffle\u001b[0m\u001b[1;33m,\u001b[0m\u001b[1;33m\u001b[0m\u001b[1;33m\u001b[0m\u001b[0m\n\u001b[1;32m-> 1732\u001b[1;33m             initial_epoch=initial_epoch)\n\u001b[0m\u001b[0;32m   1733\u001b[0m \u001b[1;33m\u001b[0m\u001b[0m\n\u001b[0;32m   1734\u001b[0m     \u001b[1;33m@\u001b[0m\u001b[0minterfaces\u001b[0m\u001b[1;33m.\u001b[0m\u001b[0mlegacy_generator_methods_support\u001b[0m\u001b[1;33m\u001b[0m\u001b[1;33m\u001b[0m\u001b[0m\n",
      "\u001b[1;32m~\\anaconda3\\envs\\tf15_py37\\lib\\site-packages\\keras\\engine\\training_generator.py\u001b[0m in \u001b[0;36mfit_generator\u001b[1;34m(model, generator, steps_per_epoch, epochs, verbose, callbacks, validation_data, validation_steps, validation_freq, class_weight, max_queue_size, workers, use_multiprocessing, shuffle, initial_epoch)\u001b[0m\n\u001b[0;32m    183\u001b[0m             \u001b[0mbatch_index\u001b[0m \u001b[1;33m=\u001b[0m \u001b[1;36m0\u001b[0m\u001b[1;33m\u001b[0m\u001b[1;33m\u001b[0m\u001b[0m\n\u001b[0;32m    184\u001b[0m             \u001b[1;32mwhile\u001b[0m \u001b[0msteps_done\u001b[0m \u001b[1;33m<\u001b[0m \u001b[0msteps_per_epoch\u001b[0m\u001b[1;33m:\u001b[0m\u001b[1;33m\u001b[0m\u001b[1;33m\u001b[0m\u001b[0m\n\u001b[1;32m--> 185\u001b[1;33m                 \u001b[0mgenerator_output\u001b[0m \u001b[1;33m=\u001b[0m \u001b[0mnext\u001b[0m\u001b[1;33m(\u001b[0m\u001b[0moutput_generator\u001b[0m\u001b[1;33m)\u001b[0m\u001b[1;33m\u001b[0m\u001b[1;33m\u001b[0m\u001b[0m\n\u001b[0m\u001b[0;32m    186\u001b[0m \u001b[1;33m\u001b[0m\u001b[0m\n\u001b[0;32m    187\u001b[0m                 \u001b[1;32mif\u001b[0m \u001b[1;32mnot\u001b[0m \u001b[0mhasattr\u001b[0m\u001b[1;33m(\u001b[0m\u001b[0mgenerator_output\u001b[0m\u001b[1;33m,\u001b[0m \u001b[1;34m'__len__'\u001b[0m\u001b[1;33m)\u001b[0m\u001b[1;33m:\u001b[0m\u001b[1;33m\u001b[0m\u001b[1;33m\u001b[0m\u001b[0m\n",
      "\u001b[1;32m~\\anaconda3\\envs\\tf15_py37\\lib\\site-packages\\keras\\utils\\data_utils.py\u001b[0m in \u001b[0;36mget\u001b[1;34m(self)\u001b[0m\n\u001b[0;32m    608\u001b[0m                 \u001b[1;32mtry\u001b[0m\u001b[1;33m:\u001b[0m\u001b[1;33m\u001b[0m\u001b[1;33m\u001b[0m\u001b[0m\n\u001b[0;32m    609\u001b[0m                     \u001b[0mfuture\u001b[0m \u001b[1;33m=\u001b[0m \u001b[0mself\u001b[0m\u001b[1;33m.\u001b[0m\u001b[0mqueue\u001b[0m\u001b[1;33m.\u001b[0m\u001b[0mget\u001b[0m\u001b[1;33m(\u001b[0m\u001b[0mblock\u001b[0m\u001b[1;33m=\u001b[0m\u001b[1;32mTrue\u001b[0m\u001b[1;33m)\u001b[0m\u001b[1;33m\u001b[0m\u001b[1;33m\u001b[0m\u001b[0m\n\u001b[1;32m--> 610\u001b[1;33m                     \u001b[0minputs\u001b[0m \u001b[1;33m=\u001b[0m \u001b[0mfuture\u001b[0m\u001b[1;33m.\u001b[0m\u001b[0mget\u001b[0m\u001b[1;33m(\u001b[0m\u001b[0mtimeout\u001b[0m\u001b[1;33m=\u001b[0m\u001b[1;36m30\u001b[0m\u001b[1;33m)\u001b[0m\u001b[1;33m\u001b[0m\u001b[1;33m\u001b[0m\u001b[0m\n\u001b[0m\u001b[0;32m    611\u001b[0m                 \u001b[1;32mexcept\u001b[0m \u001b[0mmp\u001b[0m\u001b[1;33m.\u001b[0m\u001b[0mTimeoutError\u001b[0m\u001b[1;33m:\u001b[0m\u001b[1;33m\u001b[0m\u001b[1;33m\u001b[0m\u001b[0m\n\u001b[0;32m    612\u001b[0m                     \u001b[0midx\u001b[0m \u001b[1;33m=\u001b[0m \u001b[0mfuture\u001b[0m\u001b[1;33m.\u001b[0m\u001b[0midx\u001b[0m\u001b[1;33m\u001b[0m\u001b[1;33m\u001b[0m\u001b[0m\n",
      "\u001b[1;32m~\\anaconda3\\envs\\tf15_py37\\lib\\multiprocessing\\pool.py\u001b[0m in \u001b[0;36mget\u001b[1;34m(self, timeout)\u001b[0m\n\u001b[0;32m    649\u001b[0m \u001b[1;33m\u001b[0m\u001b[0m\n\u001b[0;32m    650\u001b[0m     \u001b[1;32mdef\u001b[0m \u001b[0mget\u001b[0m\u001b[1;33m(\u001b[0m\u001b[0mself\u001b[0m\u001b[1;33m,\u001b[0m \u001b[0mtimeout\u001b[0m\u001b[1;33m=\u001b[0m\u001b[1;32mNone\u001b[0m\u001b[1;33m)\u001b[0m\u001b[1;33m:\u001b[0m\u001b[1;33m\u001b[0m\u001b[1;33m\u001b[0m\u001b[0m\n\u001b[1;32m--> 651\u001b[1;33m         \u001b[0mself\u001b[0m\u001b[1;33m.\u001b[0m\u001b[0mwait\u001b[0m\u001b[1;33m(\u001b[0m\u001b[0mtimeout\u001b[0m\u001b[1;33m)\u001b[0m\u001b[1;33m\u001b[0m\u001b[1;33m\u001b[0m\u001b[0m\n\u001b[0m\u001b[0;32m    652\u001b[0m         \u001b[1;32mif\u001b[0m \u001b[1;32mnot\u001b[0m \u001b[0mself\u001b[0m\u001b[1;33m.\u001b[0m\u001b[0mready\u001b[0m\u001b[1;33m(\u001b[0m\u001b[1;33m)\u001b[0m\u001b[1;33m:\u001b[0m\u001b[1;33m\u001b[0m\u001b[1;33m\u001b[0m\u001b[0m\n\u001b[0;32m    653\u001b[0m             \u001b[1;32mraise\u001b[0m \u001b[0mTimeoutError\u001b[0m\u001b[1;33m\u001b[0m\u001b[1;33m\u001b[0m\u001b[0m\n",
      "\u001b[1;32m~\\anaconda3\\envs\\tf15_py37\\lib\\multiprocessing\\pool.py\u001b[0m in \u001b[0;36mwait\u001b[1;34m(self, timeout)\u001b[0m\n\u001b[0;32m    646\u001b[0m \u001b[1;33m\u001b[0m\u001b[0m\n\u001b[0;32m    647\u001b[0m     \u001b[1;32mdef\u001b[0m \u001b[0mwait\u001b[0m\u001b[1;33m(\u001b[0m\u001b[0mself\u001b[0m\u001b[1;33m,\u001b[0m \u001b[0mtimeout\u001b[0m\u001b[1;33m=\u001b[0m\u001b[1;32mNone\u001b[0m\u001b[1;33m)\u001b[0m\u001b[1;33m:\u001b[0m\u001b[1;33m\u001b[0m\u001b[1;33m\u001b[0m\u001b[0m\n\u001b[1;32m--> 648\u001b[1;33m         \u001b[0mself\u001b[0m\u001b[1;33m.\u001b[0m\u001b[0m_event\u001b[0m\u001b[1;33m.\u001b[0m\u001b[0mwait\u001b[0m\u001b[1;33m(\u001b[0m\u001b[0mtimeout\u001b[0m\u001b[1;33m)\u001b[0m\u001b[1;33m\u001b[0m\u001b[1;33m\u001b[0m\u001b[0m\n\u001b[0m\u001b[0;32m    649\u001b[0m \u001b[1;33m\u001b[0m\u001b[0m\n\u001b[0;32m    650\u001b[0m     \u001b[1;32mdef\u001b[0m \u001b[0mget\u001b[0m\u001b[1;33m(\u001b[0m\u001b[0mself\u001b[0m\u001b[1;33m,\u001b[0m \u001b[0mtimeout\u001b[0m\u001b[1;33m=\u001b[0m\u001b[1;32mNone\u001b[0m\u001b[1;33m)\u001b[0m\u001b[1;33m:\u001b[0m\u001b[1;33m\u001b[0m\u001b[1;33m\u001b[0m\u001b[0m\n",
      "\u001b[1;32m~\\anaconda3\\envs\\tf15_py37\\lib\\threading.py\u001b[0m in \u001b[0;36mwait\u001b[1;34m(self, timeout)\u001b[0m\n\u001b[0;32m    550\u001b[0m             \u001b[0msignaled\u001b[0m \u001b[1;33m=\u001b[0m \u001b[0mself\u001b[0m\u001b[1;33m.\u001b[0m\u001b[0m_flag\u001b[0m\u001b[1;33m\u001b[0m\u001b[1;33m\u001b[0m\u001b[0m\n\u001b[0;32m    551\u001b[0m             \u001b[1;32mif\u001b[0m \u001b[1;32mnot\u001b[0m \u001b[0msignaled\u001b[0m\u001b[1;33m:\u001b[0m\u001b[1;33m\u001b[0m\u001b[1;33m\u001b[0m\u001b[0m\n\u001b[1;32m--> 552\u001b[1;33m                 \u001b[0msignaled\u001b[0m \u001b[1;33m=\u001b[0m \u001b[0mself\u001b[0m\u001b[1;33m.\u001b[0m\u001b[0m_cond\u001b[0m\u001b[1;33m.\u001b[0m\u001b[0mwait\u001b[0m\u001b[1;33m(\u001b[0m\u001b[0mtimeout\u001b[0m\u001b[1;33m)\u001b[0m\u001b[1;33m\u001b[0m\u001b[1;33m\u001b[0m\u001b[0m\n\u001b[0m\u001b[0;32m    553\u001b[0m             \u001b[1;32mreturn\u001b[0m \u001b[0msignaled\u001b[0m\u001b[1;33m\u001b[0m\u001b[1;33m\u001b[0m\u001b[0m\n\u001b[0;32m    554\u001b[0m \u001b[1;33m\u001b[0m\u001b[0m\n",
      "\u001b[1;32m~\\anaconda3\\envs\\tf15_py37\\lib\\threading.py\u001b[0m in \u001b[0;36mwait\u001b[1;34m(self, timeout)\u001b[0m\n\u001b[0;32m    298\u001b[0m             \u001b[1;32melse\u001b[0m\u001b[1;33m:\u001b[0m\u001b[1;33m\u001b[0m\u001b[1;33m\u001b[0m\u001b[0m\n\u001b[0;32m    299\u001b[0m                 \u001b[1;32mif\u001b[0m \u001b[0mtimeout\u001b[0m \u001b[1;33m>\u001b[0m \u001b[1;36m0\u001b[0m\u001b[1;33m:\u001b[0m\u001b[1;33m\u001b[0m\u001b[1;33m\u001b[0m\u001b[0m\n\u001b[1;32m--> 300\u001b[1;33m                     \u001b[0mgotit\u001b[0m \u001b[1;33m=\u001b[0m \u001b[0mwaiter\u001b[0m\u001b[1;33m.\u001b[0m\u001b[0macquire\u001b[0m\u001b[1;33m(\u001b[0m\u001b[1;32mTrue\u001b[0m\u001b[1;33m,\u001b[0m \u001b[0mtimeout\u001b[0m\u001b[1;33m)\u001b[0m\u001b[1;33m\u001b[0m\u001b[1;33m\u001b[0m\u001b[0m\n\u001b[0m\u001b[0;32m    301\u001b[0m                 \u001b[1;32melse\u001b[0m\u001b[1;33m:\u001b[0m\u001b[1;33m\u001b[0m\u001b[1;33m\u001b[0m\u001b[0m\n\u001b[0;32m    302\u001b[0m                     \u001b[0mgotit\u001b[0m \u001b[1;33m=\u001b[0m \u001b[0mwaiter\u001b[0m\u001b[1;33m.\u001b[0m\u001b[0macquire\u001b[0m\u001b[1;33m(\u001b[0m\u001b[1;32mFalse\u001b[0m\u001b[1;33m)\u001b[0m\u001b[1;33m\u001b[0m\u001b[1;33m\u001b[0m\u001b[0m\n",
      "\u001b[1;31mKeyboardInterrupt\u001b[0m: "
     ]
    }
   ],
   "source": [
    "# fig_generator\n",
    "model.fit_generator(\n",
    "    trainGenSet,\n",
    "    steps_per_epoch=30,\n",
    "    epochs=400,\n",
    "    validation_data=valGenSet,\n",
    "    validation_steps=10,\n",
    "#     callbacks=[es] # 여긴 콜백 없나??\n",
    ")"
   ]
  },
  {
   "cell_type": "code",
   "execution_count": 231,
   "metadata": {},
   "outputs": [
    {
     "name": "stdout",
     "output_type": "stream",
     "text": [
      "[4.457165241241455, 0.7222222089767456]\n"
     ]
    }
   ],
   "source": [
    "scores = model.evaluate_generator(testGenSet)\n",
    "print(scores)"
   ]
  },
  {
   "cell_type": "markdown",
   "metadata": {},
   "source": [
    "# Tensorflow \n",
    "## 미완성"
   ]
  },
  {
   "cell_type": "code",
   "execution_count": 433,
   "metadata": {},
   "outputs": [],
   "source": [
    "path = r\"Q:\\이미지공유폴더\\\\\""
   ]
  },
  {
   "cell_type": "code",
   "execution_count": 434,
   "metadata": {},
   "outputs": [],
   "source": [
    "trainGen = tf.keras.preprocessing.image.ImageDataGenerator(rescale=1./255, fill_mode='nearest',\n",
    "                                 rotation_range = 10, width_shift_range=0.1, height_shift_range=0.1,\n",
    "                                 shear_range=0.1, zoom_range=0.1, horizontal_flip=False, vertical_flip=False)"
   ]
  },
  {
   "cell_type": "code",
   "execution_count": 435,
   "metadata": {},
   "outputs": [
    {
     "name": "stdout",
     "output_type": "stream",
     "text": [
      "Found 180 images belonging to 5 classes.\n"
     ]
    }
   ],
   "source": [
    "trainGenSet = trainGen.flow_from_directory(path + 'train', target_size=(28,28), batch_size=64, class_mode='categorical')"
   ]
  },
  {
   "cell_type": "code",
   "execution_count": 436,
   "metadata": {},
   "outputs": [
    {
     "name": "stdout",
     "output_type": "stream",
     "text": [
      "Found 90 images belonging to 5 classes.\n"
     ]
    }
   ],
   "source": [
    "testGen = tf.keras.preprocessing.image.ImageDataGenerator(rescale=1./255)\n",
    "testGenSet = trainGen.flow_from_directory(path + 'test', target_size=(28,28), batch_size=1, class_mode='categorical')"
   ]
  },
  {
   "cell_type": "code",
   "execution_count": 437,
   "metadata": {},
   "outputs": [],
   "source": [
    "tf.reset_default_graph()"
   ]
  },
  {
   "cell_type": "code",
   "execution_count": 438,
   "metadata": {},
   "outputs": [],
   "source": [
    "# Input Layer\n",
    "X = tf.placeholder(tf.float32, [None, 28, 28, 3])\n",
    "y = tf.placeholder(tf.float32, [None, 5])"
   ]
  },
  {
   "cell_type": "code",
   "execution_count": 439,
   "metadata": {},
   "outputs": [],
   "source": [
    "rate = tf.placeholder(tf.float32)"
   ]
  },
  {
   "cell_type": "code",
   "execution_count": 445,
   "metadata": {},
   "outputs": [],
   "source": [
    "sess = tf.Session()\n",
    "sess.run(tf.global_variables_initializer())\n",
    "weight = sess.run(W1)"
   ]
  },
  {
   "cell_type": "code",
   "execution_count": 446,
   "metadata": {},
   "outputs": [
    {
     "data": {
      "text/plain": [
       "(3, 3, 3, 32)"
      ]
     },
     "execution_count": 446,
     "metadata": {},
     "output_type": "execute_result"
    }
   ],
   "source": [
    "weight.shape"
   ]
  },
  {
   "cell_type": "code",
   "execution_count": 448,
   "metadata": {},
   "outputs": [],
   "source": [
    "# Convolution Layer 1\n",
    "W1 = tf.Variable(tf.random_normal([3,3,3,32], stddev=0.1))\n",
    "b1 = tf.Variable(tf.random_normal([32]))\n",
    "layer1 = tf.nn.relu(tf.nn.conv2d(X, W1, strides=[1, 1, 1, 1], padding='SAME') + b1)\n",
    "layer1 = tf.nn.dropout(tf.nn.max_pool(layer1, ksize=[1,2,2,1],\n",
    "                                      strides=[1,2,2,1], padding='SAME'), rate)"
   ]
  },
  {
   "cell_type": "code",
   "execution_count": 449,
   "metadata": {},
   "outputs": [],
   "source": [
    "# Layer 2\n",
    "W2 = tf.Variable(tf.random_normal([3,3,32,64], stddev=0.1))\n",
    "layer2 = tf.nn.relu(tf.nn.conv2d(layer1, W2, [1,1,1,1], 'SAME'))\n",
    "layer2 = tf.nn.dropout(tf.nn.max_pool(layer2, [1,2,2,1],[1,2,2,1], 'SAME'), rate)"
   ]
  },
  {
   "cell_type": "code",
   "execution_count": 442,
   "metadata": {},
   "outputs": [],
   "source": [
    "flat = tf.reshape(layer2, [-1, 7 * 7 * 64])"
   ]
  },
  {
   "cell_type": "code",
   "execution_count": 421,
   "metadata": {},
   "outputs": [],
   "source": [
    "# Flully Connected NN\n",
    "W3 = tf.get_variable('W3', [7*7*64, 5], initializer = tf.contrib.layers.xavier_initializer())\n",
    "b3 = tf.Variable(tf.random_normal([5]))"
   ]
  },
  {
   "cell_type": "code",
   "execution_count": 432,
   "metadata": {},
   "outputs": [],
   "source": [
    "hf = tf.matmul(flat, W3) + b3\n",
    "cost = tf.reduce_mean(tf.nn.softmax_cross_entropy_with_logits_v2(labels=y, logits=hf))"
   ]
  },
  {
   "cell_type": "code",
   "execution_count": 424,
   "metadata": {},
   "outputs": [],
   "source": [
    "opt = tf.train.AdamOptimizer(0.01).minimize(cost)\n",
    "accuracy = tf.reduce_mean(tf.cast(tf.equal(tf.argmax(hf, 1), tf.argmax(y, 1)), dtype=tf.float32))"
   ]
  },
  {
   "cell_type": "code",
   "execution_count": 430,
   "metadata": {},
   "outputs": [
    {
     "name": "stdout",
     "output_type": "stream",
     "text": [
      "epoch : 0001, cost : 0.00000\n",
      "epoch : 0002, cost : 0.00000\n",
      "epoch : 0003, cost : 0.00000\n",
      "epoch : 0004, cost : 0.00000\n",
      "epoch : 0005, cost : 0.00000\n",
      "epoch : 0006, cost : 0.00000\n",
      "epoch : 0007, cost : 0.00000\n",
      "epoch : 0008, cost : 0.00000\n",
      "epoch : 0009, cost : 0.00000\n",
      "epoch : 0010, cost : 0.00000\n",
      "2.3443727284669875 0.0\n"
     ]
    }
   ],
   "source": [
    "with tf.Session() as sess:\n",
    "    sess.run(tf.global_variables_initializer())\n",
    "    for epoch in range(10):\n",
    "        avg_cost = 0\n",
    "        total_batch = int(len(trainGenSet)/batch_size)\n",
    "        for i in range(total_batch):\n",
    "            X_batch, y_batch = trainGenSet.next()\n",
    "            _, cost_val = sess.run([opt, cost], {X : X_batch, y : y_batch, rate:0.3})\n",
    "            avg_cost += cost_val / total_batch\n",
    "        print('epoch : {:04d}, cost : {:.5f}'.format(epoch + 1, avg_cost))\n",
    "    avg_cv, acc = 0, 0\n",
    "    for _  in range(len(testGenSet)):\n",
    "        xTst, yTst = testGenSet.next()\n",
    "        cv, hv, acc = sess.run([cost, hf, accuracy], {X : xTst, y : yTst, rate : 1.0})\n",
    "        avg_cv += cv/len(testGenSet)\n",
    "        acc += acc/len(testGenSet)\n",
    "    print(avg_cv, acc)"
   ]
  },
  {
   "cell_type": "code",
   "execution_count": 385,
   "metadata": {},
   "outputs": [
    {
     "ename": "TypeError",
     "evalue": "next() takes 1 positional argument but 2 were given",
     "output_type": "error",
     "traceback": [
      "\u001b[1;31m---------------------------------------------------------------------------\u001b[0m",
      "\u001b[1;31mTypeError\u001b[0m                                 Traceback (most recent call last)",
      "\u001b[1;32m<ipython-input-385-236dae506826>\u001b[0m in \u001b[0;36m<module>\u001b[1;34m\u001b[0m\n\u001b[1;32m----> 1\u001b[1;33m \u001b[0mX_test\u001b[0m\u001b[1;33m,\u001b[0m \u001b[0my_test\u001b[0m \u001b[1;33m=\u001b[0m \u001b[0mtestGenSet\u001b[0m\u001b[1;33m.\u001b[0m\u001b[0mnext\u001b[0m\u001b[1;33m(\u001b[0m\u001b[1;36m32\u001b[0m\u001b[1;33m)\u001b[0m\u001b[1;33m\u001b[0m\u001b[1;33m\u001b[0m\u001b[0m\n\u001b[0m",
      "\u001b[1;31mTypeError\u001b[0m: next() takes 1 positional argument but 2 were given"
     ]
    }
   ],
   "source": [
    "X_test, y_test = testGenSet.next(32)"
   ]
  },
  {
   "cell_type": "code",
   "execution_count": 383,
   "metadata": {},
   "outputs": [
    {
     "data": {
      "text/plain": [
       "(32, 28, 28, 3)"
      ]
     },
     "execution_count": 383,
     "metadata": {},
     "output_type": "execute_result"
    }
   ],
   "source": [
    "X_test.shape"
   ]
  }
 ],
 "metadata": {
  "kernelspec": {
   "display_name": "Python [conda env:tf15_py37] *",
   "language": "python",
   "name": "conda-env-tf15_py37-py"
  },
  "language_info": {
   "codemirror_mode": {
    "name": "ipython",
    "version": 3
   },
   "file_extension": ".py",
   "mimetype": "text/x-python",
   "name": "python",
   "nbconvert_exporter": "python",
   "pygments_lexer": "ipython3",
   "version": "3.7.7"
  }
 },
 "nbformat": 4,
 "nbformat_minor": 4
}
