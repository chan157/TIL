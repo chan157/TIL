{
 "cells": [
  {
   "cell_type": "code",
   "execution_count": 95,
   "metadata": {},
   "outputs": [],
   "source": [
    "import csv\n",
    "from openpyxl import Workbook\n",
    "import re\n",
    "import requests\n",
    "from bs4 import BeautifulSoup\n",
    "import datetime\n",
    "import pandas as pd\n",
    "\n",
    "\n",
    "url = \"https://www.comcbt.com/xe/index.php?mid=j4&page=%d\"\n",
    "page = requests.get(url).text\n",
    "soup = BeautifulSoup(page, 'html.parser')"
   ]
  },
  {
   "cell_type": "code",
   "execution_count": 96,
   "metadata": {},
   "outputs": [
    {
     "data": {
      "text/plain": [
       "['https://www.comcbt.com/xe/index.php?mid=j4&page=1&document_srl=3876133',\n",
       " 'https://www.comcbt.com/xe/index.php?mid=j4&page=1&document_srl=3596799',\n",
       " 'https://www.comcbt.com/xe/index.php?mid=j4&page=1&document_srl=3434933',\n",
       " 'https://www.comcbt.com/xe/index.php?mid=j4&page=1&document_srl=3202975',\n",
       " 'https://www.comcbt.com/xe/index.php?mid=j4&page=1&document_srl=2924233',\n",
       " 'https://www.comcbt.com/xe/index.php?mid=j4&page=1&document_srl=2838410',\n",
       " 'https://www.comcbt.com/xe/index.php?mid=j4&page=1&document_srl=2736381',\n",
       " 'https://www.comcbt.com/xe/index.php?mid=j4&page=1&document_srl=2633933',\n",
       " 'https://www.comcbt.com/xe/index.php?mid=j4&page=1&document_srl=2579992',\n",
       " 'https://www.comcbt.com/xe/index.php?mid=j4&page=1&document_srl=2508604',\n",
       " 'https://www.comcbt.com/xe/index.php?mid=j4&page=1&document_srl=2413419',\n",
       " 'https://www.comcbt.com/xe/index.php?mid=j4&page=1&document_srl=2310613',\n",
       " 'https://www.comcbt.com/xe/index.php?mid=j4&page=1&document_srl=2178395',\n",
       " 'https://www.comcbt.com/xe/index.php?mid=j4&page=1&document_srl=2122053',\n",
       " 'https://www.comcbt.com/xe/index.php?mid=j4&page=1&document_srl=2068187',\n",
       " 'https://www.comcbt.com/xe/index.php?mid=j4&page=1&document_srl=1901870',\n",
       " 'https://www.comcbt.com/xe/index.php?mid=j4&page=1&document_srl=1804301',\n",
       " 'https://www.comcbt.com/xe/index.php?mid=j4&page=2&document_srl=1774019',\n",
       " 'https://www.comcbt.com/xe/index.php?mid=j4&page=2&document_srl=1739222',\n",
       " 'https://www.comcbt.com/xe/index.php?mid=j4&page=2&document_srl=1587888',\n",
       " 'https://www.comcbt.com/xe/index.php?mid=j4&page=2&document_srl=1520434',\n",
       " 'https://www.comcbt.com/xe/index.php?mid=j4&page=2&document_srl=1380568',\n",
       " 'https://www.comcbt.com/xe/index.php?mid=j4&page=2&document_srl=1073452',\n",
       " 'https://www.comcbt.com/xe/index.php?mid=j4&page=2&document_srl=1065644',\n",
       " 'https://www.comcbt.com/xe/index.php?mid=j4&page=2&document_srl=1058114',\n",
       " 'https://www.comcbt.com/xe/index.php?mid=j4&page=2&document_srl=641423',\n",
       " 'https://www.comcbt.com/xe/index.php?mid=j4&page=2&document_srl=604406',\n",
       " 'https://www.comcbt.com/xe/index.php?mid=j4&page=2&document_srl=250184',\n",
       " 'https://www.comcbt.com/xe/index.php?mid=j4&page=2&document_srl=250180',\n",
       " 'https://www.comcbt.com/xe/index.php?mid=j4&page=2&document_srl=450',\n",
       " 'https://www.comcbt.com/xe/index.php?mid=j4&page=2&document_srl=440',\n",
       " 'https://www.comcbt.com/xe/index.php?mid=j4&page=2&document_srl=430',\n",
       " 'https://www.comcbt.com/xe/index.php?mid=j4&page=2&document_srl=420',\n",
       " 'https://www.comcbt.com/xe/index.php?mid=j4&page=2&document_srl=410',\n",
       " 'https://www.comcbt.com/xe/index.php?mid=j4&page=2&document_srl=400',\n",
       " 'https://www.comcbt.com/xe/index.php?mid=j4&page=2&document_srl=390',\n",
       " 'https://www.comcbt.com/xe/index.php?mid=j4&page=2&document_srl=380',\n",
       " 'https://www.comcbt.com/xe/index.php?mid=j4&page=3&document_srl=370',\n",
       " 'https://www.comcbt.com/xe/index.php?mid=j4&page=3&document_srl=360',\n",
       " 'https://www.comcbt.com/xe/index.php?mid=j4&page=3&document_srl=350',\n",
       " 'https://www.comcbt.com/xe/index.php?mid=j4&page=3&document_srl=340',\n",
       " 'https://www.comcbt.com/xe/index.php?mid=j4&page=3&document_srl=330',\n",
       " 'https://www.comcbt.com/xe/index.php?mid=j4&page=3&document_srl=320',\n",
       " 'https://www.comcbt.com/xe/index.php?mid=j4&page=3&document_srl=310',\n",
       " 'https://www.comcbt.com/xe/index.php?mid=j4&page=3&document_srl=300',\n",
       " 'https://www.comcbt.com/xe/index.php?mid=j4&page=3&document_srl=290',\n",
       " 'https://www.comcbt.com/xe/index.php?mid=j4&page=3&document_srl=280',\n",
       " 'https://www.comcbt.com/xe/index.php?mid=j4&page=3&document_srl=270',\n",
       " 'https://www.comcbt.com/xe/index.php?mid=j4&page=3&document_srl=260',\n",
       " 'https://www.comcbt.com/xe/index.php?mid=j4&page=3&document_srl=250',\n",
       " 'https://www.comcbt.com/xe/index.php?mid=j4&page=3&document_srl=240',\n",
       " 'https://www.comcbt.com/xe/index.php?mid=j4&page=3&document_srl=230',\n",
       " 'https://www.comcbt.com/xe/index.php?mid=j4&page=3&document_srl=220',\n",
       " 'https://www.comcbt.com/xe/index.php?mid=j4&page=3&document_srl=210',\n",
       " 'https://www.comcbt.com/xe/index.php?mid=j4&page=3&document_srl=200',\n",
       " 'https://www.comcbt.com/xe/index.php?mid=j4&page=3&document_srl=190',\n",
       " 'https://www.comcbt.com/xe/index.php?mid=j4&page=3&document_srl=180',\n",
       " 'https://www.comcbt.com/xe/index.php?mid=j4&page=4&document_srl=170']"
      ]
     },
     "execution_count": 96,
     "metadata": {},
     "output_type": "execute_result"
    }
   ],
   "source": [
    "top_name_list = []\n",
    "for i in range(1,5): # 4 페이지\n",
    "    url = \"https://www.comcbt.com/xe/index.php?mid=j4&page=%d\" % i\n",
    "    page = requests.get(url).text\n",
    "    soup = BeautifulSoup(page, 'html.parser')\n",
    "    start = 4\n",
    "    selector = \"div.bd_lst_wrp > table > tbody > tr:nth-child(%d) > td.title > a\"\n",
    "    while True:\n",
    "        try :\n",
    "            top_name_list.append(soup.select(selector % start)[0].get('href'))\n",
    "            start += 1\n",
    "        except :\n",
    "            break\n",
    "top_name_list"
   ]
  },
  {
   "cell_type": "code",
   "execution_count": 105,
   "metadata": {},
   "outputs": [
    {
     "data": {
      "text/plain": [
       "['#bd_146_3876133',\n",
       " '#bd_146_3596799',\n",
       " 'https://www.comcbt.com/xe/?module=file&act=procFileDownload&file_srl=3876112&sid=e33a4e3c180951683e9f9188011d515d&module_srl=146',\n",
       " 'https://www.comcbt.com/xe/?module=file&act=procFileDownload&file_srl=3876100&sid=9631e5df7bd81e0850b7fb073546ba2f&module_srl=146',\n",
       " 'https://www.comcbt.com/xe/?module=file&act=procFileDownload&file_srl=3876088&sid=0a47dd617a0753ec42df71629b3b0010&module_srl=146',\n",
       " 'https://www.comcbt.com/xe/?module=file&act=procFileDownload&file_srl=3876071&sid=f227fe7fe82016019b2b7ff60e8df29d&module_srl=146',\n",
       " 'https://www.comcbt.com/xe/?module=file&act=procFileDownload&file_srl=3876043&sid=975656f0153a3b1c14f1d559109b2c4d&module_srl=146',\n",
       " 'https://www.comcbt.com/xe/?module=file&act=procFileDownload&file_srl=3876031&sid=5308b30b348a4bf16e5d54e806669544&module_srl=146',\n",
       " 'https://www.comcbt.com/xe/?module=file&act=procFileDownload&file_srl=3876016&sid=b5a98b48e59b5a9fb79c22c1201d9756&module_srl=146',\n",
       " 'https://www.comcbt.com/xe/?module=file&act=procFileDownload&file_srl=3875998&sid=25760bea7d8214800911868e77729314&module_srl=146',\n",
       " 'https://www.comcbt.com/xe/?module=file&act=procFileDownload&file_srl=3875986&sid=a693af0efa282be04143c09a153b1b2c&module_srl=146',\n",
       " 'https://www.comcbt.com/xe/?module=file&act=procFileDownload&file_srl=3875974&sid=b0ff6364edb191fa33f08062e2a5af23&module_srl=146',\n",
       " 'https://www.comcbt.com/xe/?module=file&act=procFileDownload&file_srl=3875962&sid=9dcce499be4c4e7a17560abacf26a0aa&module_srl=146',\n",
       " 'https://www.comcbt.com/xe/?module=file&act=procFileDownload&file_srl=3875950&sid=9038de5e79f151eb62549ba9d736f5bb&module_srl=146',\n",
       " '#bd_146_2068187',\n",
       " '#bd_146_1901870',\n",
       " '#bd_146_1804301',\n",
       " '#bd_146_1774019',\n",
       " '#bd_146_1739222',\n",
       " '#bd_146_1587888',\n",
       " '#bd_146_1520434',\n",
       " '#bd_146_1380568',\n",
       " '#bd_146_1073452',\n",
       " '#bd_146_1065644',\n",
       " '#bd_146_1058114',\n",
       " '#bd_146_641423',\n",
       " '#bd_146_604406',\n",
       " '#bd_146_250184',\n",
       " '#bd_146_250180',\n",
       " '#bd_146_450',\n",
       " '#bd_146_440',\n",
       " '#bd_146_430',\n",
       " '#bd_146_420',\n",
       " '#bd_146_410',\n",
       " '#bd_146_400',\n",
       " '#bd_146_390',\n",
       " '#bd_146_380',\n",
       " '#bd_146_370',\n",
       " '#bd_146_360',\n",
       " '#bd_146_350',\n",
       " '#bd_146_340',\n",
       " '#bd_146_330',\n",
       " '#bd_146_320',\n",
       " '#bd_146_310',\n",
       " '#bd_146_300',\n",
       " '#bd_146_290',\n",
       " '#bd_146_280',\n",
       " '#bd_146_270',\n",
       " '#bd_146_260',\n",
       " '#bd_146_250',\n",
       " '#bd_146_240',\n",
       " '#bd_146_230',\n",
       " '#bd_146_220',\n",
       " '#bd_146_210',\n",
       " '#bd_146_200',\n",
       " '#bd_146_190',\n",
       " '#bd_146_180',\n",
       " '#bd_146_170']"
      ]
     },
     "execution_count": 105,
     "metadata": {},
     "output_type": "execute_result"
    }
   ],
   "source": [
    "download_link = []\n",
    "for pro in top_name_list:\n",
    "    page = requests.get(pro).text\n",
    "    soup = BeautifulSoup(page,'html.parser')\n",
    "    bubble = soup.select('a.bubble')\n",
    "    download_link.append(bubble[2].get('href'))\n",
    "download_link"
   ]
  },
  {
   "cell_type": "code",
   "execution_count": 106,
   "metadata": {},
   "outputs": [
    {
     "data": {
      "text/plain": [
       "58"
      ]
     },
     "execution_count": 106,
     "metadata": {},
     "output_type": "execute_result"
    }
   ],
   "source": [
    "len(download_link)"
   ]
  },
  {
   "cell_type": "code",
   "execution_count": 109,
   "metadata": {},
   "outputs": [
    {
     "data": {
      "text/plain": [
       "128"
      ]
     },
     "execution_count": 109,
     "metadata": {},
     "output_type": "execute_result"
    }
   ],
   "source": [
    "len(download_link[4])"
   ]
  },
  {
   "cell_type": "code",
   "execution_count": 110,
   "metadata": {},
   "outputs": [],
   "source": [
    "import webbrowser as w\n",
    "\n",
    "for link in download_link:\n",
    "    if len(link) > 100:\n",
    "        w.open(link)"
   ]
  },
  {
   "cell_type": "code",
   "execution_count": null,
   "metadata": {},
   "outputs": [],
   "source": []
  }
 ],
 "metadata": {
  "kernelspec": {
   "display_name": "Python 3",
   "language": "python",
   "name": "python3"
  },
  "language_info": {
   "codemirror_mode": {
    "name": "ipython",
    "version": 3
   },
   "file_extension": ".py",
   "mimetype": "text/x-python",
   "name": "python",
   "nbconvert_exporter": "python",
   "pygments_lexer": "ipython3",
   "version": "3.7.4"
  }
 },
 "nbformat": 4,
 "nbformat_minor": 2
}
